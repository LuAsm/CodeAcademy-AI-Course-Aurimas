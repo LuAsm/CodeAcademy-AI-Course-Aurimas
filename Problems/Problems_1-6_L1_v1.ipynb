{
 "cells": [
  {
   "cell_type": "markdown",
   "id": "38b13bb4-b815-4650-a7e6-9aa1dee3b16c",
   "metadata": {},
   "source": [
    "1. Write a Pandas program to create and display a one-dimensional array-like object containing an array of integers (2,4,6,8,10) using Pandas module."
   ]
  },
  {
   "cell_type": "code",
   "execution_count": null,
   "id": "3761e34c-bcf1-4344-b2a1-eecd38b89f1c",
   "metadata": {},
   "outputs": [],
   "source": []
  },
  {
   "cell_type": "markdown",
   "id": "1cc52d9d-e347-4d7c-89cb-586ef9df5616",
   "metadata": {},
   "source": [
    "2. Write a Pandas program to add, subtract, multiple and divide two Pandas Series: [2, 4, 6, 8, 10], [1, 3, 5, 7, 9]."
   ]
  },
  {
   "cell_type": "code",
   "execution_count": null,
   "id": "079fde45-13bb-4231-a943-cdc42a644233",
   "metadata": {},
   "outputs": [],
   "source": []
  },
  {
   "cell_type": "markdown",
   "id": "3fcdee34-e166-4c22-842f-62979fbd9f41",
   "metadata": {},
   "source": [
    "3. Write a Pandas program to compare the elements of the two Pandas Series: [2, 4, 6, 8, 10], [1, 3, 5, 7, 10]."
   ]
  },
  {
   "cell_type": "code",
   "execution_count": null,
   "id": "6a4c02c3-5491-436c-ad4c-04edf643a635",
   "metadata": {},
   "outputs": [],
   "source": []
  },
  {
   "cell_type": "markdown",
   "id": "a5c8c55a-0a77-4d98-9162-ad8408fcadcf",
   "metadata": {},
   "source": [
    "4. Write a Pandas program to convert a NumPy array to a Pandas series."
   ]
  },
  {
   "cell_type": "code",
   "execution_count": null,
   "id": "c115c138-82d2-48b6-8f8c-9e64ed8fde28",
   "metadata": {},
   "outputs": [],
   "source": []
  },
  {
   "cell_type": "markdown",
   "id": "5562fa57-78c4-4fc6-a653-994304625076",
   "metadata": {},
   "source": [
    "5. Write a Pandas program to create and display a DataFrame from a specified dictionary data which has the index labels.\n",
    "\n",
    "Sample DataFrame: <br>\n",
    "exam_data = {'name': ['Anastasia', 'Dima', 'Katherine', 'James', 'Emily', 'Michael', 'Matthew', 'Laura', 'Kevin', 'Jonas'], <br>\n",
    "             'score': [12.5, 9, 16.5, np.nan, 9, 20, 14.5, np.nan, 8, 19], <br>\n",
    "             'attempts': [1, 3, 2, 3, 2, 3, 1, 1, 2, 1], <br>\n",
    "             'qualify': ['yes', 'no', 'yes', 'no', 'no', 'yes', 'yes', 'no', 'no', 'yes']} <br>\n",
    "labels = ['a', 'b', 'c', 'd', 'e', 'f', 'g', 'h', 'i', 'j']"
   ]
  },
  {
   "cell_type": "code",
   "execution_count": null,
   "id": "e961e6c2-ae0b-4f09-9ab2-880e4aa77b96",
   "metadata": {},
   "outputs": [],
   "source": []
  },
  {
   "cell_type": "markdown",
   "id": "966609c0-94f1-4ff2-8fd8-f4102bb973c1",
   "metadata": {},
   "source": [
    "6. Write a Pandas program to convert index of a given dataframe into a column. \n",
    "Note: not taught yet, so will you figure it out?\n",
    "Test Data: <br>\n",
    "<br>\n",
    "0        s001     V  Alberto Franco     15/05/2002      35  street1   t1<br>\n",
    "1        s002     V    Gino Mcneill     17/05/2002      32  street2   t2<br>\n",
    "2        s003    VI     Ryan Parkes     16/02/1999      33  street3   t3<br>\n",
    "3        s001    VI    Eesha Hinton     25/09/1998      30  street1   t4<br>\n",
    "4        s002     V    Gino Mcneill     11/05/2002      31  street2   t5<br>\n",
    "5        s004    VI    David Parkes     15/09/1997      32  street4   t6<br>"
   ]
  },
  {
   "cell_type": "code",
   "execution_count": null,
   "id": "06674cc9-1bfe-46ae-b3d4-91a5d7071ec2",
   "metadata": {},
   "outputs": [],
   "source": []
  }
 ],
 "metadata": {
  "kernelspec": {
   "display_name": "Python 3 (ipykernel)",
   "language": "python",
   "name": "python3"
  },
  "language_info": {
   "codemirror_mode": {
    "name": "ipython",
    "version": 3
   },
   "file_extension": ".py",
   "mimetype": "text/x-python",
   "name": "python",
   "nbconvert_exporter": "python",
   "pygments_lexer": "ipython3",
   "version": "3.8.11"
  }
 },
 "nbformat": 4,
 "nbformat_minor": 5
}
