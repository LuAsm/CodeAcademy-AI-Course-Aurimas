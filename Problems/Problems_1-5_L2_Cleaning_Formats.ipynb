{
 "cells": [
  {
   "cell_type": "markdown",
   "id": "f3bdad04-b524-41ab-924c-1bcb76f6a106",
   "metadata": {
    "pycharm": {
     "name": "#%% md\n"
    }
   },
   "source": [
    "1. Write a Pandas program to find and replace the missing values in a given DataFrame which do not have any valuable information. <br>\n",
    "Hint: Use learnt np.nan values where it is NaN or similar in the given table.\n",
    "\n",
    "Example: <br>\n",
    "Missing values: ?, -- <br>\n",
    "Replace those values with NaN <br>\n",
    "\n",
    "Test Data: <br>\n",
    "\n",
    " ord_no, purch_amt, ord_date, customer_id, salesman_id <br>\n",
    "0, 70001, 150.5, ?, 3002, 5002 <br>\n",
    "1, NaN, 270.65, 2012-09-10, 3001, 5003 <br>\n",
    "2, 70002, 65.26, NaN, 3001, ? <br>\n",
    "3, 70004, 110.5, 2012-08-17, 3003, 5001 <br>\n",
    "4, NaN, 948.5, 2012-09-10, 3002, NaN <br>\n",
    "5, 70005, 2400.6, 2012-07-27, 3001, 5002 <br>\n",
    "6, --, 5760, 2012-09-10, 3001, 5001 <br>\n",
    "7, 70010, ?, 2012-10-10, 3004, ? <br>\n",
    "8, 70003, 12.43, 2012-10-10, --, 5003 <br>\n",
    "9, 70012, 2480.4, 2012-06-27, 3002, 5002 <br>\n",
    "10, NaN, 250.45, 2012-08-17, 3001, 5003 <br>\n",
    "11, 70013, 3045.6, 2012-04-25, 3001, --"
   ]
  },
  {
   "cell_type": "code",
   "execution_count": 3,
   "id": "be5b8da8-8919-4485-8036-2d43f4e814a6",
   "metadata": {
    "pycharm": {
     "name": "#%%\n"
    }
   },
   "outputs": [],
   "source": []
  },
  {
   "cell_type": "markdown",
   "id": "dbde130d-bda2-44cc-97cd-383497e56264",
   "metadata": {
    "pycharm": {
     "name": "#%% md\n"
    }
   },
   "source": [
    "2. Write a Pandas program to drop those rows from a given DataFrame in which specific columns have missing values. Hint: You'll need 'subset' keyword\n",
    "|| ord_no | purch_amt | ord_date | customer_id |\n",
    "| --- | --- | --- | --- | --- |\n",
    "0    |   NaN|        NaN |        NaN |          NaN |\n",
    "1     |  NaN |    270.65|  2012-09-10   |    3001.0 |\n",
    "2 |  70002.0  |    65.26   |      NaN    |   3001.0 |\n",
    "3  |     NaN   |     NaN  |       NaN     |     NaN |\n",
    "4   |    NaN    | 948.50 | 2012-09-10      | 3002.0 |\n",
    "5   |70005.0|    2400.60|  2012-07-27|       3001.0 |\n",
    "6    |   NaN |   5760.00  |2012-09-10 |      3001.0 |\n",
    "7  | 70010.0  |  1983.43 | 2012-10-10  |     3004.0 |\n",
    "8 |  70003.0   | 2480.40|  2012-10-10   |    3003.0 |\n",
    "9  | 70012.0    | 250.45 | 2012-06-27    |   3002.0 |\n",
    "10  |    NaN     |75.29|  2012-08-17    |  3001.0 |\n",
    "11 |     NaN |       NaN |        NaN   |       NaN |"
   ]
  },
  {
   "cell_type": "code",
   "execution_count": 3,
   "id": "6557dfff-80ae-4ca5-abc9-17cbc549e017",
   "metadata": {
    "pycharm": {
     "name": "#%%\n"
    }
   },
   "outputs": [],
   "source": []
  },
  {
   "cell_type": "markdown",
   "id": "9b078e7d-623f-4482-b472-1b72e1597a09",
   "metadata": {
    "pycharm": {
     "name": "#%% md\n"
    }
   },
   "source": [
    "3. You developed a multiplayer indie game called 🌹 Rose Thorn. Players compete in one of two venues - the ocean or the desert. You track the outcome of five games between three players in a DataFrame called games."
   ]
  },
  {
   "cell_type": "code",
   "execution_count": 4,
   "id": "add2ff3c-6ac9-4ecc-a73c-9fa22c36ec62",
   "metadata": {
    "pycharm": {
     "name": "#%%\n"
    }
   },
   "outputs": [
    {
     "data": {
      "text/html": [
       "<div>\n",
       "<style scoped>\n",
       "    .dataframe tbody tr th:only-of-type {\n",
       "        vertical-align: middle;\n",
       "    }\n",
       "\n",
       "    .dataframe tbody tr th {\n",
       "        vertical-align: top;\n",
       "    }\n",
       "\n",
       "    .dataframe thead th {\n",
       "        text-align: right;\n",
       "    }\n",
       "</style>\n",
       "<table border=\"1\" class=\"dataframe\">\n",
       "  <thead>\n",
       "    <tr style=\"text-align: right;\">\n",
       "      <th></th>\n",
       "      <th>bella1</th>\n",
       "      <th>billybob</th>\n",
       "      <th>nosoup4u</th>\n",
       "      <th>venue</th>\n",
       "    </tr>\n",
       "  </thead>\n",
       "  <tbody>\n",
       "    <tr>\n",
       "      <th>0</th>\n",
       "      <td>2nd</td>\n",
       "      <td>1st</td>\n",
       "      <td>3rd</td>\n",
       "      <td>desert</td>\n",
       "    </tr>\n",
       "    <tr>\n",
       "      <th>1</th>\n",
       "      <td>3rd</td>\n",
       "      <td>2nd</td>\n",
       "      <td>1st</td>\n",
       "      <td>ocean</td>\n",
       "    </tr>\n",
       "    <tr>\n",
       "      <th>2</th>\n",
       "      <td>1st</td>\n",
       "      <td>2nd</td>\n",
       "      <td>3rd</td>\n",
       "      <td>desert</td>\n",
       "    </tr>\n",
       "    <tr>\n",
       "      <th>3</th>\n",
       "      <td>2nd</td>\n",
       "      <td>1st</td>\n",
       "      <td>3rd</td>\n",
       "      <td>ocean</td>\n",
       "    </tr>\n",
       "    <tr>\n",
       "      <th>4</th>\n",
       "      <td>3rd</td>\n",
       "      <td>2nd</td>\n",
       "      <td>3rd</td>\n",
       "      <td>desert</td>\n",
       "    </tr>\n",
       "  </tbody>\n",
       "</table>\n",
       "</div>"
      ],
      "text/plain": [
       "  bella1 billybob nosoup4u   venue\n",
       "0    2nd      1st      3rd  desert\n",
       "1    3rd      2nd      1st   ocean\n",
       "2    1st      2nd      3rd  desert\n",
       "3    2nd      1st      3rd   ocean\n",
       "4    3rd      2nd      3rd  desert"
      ]
     },
     "execution_count": 4,
     "metadata": {},
     "output_type": "execute_result"
    }
   ],
   "source": [
    "import numpy as np\n",
    "import pandas as pd\n",
    "\n",
    "games = pd.DataFrame({\n",
    "    'bella1':   ['2nd', '3rd', '1st', '2nd', '3rd'],\n",
    "    'billybob': ['1st', '2nd', '2nd', '1st', '2nd'],\n",
    "    'nosoup4u': ['3rd', '1st', '3rd', '3rd', '3rd'],\n",
    "    'venue': ['desert', 'ocean', 'desert', 'ocean', 'desert']\n",
    "})\n",
    "\n",
    "games"
   ]
  },
  {
   "cell_type": "markdown",
   "id": "567c0312-eb56-46f3-9850-b046bc194858",
   "metadata": {
    "pycharm": {
     "name": "#%% md\n"
    }
   },
   "source": [
    "Now you want to analyze the data. Convert the `games` DataFrame into a new DataFrame that identifies how many times each (`player`, `placement`) occurs per `venue`, specifically with `venue` as the row index and (`player`, `placed`) as the column MultiIndex."
   ]
  },
  {
   "cell_type": "code",
   "execution_count": 4,
   "id": "1663db8a-a7c4-4f4b-81e8-a9a710399716",
   "metadata": {
    "pycharm": {
     "name": "#%%\n"
    }
   },
   "outputs": [],
   "source": []
  },
  {
   "cell_type": "code",
   "execution_count": 4,
   "id": "7211fdfe-5634-4b40-81a1-e0a196579748",
   "metadata": {
    "pycharm": {
     "name": "#%%\n"
    }
   },
   "outputs": [],
   "source": []
  },
  {
   "cell_type": "code",
   "execution_count": 4,
   "id": "17e055c4-e710-4cff-a378-59adf90d5010",
   "metadata": {
    "pycharm": {
     "name": "#%%\n"
    }
   },
   "outputs": [],
   "source": []
  },
  {
   "cell_type": "code",
   "execution_count": 4,
   "id": "88ed2272-dc20-435a-994c-ff8a2ded112e",
   "metadata": {
    "pycharm": {
     "name": "#%%\n"
    }
   },
   "outputs": [],
   "source": []
  },
  {
   "cell_type": "code",
   "execution_count": 4,
   "id": "8c7dd134-df75-4403-b080-a27cd43385e3",
   "metadata": {
    "pycharm": {
     "name": "#%%\n"
    }
   },
   "outputs": [],
   "source": []
  },
  {
   "cell_type": "markdown",
   "id": "420db0cc-1ec8-47ab-932a-677766770d81",
   "metadata": {
    "pycharm": {
     "name": "#%% md\n"
    }
   },
   "source": [
    "4. You run an ecommerce site called shoesfordogs.com . You want to analyze your visitors, so you compile a DataFrame called hits that represents each time a visitor hit some page on your site."
   ]
  },
  {
   "cell_type": "code",
   "execution_count": 5,
   "id": "b01c7022-93bd-4bc2-a27a-426489e62667",
   "metadata": {
    "pycharm": {
     "name": "#%%\n"
    },
    "tags": []
   },
   "outputs": [
    {
     "data": {
      "text/html": [
       "<div>\n",
       "<style scoped>\n",
       "    .dataframe tbody tr th:only-of-type {\n",
       "        vertical-align: middle;\n",
       "    }\n",
       "\n",
       "    .dataframe tbody tr th {\n",
       "        vertical-align: top;\n",
       "    }\n",
       "\n",
       "    .dataframe thead th {\n",
       "        text-align: right;\n",
       "    }\n",
       "</style>\n",
       "<table border=\"1\" class=\"dataframe\">\n",
       "  <thead>\n",
       "    <tr style=\"text-align: right;\">\n",
       "      <th></th>\n",
       "      <th>person_id</th>\n",
       "      <th>places</th>\n",
       "    </tr>\n",
       "  </thead>\n",
       "  <tbody>\n",
       "    <tr>\n",
       "      <th>0</th>\n",
       "      <td>0</td>\n",
       "      <td>[3, 4, 5, 6]</td>\n",
       "    </tr>\n",
       "    <tr>\n",
       "      <th>1</th>\n",
       "      <td>1</td>\n",
       "      <td>[]</td>\n",
       "    </tr>\n",
       "    <tr>\n",
       "      <th>2</th>\n",
       "      <td>2</td>\n",
       "      <td>[3]</td>\n",
       "    </tr>\n",
       "    <tr>\n",
       "      <th>3</th>\n",
       "      <td>3</td>\n",
       "      <td>[6, 8, 9]</td>\n",
       "    </tr>\n",
       "    <tr>\n",
       "      <th>4</th>\n",
       "      <td>4</td>\n",
       "      <td>[3]</td>\n",
       "    </tr>\n",
       "    <tr>\n",
       "      <th>5</th>\n",
       "      <td>5</td>\n",
       "      <td>[0, 2, 5, 6, 7, 8]</td>\n",
       "    </tr>\n",
       "    <tr>\n",
       "      <th>6</th>\n",
       "      <td>6</td>\n",
       "      <td>[2, 7]</td>\n",
       "    </tr>\n",
       "    <tr>\n",
       "      <th>7</th>\n",
       "      <td>7</td>\n",
       "      <td>[0, 5, 8, 9]</td>\n",
       "    </tr>\n",
       "    <tr>\n",
       "      <th>8</th>\n",
       "      <td>8</td>\n",
       "      <td>[2, 7, 9]</td>\n",
       "    </tr>\n",
       "    <tr>\n",
       "      <th>9</th>\n",
       "      <td>9</td>\n",
       "      <td>[0, 5, 8, 9]</td>\n",
       "    </tr>\n",
       "  </tbody>\n",
       "</table>\n",
       "</div>"
      ],
      "text/plain": [
       "   person_id              places\n",
       "0          0        [3, 4, 5, 6]\n",
       "1          1                  []\n",
       "2          2                 [3]\n",
       "3          3           [6, 8, 9]\n",
       "4          4                 [3]\n",
       "5          5  [0, 2, 5, 6, 7, 8]\n",
       "6          6              [2, 7]\n",
       "7          7        [0, 5, 8, 9]\n",
       "8          8           [2, 7, 9]\n",
       "9          9        [0, 5, 8, 9]"
      ]
     },
     "execution_count": 5,
     "metadata": {},
     "output_type": "execute_result"
    }
   ],
   "source": [
    "import numpy as np\n",
    "import pandas as pd\n",
    "\n",
    "# exposed places\n",
    "exposed = [0,5,9]\n",
    "\n",
    "# whereabouts of each person\n",
    "generator = np.random.default_rng(2468)\n",
    "Nplaces = 10\n",
    "Npersons = 10\n",
    "place_ids = np.arange(Nplaces)\n",
    "visits = generator.choice(place_ids, size=3*Nplaces, replace=True)\n",
    "split_idxs = np.sort(generator.choice(len(visits), size=9, replace=True))\n",
    "whereabouts = pd.DataFrame({\n",
    "    'person_id': range(Npersons),\n",
    "    'places': [np.unique(x).tolist() for x in np.array_split(visits, split_idxs)]\n",
    "})\n",
    "\n",
    "whereabouts"
   ]
  },
  {
   "cell_type": "markdown",
   "id": "b7f08b7a-9959-4440-94a2-fcac0f23ce92",
   "metadata": {
    "pycharm": {
     "name": "#%% md\n"
    }
   },
   "source": [
    "For each `person`, identify the `places` they visited which have been `exposed`. Make this a new list-column in `whereabouts` called `exposures`.\n"
   ]
  },
  {
   "cell_type": "code",
   "execution_count": 5,
   "id": "064d66a3-b3b1-44a3-b90e-82b028cdbb43",
   "metadata": {
    "pycharm": {
     "name": "#%%\n"
    }
   },
   "outputs": [],
   "source": []
  },
  {
   "cell_type": "code",
   "execution_count": 5,
   "id": "cc6b7eda-374d-4519-bc4e-cca3d1e6fe50",
   "metadata": {
    "pycharm": {
     "name": "#%%\n"
    }
   },
   "outputs": [],
   "source": []
  },
  {
   "cell_type": "code",
   "execution_count": 5,
   "id": "07f416be-4aa7-47ab-8c9d-15f5f2ab2a27",
   "metadata": {
    "pycharm": {
     "name": "#%%\n"
    }
   },
   "outputs": [],
   "source": []
  },
  {
   "cell_type": "code",
   "execution_count": 5,
   "id": "3dda2bf2-4e29-4e60-9ded-a811c038bc54",
   "metadata": {
    "pycharm": {
     "name": "#%%\n"
    }
   },
   "outputs": [],
   "source": []
  },
  {
   "cell_type": "code",
   "execution_count": 5,
   "id": "7dbeb5a3-5f15-4912-a24b-40c096fd0adb",
   "metadata": {
    "pycharm": {
     "name": "#%%\n"
    }
   },
   "outputs": [],
   "source": []
  },
  {
   "cell_type": "code",
   "execution_count": 5,
   "id": "2f6f9aa6-41b2-414c-9609-6b17d2a01f3f",
   "metadata": {
    "pycharm": {
     "name": "#%%\n"
    }
   },
   "outputs": [],
   "source": []
  },
  {
   "cell_type": "code",
   "execution_count": 5,
   "id": "247cb535-fbe2-4ba7-9ad9-41724389342b",
   "metadata": {
    "pycharm": {
     "name": "#%%\n"
    }
   },
   "outputs": [],
   "source": []
  },
  {
   "cell_type": "markdown",
   "id": "8b97cc6c-74c0-40ff-8906-59178918dcd7",
   "metadata": {
    "pycharm": {
     "name": "#%% md\n"
    }
   },
   "source": [
    "5. You run an ecommerce site called shoesfordogs.com . You want to analyze your visitors, so you compile a DataFrame called hits that represents each time a visitor hit some page on your site. "
   ]
  },
  {
   "cell_type": "code",
   "execution_count": 6,
   "id": "74878860-ffc6-4843-8f19-65fcdb8f69bd",
   "metadata": {
    "pycharm": {
     "name": "#%%\n"
    }
   },
   "outputs": [],
   "source": [
    "import numpy as np\n",
    "import pandas as pd\n",
    "\n",
    "pd.set_option('display.max_columns', 500)\n",
    "pd.set_option('display.width', 1000)\n",
    "\n",
    "generator = np.random.default_rng(90)\n",
    "products = ['iev','pys','vae','dah','yck','axl','apx','evu','wqv','tfg','aur','rgy','kef','lzj','kiz','oma']\n",
    "hits = pd.DataFrame({\n",
    "    'visitor_id': generator.choice(5, size=20, replace=True) + 1,\n",
    "    'session_id': generator.choice(4, size=20, replace=True),\n",
    "    'date_time': pd.to_datetime('2020-01-01') + pd.to_timedelta(generator.choice(60, size=20), unit='m'),\n",
    "    'page_url': [f'shoesfordogs.com/product/{x}' for x in generator.choice(products, size=20, replace=True)]\n",
    "})\n",
    "hits['session_id'] = hits.visitor_id * 100 + hits.session_id"
   ]
  },
  {
   "cell_type": "markdown",
   "id": "2eb7bc38-acf3-4bb1-958b-6bc8b0a5d0d6",
   "metadata": {
    "pycharm": {
     "name": "#%% md\n"
    }
   },
   "source": [
    "You suspect that the undocumented third-party tracking system on your website is buggy and sometimes splits one session into two or more session_ids. You want to correct this behavior by creating a field called session_group_id that stitches broken session_ids together.\n",
    "\n",
    "Two session, A & B, should belong to the same session group if <br>\n",
    " - They have the same visitor_id and <br>\n",
    "    - Their hits overlap in time or <br>\n",
    "    - The latest hit from A is within five minutes of the earliest hit from B, or vice-versa <br>\n",
    "\n",
    "<b>Associativity applies.</b> So, if A is grouped with B, and B is grouped with C, then A should be grouped with C as well.\n",
    "\n",
    "Create a column in hits called session_group_id that identifies which hits belong to the same session group."
   ]
  },
  {
   "cell_type": "code",
   "execution_count": 6,
   "id": "cf523301-b8ea-4e37-be01-801e02a3d7e7",
   "metadata": {
    "pycharm": {
     "name": "#%%\n"
    }
   },
   "outputs": [],
   "source": []
  },
  {
   "cell_type": "code",
   "execution_count": 6,
   "id": "f669930a-2c62-46cb-832b-194b13459f45",
   "metadata": {
    "pycharm": {
     "name": "#%%\n"
    }
   },
   "outputs": [],
   "source": []
  },
  {
   "cell_type": "code",
   "execution_count": 6,
   "id": "10b83cd4-cfb9-4265-90e7-6a82167b5f28",
   "metadata": {
    "pycharm": {
     "name": "#%%\n"
    }
   },
   "outputs": [],
   "source": []
  },
  {
   "cell_type": "code",
   "execution_count": 6,
   "id": "733d990b-a11a-47bb-a6be-8b845efa0c90",
   "metadata": {
    "pycharm": {
     "name": "#%%\n"
    }
   },
   "outputs": [],
   "source": []
  },
  {
   "cell_type": "code",
   "execution_count": 6,
   "id": "353045dc-aaeb-4ef5-91bc-e884fcc40ba1",
   "metadata": {
    "pycharm": {
     "name": "#%%\n"
    }
   },
   "outputs": [],
   "source": []
  },
  {
   "cell_type": "code",
   "execution_count": null,
   "id": "efacdc25-915d-463e-815c-944762564c7c",
   "metadata": {
    "pycharm": {
     "name": "#%%\n"
    }
   },
   "outputs": [],
   "source": []
  },
  {
   "cell_type": "code",
   "execution_count": null,
   "id": "8cb730dd-0cb1-42aa-afef-90b01d3b94a3",
   "metadata": {
    "pycharm": {
     "name": "#%%\n"
    }
   },
   "outputs": [],
   "source": []
  },
  {
   "cell_type": "code",
   "execution_count": null,
   "id": "7440739d-857b-4aae-8961-1ef095f2f9b4",
   "metadata": {
    "pycharm": {
     "name": "#%%\n"
    }
   },
   "outputs": [],
   "source": []
  },
  {
   "cell_type": "code",
   "execution_count": null,
   "id": "1bdef094-685c-4873-b71f-facd515ca8b9",
   "metadata": {
    "pycharm": {
     "name": "#%%\n"
    }
   },
   "outputs": [],
   "source": []
  }
 ],
 "metadata": {
  "kernelspec": {
   "display_name": "Python 3 (ipykernel)",
   "language": "python",
   "name": "python3"
  },
  "language_info": {
   "codemirror_mode": {
    "name": "ipython",
    "version": 3
   },
   "file_extension": ".py",
   "mimetype": "text/x-python",
   "name": "python",
   "nbconvert_exporter": "python",
   "pygments_lexer": "ipython3",
   "version": "3.9.9"
  }
 },
 "nbformat": 4,
 "nbformat_minor": 5
}