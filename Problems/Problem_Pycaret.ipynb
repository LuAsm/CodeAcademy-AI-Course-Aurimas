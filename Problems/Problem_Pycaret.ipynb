{
 "cells": [
  {
   "cell_type": "markdown",
   "id": "f174b754-83d4-4557-a6cc-039592e1e797",
   "metadata": {
    "pycharm": {
     "name": "#%% md\n"
    }
   },
   "source": [
    "FastCar is a car rental company based out of Vilnius. It rents cars for both inside city and outsside at affordable prices. The users can rent different types of cars like Sedans, Hatchbacks, SUVs and MUVs, Minivans, and so on.\n",
    "\n",
    "In recent times, the demand for cars is on the rise. As a result, the company would like to tackle the problem of supply and demand. The ultimate goal of the company is to strike the balance between supply and demand in order to meet user expectations. The company has collected the details of each rental. Based on the past data, the company would like to forecast the demand for car rentals on an hourly basis.\n",
    "\n",
    "The main objective of the problem is to develop the machine learning approach to forecast the demand for car rentals on an hourly basis using what you heard about PyCaret and learn from Domas. The dataset is cars_demand.csv"
   ]
  },
  {
   "cell_type": "code",
   "execution_count": null,
   "id": "6c94907f",
   "metadata": {
    "collapsed": false,
    "jupyter": {
     "outputs_hidden": false
    },
    "pycharm": {
     "name": "#%%\n"
    }
   },
   "outputs": [],
   "source": []
  }
 ],
 "metadata": {
  "kernelspec": {
   "display_name": "Python 3 (ipykernel)",
   "language": "python",
   "name": "python3"
  },
  "language_info": {
   "codemirror_mode": {
    "name": "ipython",
    "version": 3
   },
   "file_extension": ".py",
   "mimetype": "text/x-python",
   "name": "python",
   "nbconvert_exporter": "python",
   "pygments_lexer": "ipython3",
   "version": "3.9.15"
  }
 },
 "nbformat": 4,
 "nbformat_minor": 5
}
