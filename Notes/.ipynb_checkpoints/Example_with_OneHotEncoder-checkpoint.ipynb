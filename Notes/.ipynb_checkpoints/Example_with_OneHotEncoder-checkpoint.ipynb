{
 "cells": [
  {
   "cell_type": "code",
   "execution_count": 17,
   "id": "8005a166-4471-4261-a7f5-3f4a6278b679",
   "metadata": {},
   "outputs": [],
   "source": [
    "import pandas as pd\n",
    "import numpy as np\n",
    "import warnings\n",
    "warnings.filterwarnings('ignore')\n",
    "warnings.simplefilter('ignore')"
   ]
  },
  {
   "cell_type": "code",
   "execution_count": 18,
   "id": "aa7c3404-0926-494b-aaf9-c58c16d4cedb",
   "metadata": {},
   "outputs": [],
   "source": [
    "fruits = ['Strawberry', 'Apple', 'Watermelon', 'Lemon', 'Peach', 'Orange']\n",
    "df = pd.DataFrame(list(zip(ids, fruits)), columns=['Ids', 'Fruits'])"
   ]
  },
  {
   "cell_type": "code",
   "execution_count": 19,
   "id": "c36b5f1d-b767-4970-9ab2-c2a389f13bee",
   "metadata": {},
   "outputs": [
    {
     "data": {
      "text/html": [
       "<div>\n",
       "<style scoped>\n",
       "    .dataframe tbody tr th:only-of-type {\n",
       "        vertical-align: middle;\n",
       "    }\n",
       "\n",
       "    .dataframe tbody tr th {\n",
       "        vertical-align: top;\n",
       "    }\n",
       "\n",
       "    .dataframe thead th {\n",
       "        text-align: right;\n",
       "    }\n",
       "</style>\n",
       "<table border=\"1\" class=\"dataframe\">\n",
       "  <thead>\n",
       "    <tr style=\"text-align: right;\">\n",
       "      <th></th>\n",
       "      <th>Ids</th>\n",
       "      <th>Fruits</th>\n",
       "    </tr>\n",
       "  </thead>\n",
       "  <tbody>\n",
       "    <tr>\n",
       "      <th>0</th>\n",
       "      <td>1</td>\n",
       "      <td>Strawberry</td>\n",
       "    </tr>\n",
       "    <tr>\n",
       "      <th>1</th>\n",
       "      <td>2</td>\n",
       "      <td>Apple</td>\n",
       "    </tr>\n",
       "    <tr>\n",
       "      <th>2</th>\n",
       "      <td>3</td>\n",
       "      <td>Watermelon</td>\n",
       "    </tr>\n",
       "    <tr>\n",
       "      <th>3</th>\n",
       "      <td>4</td>\n",
       "      <td>Lemon</td>\n",
       "    </tr>\n",
       "    <tr>\n",
       "      <th>4</th>\n",
       "      <td>5</td>\n",
       "      <td>Peach</td>\n",
       "    </tr>\n",
       "  </tbody>\n",
       "</table>\n",
       "</div>"
      ],
      "text/plain": [
       "   Ids      Fruits\n",
       "0    1  Strawberry\n",
       "1    2       Apple\n",
       "2    3  Watermelon\n",
       "3    4       Lemon\n",
       "4    5       Peach"
      ]
     },
     "execution_count": 19,
     "metadata": {},
     "output_type": "execute_result"
    }
   ],
   "source": [
    "df.head()"
   ]
  },
  {
   "cell_type": "markdown",
   "id": "0b9f8581-e14f-4ba3-ae9a-fbcc00acedc0",
   "metadata": {},
   "source": [
    "### <i> Becasue Fruits column contain categorical values, we may convert the values in the Fruits column into one-hot encoded vectors using the get_dummies() function:"
   ]
  },
  {
   "cell_type": "code",
   "execution_count": 20,
   "id": "207cabc1-d8b7-4934-91be-4b0133e17f76",
   "metadata": {},
   "outputs": [
    {
     "name": "stdout",
     "output_type": "stream",
     "text": [
      "   Fruits_Apple  Fruits_Lemon  Fruits_Orange  Fruits_Peach  Fruits_Strawberry  \\\n",
      "0             0             0              0             0                  1   \n",
      "1             1             0              0             0                  0   \n",
      "2             0             0              0             0                  0   \n",
      "3             0             1              0             0                  0   \n",
      "4             0             0              0             1                  0   \n",
      "\n",
      "   Fruits_Watermelon  \n",
      "0                  0  \n",
      "1                  0  \n",
      "2                  1  \n",
      "3                  0  \n",
      "4                  0  \n"
     ]
    }
   ],
   "source": [
    "y = pd.get_dummies(df.Fruits, prefix='Fruits')\n",
    "print(y.head())"
   ]
  },
  {
   "cell_type": "markdown",
   "id": "6b8d2d11-9dea-49dd-83df-a8725153d90e",
   "metadata": {},
   "source": [
    "# <b>Alternative way</b>"
   ]
  },
  {
   "cell_type": "code",
   "execution_count": 21,
   "id": "f628d716-acf8-41f8-8370-f9bc1bc715ea",
   "metadata": {},
   "outputs": [],
   "source": [
    "from sklearn.preprocessing import OneHotEncoder"
   ]
  },
  {
   "cell_type": "markdown",
   "id": "77748f52-e6ed-451b-b210-649bc7089d82",
   "metadata": {},
   "source": [
    "And then, let's populate a list and fit it in the encoder:"
   ]
  },
  {
   "cell_type": "code",
   "execution_count": 16,
   "id": "8745acd6-4535-44c1-b3b5-19e653286a38",
   "metadata": {},
   "outputs": [
    {
     "name": "stdout",
     "output_type": "stream",
     "text": [
      "[[1. 0. 0. 0. 0. 0. 0. 0. 0. 0. 1. 0.]\n",
      " [0. 1. 0. 0. 0. 0. 1. 0. 0. 0. 0. 0.]\n",
      " [0. 0. 1. 0. 0. 0. 0. 0. 0. 0. 0. 1.]\n",
      " [0. 0. 0. 1. 0. 0. 0. 1. 0. 0. 0. 0.]\n",
      " [0. 0. 0. 0. 1. 0. 0. 0. 0. 1. 0. 0.]\n",
      " [0. 0. 0. 0. 0. 1. 0. 0. 1. 0. 0. 0.]]\n"
     ]
    }
   ],
   "source": [
    "x = [[1, 'Strawberry'], [2, 'Apple'], [3, 'Watermelon'], [4, 'Lemon'], [5, 'Peach'], (6, 'Orange')]\n",
    "y = OneHotEncoder().fit_transform(x).toarray()\n",
    "print(y)"
   ]
  }
 ],
 "metadata": {
  "kernelspec": {
   "display_name": "Python 3 (ipykernel)",
   "language": "python",
   "name": "python3"
  },
  "language_info": {
   "codemirror_mode": {
    "name": "ipython",
    "version": 3
   },
   "file_extension": ".py",
   "mimetype": "text/x-python",
   "name": "python",
   "nbconvert_exporter": "python",
   "pygments_lexer": "ipython3",
   "version": "3.9.9"
  }
 },
 "nbformat": 4,
 "nbformat_minor": 5
}
