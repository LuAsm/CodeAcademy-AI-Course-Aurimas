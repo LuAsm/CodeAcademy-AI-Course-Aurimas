{
 "cells": [
  {
   "cell_type": "code",
   "execution_count": 1,
   "id": "d747c957-4818-4c94-b3a5-9b30af250de6",
   "metadata": {},
   "outputs": [],
   "source": [
    "import numpy as np\n",
    "import pandas as pd\n",
    "import warnings\n",
    "import time\n",
    "warnings.filterwarnings('ignore')\n",
    "\n",
    "import matplotlib.pyplot as plt\n",
    "import seaborn as sns\n",
    "plt.style.use(['seaborn'])\n",
    "\n",
    "from sklearn import set_config\n",
    "set_config(display='text')"
   ]
  },
  {
   "cell_type": "markdown",
   "id": "4ec4fb6e-08c0-4c9c-b657-bf555e1c48eb",
   "metadata": {},
   "source": [
    "# Load Libraries"
   ]
  },
  {
   "cell_type": "code",
   "execution_count": null,
   "id": "8d0d040a-46c3-43bd-84d2-c59a2db916b8",
   "metadata": {},
   "outputs": [],
   "source": []
  },
  {
   "cell_type": "markdown",
   "id": "cff5d958-4065-4f6f-bc42-857e003c5f04",
   "metadata": {},
   "source": [
    "# Load Dataset"
   ]
  },
  {
   "cell_type": "code",
   "execution_count": null,
   "id": "e6a61465-b3ac-4755-9846-28cc40117bcb",
   "metadata": {},
   "outputs": [],
   "source": []
  },
  {
   "cell_type": "code",
   "execution_count": null,
   "id": "a1ad642b-4baf-471d-a4d3-499b4a38834a",
   "metadata": {},
   "outputs": [],
   "source": []
  },
  {
   "cell_type": "markdown",
   "id": "96a8068d-34de-4da5-b82f-27b6f2092575",
   "metadata": {},
   "source": [
    "# Exploratory Data Analysis (EDA)"
   ]
  },
  {
   "cell_type": "code",
   "execution_count": null,
   "id": "3fc94b34-6b76-43fa-97d6-e5a7c0a699e3",
   "metadata": {},
   "outputs": [],
   "source": []
  },
  {
   "cell_type": "code",
   "execution_count": null,
   "id": "f792b820-71a9-4aed-b3cd-22a956e96710",
   "metadata": {},
   "outputs": [],
   "source": []
  },
  {
   "cell_type": "code",
   "execution_count": null,
   "id": "7d8bd92b-9c62-4254-8d31-faf8a7ce38ad",
   "metadata": {},
   "outputs": [],
   "source": []
  },
  {
   "cell_type": "code",
   "execution_count": null,
   "id": "0fd6f529-681e-4148-8e55-96ee5ecc6b89",
   "metadata": {},
   "outputs": [],
   "source": []
  },
  {
   "cell_type": "markdown",
   "id": "1c7e637e-8b96-4e1b-95a2-e3238a27f879",
   "metadata": {},
   "source": [
    "# Conduct Regression Model in Pycaret"
   ]
  },
  {
   "cell_type": "code",
   "execution_count": null,
   "id": "7b5d7759-c05a-43a6-89f3-9beb7ed9bfeb",
   "metadata": {
    "collapsed": true,
    "jupyter": {
     "outputs_hidden": true
    },
    "tags": []
   },
   "outputs": [],
   "source": []
  },
  {
   "cell_type": "code",
   "execution_count": null,
   "id": "bfe40b17-3785-491e-9629-bb413f2d5d83",
   "metadata": {},
   "outputs": [],
   "source": []
  },
  {
   "cell_type": "code",
   "execution_count": null,
   "id": "ba95afb5-1ddd-451a-967d-31254960a4e4",
   "metadata": {},
   "outputs": [],
   "source": []
  },
  {
   "cell_type": "code",
   "execution_count": null,
   "id": "86f7aeb7-5315-4274-a216-603a5403918d",
   "metadata": {},
   "outputs": [],
   "source": []
  },
  {
   "cell_type": "code",
   "execution_count": null,
   "id": "7dffdf2d-eaa7-4380-bdc0-6b660a90d179",
   "metadata": {},
   "outputs": [],
   "source": []
  },
  {
   "cell_type": "code",
   "execution_count": null,
   "id": "542caf41-23d0-477b-9d9a-3c55b05e5080",
   "metadata": {},
   "outputs": [],
   "source": []
  },
  {
   "cell_type": "code",
   "execution_count": null,
   "id": "f36e8539-9c25-4c89-92d5-8716cc6b7d6e",
   "metadata": {},
   "outputs": [],
   "source": []
  },
  {
   "cell_type": "code",
   "execution_count": null,
   "id": "0ff68195-cbb1-402c-be01-b86edab4ee8d",
   "metadata": {},
   "outputs": [],
   "source": []
  },
  {
   "cell_type": "code",
   "execution_count": null,
   "id": "ff194584-d32e-4660-a1ef-d15d1c9c4533",
   "metadata": {},
   "outputs": [],
   "source": []
  },
  {
   "cell_type": "code",
   "execution_count": null,
   "id": "ccade05b-db71-4224-9565-8d4ef284559b",
   "metadata": {},
   "outputs": [],
   "source": []
  },
  {
   "cell_type": "code",
   "execution_count": null,
   "id": "10328db3-c3c6-4cfd-98ca-2ddc65c95c18",
   "metadata": {},
   "outputs": [],
   "source": []
  },
  {
   "cell_type": "code",
   "execution_count": null,
   "id": "517186a5-7c7d-41ff-b202-85e62ed19b4e",
   "metadata": {},
   "outputs": [],
   "source": []
  },
  {
   "cell_type": "code",
   "execution_count": null,
   "id": "897c9187-443d-4a5d-8817-4366097b61cb",
   "metadata": {},
   "outputs": [],
   "source": []
  },
  {
   "cell_type": "code",
   "execution_count": null,
   "id": "2de0b440-f615-4557-8c08-b8dc320eca6b",
   "metadata": {},
   "outputs": [],
   "source": []
  },
  {
   "cell_type": "markdown",
   "id": "32b0ebb2-72e4-410a-9beb-462443e3543b",
   "metadata": {},
   "source": [
    "# Analyze the Performance of Final Model on Entire Dataset\n"
   ]
  },
  {
   "cell_type": "code",
   "execution_count": null,
   "id": "14a09a30-d5ca-4dbb-8b6f-bb0fee972337",
   "metadata": {},
   "outputs": [],
   "source": []
  },
  {
   "cell_type": "code",
   "execution_count": null,
   "id": "02382d98-294c-4050-8dbe-ad386414d02f",
   "metadata": {},
   "outputs": [],
   "source": []
  },
  {
   "cell_type": "code",
   "execution_count": null,
   "id": "ddf1135e-6e5b-4150-a808-a4134b3243b5",
   "metadata": {},
   "outputs": [],
   "source": []
  },
  {
   "cell_type": "code",
   "execution_count": null,
   "id": "03621688-f768-459a-979a-e1f3c67f924e",
   "metadata": {},
   "outputs": [],
   "source": []
  },
  {
   "cell_type": "code",
   "execution_count": null,
   "id": "f276675c-08de-4565-ac9e-608b5f3a16ce",
   "metadata": {},
   "outputs": [],
   "source": []
  },
  {
   "cell_type": "markdown",
   "id": "6d346a69-72b6-4553-b350-867cf9f50a13",
   "metadata": {},
   "source": [
    "# Client Presentation and Next Steps"
   ]
  },
  {
   "cell_type": "code",
   "execution_count": null,
   "id": "60349e96-7446-4c23-85d7-ff7ed9127527",
   "metadata": {},
   "outputs": [],
   "source": []
  },
  {
   "cell_type": "code",
   "execution_count": null,
   "id": "a5bb9c7e-dd77-45a9-9cd2-b544f467c80a",
   "metadata": {},
   "outputs": [],
   "source": []
  },
  {
   "cell_type": "code",
   "execution_count": null,
   "id": "e7d1797f-4370-4196-be7b-ca1dc3cc42f2",
   "metadata": {},
   "outputs": [],
   "source": []
  },
  {
   "cell_type": "code",
   "execution_count": null,
   "id": "43eb8494-f9e7-4faa-8fc6-6d7947baa74b",
   "metadata": {},
   "outputs": [],
   "source": []
  },
  {
   "cell_type": "markdown",
   "id": "d1392bf6-ea55-4ac6-baf7-a090dbbb6dda",
   "metadata": {},
   "source": [
    "# Conclusion"
   ]
  },
  {
   "cell_type": "code",
   "execution_count": null,
   "id": "606c0790-1c5b-483d-9f55-44a71ab8888e",
   "metadata": {},
   "outputs": [],
   "source": []
  },
  {
   "cell_type": "markdown",
   "id": "ceb5a0e8-1cd5-420d-a5c1-d6932b683faf",
   "metadata": {},
   "source": [
    "# Sources and References\n",
    "\n",
    "Matplotlib.  Retrieved December 13, 2022 from https://matplotlib.org\n",
    "\n",
    "Numpy.  Retrieved December 13, 2022 from https://numpy.org/\n",
    "\n",
    "Pandas.  Retrieved December 13, 2022 from https://pandas.pydata.org/\n",
    "\n",
    "Pycaret. (2022, December 13). Retrieved December 13, 2022 from https://pycaret.org/\n",
    "\n",
    "Python. Retrieved December 13, 2022 from https://www.python.org/\n",
    "\n",
    "Scikit Learn: Learn. Retrieved December 13, 2022 from https://scikit-learn.org/\n",
    "\n",
    "Seaborn. Retrieved December 13, 2022 from https://seaborn.pydata.org/"
   ]
  }
 ],
 "metadata": {
  "kernelspec": {
   "display_name": "Python 3 (ipykernel)",
   "language": "python",
   "name": "python3"
  },
  "language_info": {
   "codemirror_mode": {
    "name": "ipython",
    "version": 3
   },
   "file_extension": ".py",
   "mimetype": "text/x-python",
   "name": "python",
   "nbconvert_exporter": "python",
   "pygments_lexer": "ipython3",
   "version": "3.9.9"
  }
 },
 "nbformat": 4,
 "nbformat_minor": 5
}
