{
  "cells": [
    {
      "cell_type": "markdown",
      "source": [
        "<a href=\"https://colab.research.google.com/github/aurimas13/CodeAcademy-AI-Course/blob/main/Examples/Example_with_PyCaret_Regression_full_blank.ipynb\" target=\"_parent\"><img src=\"https://colab.research.google.com/assets/colab-badge.svg\" alt=\"Open In Colab\"/></a>"
      ],
      "metadata": {
        "id": "XEgJ_9RJehFc"
      }
    },
    {
      "cell_type": "markdown",
      "metadata": {
        "id": "3-EsrkICeQkS"
      },
      "source": [
        "# <b>PyCaret Regression Example (main components)<b>\n",
        "Last Update: 28/12/2022\n",
        "\n",
        "PyCaret Version: 2.2.3\n",
        "\n",
        "Author: [Aurimas Aleksandras Nausėdas](https://github.com/aurimas13)"
      ]
    },
    {
      "cell_type": "markdown",
      "metadata": {
        "id": "1oDs43FQeQkT"
      },
      "source": [
        "# <b> Installation </b>"
      ]
    },
    {
      "cell_type": "code",
      "execution_count": null,
      "metadata": {
        "id": "DfmZE70DeQkU"
      },
      "outputs": [],
      "source": []
    },
    {
      "cell_type": "code",
      "execution_count": null,
      "metadata": {
        "id": "_8L8pLUNeQkU"
      },
      "outputs": [],
      "source": []
    },
    {
      "cell_type": "markdown",
      "metadata": {
        "id": "1vOMIxONeQkU"
      },
      "source": [
        "# 1. <b>Loading Dataset<b>"
      ]
    },
    {
      "cell_type": "code",
      "execution_count": null,
      "metadata": {
        "id": "2_TGEZ7heQkV"
      },
      "outputs": [],
      "source": []
    },
    {
      "cell_type": "markdown",
      "metadata": {
        "id": "TuqSw0OQeQkV"
      },
      "source": [
        "# 2. <b>Initialize Setup<b>"
      ]
    },
    {
      "cell_type": "code",
      "execution_count": null,
      "metadata": {
        "id": "4QIoFkCAeQkV"
      },
      "outputs": [],
      "source": []
    },
    {
      "cell_type": "markdown",
      "metadata": {
        "id": "AAupgiDaeQkV"
      },
      "source": [
        "# 3. <b>Compare Baseline<b>"
      ]
    },
    {
      "cell_type": "code",
      "execution_count": null,
      "metadata": {
        "id": "riIvpSpMeQkV"
      },
      "outputs": [],
      "source": []
    },
    {
      "cell_type": "markdown",
      "metadata": {
        "id": "31SiicI-eQkV"
      },
      "source": [
        "# 4. <b>Create Model<b>"
      ]
    },
    {
      "cell_type": "code",
      "execution_count": null,
      "metadata": {
        "id": "ksi-ZZoTeQkV"
      },
      "outputs": [],
      "source": []
    },
    {
      "cell_type": "markdown",
      "metadata": {
        "id": "CUKoWaoLeQkV"
      },
      "source": [
        "\n",
        "In machine learning and statistics, the learning rate is a tuning parameter in an optimization algorithm that determines the step size at each iteration while moving toward a minimum of a loss function."
      ]
    },
    {
      "cell_type": "code",
      "execution_count": null,
      "metadata": {
        "id": "pWXAi4D2eQkW"
      },
      "outputs": [],
      "source": []
    },
    {
      "cell_type": "code",
      "execution_count": null,
      "metadata": {
        "id": "GxRfKGU4eQkW"
      },
      "outputs": [],
      "source": []
    },
    {
      "cell_type": "markdown",
      "metadata": {
        "id": "adGYsQ9peQkW"
      },
      "source": [
        "# 5. <b>Tune Hyperparameters<b>"
      ]
    },
    {
      "cell_type": "markdown",
      "metadata": {
        "id": "iwHOHbkheQkW"
      },
      "source": [
        "![Screenshot 2022-12-28 at 11.04.47.png](attachment:755704f7-a2b7-4fcd-8e79-d063424fd035.png)"
      ]
    },
    {
      "cell_type": "code",
      "execution_count": null,
      "metadata": {
        "id": "zID1cchqeQkW"
      },
      "outputs": [],
      "source": []
    },
    {
      "cell_type": "code",
      "execution_count": null,
      "metadata": {
        "id": "4Vn1eb4teQkW"
      },
      "outputs": [],
      "source": []
    },
    {
      "cell_type": "markdown",
      "metadata": {
        "id": "mybJ6fnZeQkW"
      },
      "source": [
        "# 6. <b>Ensemble Model<b>"
      ]
    },
    {
      "cell_type": "code",
      "execution_count": null,
      "metadata": {
        "id": "nI7TudC-eQkW"
      },
      "outputs": [],
      "source": []
    },
    {
      "cell_type": "code",
      "execution_count": null,
      "metadata": {
        "id": "wj9byJSdeQkX"
      },
      "outputs": [],
      "source": []
    },
    {
      "cell_type": "code",
      "execution_count": null,
      "metadata": {
        "id": "6lZL94d2eQkX"
      },
      "outputs": [],
      "source": []
    },
    {
      "cell_type": "markdown",
      "metadata": {
        "id": "ZD0B1CrHeQkX"
      },
      "source": [
        "# 7. <b>Blend Models<b>"
      ]
    },
    {
      "cell_type": "code",
      "execution_count": null,
      "metadata": {
        "id": "aCTDHwwQeQkX"
      },
      "outputs": [],
      "source": []
    },
    {
      "cell_type": "markdown",
      "metadata": {
        "id": "_iMp-gODeQkX"
      },
      "source": [
        "# 8. <b>Stack Models<b>"
      ]
    },
    {
      "cell_type": "code",
      "execution_count": null,
      "metadata": {
        "id": "KV1FSMpleQkX"
      },
      "outputs": [],
      "source": []
    },
    {
      "cell_type": "markdown",
      "metadata": {
        "id": "BbKsXZZteQkX"
      },
      "source": [
        "# 9. Analyze Model"
      ]
    },
    {
      "cell_type": "code",
      "execution_count": null,
      "metadata": {
        "id": "bPp03rMzeQkX"
      },
      "outputs": [],
      "source": []
    },
    {
      "cell_type": "code",
      "execution_count": null,
      "metadata": {
        "id": "1vF_RYTveQkX"
      },
      "outputs": [],
      "source": []
    },
    {
      "cell_type": "code",
      "execution_count": null,
      "metadata": {
        "id": "n7sWcJjDeQkX"
      },
      "outputs": [],
      "source": []
    },
    {
      "cell_type": "code",
      "execution_count": null,
      "metadata": {
        "id": "YkkeMMmqeQkX"
      },
      "outputs": [],
      "source": []
    },
    {
      "cell_type": "markdown",
      "metadata": {
        "id": "vbNh4LxneQkX"
      },
      "source": [
        "# 10. <b>Interpret Model<b>"
      ]
    },
    {
      "cell_type": "code",
      "execution_count": null,
      "metadata": {
        "id": "Us2_FfK-eQkY"
      },
      "outputs": [],
      "source": []
    },
    {
      "cell_type": "code",
      "execution_count": null,
      "metadata": {
        "id": "bu-T8nxVeQkY"
      },
      "outputs": [],
      "source": []
    },
    {
      "cell_type": "code",
      "execution_count": null,
      "metadata": {
        "id": "xcRhEuZ_eQkY"
      },
      "outputs": [],
      "source": []
    },
    {
      "cell_type": "markdown",
      "metadata": {
        "id": "wJNZMb6weQkY"
      },
      "source": [
        "# 11. <b>AutoML()<b>"
      ]
    },
    {
      "cell_type": "markdown",
      "metadata": {
        "id": "nLEX9YCGeQkY"
      },
      "source": [
        "## Overview of what AutoML() does\n",
        "There are two types of parameters where hyperparameters are set by the user before starting training and the autoML() chooses not only the best model but also updates model parameters that are learned during the model training."
      ]
    },
    {
      "cell_type": "code",
      "execution_count": null,
      "metadata": {
        "id": "bdu2eHzueQkY"
      },
      "outputs": [],
      "source": []
    },
    {
      "cell_type": "markdown",
      "metadata": {
        "id": "wIO5pGwIeQkY"
      },
      "source": [
        "# 12.<b> Predict Model<b>"
      ]
    },
    {
      "cell_type": "code",
      "execution_count": null,
      "metadata": {
        "id": "ZKvX0yCTeQkY"
      },
      "outputs": [],
      "source": []
    },
    {
      "cell_type": "code",
      "execution_count": null,
      "metadata": {
        "id": "wdixmYqteQkY"
      },
      "outputs": [],
      "source": []
    },
    {
      "cell_type": "markdown",
      "metadata": {
        "id": "IyB1FdtDeQkY"
      },
      "source": [
        "# 13. <b>Save / Load Model<b>"
      ]
    },
    {
      "cell_type": "code",
      "execution_count": null,
      "metadata": {
        "id": "JqxYSwiZeQkY"
      },
      "outputs": [],
      "source": []
    },
    {
      "cell_type": "code",
      "execution_count": null,
      "metadata": {
        "id": "zudndttWeQkZ"
      },
      "outputs": [],
      "source": []
    },
    {
      "cell_type": "markdown",
      "metadata": {
        "id": "h8mJg0GHeQkZ"
      },
      "source": [
        "# <b>Evaluate Model<b>\n"
      ]
    },
    {
      "cell_type": "code",
      "execution_count": null,
      "metadata": {
        "id": "7AEiwEHZeQkZ"
      },
      "outputs": [],
      "source": []
    }
  ],
  "metadata": {
    "kernelspec": {
      "display_name": "Python 3 (ipykernel)",
      "language": "python",
      "name": "python3"
    },
    "language_info": {
      "codemirror_mode": {
        "name": "ipython",
        "version": 3
      },
      "file_extension": ".py",
      "mimetype": "text/x-python",
      "name": "python",
      "nbconvert_exporter": "python",
      "pygments_lexer": "ipython3",
      "version": "3.9.9"
    },
    "colab": {
      "provenance": []
    }
  },
  "nbformat": 4,
  "nbformat_minor": 0
}