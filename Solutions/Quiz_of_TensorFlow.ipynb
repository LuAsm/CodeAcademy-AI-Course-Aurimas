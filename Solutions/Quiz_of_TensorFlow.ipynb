{
 "cells": [
  {
   "cell_type": "markdown",
   "id": "f202071b",
   "metadata": {},
   "source": [
    "1. What is TensorFlow?"
   ]
  },
  {
   "cell_type": "markdown",
   "id": "39c4cb2d",
   "metadata": {},
   "source": [
    "TensorFlow is an open source platform for machine learning that allows developers to create, train, test, and deploy machine learning modles, including several types of neural networks. It works with Python, Java and C++ and can be also in teh browser and mile applications."
   ]
  },
  {
   "cell_type": "markdown",
   "id": "9807ddfa",
   "metadata": {},
   "source": [
    "2. What is a tensor?"
   ]
  },
  {
   "cell_type": "markdown",
   "id": "6e37a5dc",
   "metadata": {},
   "source": [
    "A tensor is immutable, multi-dimensional arrays with uniform type. They are similar to NumPy arrays."
   ]
  },
  {
   "cell_type": "markdown",
   "id": "97cdb3b6",
   "metadata": {},
   "source": [
    "3. What is the rank of a tensor?"
   ]
  },
  {
   "cell_type": "markdown",
   "id": "5c02624a",
   "metadata": {},
   "source": [
    "The rank of tensor is the number of idneces required to select and individual element of the tensor. You can think about it as the number dimensions."
   ]
  },
  {
   "cell_type": "markdown",
   "id": "74ac7fe2",
   "metadata": {},
   "source": [
    "4. What is a `rank-0` tensor?"
   ]
  },
  {
   "cell_type": "markdown",
   "id": "6f87d37f",
   "metadata": {},
   "source": [
    "A `rank-0` tensor is one with a single value and noa axes."
   ]
  },
  {
   "cell_type": "markdown",
   "id": "4050b76d",
   "metadata": {},
   "source": [
    "5. How would you implement a `rank-0` tensor in Python?"
   ]
  },
  {
   "cell_type": "code",
   "execution_count": 3,
   "id": "1bd4ceb1",
   "metadata": {},
   "outputs": [
    {
     "name": "stdout",
     "output_type": "stream",
     "text": [
      "tf.Tensor(52, shape=(), dtype=int32)\n"
     ]
    }
   ],
   "source": [
    "rank_0_tensor = tf.constant(52)\n",
    "print(rank_0_tensor)"
   ]
  },
  {
   "cell_type": "markdown",
   "id": "de47dea8",
   "metadata": {},
   "source": [
    "6. What is a `rank-1` tensor?"
   ]
  },
  {
   "cell_type": "markdown",
   "id": "090c7261",
   "metadata": {},
   "source": [
    "A `rank-1` tensor is like a list of values. It has one axis or dimenion."
   ]
  },
  {
   "cell_type": "markdown",
   "id": "d365dbdf",
   "metadata": {},
   "source": [
    "7. What is another name for a `rank-1` tensor?\n"
   ]
  },
  {
   "cell_type": "markdown",
   "id": "14e8d893",
   "metadata": {},
   "source": [
    "A `rank-1` tensor is also called a `vector`."
   ]
  },
  {
   "cell_type": "markdown",
   "id": "c45b49bc",
   "metadata": {},
   "source": [
    "8. How would you implement a `rank-1` tensor in Python?"
   ]
  },
  {
   "cell_type": "code",
   "execution_count": 4,
   "id": "6dbda1f4",
   "metadata": {},
   "outputs": [
    {
     "name": "stdout",
     "output_type": "stream",
     "text": [
      "tf.Tensor([14  1 -1], shape=(3,), dtype=int32)\n"
     ]
    }
   ],
   "source": [
    "rank_1_tensor = tf.constant([14, 1, -1])\n",
    "print(rank_1_tensor)"
   ]
  },
  {
   "cell_type": "markdown",
   "id": "64688003",
   "metadata": {},
   "source": [
    "9. What is a `rank-2` tensor?"
   ]
  },
  {
   "cell_type": "markdown",
   "id": "7b85aa08",
   "metadata": {},
   "source": [
    "A `rank-2` tensor is a tensor with two dimensions or axes. You can think of this as a two-dimenional array or a table of values."
   ]
  },
  {
   "cell_type": "markdown",
   "id": "0529c828",
   "metadata": {},
   "source": [
    "10. What is another name for a `rank-2` tensor?"
   ]
  },
  {
   "cell_type": "markdown",
   "id": "3712e980",
   "metadata": {},
   "source": [
    "A `rank-2` tensor is commonly referred to as a matrix."
   ]
  },
  {
   "cell_type": "markdown",
   "id": "528d441c",
   "metadata": {},
   "source": [
    "11. How would you implement a `rank-2` tensor in Python?"
   ]
  },
  {
   "cell_type": "code",
   "execution_count": 6,
   "id": "0f2d923a",
   "metadata": {},
   "outputs": [
    {
     "name": "stdout",
     "output_type": "stream",
     "text": [
      "tf.Tensor(\n",
      "[[1 2 3]\n",
      " [4 5 6]\n",
      " [7 8 9]], shape=(3, 3), dtype=int32)\n"
     ]
    }
   ],
   "source": [
    "rank_2_tensor = tf.constant([[1, 2, 3],\n",
    "                            [4, 5, 6],\n",
    "                            [7, 8, 9]])\n",
    "print(rank_2_tensor)"
   ]
  },
  {
   "cell_type": "markdown",
   "id": "4aea447f",
   "metadata": {},
   "source": [
    "12. What does the shape of a tensor signify?"
   ]
  },
  {
   "cell_type": "markdown",
   "id": "52c8f708",
   "metadata": {},
   "source": [
    "A tensor's shape is the number of elements in each of its dimensions, For example, a tensor with 2 rows and 3 columns has shape [2, 3]."
   ]
  },
  {
   "cell_type": "markdown",
   "id": "93763683",
   "metadata": {},
   "source": [
    "13. How can you determine the number of axes of a tensor in TensorFlow?"
   ]
  },
  {
   "cell_type": "markdown",
   "id": "78398d0e",
   "metadata": {},
   "source": [
    "We can use the tensor's ndim attribute to output the number of dimensions.\n"
   ]
  },
  {
   "cell_type": "code",
   "execution_count": 7,
   "id": "5e1d200a",
   "metadata": {},
   "outputs": [
    {
     "name": "stdout",
     "output_type": "stream",
     "text": [
      "2\n"
     ]
    }
   ],
   "source": [
    "print(rank_2_tensor.ndim)"
   ]
  },
  {
   "cell_type": "markdown",
   "id": "7bc55154",
   "metadata": {},
   "source": [
    "14. What is the size of a tensor?"
   ]
  },
  {
   "cell_type": "markdown",
   "id": "289eed2a",
   "metadata": {},
   "source": [
    "The size of a tensor is the total number of items it contains. This can be calculated by multiplying each element in teh tensor's shape vector."
   ]
  },
  {
   "cell_type": "markdown",
   "id": "9d395c22",
   "metadata": {},
   "source": [
    "15. How do you calculate the size of a tensor in TensorFlow?"
   ]
  },
  {
   "cell_type": "markdown",
   "id": "aedeaf8c",
   "metadata": {},
   "source": [
    "TensorFlow provides `size()` method that can be used follows:\n"
   ]
  },
  {
   "cell_type": "code",
   "execution_count": 8,
   "id": "e7e37efc",
   "metadata": {},
   "outputs": [
    {
     "name": "stdout",
     "output_type": "stream",
     "text": [
      "9\n"
     ]
    }
   ],
   "source": [
    "print(int(tf.size(rank_2_tensor)))"
   ]
  },
  {
   "cell_type": "markdown",
   "id": "3abf57f5",
   "metadata": {},
   "source": [
    "16. How do you convert a tensor to a NumPy array?"
   ]
  },
  {
   "cell_type": "markdown",
   "id": "8abf222a",
   "metadata": {},
   "source": [
    "There are two methods. We can use `np.array` and `tensor.numpy`."
   ]
  },
  {
   "cell_type": "code",
   "execution_count": 9,
   "id": "1317c808",
   "metadata": {},
   "outputs": [
    {
     "data": {
      "text/plain": [
       "array([[1, 2, 3],\n",
       "       [4, 5, 6],\n",
       "       [7, 8, 9]], dtype=int32)"
      ]
     },
     "execution_count": 9,
     "metadata": {},
     "output_type": "execute_result"
    }
   ],
   "source": [
    "import numpy as np\n",
    "np.array(rank_2_tensor)"
   ]
  },
  {
   "cell_type": "code",
   "execution_count": 10,
   "id": "74c3a8fd",
   "metadata": {},
   "outputs": [
    {
     "data": {
      "text/plain": [
       "array([[1, 2, 3],\n",
       "       [4, 5, 6],\n",
       "       [7, 8, 9]], dtype=int32)"
      ]
     },
     "execution_count": 10,
     "metadata": {},
     "output_type": "execute_result"
    }
   ],
   "source": [
    "rank_2_tensor.numpy()"
   ]
  },
  {
   "cell_type": "markdown",
   "id": "11c781d4",
   "metadata": {},
   "source": [
    "17. How to convert Numpy array to TensorFlow tensor?"
   ]
  },
  {
   "cell_type": "markdown",
   "id": "79d60197",
   "metadata": {},
   "source": [
    "tf.convert_to_tensor()"
   ]
  },
  {
   "cell_type": "markdown",
   "id": "f88351be",
   "metadata": {},
   "source": [
    "18. How do you add tensors?"
   ]
  },
  {
   "cell_type": "markdown",
   "id": "2bc1faf6",
   "metadata": {},
   "source": [
    "We can add with `tf.add` and `+` operator."
   ]
  },
  {
   "cell_type": "code",
   "execution_count": 11,
   "id": "e1acfdfb",
   "metadata": {},
   "outputs": [
    {
     "name": "stdout",
     "output_type": "stream",
     "text": [
      "tf.Tensor(\n",
      "[[ 2  4  6]\n",
      " [ 8 10 12]\n",
      " [14 16 18]], shape=(3, 3), dtype=int32)\n"
     ]
    }
   ],
   "source": [
    "print(tf.add(rank_2_tensor, rank_2_tensor))"
   ]
  },
  {
   "cell_type": "code",
   "execution_count": 12,
   "id": "60b00c13",
   "metadata": {},
   "outputs": [
    {
     "name": "stdout",
     "output_type": "stream",
     "text": [
      "tf.Tensor(\n",
      "[[ 2  4  6]\n",
      " [ 8 10 12]\n",
      " [14 16 18]], shape=(3, 3), dtype=int32)\n"
     ]
    }
   ],
   "source": [
    "print(rank_2_tensor + rank_2_tensor)"
   ]
  },
  {
   "cell_type": "markdown",
   "id": "4dac0456",
   "metadata": {},
   "source": [
    "19. How do you perform element-wise multiplication on tensors?"
   ]
  },
  {
   "cell_type": "markdown",
   "id": "13b386a7",
   "metadata": {},
   "source": [
    "We can use `tf.multiply` method or `*`."
   ]
  },
  {
   "cell_type": "code",
   "execution_count": 21,
   "id": "37d6aa85",
   "metadata": {},
   "outputs": [
    {
     "name": "stdout",
     "output_type": "stream",
     "text": [
      "tf.Tensor([196   1   1], shape=(3,), dtype=int32)\n"
     ]
    }
   ],
   "source": [
    "print(tf.multiply(rank_1_tensor, rank_1_tensor))"
   ]
  },
  {
   "cell_type": "code",
   "execution_count": 22,
   "id": "90f8cd3f",
   "metadata": {},
   "outputs": [
    {
     "name": "stdout",
     "output_type": "stream",
     "text": [
      "tf.Tensor([196   1   1], shape=(3,), dtype=int32)\n"
     ]
    }
   ],
   "source": [
    "print(rank_1_tensor * rank_1_tensor)"
   ]
  },
  {
   "cell_type": "markdown",
   "id": "7f46f5e1",
   "metadata": {},
   "source": [
    "20. How do you multiply matrices in TensorFlow?"
   ]
  },
  {
   "cell_type": "markdown",
   "id": "d5662fe7",
   "metadata": {},
   "source": [
    "we can multiply matrices by using `tf.matmul` or `@` operator."
   ]
  },
  {
   "cell_type": "code",
   "execution_count": 23,
   "id": "2609096c",
   "metadata": {},
   "outputs": [
    {
     "name": "stdout",
     "output_type": "stream",
     "text": [
      "tf.Tensor(\n",
      "[[ 30  36  42]\n",
      " [ 66  81  96]\n",
      " [102 126 150]], shape=(3, 3), dtype=int32)\n"
     ]
    }
   ],
   "source": [
    "print(tf.matmul(rank_2_tensor, rank_2_tensor))"
   ]
  },
  {
   "cell_type": "code",
   "execution_count": 24,
   "id": "88fccedc",
   "metadata": {},
   "outputs": [
    {
     "name": "stdout",
     "output_type": "stream",
     "text": [
      "tf.Tensor(\n",
      "[[ 30  36  42]\n",
      " [ 66  81  96]\n",
      " [102 126 150]], shape=(3, 3), dtype=int32)\n"
     ]
    }
   ],
   "source": [
    "print(rank_2_tensor @ rank_2_tensor)"
   ]
  },
  {
   "cell_type": "markdown",
   "id": "a5aa2364",
   "metadata": {},
   "source": [
    "21. What is eager execution in TensorFlow?"
   ]
  },
  {
   "cell_type": "markdown",
   "id": "afd3b239",
   "metadata": {},
   "source": [
    "Execute opertaions immediately."
   ]
  },
  {
   "cell_type": "markdown",
   "id": "334cc4e3",
   "metadata": {},
   "source": [
    "22. How to get the TensorFlow version?"
   ]
  },
  {
   "cell_type": "code",
   "execution_count": 25,
   "id": "5ce1c859",
   "metadata": {},
   "outputs": [
    {
     "data": {
      "text/plain": [
       "'2.10.0'"
      ]
     },
     "execution_count": 25,
     "metadata": {},
     "output_type": "execute_result"
    }
   ],
   "source": [
    "tf.version.VERSION"
   ]
  },
  {
   "cell_type": "markdown",
   "id": "5be5c3e0",
   "metadata": {},
   "source": [
    "23. What is TensorBoard?\n"
   ]
  },
  {
   "cell_type": "markdown",
   "id": "83a31227",
   "metadata": {},
   "source": [
    "Vizualisation tool for TensorFlow."
   ]
  },
  {
   "cell_type": "markdown",
   "id": "8fd2a236",
   "metadata": {},
   "source": [
    "24. What is the backend of TensorFlow?"
   ]
  },
  {
   "cell_type": "markdown",
   "id": "235f7c6f",
   "metadata": {},
   "source": [
    "Keras"
   ]
  },
  {
   "cell_type": "markdown",
   "id": "535ac526",
   "metadata": {},
   "source": [
    "25. Why Tensorflow uses computational\n",
    "graphs?"
   ]
  },
  {
   "cell_type": "markdown",
   "id": "9c5ece52",
   "metadata": {},
   "source": [
    "Calculations can be done in parallel."
   ]
  }
 ],
 "metadata": {
  "kernelspec": {
   "display_name": "Python 3 (ipykernel)",
   "language": "python",
   "name": "python3"
  },
  "language_info": {
   "codemirror_mode": {
    "name": "ipython",
    "version": 3
   },
   "file_extension": ".py",
   "mimetype": "text/x-python",
   "name": "python",
   "nbconvert_exporter": "python",
   "pygments_lexer": "ipython3",
   "version": "3.10.8"
  }
 },
 "nbformat": 4,
 "nbformat_minor": 5
}
