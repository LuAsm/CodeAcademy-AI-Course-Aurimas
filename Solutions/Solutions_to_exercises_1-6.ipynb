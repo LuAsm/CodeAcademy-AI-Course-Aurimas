{
 "cells": [
  {
   "cell_type": "markdown",
   "id": "38b13bb4-b815-4650-a7e6-9aa1dee3b16c",
   "metadata": {},
   "source": [
    "1. Write a Pandas program to create and display a one-dimensional array-like object containing an array of integers (2,4,6,8,10) using Pandas module."
   ]
  },
  {
   "cell_type": "code",
   "execution_count": 1,
   "id": "3761e34c-bcf1-4344-b2a1-eecd38b89f1c",
   "metadata": {},
   "outputs": [
    {
     "data": {
      "text/plain": [
       "0     2\n",
       "1     4\n",
       "2     6\n",
       "3     8\n",
       "4    10\n",
       "dtype: int64"
      ]
     },
     "execution_count": 1,
     "metadata": {},
     "output_type": "execute_result"
    }
   ],
   "source": [
    "import pandas as pd\n",
    "series = pd.Series([2,4,6,8,10])\n",
    "series"
   ]
  },
  {
   "cell_type": "markdown",
   "id": "1cc52d9d-e347-4d7c-89cb-586ef9df5616",
   "metadata": {},
   "source": [
    "2. Write a Pandas program to add, subtract, multiple and divide two Pandas Series: [2, 4, 6, 8, 10], [1, 3, 5, 7, 9]."
   ]
  },
  {
   "cell_type": "code",
   "execution_count": 7,
   "id": "079fde45-13bb-4231-a943-cdc42a644233",
   "metadata": {},
   "outputs": [
    {
     "data": {
      "text/plain": [
       "0    2.000000\n",
       "1    1.333333\n",
       "2    1.200000\n",
       "3    1.142857\n",
       "4    1.111111\n",
       "dtype: float64"
      ]
     },
     "execution_count": 7,
     "metadata": {},
     "output_type": "execute_result"
    }
   ],
   "source": [
    "import pandas as pd\n",
    "series1 = pd.Series([2, 4, 6, 8, 10])\n",
    "series2 = pd.Series([1, 3, 5, 7, 9])\n",
    "add = series1 + series2\n",
    "add\n",
    "subtract = series1 - series2\n",
    "subtract\n",
    "multiply = series1 * series2\n",
    "multiply\n",
    "division = series1 / series2\n",
    "division\n"
   ]
  },
  {
   "cell_type": "markdown",
   "id": "3fcdee34-e166-4c22-842f-62979fbd9f41",
   "metadata": {},
   "source": [
    "3. Write a Pandas program to compare the elements of the two Pandas Series: [2, 4, 6, 8, 10], [1, 3, 5, 7, 10]."
   ]
  },
  {
   "cell_type": "code",
   "execution_count": 10,
   "id": "6a4c02c3-5491-436c-ad4c-04edf643a635",
   "metadata": {},
   "outputs": [
    {
     "data": {
      "text/plain": [
       "0    True\n",
       "1    True\n",
       "2    True\n",
       "3    True\n",
       "4    True\n",
       "dtype: bool"
      ]
     },
     "execution_count": 10,
     "metadata": {},
     "output_type": "execute_result"
    }
   ],
   "source": [
    "import pandas as pd\n",
    "series1 = pd.Series([2, 4, 6, 8, 10])\n",
    "series2 = pd.Series([1, 3, 5, 7, 9])\n",
    "series1 == series2\n",
    "series1 > series2\n",
    "series2 < series1"
   ]
  },
  {
   "cell_type": "markdown",
   "id": "a5c8c55a-0a77-4d98-9162-ad8408fcadcf",
   "metadata": {},
   "source": [
    "4. Write a Pandas program to convert a NumPy array to a Pandas series."
   ]
  },
  {
   "cell_type": "code",
   "execution_count": 12,
   "id": "c115c138-82d2-48b6-8f8c-9e64ed8fde28",
   "metadata": {},
   "outputs": [
    {
     "data": {
      "text/plain": [
       "0     2\n",
       "1     4\n",
       "2     6\n",
       "3     8\n",
       "4    10\n",
       "dtype: int64"
      ]
     },
     "execution_count": 12,
     "metadata": {},
     "output_type": "execute_result"
    }
   ],
   "source": [
    "import numpy as np\n",
    "import pandas as pd\n",
    "np_array = np.array([2, 4, 6, 8, 10])\n",
    "new_series = pd.Series(np_array)\n",
    "new_series"
   ]
  },
  {
   "cell_type": "markdown",
   "id": "5562fa57-78c4-4fc6-a653-994304625076",
   "metadata": {},
   "source": [
    "5. Write a Pandas program to create and display a DataFrame from a specified dictionary data which has the index labels.\n",
    "\n",
    "Sample DataFrame: <br>\n",
    "exam_data = {'name': ['Anastasia', 'Dima', 'Katherine', 'James', 'Emily', 'Michael', 'Matthew', 'Laura', 'Kevin', 'Jonas'], <br>\n",
    "             'score': [12.5, 9, 16.5, np.nan, 9, 20, 14.5, np.nan, 8, 19], <br>\n",
    "             'attempts': [1, 3, 2, 3, 2, 3, 1, 1, 2, 1], <br>\n",
    "             'qualify': ['yes', 'no', 'yes', 'no', 'no', 'yes', 'yes', 'no', 'no', 'yes']} <br>\n",
    "labels = ['a', 'b', 'c', 'd', 'e', 'f', 'g', 'h', 'i', 'j']"
   ]
  },
  {
   "cell_type": "code",
   "execution_count": 13,
   "id": "e961e6c2-ae0b-4f09-9ab2-880e4aa77b96",
   "metadata": {},
   "outputs": [
    {
     "data": {
      "text/html": [
       "<div>\n",
       "<style scoped>\n",
       "    .dataframe tbody tr th:only-of-type {\n",
       "        vertical-align: middle;\n",
       "    }\n",
       "\n",
       "    .dataframe tbody tr th {\n",
       "        vertical-align: top;\n",
       "    }\n",
       "\n",
       "    .dataframe thead th {\n",
       "        text-align: right;\n",
       "    }\n",
       "</style>\n",
       "<table border=\"1\" class=\"dataframe\">\n",
       "  <thead>\n",
       "    <tr style=\"text-align: right;\">\n",
       "      <th></th>\n",
       "      <th>name</th>\n",
       "      <th>score</th>\n",
       "      <th>attempts</th>\n",
       "      <th>qualify</th>\n",
       "    </tr>\n",
       "  </thead>\n",
       "  <tbody>\n",
       "    <tr>\n",
       "      <th>a</th>\n",
       "      <td>Anastasia</td>\n",
       "      <td>12.5</td>\n",
       "      <td>1</td>\n",
       "      <td>yes</td>\n",
       "    </tr>\n",
       "    <tr>\n",
       "      <th>b</th>\n",
       "      <td>Dima</td>\n",
       "      <td>9.0</td>\n",
       "      <td>3</td>\n",
       "      <td>no</td>\n",
       "    </tr>\n",
       "    <tr>\n",
       "      <th>c</th>\n",
       "      <td>Katherine</td>\n",
       "      <td>16.5</td>\n",
       "      <td>2</td>\n",
       "      <td>yes</td>\n",
       "    </tr>\n",
       "    <tr>\n",
       "      <th>d</th>\n",
       "      <td>James</td>\n",
       "      <td>NaN</td>\n",
       "      <td>3</td>\n",
       "      <td>no</td>\n",
       "    </tr>\n",
       "    <tr>\n",
       "      <th>e</th>\n",
       "      <td>Emily</td>\n",
       "      <td>9.0</td>\n",
       "      <td>2</td>\n",
       "      <td>no</td>\n",
       "    </tr>\n",
       "    <tr>\n",
       "      <th>f</th>\n",
       "      <td>Michael</td>\n",
       "      <td>20.0</td>\n",
       "      <td>3</td>\n",
       "      <td>yes</td>\n",
       "    </tr>\n",
       "    <tr>\n",
       "      <th>g</th>\n",
       "      <td>Matthew</td>\n",
       "      <td>14.5</td>\n",
       "      <td>1</td>\n",
       "      <td>yes</td>\n",
       "    </tr>\n",
       "    <tr>\n",
       "      <th>h</th>\n",
       "      <td>Laura</td>\n",
       "      <td>NaN</td>\n",
       "      <td>1</td>\n",
       "      <td>no</td>\n",
       "    </tr>\n",
       "    <tr>\n",
       "      <th>i</th>\n",
       "      <td>Kevin</td>\n",
       "      <td>8.0</td>\n",
       "      <td>2</td>\n",
       "      <td>no</td>\n",
       "    </tr>\n",
       "    <tr>\n",
       "      <th>j</th>\n",
       "      <td>Jonas</td>\n",
       "      <td>19.0</td>\n",
       "      <td>1</td>\n",
       "      <td>yes</td>\n",
       "    </tr>\n",
       "  </tbody>\n",
       "</table>\n",
       "</div>"
      ],
      "text/plain": [
       "        name  score  attempts qualify\n",
       "a  Anastasia   12.5         1     yes\n",
       "b       Dima    9.0         3      no\n",
       "c  Katherine   16.5         2     yes\n",
       "d      James    NaN         3      no\n",
       "e      Emily    9.0         2      no\n",
       "f    Michael   20.0         3     yes\n",
       "g    Matthew   14.5         1     yes\n",
       "h      Laura    NaN         1      no\n",
       "i      Kevin    8.0         2      no\n",
       "j      Jonas   19.0         1     yes"
      ]
     },
     "execution_count": 13,
     "metadata": {},
     "output_type": "execute_result"
    }
   ],
   "source": [
    "import numpy as np\n",
    "import pandas as pd\n",
    "exam_data = {'name': ['Anastasia', 'Dima', 'Katherine', 'James', 'Emily', 'Michael', 'Matthew', 'Laura', 'Kevin', 'Jonas'],\n",
    "    'score': [12.5, 9, 16.5, np.nan, 9, 20, 14.5, np.nan, 8, 19],\n",
    "    'attempts': [1, 3, 2, 3, 2, 3, 1, 1, 2, 1],\n",
    "    'qualify': ['yes', 'no', 'yes', 'no', 'no', 'yes', 'yes', 'no', 'no', 'yes']}\n",
    "labels = ['a', 'b', 'c', 'd', 'e', 'f', 'g', 'h', 'i', 'j']\n",
    "df = pd.DataFrame(exam_data, index=labels)\n",
    "df\n"
   ]
  },
  {
   "cell_type": "markdown",
   "id": "966609c0-94f1-4ff2-8fd8-f4102bb973c1",
   "metadata": {},
   "source": [
    "6. Write a Pandas program to convert index of a given dataframe into a column. \n",
    "Note: not taught yet, so will you figure it out?\n",
    "Test Data: <br>\n",
    "<br>\n",
    "0        s001     V  Alberto Franco     15/05/2002      35  street1   t1<br>\n",
    "1        s002     V    Gino Mcneill     17/05/2002      32  street2   t2<br>\n",
    "2        s003    VI     Ryan Parkes     16/02/1999      33  street3   t3<br>\n",
    "3        s001    VI    Eesha Hinton     25/09/1998      30  street1   t4<br>\n",
    "4        s002     V    Gino Mcneill     11/05/2002      31  street2   t5<br>\n",
    "5        s004    VI    David Parkes     15/09/1997      32  street4   t6<br>"
   ]
  },
  {
   "cell_type": "markdown",
   "id": "83054f82-f496-4c6b-aba4-5c76c83e85e9",
   "metadata": {},
   "source": [
    "<b> Solution will be shown on Tuesday (22/11/2022) @ the lecture first thing </b>"
   ]
  },
  {
   "cell_type": "code",
   "execution_count": null,
   "id": "eaadb914-0f0d-4f8b-93c4-bca0c800ecbd",
   "metadata": {},
   "outputs": [],
   "source": []
  }
 ],
 "metadata": {
  "kernelspec": {
   "display_name": "Python 3 (ipykernel)",
   "language": "python",
   "name": "python3"
  },
  "language_info": {
   "codemirror_mode": {
    "name": "ipython",
    "version": 3
   },
   "file_extension": ".py",
   "mimetype": "text/x-python",
   "name": "python",
   "nbconvert_exporter": "python",
   "pygments_lexer": "ipython3",
   "version": "3.8.11"
  }
 },
 "nbformat": 4,
 "nbformat_minor": 5
}
