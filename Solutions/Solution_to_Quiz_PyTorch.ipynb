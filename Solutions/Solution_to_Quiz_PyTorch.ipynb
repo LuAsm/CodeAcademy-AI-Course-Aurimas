{
 "cells": [
  {
   "cell_type": "code",
   "execution_count": 25,
   "id": "50431f3c",
   "metadata": {},
   "outputs": [],
   "source": [
    "import torch"
   ]
  },
  {
   "cell_type": "markdown",
   "id": "0dbdb397",
   "metadata": {},
   "source": [
    "1. What is PyTorch?"
   ]
  },
  {
   "cell_type": "markdown",
   "id": "eec766f8",
   "metadata": {},
   "source": [
    "PyTorch is a depp learning framework that is popular for its ease of use and flexibility. It is used for both for both research and production purposes and has adopted by many companies"
   ]
  },
  {
   "cell_type": "markdown",
   "id": "dd25f078",
   "metadata": {},
   "source": [
    "2. Can you explain why a GPU is preferred over CPU for deep learning applications?"
   ]
  },
  {
   "cell_type": "markdown",
   "id": "562d3381",
   "metadata": {},
   "source": [
    "A GPU is preferred ove  a CPU for deep learning applciations because it is able to process a large number of matrix operations very quickly. This is important for deep learning because it allows for faster training of the models."
   ]
  },
  {
   "cell_type": "markdown",
   "id": "7beaa3e3",
   "metadata": {},
   "source": [
    "3. How do you define a tensor in PyTorch?"
   ]
  },
  {
   "cell_type": "markdown",
   "id": "a6ef2cef",
   "metadata": {},
   "source": [
    "A tensor is a multi-dimensional array used for numerical computation in PyTorch. Tensors can be created from Python lists or tuples using torch.Tensor() function."
   ]
  },
  {
   "cell_type": "markdown",
   "id": "ecfb438c",
   "metadata": {},
   "source": [
    "4. What’s the difference between nn and nn.functional modules in PyTorch?"
   ]
  },
  {
   "cell_type": "markdown",
   "id": "c9482d17",
   "metadata": {},
   "source": [
    "The nn module in PyTorch is for building neural networks, and the nn.funtional module contains a numebr of functionsn for working with neural networks. The main difference is that the nn module provides a higher-level API for working with neural networks while nn.funtional module provides more low-level functions."
   ]
  },
  {
   "cell_type": "markdown",
   "id": "17092d42",
   "metadata": {},
   "source": [
    "5. When should we use CUDA or multi-processing with PyTorch?"
   ]
  },
  {
   "cell_type": "markdown",
   "id": "bec51ffd",
   "metadata": {},
   "source": [
    "CUDA is used for trainign on GPUs while multi-pre]ocessing is used for training on mulptiple CPU."
   ]
  },
  {
   "cell_type": "markdown",
   "id": "63c6254e",
   "metadata": {},
   "source": [
    "6. What are the advantages of using PyTorch over NumPy?"
   ]
  },
  {
   "cell_type": "markdown",
   "id": "5a33bd87",
   "metadata": {},
   "source": [
    "PyTorch is a deep learnign framework that is built on top of NumPy. It provides a higher level of abstraction than NumPy and can be used for tasks such as building neural netwroks and training models. PyTorch also supports CUDA that allows it run Oon GPUs for faster perfromance."
   ]
  },
  {
   "cell_type": "markdown",
   "id": "d0463983",
   "metadata": {},
   "source": [
    "7. Create a random torch array of dimension 3 * 4"
   ]
  },
  {
   "cell_type": "code",
   "execution_count": 3,
   "id": "86e7b4a5",
   "metadata": {},
   "outputs": [
    {
     "data": {
      "text/plain": [
       "tensor([[ 0.5212, -0.2051, -0.9753, -0.1608],\n",
       "        [-0.9175, -1.1140,  1.5281, -1.3655],\n",
       "        [-0.4171, -0.0542, -0.3036,  0.7887]])"
      ]
     },
     "execution_count": 3,
     "metadata": {},
     "output_type": "execute_result"
    }
   ],
   "source": [
    "torch.randn(3,4)\n"
   ]
  },
  {
   "cell_type": "markdown",
   "id": "1542e0f7",
   "metadata": {},
   "source": [
    "8. View array x in 4 * 4 dimensions"
   ]
  },
  {
   "cell_type": "markdown",
   "id": "daaa3a68",
   "metadata": {},
   "source": [
    "x.view(4, 4)"
   ]
  },
  {
   "cell_type": "markdown",
   "id": "fc891189",
   "metadata": {},
   "source": [
    "9. Check the size of `a` torch tensor"
   ]
  },
  {
   "cell_type": "markdown",
   "id": "7bb24805",
   "metadata": {},
   "source": [
    "a.size()"
   ]
  },
  {
   "cell_type": "markdown",
   "id": "a214beda",
   "metadata": {},
   "source": [
    "10. Convert from torch tensor to numpy"
   ]
  },
  {
   "cell_type": "code",
   "execution_count": 4,
   "id": "d793462e",
   "metadata": {},
   "outputs": [
    {
     "data": {
      "text/plain": [
       "array([[ 0.6128575 , -0.25903326, -0.20797499, -0.69383514],\n",
       "       [-0.45672116, -0.09171169, -0.23421119, -1.3411856 ],\n",
       "       [-1.9975188 ,  0.47887117,  2.1304028 , -0.04503021],\n",
       "       [-0.5867677 ,  1.6330622 ,  0.93262964,  0.15035692],\n",
       "       [-1.0494136 , -1.4439491 ,  0.11017434,  0.37217644]],\n",
       "      dtype=float32)"
      ]
     },
     "execution_count": 4,
     "metadata": {},
     "output_type": "execute_result"
    }
   ],
   "source": [
    "a = torch.randn(5, 4)\n",
    "b = a.numpy()\n",
    "b\n"
   ]
  },
  {
   "cell_type": "markdown",
   "id": "9dedd81c",
   "metadata": {},
   "source": [
    "11. Convert from numpy to torch tensor"
   ]
  },
  {
   "cell_type": "code",
   "execution_count": 5,
   "id": "76a8904f",
   "metadata": {},
   "outputs": [
    {
     "data": {
      "text/plain": [
       "tensor([[ 0.6129, -0.2590, -0.2080, -0.6938],\n",
       "        [-0.4567, -0.0917, -0.2342, -1.3412],\n",
       "        [-1.9975,  0.4789,  2.1304, -0.0450],\n",
       "        [-0.5868,  1.6331,  0.9326,  0.1504],\n",
       "        [-1.0494, -1.4439,  0.1102,  0.3722]])"
      ]
     },
     "execution_count": 5,
     "metadata": {},
     "output_type": "execute_result"
    }
   ],
   "source": [
    "c = torch.from_numpy(b)\n",
    "c\n"
   ]
  },
  {
   "cell_type": "markdown",
   "id": "8c11ba33",
   "metadata": {},
   "source": [
    "12. Check if CUDA and GPU are available"
   ]
  },
  {
   "cell_type": "code",
   "execution_count": 7,
   "id": "808c93db",
   "metadata": {},
   "outputs": [
    {
     "data": {
      "text/plain": [
       "False"
      ]
     },
     "execution_count": 7,
     "metadata": {},
     "output_type": "execute_result"
    }
   ],
   "source": [
    "torch.cuda.is_available()"
   ]
  },
  {
   "cell_type": "markdown",
   "id": "bcd67f7b",
   "metadata": {},
   "source": [
    "13. Create a variable x in PyTorch, whose grad will be tracked"
   ]
  },
  {
   "cell_type": "code",
   "execution_count": 10,
   "id": "289b3aa6",
   "metadata": {},
   "outputs": [
    {
     "data": {
      "text/plain": [
       "tensor([2.], requires_grad=True)"
      ]
     },
     "execution_count": 10,
     "metadata": {},
     "output_type": "execute_result"
    }
   ],
   "source": [
    "from torch.autograd import Variable\n",
    "\n",
    "x = Variable(torch.Tensor([2]), requires_grad = True)\n",
    "x\n"
   ]
  },
  {
   "cell_type": "markdown",
   "id": "793043b5",
   "metadata": {},
   "source": [
    "14. Create tensor with [2, 3], [4, 8]"
   ]
  },
  {
   "cell_type": "code",
   "execution_count": 13,
   "id": "b0dd012d",
   "metadata": {},
   "outputs": [
    {
     "data": {
      "text/plain": [
       "tensor([[2., 3.],\n",
       "        [4., 8.]])"
      ]
     },
     "execution_count": 13,
     "metadata": {},
     "output_type": "execute_result"
    }
   ],
   "source": [
    "torch.Tensor([[2, 3], [4, 8]])\n"
   ]
  },
  {
   "cell_type": "markdown",
   "id": "48039d87",
   "metadata": {},
   "source": [
    "15. Create a torch Variable using a"
   ]
  },
  {
   "cell_type": "code",
   "execution_count": 15,
   "id": "f3eb4ba3",
   "metadata": {},
   "outputs": [
    {
     "data": {
      "text/plain": [
       "tensor([[ 0.6129, -0.2590, -0.2080, -0.6938],\n",
       "        [-0.4567, -0.0917, -0.2342, -1.3412],\n",
       "        [-1.9975,  0.4789,  2.1304, -0.0450],\n",
       "        [-0.5868,  1.6331,  0.9326,  0.1504],\n",
       "        [-1.0494, -1.4439,  0.1102,  0.3722]], requires_grad=True)"
      ]
     },
     "execution_count": 15,
     "metadata": {},
     "output_type": "execute_result"
    }
   ],
   "source": [
    "Variable(a, requires_grad = True)\n"
   ]
  },
  {
   "cell_type": "markdown",
   "id": "7f473f56",
   "metadata": {},
   "source": [
    "16. Three steps of backward propagation"
   ]
  },
  {
   "cell_type": "markdown",
   "id": "2776276a",
   "metadata": {},
   "source": [
    "optimizer.zero_grad()\n",
    "\n",
    "loss.backward()\n",
    "\n",
    "optimizer.step()"
   ]
  },
  {
   "cell_type": "markdown",
   "id": "292aace8",
   "metadata": {},
   "source": [
    "17. Two ways to saving PyTorch models"
   ]
  },
  {
   "cell_type": "markdown",
   "id": "07d5d607",
   "metadata": {},
   "source": [
    "torch.save(model, pathname)\n",
    "\n",
    "torch.save(model.state_dict(), pathname)"
   ]
  },
  {
   "cell_type": "markdown",
   "id": "1c277c7f",
   "metadata": {},
   "source": [
    "18. Two ways to load PyTorch models"
   ]
  },
  {
   "cell_type": "markdown",
   "id": "041cceab",
   "metadata": {},
   "source": [
    "#### load the model\n",
    "\n",
    "load_model = torch.load('model.path')\n",
    "\n",
    "#### load the aprameters\n",
    "\n",
    "model.load_state_dic(torch.load('model_state.path'))"
   ]
  },
  {
   "cell_type": "markdown",
   "id": "901a6dcb",
   "metadata": {},
   "source": [
    "19. Set default dtype of PyTorch to torch.float64"
   ]
  },
  {
   "cell_type": "code",
   "execution_count": 21,
   "id": "34f4d3cf",
   "metadata": {},
   "outputs": [],
   "source": [
    "torch.set_default_dtype(torch.float64)\n"
   ]
  },
  {
   "cell_type": "markdown",
   "id": "1d8a394b",
   "metadata": {},
   "source": [
    "20. Write default type of nn.layers"
   ]
  },
  {
   "cell_type": "code",
   "execution_count": 22,
   "id": "43536747",
   "metadata": {},
   "outputs": [
    {
     "data": {
      "text/plain": [
       "torch.float32"
      ]
     },
     "execution_count": 22,
     "metadata": {},
     "output_type": "execute_result"
    }
   ],
   "source": [
    "torch.float32\n"
   ]
  },
  {
   "cell_type": "markdown",
   "id": "9f9e8d4d",
   "metadata": {},
   "source": [
    "21. Write matrix multiplication x with w"
   ]
  },
  {
   "cell_type": "markdown",
   "id": "ec140a7e",
   "metadata": {},
   "source": [
    "x.mm(w)"
   ]
  },
  {
   "cell_type": "markdown",
   "id": "136dcdbc",
   "metadata": {},
   "source": [
    "22. Use numpy data in PyTorch"
   ]
  },
  {
   "cell_type": "markdown",
   "id": "734e326e",
   "metadata": {},
   "source": [
    "1. Need to convert numpy data to Torch Tensor.\n",
    "2. Need to convert Torch.Tensor to Variablebefore using it in the graph."
   ]
  },
  {
   "cell_type": "markdown",
   "id": "14896dfd",
   "metadata": {},
   "source": [
    "23. Concatenate torch tensors in a particular direction"
   ]
  },
  {
   "cell_type": "markdown",
   "id": "a6952229",
   "metadata": {},
   "source": [
    "torch.cat(, directions = 0 or 1)"
   ]
  },
  {
   "cell_type": "markdown",
   "id": "dcd8fda9",
   "metadata": {},
   "source": [
    "24. Convert tensor size from 3 to (3, 1)"
   ]
  },
  {
   "cell_type": "code",
   "execution_count": 24,
   "id": "1323a66b",
   "metadata": {},
   "outputs": [
    {
     "data": {
      "text/plain": [
       "tensor([[3],\n",
       "        [2],\n",
       "        [1]])"
      ]
     },
     "execution_count": 24,
     "metadata": {},
     "output_type": "execute_result"
    }
   ],
   "source": [
    "x = torch.tensor([3, 2, 1])\n",
    "torch.unsqueeze(x, 1)\n"
   ]
  },
  {
   "cell_type": "markdown",
   "id": "d493dba7",
   "metadata": {},
   "source": [
    "25. What are the main differences between Tensorflow and PyTorch?"
   ]
  },
  {
   "cell_type": "markdown",
   "id": "79091a64",
   "metadata": {},
   "source": [
    "The main differences between TensorFlow and PyTorch are the following:\n",
    "\n",
    "- TensorFlow is a more low-level library providing more flexibility for developers but also requiring more time and effort to really get the most of it. PyTorch, on the other hand, is much more intuitive and easy to use.\n",
    "- TensorFlow also supports better the distributed training while PyTorch is better for research and experimentation due to its speed in dynamic computational graph."
   ]
  }
 ],
 "metadata": {
  "kernelspec": {
   "display_name": "Python 3 (ipykernel)",
   "language": "python",
   "name": "python3"
  },
  "language_info": {
   "codemirror_mode": {
    "name": "ipython",
    "version": 3
   },
   "file_extension": ".py",
   "mimetype": "text/x-python",
   "name": "python",
   "nbconvert_exporter": "python",
   "pygments_lexer": "ipython3",
   "version": "3.9.15"
  }
 },
 "nbformat": 4,
 "nbformat_minor": 5
}
