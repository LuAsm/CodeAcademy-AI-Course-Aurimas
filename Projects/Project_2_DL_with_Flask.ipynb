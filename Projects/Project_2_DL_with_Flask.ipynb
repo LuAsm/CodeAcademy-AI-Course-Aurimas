{
  "cells": [
    {
      "cell_type": "markdown",
      "metadata": {
        "id": "h8IKeuxLQl6Y",
        "pycharm": {
          "name": "#%% md\n"
        }
      },
      "source": [
        "<a href=\"https://colab.research.google.com/github/aurimas13/CodeAcademy-AI-Course/blob/main/Projects/Project_2_DL_with_Flask.ipynb\" target=\"_parent\"><img src=\"https://colab.research.google.com/assets/colab-badge.svg\" alt=\"Open In Colab\"/></a>"
      ]
    },
    {
      "cell_type": "markdown",
      "metadata": {
        "id": "MBku_roIbAf6",
        "pycharm": {
          "name": "#%% md\n"
        }
      },
      "source": [
        "# <b> Installations </b>\n",
        "\n",
        "\n",
        "\n"
      ]
    },
    {
      "cell_type": "markdown",
      "metadata": {
        "id": "We4SBEHka5SL",
        "pycharm": {
          "name": "#%% md\n"
        }
      },
      "source": [
        "# <b> Imports </b>\n"
      ]
    },
    {
      "cell_type": "code",
      "execution_count": null,
      "metadata": {
        "vscode": {
          "languageId": "plaintext"
        }
      },
      "outputs": [],
      "source": []
    },
    {
      "cell_type": "markdown",
      "metadata": {
        "id": "3IPfMeoacMwn",
        "pycharm": {
          "name": "#%% md\n"
        }
      },
      "source": [
        "# <b> Loading data </b>"
      ]
    },
    {
      "cell_type": "markdown",
      "metadata": {
        "id": "KvadF6zsh4xj",
        "pycharm": {
          "name": "#%% md\n"
        }
      },
      "source": [
        "# <b> Exploratory Data Analysis </b>"
      ]
    },
    {
      "cell_type": "markdown",
      "metadata": {
        "id": "t12usPlec0SL",
        "pycharm": {
          "name": "#%% md\n"
        }
      },
      "source": [
        "# <b> Data Preprocessing </b>\n"
      ]
    },
    {
      "cell_type": "markdown",
      "metadata": {
        "id": "ZC5q-gRDI8wD"
      },
      "source": [
        "# <b> Splitting Data </b>"
      ]
    },
    {
      "cell_type": "markdown",
      "metadata": {
        "id": "eSEnVwimdtQY",
        "pycharm": {
          "name": "#%% md\n"
        }
      },
      "source": [
        "# <b> 1<sup>st</sup> model </b>\n"
      ]
    },
    {
      "cell_type": "markdown",
      "metadata": {
        "id": "hqh3SXMDebzj",
        "pycharm": {
          "name": "#%% md\n"
        }
      },
      "source": [
        "## *Neural Net Architecture*"
      ]
    },
    {
      "cell_type": "markdown",
      "metadata": {
        "id": "ob_A6ya9fBNN",
        "pycharm": {
          "name": "#%% md\n"
        }
      },
      "source": [
        "## *Hyperparameters*\n",
        "\n"
      ]
    },
    {
      "cell_type": "markdown",
      "metadata": {
        "id": "5jWhltBefLZ7",
        "pycharm": {
          "name": "#%% md\n"
        }
      },
      "source": [
        "## *Conversion*"
      ]
    },
    {
      "cell_type": "markdown",
      "metadata": {
        "id": "qrlR16oRflFo",
        "pycharm": {
          "name": "#%% md\n"
        }
      },
      "source": [
        "## *Initialize Net & Define Loss with Optimizer*"
      ]
    },
    {
      "cell_type": "markdown",
      "metadata": {
        "id": "jov10Ma7f_Cp",
        "pycharm": {
          "name": "#%% md\n"
        }
      },
      "source": [
        "## *Training and Testing*"
      ]
    },
    {
      "cell_type": "markdown",
      "metadata": {
        "id": "DU7JhhNogPAU",
        "pycharm": {
          "name": "#%% md\n"
        }
      },
      "source": [
        "## *Evaluation*"
      ]
    },
    {
      "cell_type": "markdown",
      "metadata": {
        "id": "VMVckfB4g5YA",
        "pycharm": {
          "name": "#%% md\n"
        }
      },
      "source": [
        "# <b> 2<sup>nd</sup> model (Optional) </b>"
      ]
    },
    {
      "cell_type": "markdown",
      "metadata": {
        "id": "o8JObuI0mgf_",
        "pycharm": {
          "name": "#%% md\n"
        }
      },
      "source": [
        "# <b> 3<sup>rd</sup> model (Optional) </b>\n"
      ]
    },
    {
      "cell_type": "markdown",
      "metadata": {
        "id": "X0nqt1OlzYtZ",
        "pycharm": {
          "name": "#%% md\n"
        }
      },
      "source": [
        "# <b> Comparing all 3 models (Optional) </b>"
      ]
    },
    {
      "cell_type": "markdown",
      "metadata": {
        "id": "ZToulkkYKOUS"
      },
      "source": [
        "# <b> Summary of Different Model Performances (Optional) </b>\n"
      ]
    },
    {
      "cell_type": "markdown",
      "metadata": {
        "id": "piVXpvXQGOrW",
        "pycharm": {
          "name": "#%% md\n"
        }
      },
      "source": [
        "# <b> Tuning model </b>\n"
      ]
    },
    {
      "cell_type": "markdown",
      "metadata": {
        "id": "BNqzznfWOY1u",
        "pycharm": {
          "name": "#%% md\n"
        }
      },
      "source": [
        "# <b> Comparing tuned model </b>"
      ]
    },
    {
      "cell_type": "markdown",
      "metadata": {
        "id": "llNSpMzNi2ka",
        "pycharm": {
          "name": "#%% md\n"
        }
      },
      "source": [
        "# <b> Conclusion </b>"
      ]
    },
    {
      "cell_type": "markdown",
      "metadata": {
        "id": "uS9tNFBOajk6",
        "pycharm": {
          "name": "#%% md\n"
        }
      },
      "source": [
        "# <b> Save the model </b>"
      ]
    }
  ],
  "metadata": {
    "accelerator": "GPU",
    "colab": {
      "machine_shape": "hm",
      "provenance": []
    },
    "gpuClass": "standard",
    "kernelspec": {
      "display_name": "Python 3 (ipykernel)",
      "language": "python",
      "name": "python3"
    },
    "language_info": {
      "codemirror_mode": {
        "name": "ipython",
        "version": 3
      },
      "file_extension": ".py",
      "mimetype": "text/x-python",
      "name": "python",
      "nbconvert_exporter": "python",
      "pygments_lexer": "ipython3",
      "version": "3.9.15"
    }
  },
  "nbformat": 4,
  "nbformat_minor": 0
}
