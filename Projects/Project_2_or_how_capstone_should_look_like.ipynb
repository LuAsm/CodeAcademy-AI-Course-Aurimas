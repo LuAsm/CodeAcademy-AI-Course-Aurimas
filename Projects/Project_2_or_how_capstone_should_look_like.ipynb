{
  "cells": [
    {
      "cell_type": "markdown",
      "metadata": {
        "id": "h8IKeuxLQl6Y",
        "pycharm": {
          "name": "#%% md\n"
        }
      },
      "source": [
        "<a href=\"https://colab.research.google.com/github/aurimas13/CodeAcademy-AI-Course/blob/main/Projects/Project_2_or_how_capstone_should_look_like.ipynb\" target=\"_parent\"><img src=\"https://colab.research.google.com/assets/colab-badge.svg\" alt=\"Open In Colab\"/></a>\n"
      ]
    },
    {
      "cell_type": "markdown",
      "metadata": {
        "id": "MBku_roIbAf6",
        "pycharm": {
          "name": "#%% md\n"
        }
      },
      "source": [
        "# <b> Installations </b>\n",
        "\n",
        "Using the `pmdarima` packages for time series forecasting. To install these packages, run the following commands:\n",
        "\n"
      ]
    },
    {
      "cell_type": "code",
      "execution_count": null,
      "metadata": {
        "id": "2KxY4QtMbFTZ",
        "pycharm": {
          "name": "#%%\n"
        }
      },
      "outputs": [],
      "source": [
        "!pip install pmdarima\n",
        "!pip install pickle5"
      ]
    },
    {
      "cell_type": "markdown",
      "metadata": {
        "id": "We4SBEHka5SL",
        "pycharm": {
          "name": "#%% md\n"
        }
      },
      "source": [
        "# <b> Imports </b>\n",
        "\n",
        "Importing several libraries and packages to perform time series forecasting and data analysis. "
      ]
    },
    {
      "cell_type": "code",
      "execution_count": 40,
      "metadata": {
        "id": "kzbFVkZRa1Fy",
        "pycharm": {
          "name": "#%%\n"
        }
      },
      "outputs": [],
      "source": [
        "import warnings\n",
        "import logging\n",
        "import numpy as np\n",
        "import pandas as pd\n",
        "import seaborn as sns\n",
        "import matplotlib.pyplot as plt\n",
        "import torch\n",
        "import torch.nn as nn\n",
        "import random\n",
        "import requests\n",
        "import pickle\n",
        "from torch.utils.data import DataLoader, TensorDataset\n",
        "from sklearn.preprocessing import StandardScaler\n",
        "from sklearn.metrics import mean_squared_error, mean_absolute_error\n",
        "from statsmodels.tsa.arima.model import ARIMA\n",
        "from pmdarima import auto_arima\n",
        "\n",
        "# Disable warnings and set logger level\n",
        "warnings.filterwarnings(\"ignore\")\n",
        "logging.getLogger(\"cmdstanpy\").setLevel(logging.WARNING)\n",
        "\n",
        "# Set the default figure size\n",
        "plt.rcParams['figure.figsize'] = (20, 12)\n"
      ]
    },
    {
      "cell_type": "markdown",
      "metadata": {
        "id": "3IPfMeoacMwn",
        "pycharm": {
          "name": "#%% md\n"
        }
      },
      "source": [
        "# <b> Loading data </b>\n",
        "\n",
        "Loading two separate datasets of Revenue and Weather from an Excel file hosted on GitHub."
      ]
    },
    {
      "cell_type": "code",
      "execution_count": 41,
      "metadata": {
        "id": "08fxA5sxbdSF",
        "pycharm": {
          "name": "#%%\n"
        }
      },
      "outputs": [],
      "source": [
        "url = \"https://github.com/aurimas13/CodeAcademy-AI-Course/blob/main/Datasets/Revenue_Prognosis.xlsx?raw=True\"\n",
        "revenue_data = pd.read_excel(url, sheet_name='Revenue', parse_dates=['Date'], engine='openpyxl')\n",
        "weather_data = pd.read_excel(url, sheet_name='Weather', parse_dates=['dt'], engine='openpyxl')"
      ]
    },
    {
      "cell_type": "markdown",
      "metadata": {
        "id": "KvadF6zsh4xj",
        "pycharm": {
          "name": "#%% md\n"
        }
      },
      "source": [
        "# <b> Exploratory Data Analysis </b>"
      ]
    },
    {
      "cell_type": "markdown",
      "metadata": {
        "id": "GuTznuKakurD",
        "pycharm": {
          "name": "#%% md\n"
        }
      },
      "source": [
        "1. Display the first few rows of the datasets:"
      ]
    },
    {
      "cell_type": "code",
      "execution_count": 42,
      "metadata": {
        "colab": {
          "base_uri": "https://localhost:8080/"
        },
        "id": "4RooMfrOh-lS",
        "outputId": "1062b58e-a4b2-449d-e811-55e53fdf5d68",
        "pycharm": {
          "name": "#%%\n"
        }
      },
      "outputs": [
        {
          "output_type": "stream",
          "name": "stdout",
          "text": [
            "Revenue Data:\n",
            "        Date     Revenue\n",
            "0 2018-01-01        0.00\n",
            "1 2018-01-02        0.00\n",
            "2 2018-01-03  3087464.68\n",
            "3 2018-01-04  2770763.36\n",
            "4 2018-01-05        0.00\n",
            "\n",
            "Weather Data:\n",
            "       time  temperature  dew_point  humidity wind  wind_speed  pressure  \\\n",
            "0  00:20:00            0          0       1.0    S          11       982   \n",
            "1  00:50:00            0          0       1.0    S          14       983   \n",
            "2  01:20:00            0          0       1.0    S          11       982   \n",
            "3  01:50:00            0          0       1.0    S          14       982   \n",
            "4  02:20:00            0          0       1.0    S          14       981   \n",
            "\n",
            "   precipitation      condition         dt  \n",
            "0              0           Mist 2018-01-01  \n",
            "1              0           Mist 2018-01-01  \n",
            "2              0           Mist 2018-01-01  \n",
            "3              0  Mostly Cloudy 2018-01-01  \n",
            "4              0     Light Rain 2018-01-01  \n"
          ]
        }
      ],
      "source": [
        "print(\"Revenue Data:\")\n",
        "print(revenue_data.head())\n",
        "print(\"\\nWeather Data:\")\n",
        "print(weather_data.head())"
      ]
    },
    {
      "cell_type": "markdown",
      "metadata": {
        "id": "fgDiASrHk0vv",
        "pycharm": {
          "name": "#%% md\n"
        }
      },
      "source": [
        "2. Examine the dataset shape, column types, and missing values:"
      ]
    },
    {
      "cell_type": "code",
      "execution_count": 43,
      "metadata": {
        "colab": {
          "base_uri": "https://localhost:8080/"
        },
        "id": "KzAAcq3Xk0_h",
        "outputId": "d0eaf6d8-7f82-4d65-8ffe-247f016edb0c",
        "pycharm": {
          "name": "#%%\n"
        }
      },
      "outputs": [
        {
          "output_type": "stream",
          "name": "stdout",
          "text": [
            "Revenue Data Info:\n",
            "<class 'pandas.core.frame.DataFrame'>\n",
            "RangeIndex: 1749 entries, 0 to 1748\n",
            "Data columns (total 2 columns):\n",
            " #   Column   Non-Null Count  Dtype         \n",
            "---  ------   --------------  -----         \n",
            " 0   Date     1749 non-null   datetime64[ns]\n",
            " 1   Revenue  1749 non-null   float64       \n",
            "dtypes: datetime64[ns](1), float64(1)\n",
            "memory usage: 27.5 KB\n",
            "None\n",
            "\n",
            "Weather Data Info:\n",
            "<class 'pandas.core.frame.DataFrame'>\n",
            "RangeIndex: 86990 entries, 0 to 86989\n",
            "Data columns (total 10 columns):\n",
            " #   Column         Non-Null Count  Dtype         \n",
            "---  ------         --------------  -----         \n",
            " 0   time           86990 non-null  object        \n",
            " 1   temperature    86990 non-null  int64         \n",
            " 2   dew_point      86990 non-null  int64         \n",
            " 3   humidity       86990 non-null  float64       \n",
            " 4   wind           86990 non-null  object        \n",
            " 5   wind_speed     86990 non-null  int64         \n",
            " 6   pressure       86990 non-null  int64         \n",
            " 7   precipitation  86990 non-null  int64         \n",
            " 8   condition      86990 non-null  object        \n",
            " 9   dt             86990 non-null  datetime64[ns]\n",
            "dtypes: datetime64[ns](1), float64(1), int64(5), object(3)\n",
            "memory usage: 6.6+ MB\n",
            "None\n"
          ]
        }
      ],
      "source": [
        "print(\"Revenue Data Info:\")\n",
        "print(revenue_data.info())\n",
        "print(\"\\nWeather Data Info:\")\n",
        "print(weather_data.info())\n"
      ]
    },
    {
      "cell_type": "markdown",
      "metadata": {
        "id": "BP3yL62ek1Hq",
        "pycharm": {
          "name": "#%% md\n"
        }
      },
      "source": [
        "3. Calculate and display summary statistics:\n"
      ]
    },
    {
      "cell_type": "code",
      "execution_count": 44,
      "metadata": {
        "colab": {
          "base_uri": "https://localhost:8080/"
        },
        "id": "aQCbXMgQk1QE",
        "outputId": "ff5fe83f-e344-42b3-f19b-2fca6d508d94",
        "pycharm": {
          "name": "#%%\n"
        }
      },
      "outputs": [
        {
          "output_type": "stream",
          "name": "stdout",
          "text": [
            "Revenue Data Summary Statistics:\n",
            "            Revenue\n",
            "count  1.749000e+03\n",
            "mean   6.376979e+08\n",
            "std    2.644243e+10\n",
            "min    0.000000e+00\n",
            "25%    3.269451e+06\n",
            "50%    5.059526e+06\n",
            "75%    7.218968e+06\n",
            "max    1.105855e+12\n",
            "\n",
            "Weather Data Summary Statistics:\n",
            "        temperature     dew_point      humidity    wind_speed      pressure  \\\n",
            "count  86990.000000  86990.000000  86990.000000  86990.000000  86990.000000   \n",
            "mean       7.880251      3.722911      0.779709     13.511185    992.038694   \n",
            "std        9.178441      7.727982      0.192704      7.444308      9.052114   \n",
            "min     -237.000000    -25.000000      0.150000      0.000000    952.000000   \n",
            "25%        1.000000     -1.000000      0.650000      9.000000    987.000000   \n",
            "50%        7.000000      3.000000      0.850000     12.000000    993.000000   \n",
            "75%       15.000000     10.000000      0.930000     19.000000    998.000000   \n",
            "max      340.000000     22.000000      1.000000     49.000000   1024.000000   \n",
            "\n",
            "       precipitation  \n",
            "count        86990.0  \n",
            "mean             0.0  \n",
            "std              0.0  \n",
            "min              0.0  \n",
            "25%              0.0  \n",
            "50%              0.0  \n",
            "75%              0.0  \n",
            "max              0.0  \n"
          ]
        }
      ],
      "source": [
        "print(\"Revenue Data Summary Statistics:\")\n",
        "print(revenue_data.describe())\n",
        "print(\"\\nWeather Data Summary Statistics:\")\n",
        "print(weather_data.describe())"
      ]
    },
    {
      "cell_type": "markdown",
      "metadata": {
        "id": "9KzYXN1pk1ae",
        "pycharm": {
          "name": "#%% md\n"
        }
      },
      "source": [
        "4. Calculate the number of zero values in each column:\n"
      ]
    },
    {
      "cell_type": "code",
      "execution_count": 45,
      "metadata": {
        "colab": {
          "base_uri": "https://localhost:8080/"
        },
        "id": "IIImzvzqk1iU",
        "outputId": "7189239e-53d6-422a-a8b9-fa66ce9756be",
        "pycharm": {
          "name": "#%%\n"
        }
      },
      "outputs": [
        {
          "output_type": "stream",
          "name": "stdout",
          "text": [
            "Zero values in Revenue Data:\n",
            "Date       0\n",
            "Revenue    5\n",
            "dtype: int64\n",
            "\n",
            "Zero values in Weather Data:\n",
            "time                 0\n",
            "temperature       4461\n",
            "dew_point         5312\n",
            "humidity             0\n",
            "wind                 0\n",
            "wind_speed         365\n",
            "pressure             0\n",
            "precipitation    86990\n",
            "condition            0\n",
            "dt                   0\n",
            "dtype: int64\n"
          ]
        }
      ],
      "source": [
        "print(\"Zero values in Revenue Data:\")\n",
        "print((revenue_data == 0).sum())\n",
        "print(\"\\nZero values in Weather Data:\")\n",
        "print((weather_data == 0).sum())"
      ]
    },
    {
      "cell_type": "markdown",
      "metadata": {
        "id": "e0hcjFwDk1sL",
        "pycharm": {
          "name": "#%% md\n"
        }
      },
      "source": [
        "5. Plot the correlation heatmap for both datasets:\n"
      ]
    },
    {
      "cell_type": "code",
      "execution_count": 46,
      "metadata": {
        "colab": {
          "base_uri": "https://localhost:8080/",
          "height": 1000
        },
        "id": "BfVxr6TPk10B",
        "outputId": "e7dd79e1-cc9c-4142-b3d0-48bf234808db",
        "pycharm": {
          "name": "#%%\n"
        }
      },
      "outputs": [
        {
          "output_type": "display_data",
          "data": {
            "text/plain": [
              "<Figure size 2000x1200 with 2 Axes>"
            ],
            "image/png": "[encoded data removed]"
          },
          "metadata": {}
        }
      ],
      "source": [
        "sns.heatmap(weather_data.corr(), annot=True, cmap='coolwarm')\n",
        "plt.title(\"Weather Data Correlation Heatmap\")\n",
        "plt.show()\n"
      ]
    },
    {
      "cell_type": "markdown",
      "metadata": {
        "id": "RtltujZJk19s",
        "pycharm": {
          "name": "#%% md\n"
        }
      },
      "source": [
        "6. Identify and plot outliers in the revenue_data dataset using box plots:\n"
      ]
    },
    {
      "cell_type": "code",
      "execution_count": 47,
      "metadata": {
        "colab": {
          "base_uri": "https://localhost:8080/",
          "height": 1000
        },
        "id": "yNgrT4Afk2FH",
        "outputId": "65ba1d8d-a857-4838-daaf-54c71b69f8c8",
        "pycharm": {
          "name": "#%%\n"
        }
      },
      "outputs": [
        {
          "output_type": "display_data",
          "data": {
            "text/plain": [
              "<Figure size 2000x1200 with 1 Axes>"
            ],
            "image/png": "[encoded data removed]"
          },
          "metadata": {}
        }
      ],
      "source": [
        "sns.boxplot(x=revenue_data['Revenue'])\n",
        "plt.title(\"Revenue Data Outliers\")\n",
        "plt.show()\n"
      ]
    },
    {
      "cell_type": "markdown",
      "metadata": {
        "id": "oAsVjn93lYPH",
        "pycharm": {
          "name": "#%% md\n"
        }
      },
      "source": [
        "7. Identify the most common values for categorical features (if any) in both datasets:\n",
        "\n"
      ]
    },
    {
      "cell_type": "code",
      "execution_count": 48,
      "metadata": {
        "colab": {
          "base_uri": "https://localhost:8080/"
        },
        "id": "_W_L-RXBlYWh",
        "outputId": "38a9e553-2dd6-466b-a9f2-2f0b5489f740",
        "pycharm": {
          "name": "#%%\n"
        }
      },
      "outputs": [
        {
          "output_type": "stream",
          "name": "stdout",
          "text": [
            "Most common values in 'wind' and 'condition' features:\n",
            "S       12894\n",
            "W        7355\n",
            "SSE      6390\n",
            "SSW      6271\n",
            "VAR      6061\n",
            "N        5472\n",
            "NNW      4983\n",
            "NW       4626\n",
            "WSW      4542\n",
            "SW       4457\n",
            "WNW      4382\n",
            "SE       4320\n",
            "E        3567\n",
            "NNE      3211\n",
            "ESE      2998\n",
            "NE       2759\n",
            "ENE      2337\n",
            "CALM      365\n",
            "Name: wind, dtype: int64\n",
            "Fair                           32250\n",
            "Mostly Cloudy                  16223\n",
            "Cloudy                         10111\n",
            "Mist                            5149\n",
            "Light Rain                      3375\n",
            "Light Snow                      3191\n",
            "Partly Cloudy                   2952\n",
            "Fog                             2418\n",
            "Light Rain Shower               2369\n",
            "Wintry Mix                      1990\n",
            "Showers in the Vicinity         1582\n",
            "Snow                            1079\n",
            "Light Drizzle                    928\n",
            "Shallow Fog                      523\n",
            "Light Snow Shower                478\n",
            "Fair / Windy                     254\n",
            "Mostly Cloudy / Windy            239\n",
            "T-Storm                          226\n",
            "Rain Shower                      196\n",
            "Snow Shower                      180\n",
            "Rain                             175\n",
            "Thunder in the Vicinity          124\n",
            "Cloudy / Windy                   123\n",
            "Light Rain Shower / Windy        101\n",
            "Drizzle                           99\n",
            "Light Rain / Windy                86\n",
            "Partial Fog                       77\n",
            "Wintry Mix / Windy                75\n",
            "Thunder                           53\n",
            "Light Freezing Drizzle            48\n",
            "Heavy Snow                        38\n",
            "Light Rain with Thunder           36\n",
            "Partly Cloudy / Windy             25\n",
            "Snow / Windy                      21\n",
            "Light Freezing Rain               21\n",
            "Patches of Fog                    21\n",
            "Heavy Snow Shower                 18\n",
            "Mist / Windy                      17\n",
            "Light Snow / Windy                16\n",
            "Smoke                             15\n",
            "Haze                              12\n",
            "Light Snow Shower / Windy         12\n",
            "T-Storm / Windy                   10\n",
            "Snow Shower / Windy                8\n",
            "Light Drizzle / Windy              8\n",
            "Rain Shower / Windy                7\n",
            "Heavy Rain Shower                  5\n",
            "Light Freezing Rain / Windy        5\n",
            "Heavy Snow / Windy                 4\n",
            "Rain / Windy                       3\n",
            "Thunder / Windy                    3\n",
            "Heavy T-Storm                      2\n",
            "Freezing Rain                      2\n",
            "Fog / Windy                        2\n",
            "Heavy Snow Shower / Windy          2\n",
            "Snow and Thunder                   1\n",
            "Freezing Drizzle                   1\n",
            "Blowing Snow / Windy               1\n",
            "Name: condition, dtype: int64\n"
          ]
        }
      ],
      "source": [
        "# Example for a categorical column 'category_column' in weather_data\n",
        "print(\"Most common values in 'wind' and 'condition' features:\")\n",
        "print(weather_data['wind'].value_counts())\n",
        "print(weather_data['condition'].value_counts())"
      ]
    },
    {
      "cell_type": "markdown",
      "metadata": {
        "id": "t12usPlec0SL",
        "pycharm": {
          "name": "#%% md\n"
        }
      },
      "source": [
        "# <b> Data Preprocessing </b>\n",
        "\n",
        "1. The 'time' column is removed from the weather_data dataset as it is not required for the analysis.\n",
        "2. Categorical features 'wind' and 'condition' in weather_data are converted to numerical values using categorical encoding, making them suitable for machine learning algorithms.\n",
        "3. `revenue_data` is resampled to the monthly level to align with the desired forecasting frequency. The 'Date' column is set as the index, and the data is aggregated using the sum of revenue for each month.\n",
        "4. `weather_data` is also aggregated to the monthly level using appropriate aggregation functions for each feature, such as mean for continuous variables and median for categorical variables.\n",
        "5. The revenue_data and weather_data datasets are merged on the 'Date' and 'dt' columns, creating a single dataset with monthly revenue and weather information.\n",
        "6. The redundant 'dt' column is dropped from the merged dataset, as it duplicates the 'Date' column.\n",
        "7. A new 'lagged_revenue' column is added to the merged dataset, representing the revenue of the previous month. This can be useful as a predictor for the current month's revenue.\n",
        "8. Zero values in the dataset are replaced with NaNs to better handle missing or erroneous data.\n",
        "9. The 'precipitation' column is dropped from the dataset due to a large number of NaN values.\n",
        "10. Any remaining rows with NaN values are removed from the dataset.\n",
        "11. The data is filtered to only include rows with Revenue less than or equal to 10^9, removing potential outliers.\n",
        "\n",
        "After these preprocessing steps, the data is cleaned, transformed, and ready for further analysis and modeling.\n"
      ]
    },
    {
      "cell_type": "code",
      "execution_count": 49,
      "metadata": {
        "id": "_C98sFkEc0tl",
        "pycharm": {
          "name": "#%%\n"
        }
      },
      "outputs": [],
      "source": [
        "# Drop the 'time' column from the weather_data\n",
        "weather_data = weather_data.drop('time', axis=1)\n",
        "\n",
        "# Convert categorical features 'wind' and 'condition' to numerical values\n",
        "wind_categories = weather_data['wind'].astype('category').cat.categories\n",
        "condition_categories = weather_data['condition'].astype('category').cat.categories\n",
        "\n",
        "weather_data['wind'] = weather_data['wind'].astype('category').cat.codes\n",
        "weather_data['condition'] = weather_data['condition'].astype('category').cat.codes\n",
        "\n",
        "# Reseample revenue_data\n",
        "revenue_data['Date'] = pd.to_datetime(revenue_data['Date'])\n",
        "revenue_data.set_index('Date', inplace=True)\n",
        "monthly_revenue_data = revenue_data.resample('M').sum().reset_index()\n",
        "\n",
        "# Aggregate weather_data on 'dt' to monthly level\n",
        "monthly_weather_data = weather_data.resample('M', on='dt').agg({\n",
        "    'temperature': 'mean',\n",
        "    'dew_point': 'mean',\n",
        "    'humidity': 'mean',\n",
        "    'wind_speed': 'mean',\n",
        "    'pressure': 'mean',\n",
        "    'precipitation': 'sum',\n",
        "    'wind': 'median',\n",
        "    'condition': 'median'\n",
        "}).reset_index()\n"
      ]
    },
    {
      "cell_type": "code",
      "execution_count": 50,
      "metadata": {
        "id": "-mU5mTXsCV1Q",
        "pycharm": {
          "name": "#%%\n"
        }
      },
      "outputs": [],
      "source": [
        "# Merge revenue_data and monthly_weather_data on the Date and dt columns\n",
        "merged_data = pd.merge(monthly_revenue_data, monthly_weather_data, left_on='Date', right_on='dt', how='inner')\n",
        "\n",
        "# Drop the 'dt' column since it's a duplicate of 'Date'\n",
        "merged_data.drop(columns=['dt'], inplace=True)\n",
        "\n",
        "# Add the lagged revenue column to the merged_data\n",
        "merged_data['lagged_revenue'] = merged_data['Revenue'].shift(1).fillna(0)\n",
        "\n",
        "# Replace zeros with NaNs\n",
        "merged_data = merged_data.replace(0, np.nan)\n",
        "\n",
        "# Drop column 'precipitation' with NaNs values\n",
        "merged_data = merged_data.drop('precipitation', axis=1)\n",
        "\n",
        "# Drop rows with NaN values\n",
        "merged_data = merged_data.dropna()\n",
        "\n",
        "# Filter rows that have Revenue less than or equal to 10^9\n",
        "merged_data = merged_data[merged_data['Revenue'] <= 10**9]"
      ]
    },
    {
      "cell_type": "markdown",
      "metadata": {
        "id": "MbVF9hIio69i",
        "pycharm": {
          "name": "#%% md\n"
        }
      },
      "source": [
        "# <b> Splitting Data </b>\n",
        "\n",
        "1. The merged dataset is split into train and test sets based on a predefined date (January 1, 2022). All data before this date is assigned to the training set, and all data on or after this date is assigned to the test set. This temporal split ensures that the model is trained on historical data and tested on more recent, unseen data.\n",
        "2. The feature matrix (X) and target vector (y) are separated for both the train and test sets. The 'Date' and 'Revenue' columns are removed from the feature matrix, as 'Date' is not used as a predictor and 'Revenue' is the target variable we aim to predict. The target vector contains only the 'Revenue' column.\n",
        "\n",
        "After these steps, you have four datasets ready for model training and evaluation: `X_train`, `y_train`, `X_test`, and `y_test`."
      ]
    },
    {
      "cell_type": "code",
      "execution_count": 51,
      "metadata": {
        "id": "qe3VDts1cY7_",
        "pycharm": {
          "name": "#%%\n"
        }
      },
      "outputs": [],
      "source": [
        "# Split the data into train and test sets\n",
        "train_data = merged_data[merged_data['Date'] < '2022-01-01']\n",
        "test_data = merged_data[merged_data['Date'] >= '2022-01-01']\n",
        "\n",
        "# Separate the features (X) and the target (y)\n",
        "X_train = train_data.drop(columns=['Date', 'Revenue'])\n",
        "y_train = train_data['Revenue']\n",
        "X_test = test_data.drop(columns=['Date', 'Revenue'])\n",
        "y_test = test_data['Revenue']"
      ]
    },
    {
      "cell_type": "markdown",
      "metadata": {
        "id": "rIIO4CE8ZSDA",
        "pycharm": {
          "name": "#%% md\n"
        }
      },
      "source": [
        "# <b> Scaling Data </b>\n",
        "\n",
        "The process of scaling the feature data for both training and testing sets. A StandardScaler instance is used to transform the feature data (X_train and X_test) by fitting on the training data and applying the same scaling to the test data. The scaled features are then converted back to DataFrames with the same column names. Additionally, a separate StandardScaler instance is created for the target variable y (y_train) to scale the target values. This preprocessing step helps to standardize the data and improve the performance of machine learning models."
      ]
    },
    {
      "cell_type": "code",
      "execution_count": 52,
      "metadata": {
        "id": "EDuj8R1iZYqZ",
        "pycharm": {
          "name": "#%%\n"
        }
      },
      "outputs": [],
      "source": [
        "# Scale the features\n",
        "scaler = StandardScaler()\n",
        "X_train_scaled = scaler.fit_transform(X_train)\n",
        "X_test_scaled = scaler.transform(X_test)\n",
        "\n",
        "# Convert the scaled features back to DataFrames\n",
        "X_train_scaled = pd.DataFrame(X_train_scaled, columns=X_train.columns)\n",
        "X_test_scaled = pd.DataFrame(X_test_scaled, columns=X_test.columns)\n",
        "\n",
        "# Initialize a StandardScaler instance for the target variable y\n",
        "y_scaler = StandardScaler()\n",
        "y_train_scaled = y_scaler.fit_transform(y_train.to_numpy(dtype='float32').reshape(-1, 1))"
      ]
    },
    {
      "cell_type": "markdown",
      "metadata": {
        "id": "A28Ejputeluv",
        "pycharm": {
          "name": "#%% md\n"
        }
      },
      "source": [
        "# <b> Device Check </b>\n",
        "\n",
        "Check if GPU is available and set the device accordingly."
      ]
    },
    {
      "cell_type": "code",
      "execution_count": 53,
      "metadata": {
        "colab": {
          "base_uri": "https://localhost:8080/"
        },
        "id": "pzL9AIXhemHe",
        "outputId": "8e351552-f6db-4d0d-a367-32dfb99194e3",
        "pycharm": {
          "name": "#%%\n"
        }
      },
      "outputs": [
        {
          "output_type": "execute_result",
          "data": {
            "text/plain": [
              "device(type='cuda')"
            ]
          },
          "metadata": {},
          "execution_count": 53
        }
      ],
      "source": [
        "# Checking deivice to run on\n",
        "device = torch.device(\"cuda\" if torch.cuda.is_available() else \"cpu\")\n",
        "device"
      ]
    },
    {
      "cell_type": "markdown",
      "metadata": {
        "id": "X-SpGcEFv-YP",
        "pycharm": {
          "name": "#%% md\n"
        }
      },
      "source": [
        "# <b> MAPE & RMSE Metrics </b>\n",
        "\n",
        "Maunually defining MAPE & RMSE Metrics for a better accuracy response on them."
      ]
    },
    {
      "cell_type": "code",
      "execution_count": 54,
      "metadata": {
        "id": "cDVZdcT9kO2c",
        "pycharm": {
          "name": "#%%\n"
        }
      },
      "outputs": [],
      "source": [
        "# Definining the MAPE metric as a MAPE function\n",
        "def mean_absolute_percentage_error(y_true, y_pred):\n",
        "    y_true, y_pred = np.array(y_true), np.array(y_pred)\n",
        "    return np.mean(np.abs((y_true - y_pred) / (y_true + 1e-8))) * 100\n"
      ]
    },
    {
      "cell_type": "code",
      "execution_count": 55,
      "metadata": {
        "id": "TkPXqjtevsRz",
        "pycharm": {
          "name": "#%%\n"
        }
      },
      "outputs": [],
      "source": [
        "# Define RMSE metric as RMSE function\n",
        "def calculate_rmse(y_true, y_pred):\n",
        "    return np.sqrt(mean_squared_error(y_true, y_pred))"
      ]
    },
    {
      "cell_type": "markdown",
      "metadata": {
        "id": "eSEnVwimdtQY",
        "pycharm": {
          "name": "#%% md\n"
        }
      },
      "source": [
        "# <b> 1<sup>st</sup> model - LSTM </b>\n",
        "\n",
        "1. An LSTM model class is defined, which inherits from PyTorch's `nn.Module`. The class initializes the LSTM layers and a linear output layer.\n",
        "\n",
        "2. Hyperparameters, such as input size, hidden size, number of layers, output size, number of epochs, learning rate, and batch size, are defined for the LSTM model.\n",
        "\n",
        "3. The training and target data are converted from DataFrames to NumPy arrays and then to PyTorch tensors. A DataLoader is created with a TensorDataset and batch size.\n",
        "\n",
        "4. The LSTM model is initialized, and a Mean Squared Error (MSE) loss function and an Adam optimizer are defined.\n",
        "\n",
        "5. The model is trained by iterating through the epochs and updating the model parameters using the optimizer and the calculated loss from the outputs and targets.\n",
        "\n",
        "6. The model is evaluated on the test data, and the predictions are converted back to their original scale using the target variable scaler (y_scaler).\n",
        "\n",
        "7. The mean squared error (MSE), mean absolute error (MAE), and mean absolute percentage error (MAPE) are calculated and printed, providing an assessment of the LSTM model's performance on the test data."
      ]
    },
    {
      "cell_type": "markdown",
      "metadata": {
        "id": "hqh3SXMDebzj",
        "pycharm": {
          "name": "#%% md\n"
        }
      },
      "source": [
        "## *Neural Net Architecture*"
      ]
    },
    {
      "cell_type": "code",
      "execution_count": 56,
      "metadata": {
        "id": "WhDlXIVndtjS",
        "pycharm": {
          "name": "#%%\n"
        }
      },
      "outputs": [],
      "source": [
        "class LSTM(nn.Module):\n",
        "    def __init__(self, input_size, hidden_size, num_layers, output_size):\n",
        "        super(LSTM, self).__init__()\n",
        "        self.hidden_size = hidden_size\n",
        "        self.num_layers = num_layers\n",
        "        self.lstm = nn.LSTM(input_size, hidden_size, num_layers, batch_first=True)\n",
        "        self.fc = nn.Linear(hidden_size, output_size)\n",
        "\n",
        "    def forward(self, x):\n",
        "        # Initialize hidden and cell states\n",
        "        h0 = torch.zeros(self.num_layers, x.size(0), self.hidden_size).to(device)\n",
        "        c0 = torch.zeros(self.num_layers, x.size(0), self.hidden_size).to(device)\n",
        "\n",
        "        # Adding sequence_length dimension\n",
        "        x = x.unsqueeze(1)\n",
        "\n",
        "        # Forward propagate LSTM\n",
        "        out, _ = self.lstm(x, (h0, c0))\n",
        "\n",
        "        # Decode the hidden state of the last time step\n",
        "        out = self.fc(out[:, -1, :])\n",
        "        return out"
      ]
    },
    {
      "cell_type": "markdown",
      "metadata": {
        "id": "ob_A6ya9fBNN",
        "pycharm": {
          "name": "#%% md\n"
        }
      },
      "source": [
        "## *Hyperparameters*\n",
        "\n"
      ]
    },
    {
      "cell_type": "code",
      "execution_count": 57,
      "metadata": {
        "id": "yHrw9-3efBVQ",
        "pycharm": {
          "name": "#%%\n"
        }
      },
      "outputs": [],
      "source": [
        "# Define Hyperparameters\n",
        "input_size = X_train_scaled.shape[1]\n",
        "hidden_size = 64\n",
        "num_layers = 2\n",
        "output_size = 1\n",
        "num_epochs = 100\n",
        "learning_rate = 0.001\n",
        "batch_size = 32"
      ]
    },
    {
      "cell_type": "markdown",
      "metadata": {
        "id": "5jWhltBefLZ7",
        "pycharm": {
          "name": "#%% md\n"
        }
      },
      "source": [
        "## *Conversion*"
      ]
    },
    {
      "cell_type": "code",
      "execution_count": 58,
      "metadata": {
        "id": "n9x4ONyyfLit",
        "pycharm": {
          "name": "#%%\n"
        }
      },
      "outputs": [],
      "source": [
        "# Convert DataFrames to NumPy arrays and then to PyTorch tensors\n",
        "X_train_numpy = X_train_scaled.to_numpy(dtype='float32')\n",
        "y_train_numpy = y_train.to_numpy(dtype='float32').reshape(-1, 1)\n",
        "X_train_tensor = torch.tensor(X_train_numpy)\n",
        "y_train_tensor = torch.tensor(y_train_scaled)\n",
        "\n",
        "train_dataset = TensorDataset(X_train_tensor, y_train_tensor)\n",
        "train_loader = DataLoader(train_dataset, batch_size=batch_size, shuffle=True)\n"
      ]
    },
    {
      "cell_type": "markdown",
      "metadata": {
        "id": "qrlR16oRflFo",
        "pycharm": {
          "name": "#%% md\n"
        }
      },
      "source": [
        "## *Initialize Net & Define Loss with Optimizer*"
      ]
    },
    {
      "cell_type": "code",
      "execution_count": 59,
      "metadata": {
        "id": "8v7CnPk_flQw",
        "pycharm": {
          "name": "#%%\n"
        }
      },
      "outputs": [],
      "source": [
        "# Initialize Net\n",
        "model = LSTM(input_size, hidden_size, num_layers, output_size).to(device)\n",
        "\n",
        "# Define Loss with Optimizer\n",
        "criterion = nn.MSELoss()\n",
        "optimizer = torch.optim.Adam(model.parameters(), lr=learning_rate)"
      ]
    },
    {
      "cell_type": "markdown",
      "metadata": {
        "id": "jov10Ma7f_Cp",
        "pycharm": {
          "name": "#%% md\n"
        }
      },
      "source": [
        "## *Training and Testing*"
      ]
    },
    {
      "cell_type": "code",
      "execution_count": 60,
      "metadata": {
        "colab": {
          "base_uri": "https://localhost:8080/"
        },
        "id": "eyJy7XkWfzgb",
        "outputId": "bcf01246-4fcf-449d-bd2b-b41cad1af62b",
        "pycharm": {
          "name": "#%%\n"
        }
      },
      "outputs": [
        {
          "output_type": "stream",
          "name": "stdout",
          "text": [
            "Epoch [10/100], Loss: 0.6710\n",
            "Epoch [20/100], Loss: 0.7733\n",
            "Epoch [30/100], Loss: 1.2498\n",
            "Epoch [40/100], Loss: 0.7997\n",
            "Epoch [50/100], Loss: 0.7643\n",
            "Epoch [60/100], Loss: 0.5219\n",
            "Epoch [70/100], Loss: 0.6520\n",
            "Epoch [80/100], Loss: 0.6159\n",
            "Epoch [90/100], Loss: 0.8420\n",
            "Epoch [100/100], Loss: 0.9678\n"
          ]
        }
      ],
      "source": [
        "# Train and Test\n",
        "for epoch in range(num_epochs):\n",
        "    for i, (inputs, targets) in enumerate(train_loader):\n",
        "        inputs = inputs.to(device).float()\n",
        "        targets = targets.to(device).float()\n",
        "\n",
        "        optimizer.zero_grad()\n",
        "        outputs = model(inputs)\n",
        "        outputs = outputs.view(-1, 1)  # Reshape the output tensor\n",
        "        loss = criterion(outputs, targets)\n",
        "        loss.backward()\n",
        "        optimizer.step()\n",
        "\n",
        "    if (epoch+1) % 10 == 0:\n",
        "        print(f'Epoch [{epoch+1}/{num_epochs}], Loss: {loss.item():.4f}')"
      ]
    },
    {
      "cell_type": "markdown",
      "metadata": {
        "id": "DU7JhhNogPAU",
        "pycharm": {
          "name": "#%% md\n"
        }
      },
      "source": [
        "## *Evaluation*"
      ]
    },
    {
      "cell_type": "code",
      "execution_count": 61,
      "metadata": {
        "colab": {
          "base_uri": "https://localhost:8080/"
        },
        "id": "1fWZMENxgPKm",
        "outputId": "21d003b3-001d-4f34-c224-1ead82da3435",
        "pycharm": {
          "name": "#%%\n"
        }
      },
      "outputs": [
        {
          "output_type": "stream",
          "name": "stdout",
          "text": [
            "Mean Squared Error: 7634006191722418.00\n",
            "Mean Absolute Error: 76780536.96\n",
            "Mean Absolute Percentage Error: 36.13145875991508\n"
          ]
        }
      ],
      "source": [
        "#LSTM model evaluation\n",
        "model.eval()\n",
        "X_test_np = X_test_scaled.to_numpy(dtype=np.float32)\n",
        "y_test_np = y_test.to_numpy(dtype=np.float32)\n",
        "\n",
        "X_test_tensor = torch.tensor(X_test_np).to(device)\n",
        "y_test_tensor = torch.tensor(y_test_np).to(device)\n",
        "\n",
        "with torch.no_grad():\n",
        "    y_pred = model(X_test_tensor)\n",
        "\n",
        "y_pred = y_pred.cpu().detach().numpy()\n",
        "y_pred_unscaled = y_scaler.inverse_transform(y_pred)\n",
        "\n",
        "mse = mean_squared_error(y_test, y_pred_unscaled)\n",
        "mae = mean_absolute_error(y_test, y_pred_unscaled)\n",
        "mape = mean_absolute_percentage_error(y_test, y_pred_unscaled)\n",
        "\n",
        "print(f'Mean Squared Error: {mse:.2f}')\n",
        "print(f'Mean Absolute Error: {mae:.2f}')\n",
        "print(\"Mean Absolute Percentage Error:\", mape)"
      ]
    },
    {
      "cell_type": "markdown",
      "metadata": {
        "id": "o8JObuI0mgf_",
        "pycharm": {
          "name": "#%% md\n"
        }
      },
      "source": [
        "# <b> 2<sup>nd</sup> model - ARIMA </b>\n",
        "\n",
        "1. The time series data is prepared for the ARIMA model by creating a DataFrame with the 'Date' column as the index and the 'Revenue' column as the data.\n",
        "\n",
        "2. The ARIMA model is configured with the specified parameters (p, d, q), which represent the order of autoregression, the degree of differencing, and the order of moving average, respectively.\n",
        "\n",
        "3. The ARIMA model is fitted to the training data, and the fitted model is stored in the arima_results variable.\n",
        "\n",
        "4. The model is used to generate a forecast for the next few months, corresponding to the length of the test data.\n",
        "\n",
        "5. The true revenue values from the test data are extracted, and the predicted revenue values from the ARIMA model are compared to them.\n",
        "\n",
        "6. The model's performance is assessed by calculating the mean squared error (MSE), mean absolute error (MAE), and mean absolute percentage error (MAPE).\n",
        "\n",
        "7. The evaluation metrics are printed, providing a summary of the ARIMA model's performance on the test data."
      ]
    },
    {
      "cell_type": "markdown",
      "metadata": {
        "id": "o-Tn-B4hjgEI",
        "pycharm": {
          "name": "#%% md\n"
        }
      },
      "source": [
        "## *Prepare Data*"
      ]
    },
    {
      "cell_type": "code",
      "execution_count": 62,
      "metadata": {
        "id": "ofv0LpDKjieC",
        "pycharm": {
          "name": "#%%\n"
        }
      },
      "outputs": [],
      "source": [
        "# Prepare the time series data for the ARIMA model\n",
        "ts_data = train_data[['Date', 'Revenue']]\n",
        "ts_data.set_index('Date', inplace=True)"
      ]
    },
    {
      "cell_type": "markdown",
      "metadata": {
        "id": "nMr_heC5m2y7",
        "pycharm": {
          "name": "#%% md\n"
        }
      },
      "source": [
        "## *Fitting*"
      ]
    },
    {
      "cell_type": "code",
      "execution_count": 63,
      "metadata": {
        "id": "8h2K6t86ogOk",
        "pycharm": {
          "name": "#%%\n"
        }
      },
      "outputs": [],
      "source": [
        "# Fit the ARIMA model\n",
        "p, d, q = 2, 1, 2\n",
        "arima_model = ARIMA(ts_data, order=(p, d, q))\n",
        "arima_results = arima_model.fit()"
      ]
    },
    {
      "cell_type": "markdown",
      "metadata": {
        "id": "CJKW3DP0wjD3",
        "pycharm": {
          "name": "#%% md\n"
        }
      },
      "source": [
        "# *Prediction*"
      ]
    },
    {
      "cell_type": "code",
      "execution_count": 64,
      "metadata": {
        "id": "wELyr8LSwbrD",
        "pycharm": {
          "name": "#%%\n"
        }
      },
      "outputs": [],
      "source": [
        "# Get the forecast for the next months\n",
        "num_months_to_forecast = len(test_data)\n",
        "forecast = arima_results.forecast(steps=num_months_to_forecast)"
      ]
    },
    {
      "cell_type": "markdown",
      "metadata": {
        "id": "4Lj_8zvpwxq8",
        "pycharm": {
          "name": "#%% md\n"
        }
      },
      "source": [
        "## *Evaluation*"
      ]
    },
    {
      "cell_type": "code",
      "execution_count": 65,
      "metadata": {
        "colab": {
          "base_uri": "https://localhost:8080/"
        },
        "id": "07vbIChIwrtE",
        "outputId": "8b8e8753-83c9-4c94-f143-b687c20b27af",
        "pycharm": {
          "name": "#%%\n"
        }
      },
      "outputs": [
        {
          "output_type": "stream",
          "name": "stdout",
          "text": [
            "Mean Squared Error: 818967297513702.2\n",
            "Mean Absolute Error: 23118741.946866117\n",
            "Mean Absolute Percentage Error: 11.948616876844435\n"
          ]
        }
      ],
      "source": [
        "# Prepare the test data for evaluation\n",
        "y_true = test_data['Revenue'].values\n",
        "y_pred = forecast.values\n",
        "\n",
        "# Calculate the errors\n",
        "mse = mean_squared_error(y_true, y_pred)\n",
        "mae = mean_absolute_error(y_true, y_pred)\n",
        "mape = mean_absolute_percentage_error(y_true, y_pred)\n",
        "\n",
        "# Print the metrics\n",
        "print(\"Mean Squared Error:\", mse)\n",
        "print(\"Mean Absolute Error:\", mae)\n",
        "print(\"Mean Absolute Percentage Error:\", mape)"
      ]
    },
    {
      "cell_type": "markdown",
      "metadata": {
        "id": "X0nqt1OlzYtZ",
        "pycharm": {
          "name": "#%% md\n"
        }
      },
      "source": [
        "# <b> Comparing 2 models </b>\n",
        "\n",
        "1. The true revenue values from the test data, as well as the predicted revenue values from each of the three models (LSTM, and ARIMA), are extracted and stored in separate variables.\n",
        "\n",
        "2. A figure is created with a size of 12x6 inches to visualize the comparison of the true revenue values and the predictions from the three models.\n",
        "\n",
        "3. The true revenue values are plotted as a solid line with circle markers, while the predictions from the LSTM, Prophet, and ARIMA models are plotted as dashed, dotted, and dash-dotted lines, respectively, with different marker styles for each model.\n",
        "\n",
        "4. The x-axis of the plot is labeled as \"Date,\" and the y-axis is labeled as \"Revenue.\" A title, \"Revenue Predictions Comparison: LSTM vs. ARIMA,\" is added to the plot to describe its purpose.\n",
        "\n",
        "5. A legend is added to the plot to differentiate between the true revenue values and the predictions from the three models.\n",
        "\n",
        "6. Finally, the plot is displayed, illustrating the performance of the three models in predicting revenue over the test data period, allowing for a visual comparison of their accuracy and overall performance."
      ]
    },
    {
      "cell_type": "code",
      "execution_count": 66,
      "metadata": {
        "colab": {
          "base_uri": "https://localhost:8080/",
          "height": 564
        },
        "id": "44H9i8OvmhOs",
        "outputId": "63bb5365-3ef5-4e47-9ab2-005db35d75da",
        "pycharm": {
          "name": "#%%\n"
        }
      },
      "outputs": [
        {
          "output_type": "display_data",
          "data": {
            "text/plain": [
              "<Figure size 1200x600 with 1 Axes>"
            ],
            "image/png": "[encoded data removed]"
          },
          "metadata": {}
        }
      ],
      "source": [
        "# True revenue values\n",
        "true_revenue_dates = test_data['Date']\n",
        "true_revenue = test_data['Revenue']\n",
        "\n",
        "# LSTM predictions\n",
        "lstm_dates = test_data['Date']\n",
        "lstm_pred = y_pred_unscaled.flatten()\n",
        "\n",
        "# ARIMA predictions\n",
        "arima_dates = test_data['Date']\n",
        "arima_pred = forecast.values\n",
        "\n",
        "# Plot the true revenue values and the predictions from each model\n",
        "plt.figure(figsize=(12, 6))\n",
        "plt.plot(true_revenue_dates, true_revenue, label=\"True Revenue\", marker='o', linestyle='-')\n",
        "plt.plot(lstm_dates, lstm_pred, label=\"LSTM Predictions\", marker='x', linestyle='--')\n",
        "plt.plot(arima_dates, arima_pred, label=\"ARIMA Predictions\", marker='d', linestyle='-.')\n",
        "\n",
        "plt.xlabel(\"Date\")\n",
        "plt.ylabel(\"Revenue\")\n",
        "plt.title(\"Revenue Predictions Comparison: LSTM vs. Prophet vs. ARIMA\")\n",
        "plt.legend()\n",
        "plt.show()"
      ]
    },
    {
      "cell_type": "markdown",
      "metadata": {
        "id": "pCO7RSTXftNe",
        "pycharm": {
          "name": "#%% md\n"
        }
      },
      "source": [
        "# <b> Summary of Model Performances </b>\n",
        "\n",
        "1. The Mean Squared Error (MSE), Mean Absolute Error (MAE), and Mean Absolute Percentage Error (MAPE) are calculated for each model using the true revenue values and predicted values.\n",
        "\n",
        "2. A random index is selected from the test dataset to compare the true revenue value and the predictions from all three models (LSTM and ARIMA) for that specific data point. The true value and each model's predictions are printed.\n",
        "\n",
        "3. The performance of each model is evaluated using the following metrics: Mean Squared Error (MSE), Mean Absolute Error (MAE), Mean Absolute Percentage Error (MAPE), and Root Mean Squared Error (RMSE). The metrics are calculated for each model and printed separately.\n",
        "\n",
        "4. A summary of the model performance is displayed, showing the MSE, MAE, MAPE, and RMSE values for ARIMA and LSTM models. This summary provides a quick comparison of the performance of each model, making it easier to identify the best-performing model in terms of prediction accuracy.\n"
      ]
    },
    {
      "cell_type": "code",
      "execution_count": 67,
      "metadata": {
        "colab": {
          "base_uri": "https://localhost:8080/"
        },
        "id": "vDerlscE-fsF",
        "outputId": "bccb0a5e-8b59-430a-9f0f-2325a4da51f5",
        "pycharm": {
          "name": "#%%\n"
        }
      },
      "outputs": [
        {
          "output_type": "stream",
          "name": "stdout",
          "text": [
            "True revenue value: 175167911.88\n",
            "LSTM prediction: 129886478.02\n",
            "ARIMA prediction: 225169842.97\n"
          ]
        }
      ],
      "source": [
        "# Calculate the errors\n",
        "mse = mean_squared_error(y_true, y_pred)\n",
        "mae = mean_absolute_error(y_true, y_pred)\n",
        "mape = mean_absolute_percentage_error(y_true, y_pred)\n",
        "# Randomly select an index from the test set\n",
        "random_index = random.randint(0, len(y_test) - 1)\n",
        "\n",
        "# Get the true revenue value\n",
        "true_revenue_value = y_test.iloc[random_index]\n",
        "\n",
        "# Get the corresponding input values for the selected index\n",
        "input_values = X_test_scaled.iloc[random_index].values\n",
        "\n",
        "# LSTM prediction\n",
        "input_tensor = torch.tensor(input_values).to(device).unsqueeze(0).float()\n",
        "with torch.no_grad():\n",
        "    lstm_prediction_scaled = model(input_tensor).item()\n",
        "\n",
        "lstm_prediction = y_scaler.inverse_transform([[lstm_prediction_scaled]])[0][0]\n",
        "\n",
        "# ARIMA prediction\n",
        "arima_prediction = arima_pred[random_index]\n",
        "\n",
        "# Compare the true value and the predictions from all models\n",
        "print(f\"True revenue value: {true_revenue_value:.2f}\")\n",
        "print(f\"LSTM prediction: {lstm_prediction:.2f}\")\n",
        "print(f\"ARIMA prediction: {arima_prediction:.2f}\")"
      ]
    },
    {
      "cell_type": "code",
      "execution_count": 68,
      "metadata": {
        "id": "Fdy1uDXckbaS",
        "pycharm": {
          "name": "#%%\n"
        }
      },
      "outputs": [],
      "source": [
        "# True revenue values\n",
        "y_true = true_revenue\n",
        "\n",
        "# Model predictions\n",
        "arima_predictions = arima_pred\n",
        "lstm_predictions = lstm_pred\n",
        "\n",
        "# Calculate the errors\n",
        "mse_arima = mean_squared_error(y_true, arima_predictions)\n",
        "mse_lstm = mean_squared_error(y_true, lstm_predictions)\n",
        "\n",
        "mae_arima = mean_absolute_error(y_true, arima_predictions)\n",
        "mae_lstm = mean_absolute_error(y_true, lstm_predictions)\n",
        "\n",
        "mape_arima = mean_absolute_percentage_error(y_true, arima_predictions)\n",
        "mape_lstm = mean_absolute_percentage_error(y_true, lstm_predictions)\n",
        "\n",
        "arima_rmse = calculate_rmse(y_true, arima_predictions)\n",
        "lstm_rmse = calculate_rmse(y_true, lstm_predictions)"
      ]
    },
    {
      "cell_type": "code",
      "execution_count": 69,
      "metadata": {
        "colab": {
          "base_uri": "https://localhost:8080/"
        },
        "id": "i3oq6g6vwHFA",
        "outputId": "a7f878bd-7c5c-4cb0-d376-a9fb0c555562",
        "pycharm": {
          "name": "#%%\n"
        }
      },
      "outputs": [
        {
          "output_type": "stream",
          "name": "stdout",
          "text": [
            "ARIMA Model Performance:\n",
            "Mean Squared Error: 818967297513702.2\n",
            "Mean Absolute Error: 23118741.946866117\n",
            "Mean Absolute Percentage Error: 11.948616876844435\n",
            "Root Mean Square Error: 28617604.67812955\n",
            "\n",
            "LSTM Model Performance:\n",
            "Mean Squared Error: 7634006191722418.0\n",
            "Mean Absolute Error: 76780536.96399987\n",
            "Mean Absolute Percentage Error: 35.701072776298645\n",
            "Root Mean Square Error: 87372800.06799838\n",
            "\n",
            "Model Performance Summary:\n",
            "ARIMA:   MSE=818967297513702.25,   MAE=23118741.95, MAPE=1194.86%,  RMSE=28617605\n",
            "LSTM:    MSE=7634006191722418.00,  MAE=76780536.96, MAPE=3570.11%, RMSE=87372800\n"
          ]
        }
      ],
      "source": [
        "# Print the metrics\n",
        "print(\"ARIMA Model Performance:\")\n",
        "print(\"Mean Squared Error:\", mse_arima)\n",
        "print(\"Mean Absolute Error:\", mae_arima)\n",
        "print(\"Mean Absolute Percentage Error:\", mape_arima)\n",
        "print(\"Root Mean Square Error:\", arima_rmse)\n",
        "\n",
        "print(\"\\nLSTM Model Performance:\")\n",
        "print(\"Mean Squared Error:\", mse_lstm)\n",
        "print(\"Mean Absolute Error:\", mae_lstm)\n",
        "print(\"Mean Absolute Percentage Error:\", mape_lstm)\n",
        "print(\"Root Mean Square Error:\", lstm_rmse)\n",
        "\n",
        "# Summary of Model Performance\n",
        "print(\"\\nModel Performance Summary:\")\n",
        "print(f\"ARIMA:   MSE={mse_arima:.2f},   MAE={mae_arima:.2f}, MAPE={mape_arima*100:.2f}%,  RMSE={arima_rmse:.0f}\")\n",
        "print(f\"LSTM:    MSE={mse_lstm:.2f},  MAE={mae_lstm:.2f}, MAPE={mape_lstm*100:.2f}%, RMSE={lstm_rmse:.0f}\")\n",
        "# print(f\"Prophet: MSE={mse_prophet:.2f}, MAE={mae_prophet:.2f}, MAPE={mape_prophet*100:.2f}%, RMSE={prophet_rmse:.0f}\")"
      ]
    },
    {
      "cell_type": "markdown",
      "metadata": {
        "id": "piVXpvXQGOrW",
        "pycharm": {
          "name": "#%% md\n"
        }
      },
      "source": [
        "# <b> Tuning ARIMA model </b>\n",
        "\n",
        "Here we tune an ARIMA model for time series forecasting. Various combinations of p, d, and q parameters are explored, with their corresponding Mean Absolute Percentage Error (MAPE) values presented in the comments. The optimal combination of parameters (p=2, d=1, q=5) is selected based on the lowest MAPE value.\n",
        "\n",
        "An ARIMA model is then fitted using the optimal parameters on the time series data. The model is used to forecast the revenue for the next few months, equal to the length of the test data. The true and predicted values are compared using various error metrics, such as Mean Squared Error (MSE), Mean Absolute Error (MAE), and Mean Absolute Percentage Error (MAPE), which are printed for evaluation. This tuning process helps to identify the best parameter settings for the ARIMA model and improve its forecasting performance."
      ]
    },
    {
      "cell_type": "code",
      "execution_count": 70,
      "metadata": {
        "colab": {
          "base_uri": "https://localhost:8080/"
        },
        "id": "XTclVrYAGRqx",
        "outputId": "fce3adfa-b62e-49ee-a0ac-c47778562b3f",
        "pycharm": {
          "name": "#%%\n"
        }
      },
      "outputs": [
        {
          "output_type": "stream",
          "name": "stdout",
          "text": [
            "Mean Squared Error: 480122187988010.0\n",
            "Mean Absolute Error: 16006615.940599238\n",
            "Mean Absolute Percentage Error: 7.609259546735108\n"
          ]
        }
      ],
      "source": [
        "# Optimize ARIMA parameters: \n",
        "p, d, q = 2, 1, 5 \n",
        "# 2, 1, 2 -> MAPE: 11.948616876844435\n",
        "# 5, 1, 2 -> MAPE: 10.602326063880676\n",
        "# 6, 1, 2 -> MAPE: 10.269471391310905\n",
        "# 7, 1, 2 -> MAPE: 10.268259618761041\n",
        "# 8, 1, 2 -> MAPE: 16.721928386086443\n",
        "# 2, 2, 2 -> MAPE: 27.89327706315853\n",
        "# 2, 3, 2 -> MAPE: 21.65528975853493\n",
        "# 2, 4, 2 -> MAPE: 122.13028156153875\n",
        "# 2, 5, 2 -> MAPE: 248.90280271276572\n",
        "# 2, 1, 3 -> MAPE: 21.39656440954773\n",
        "# 2, 1, 4 -> MAPE: 7.811919609653558\n",
        "# 2, 1, 5 -> MAPE: 7.609259546735108\n",
        "# 2, 1, 6 -> MAPE: 9.112295952131037\n",
        "# 3, 1, 2 -> MAPE: 11.801849373286796\n",
        "# 4, 1, 2 -> MAPE: 9.144385130568224\n",
        "# 4, 1, 3 -> MAPE: 10.002521203977881\n",
        "# 4, 1, 4 -> MAPE: 9.370263603527599\n",
        "# 4, 1, 5 -> MAPE: 8.15205924458995\n",
        "# 4, 1, 5 -> MAPE: 8.173407892338679\n",
        "\n",
        "arima_model = ARIMA(ts_data, order=(p, d, q))\n",
        "arima_results = arima_model.fit()\n",
        "\n",
        "# Get the forecast for the next months\n",
        "num_months_to_forecast = len(test_data)\n",
        "forecast = arima_results.forecast(steps=num_months_to_forecast)\n",
        "\n",
        "# Prepare the test data for evaluation\n",
        "y_true = test_data['Revenue'].values\n",
        "y_pred = forecast.values\n",
        "\n",
        "# Calculate the errors\n",
        "mse = mean_squared_error(y_true, y_pred)\n",
        "mae = mean_absolute_error(y_true, y_pred)\n",
        "mape = mean_absolute_percentage_error(y_true, y_pred)\n",
        "\n",
        "# Print the errors\n",
        "print(\"Mean Squared Error:\", mse)\n",
        "print(\"Mean Absolute Error:\", mae)\n",
        "print(\"Mean Absolute Percentage Error:\", mape)"
      ]
    },
    {
      "cell_type": "markdown",
      "metadata": {
        "id": "BNqzznfWOY1u",
        "pycharm": {
          "name": "#%% md\n"
        }
      },
      "source": [
        "# <b> Comparing tuned model </b>\n",
        "\n",
        "In this section, we optimize the ARIMA model by tuning its parameters p, d, and q, which correspond to the order of the autoregressive (AR) term, the degree of differencing, and the order of the moving average (MA) term, respectively. A set of different (p, d, q) combinations are tested, and the Mean Absolute Percentage Error (MAPE) is calculated for each combination to find the optimal parameters that yield the lowest MAPE.\n",
        "\n",
        "The ARIMA model is then fit using the optimal parameters, and the forecast for the next several months is generated. The test data is prepared for evaluation, and the performance of the tuned ARIMA model is assessed using the Mean Squared Error (MSE), Mean Absolute Error (MAE), and Mean Absolute Percentage Error (MAPE). The errors are printed, providing an insight into how well the tuned ARIMA model performs compared to its untuned version."
      ]
    },
    {
      "cell_type": "code",
      "execution_count": 71,
      "metadata": {
        "colab": {
          "base_uri": "https://localhost:8080/",
          "height": 564
        },
        "id": "XnLgw11ZLtrn",
        "outputId": "90e0e8ac-881a-431c-8a6b-80a1e33557a3",
        "pycharm": {
          "name": "#%%\n"
        }
      },
      "outputs": [
        {
          "output_type": "display_data",
          "data": {
            "text/plain": [
              "<Figure size 1200x600 with 1 Axes>"
            ],
            "image/png": "[encoded data removed]"
          },
          "metadata": {}
        }
      ],
      "source": [
        "# True revenue values\n",
        "true_revenue_dates = test_data['Date']\n",
        "true_revenue = test_data['Revenue']\n",
        "\n",
        "# ARIMA predictions\n",
        "arima_dates = test_data['Date']\n",
        "arima_pred = forecast.values\n",
        "\n",
        "# Plot the true revenue values and the predictions from each model\n",
        "plt.figure(figsize=(12, 6))\n",
        "plt.plot(true_revenue_dates, true_revenue, label=\"True Revenue\", marker='o', linestyle='-')\n",
        "plt.plot(arima_dates, arima_pred, label=\"ARIMA Predictions\", marker='d', linestyle='-.')\n",
        "\n",
        "plt.xlabel(\"Date\")\n",
        "plt.ylabel(\"Revenue\")\n",
        "plt.title(\"Revenue Predictions Comparison: True value vs. ARIMA\")\n",
        "plt.legend()\n",
        "plt.show()"
      ]
    },
    {
      "cell_type": "code",
      "execution_count": 72,
      "metadata": {
        "colab": {
          "base_uri": "https://localhost:8080/"
        },
        "id": "BVRItZrcL1ss",
        "outputId": "8e34eab1-8148-4efc-acfd-a3ea4601e225",
        "pycharm": {
          "name": "#%%\n"
        }
      },
      "outputs": [
        {
          "output_type": "stream",
          "name": "stdout",
          "text": [
            "True revenue value: 221574785.24\n",
            "ARIMA prediction: 205729167.46\n"
          ]
        }
      ],
      "source": [
        "# Randomly select an index from the test set\n",
        "random_index = random.randint(0, len(y_test) - 1)\n",
        "\n",
        "# Get the true revenue value\n",
        "true_revenue_value = y_test.iloc[random_index]\n",
        "\n",
        "# ARIMA prediction\n",
        "arima_prediction = arima_pred[random_index]\n",
        "\n",
        "# Compare the true value and the predictions from all models\n",
        "print(f\"True revenue value: {true_revenue_value:.2f}\")\n",
        "print(f\"ARIMA prediction: {arima_prediction:.2f}\")"
      ]
    },
    {
      "cell_type": "markdown",
      "metadata": {
        "id": "llNSpMzNi2ka",
        "pycharm": {
          "name": "#%% md\n"
        }
      },
      "source": [
        "# <b> Conclusion </b>\n",
        "\n",
        "In conclusion, after comparing the performance of the ARIMA adn LSTM models for monthly revenue forecasting, the ARIMA model emerges as the best choice, with the lowest Mean Absolute Percentage Error (MAPE) of 7.61%. This suggests that the ARIMA model provides the most accurate predictions among the three models evaluated in this study.\n"
      ]
    },
    {
      "cell_type": "code",
      "execution_count": 73,
      "metadata": {
        "colab": {
          "base_uri": "https://localhost:8080/"
        },
        "id": "QFk0nkgEi2wE",
        "outputId": "fb2ac8b0-8184-4227-aadc-34ff6c62e8ae",
        "pycharm": {
          "name": "#%%\n"
        }
      },
      "outputs": [
        {
          "output_type": "stream",
          "name": "stdout",
          "text": [
            "\n",
            "Based on the Mean Absolute Percentage Error (MAPE), the best model for monthly revenue forecasting is:\n",
            "ARIMA with MAPE = 7.61%\n"
          ]
        }
      ],
      "source": [
        "# Conclusion\n",
        "print(\"\\nBased on the Mean Absolute Percentage Error (MAPE), the best model for monthly revenue forecasting is:\")\n",
        "best_model = min([('ARIMA', mape), ('LSTM', mape_lstm)], key=lambda x: x[1])\n",
        "print(f\"{best_model[0]} with MAPE = {best_model[1]:.2f}%\")\n"
      ]
    },
    {
      "cell_type": "markdown",
      "metadata": {
        "id": "uS9tNFBOajk6",
        "pycharm": {
          "name": "#%% md\n"
        }
      },
      "source": [
        "# <b> Save the model </b>"
      ]
    },
    {
      "cell_type": "code",
      "execution_count": 74,
      "metadata": {
        "id": "iwFdVNJDaiGZ",
        "pycharm": {
          "name": "#%%\n"
        }
      },
      "outputs": [],
      "source": [
        "# Save the trained model to a file\n",
        "with open('arima_results.pkl', 'wb') as file:\n",
        "    pickle.dump(arima_results, file)"
      ]
    }
  ],
  "metadata": {
    "accelerator": "GPU",
    "colab": {
      "machine_shape": "hm",
      "provenance": []
    },
    "gpuClass": "standard",
    "kernelspec": {
      "display_name": "Python 3 (ipykernel)",
      "language": "python",
      "name": "python3"
    },
    "language_info": {
      "codemirror_mode": {
        "name": "ipython",
        "version": 3
      },
      "file_extension": ".py",
      "mimetype": "text/x-python",
      "name": "python",
      "nbconvert_exporter": "python",
      "pygments_lexer": "ipython3",
      "version": "3.9.15"
    }
  },
  "nbformat": 4,
  "nbformat_minor": 0
}