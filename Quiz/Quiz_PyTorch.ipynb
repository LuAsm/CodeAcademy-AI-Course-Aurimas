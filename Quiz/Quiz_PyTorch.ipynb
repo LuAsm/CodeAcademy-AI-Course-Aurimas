{
 "cells": [
  {
   "cell_type": "code",
   "execution_count": 1,
   "id": "1f783a83",
   "metadata": {},
   "outputs": [],
   "source": [
    "import torch"
   ]
  },
  {
   "cell_type": "markdown",
   "id": "ed979c32",
   "metadata": {},
   "source": [
    "1. What is PyTorch?"
   ]
  },
  {
   "cell_type": "markdown",
   "id": "eec766f8",
   "metadata": {},
   "source": []
  },
  {
   "cell_type": "markdown",
   "id": "dd25f078",
   "metadata": {},
   "source": [
    "2. Can you explain why a GPU is preferred over CPU for deep learning applications?"
   ]
  },
  {
   "cell_type": "markdown",
   "id": "562d3381",
   "metadata": {},
   "source": []
  },
  {
   "cell_type": "markdown",
   "id": "7beaa3e3",
   "metadata": {},
   "source": [
    "3. How do you define a tensor in PyTorch?"
   ]
  },
  {
   "cell_type": "code",
   "execution_count": null,
   "id": "ec3365f6",
   "metadata": {},
   "outputs": [],
   "source": []
  },
  {
   "cell_type": "markdown",
   "id": "ecfb438c",
   "metadata": {},
   "source": [
    "4. What’s the difference between nn and nn.functional modules in PyTorch?"
   ]
  },
  {
   "cell_type": "code",
   "execution_count": null,
   "id": "2a6a5753",
   "metadata": {},
   "outputs": [],
   "source": []
  },
  {
   "cell_type": "markdown",
   "id": "17092d42",
   "metadata": {},
   "source": [
    "5. When should we use CUDA or multi-processing with PyTorch?"
   ]
  },
  {
   "cell_type": "code",
   "execution_count": null,
   "id": "df53c30a",
   "metadata": {},
   "outputs": [],
   "source": []
  },
  {
   "cell_type": "markdown",
   "id": "63c6254e",
   "metadata": {},
   "source": [
    "6. What are the advantages of using PyTorch over NumPy?"
   ]
  },
  {
   "cell_type": "code",
   "execution_count": null,
   "id": "43aeea3c",
   "metadata": {},
   "outputs": [],
   "source": []
  },
  {
   "cell_type": "markdown",
   "id": "d0463983",
   "metadata": {},
   "source": [
    "7. Create a random torch array of dimension 3 * 4"
   ]
  },
  {
   "cell_type": "code",
   "execution_count": null,
   "id": "86e7b4a5",
   "metadata": {},
   "outputs": [],
   "source": []
  },
  {
   "cell_type": "markdown",
   "id": "1542e0f7",
   "metadata": {},
   "source": [
    "8. View array x in 4 * 4 dimensions"
   ]
  },
  {
   "cell_type": "markdown",
   "id": "daaa3a68",
   "metadata": {},
   "source": []
  },
  {
   "cell_type": "markdown",
   "id": "fc891189",
   "metadata": {},
   "source": [
    "9. Check the size of a torch tensor"
   ]
  },
  {
   "cell_type": "markdown",
   "id": "7bb24805",
   "metadata": {},
   "source": []
  },
  {
   "cell_type": "markdown",
   "id": "a214beda",
   "metadata": {},
   "source": [
    "10. Convert from torch tensor to numpy"
   ]
  },
  {
   "cell_type": "code",
   "execution_count": null,
   "id": "d793462e",
   "metadata": {},
   "outputs": [],
   "source": []
  },
  {
   "cell_type": "markdown",
   "id": "9dedd81c",
   "metadata": {},
   "source": [
    "11. Convert from numpy to torch tensor"
   ]
  },
  {
   "cell_type": "code",
   "execution_count": null,
   "id": "76a8904f",
   "metadata": {},
   "outputs": [],
   "source": []
  },
  {
   "cell_type": "markdown",
   "id": "8c11ba33",
   "metadata": {},
   "source": [
    "12. Check if CUDA and GPU are available"
   ]
  },
  {
   "cell_type": "code",
   "execution_count": null,
   "id": "808c93db",
   "metadata": {},
   "outputs": [],
   "source": []
  },
  {
   "cell_type": "markdown",
   "id": "bcd67f7b",
   "metadata": {},
   "source": [
    "13. Create a variable x in PyTorch, whose grad will be tracked"
   ]
  },
  {
   "cell_type": "code",
   "execution_count": null,
   "id": "289b3aa6",
   "metadata": {},
   "outputs": [],
   "source": []
  },
  {
   "cell_type": "markdown",
   "id": "793043b5",
   "metadata": {},
   "source": [
    "14. Create tensor with [2, 3], [4, 8]"
   ]
  },
  {
   "cell_type": "code",
   "execution_count": null,
   "id": "b0dd012d",
   "metadata": {},
   "outputs": [],
   "source": []
  },
  {
   "cell_type": "markdown",
   "id": "48039d87",
   "metadata": {},
   "source": [
    "15. Create a torch Variable using a"
   ]
  },
  {
   "cell_type": "code",
   "execution_count": null,
   "id": "f3eb4ba3",
   "metadata": {},
   "outputs": [],
   "source": []
  },
  {
   "cell_type": "markdown",
   "id": "7f473f56",
   "metadata": {},
   "source": [
    "16. Three steps of backward propagation"
   ]
  },
  {
   "cell_type": "markdown",
   "id": "2776276a",
   "metadata": {},
   "source": []
  },
  {
   "cell_type": "markdown",
   "id": "292aace8",
   "metadata": {},
   "source": [
    "17. Two ways to saving PyTorch models"
   ]
  },
  {
   "cell_type": "markdown",
   "id": "07d5d607",
   "metadata": {},
   "source": []
  },
  {
   "cell_type": "markdown",
   "id": "1c277c7f",
   "metadata": {},
   "source": [
    "18. Two ways to load PyTorch models"
   ]
  },
  {
   "cell_type": "markdown",
   "id": "041cceab",
   "metadata": {},
   "source": []
  },
  {
   "cell_type": "markdown",
   "id": "901a6dcb",
   "metadata": {},
   "source": [
    "19. Set default dtype of PyTorch to torch.float64"
   ]
  },
  {
   "cell_type": "code",
   "execution_count": null,
   "id": "34f4d3cf",
   "metadata": {},
   "outputs": [],
   "source": []
  },
  {
   "cell_type": "markdown",
   "id": "1d8a394b",
   "metadata": {},
   "source": [
    "20. Write default type of nn.layers"
   ]
  },
  {
   "cell_type": "code",
   "execution_count": null,
   "id": "43536747",
   "metadata": {},
   "outputs": [],
   "source": []
  },
  {
   "cell_type": "markdown",
   "id": "9f9e8d4d",
   "metadata": {},
   "source": [
    "21. Write matrix multiplication x with w"
   ]
  },
  {
   "cell_type": "markdown",
   "id": "ec140a7e",
   "metadata": {},
   "source": []
  },
  {
   "cell_type": "markdown",
   "id": "136dcdbc",
   "metadata": {},
   "source": [
    "22. Use numpy data in PyTorch"
   ]
  },
  {
   "cell_type": "markdown",
   "id": "734e326e",
   "metadata": {},
   "source": []
  },
  {
   "cell_type": "markdown",
   "id": "14896dfd",
   "metadata": {},
   "source": [
    "23. Concatenate torch tensors in a particular direction"
   ]
  },
  {
   "cell_type": "markdown",
   "id": "a6952229",
   "metadata": {},
   "source": []
  },
  {
   "cell_type": "markdown",
   "id": "dcd8fda9",
   "metadata": {},
   "source": [
    "24. Convert tensor size from 3 to (3, 1)"
   ]
  },
  {
   "cell_type": "code",
   "execution_count": null,
   "id": "1323a66b",
   "metadata": {},
   "outputs": [],
   "source": []
  },
  {
   "cell_type": "markdown",
   "id": "d493dba7",
   "metadata": {},
   "source": [
    "25. What are the main differences between Tensorflow and PyTorch?"
   ]
  },
  {
   "cell_type": "code",
   "execution_count": null,
   "id": "212b3d4c",
   "metadata": {},
   "outputs": [],
   "source": []
  }
 ],
 "metadata": {
  "kernelspec": {
   "display_name": "Python 3 (ipykernel)",
   "language": "python",
   "name": "python3"
  },
  "language_info": {
   "codemirror_mode": {
    "name": "ipython",
    "version": 3
   },
   "file_extension": ".py",
   "mimetype": "text/x-python",
   "name": "python",
   "nbconvert_exporter": "python",
   "pygments_lexer": "ipython3",
   "version": "3.9.15"
  }
 },
 "nbformat": 4,
 "nbformat_minor": 5
}
