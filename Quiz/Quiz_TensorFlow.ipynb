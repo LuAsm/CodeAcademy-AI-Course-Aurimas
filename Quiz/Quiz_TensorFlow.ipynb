{
 "cells": [
  {
   "cell_type": "code",
   "execution_count": null,
   "id": "7ad2c3b2",
   "metadata": {},
   "outputs": [],
   "source": [
    "import warnings\n",
    "warnings.filterwarnings('ignore')\n",
    "import tensorflow as tf"
   ]
  },
  {
   "cell_type": "markdown",
   "id": "f202071b",
   "metadata": {},
   "source": [
    "1. What is TensorFlow?"
   ]
  },
  {
   "cell_type": "markdown",
   "id": "39c4cb2d",
   "metadata": {},
   "source": []
  },
  {
   "cell_type": "markdown",
   "id": "9807ddfa",
   "metadata": {},
   "source": [
    "2. What is a tensor?"
   ]
  },
  {
   "cell_type": "markdown",
   "id": "6e37a5dc",
   "metadata": {},
   "source": []
  },
  {
   "cell_type": "markdown",
   "id": "97cdb3b6",
   "metadata": {},
   "source": [
    "3. What is the rank of a tensor?"
   ]
  },
  {
   "cell_type": "markdown",
   "id": "5c02624a",
   "metadata": {},
   "source": []
  },
  {
   "cell_type": "markdown",
   "id": "74ac7fe2",
   "metadata": {},
   "source": [
    "4. What is a `rank-0` tensor?"
   ]
  },
  {
   "cell_type": "markdown",
   "id": "6f87d37f",
   "metadata": {},
   "source": []
  },
  {
   "cell_type": "markdown",
   "id": "4050b76d",
   "metadata": {},
   "source": [
    "5. How would you implement a `rank-0` tensor in Python?"
   ]
  },
  {
   "cell_type": "code",
   "execution_count": null,
   "id": "1bd4ceb1",
   "metadata": {},
   "outputs": [],
   "source": []
  },
  {
   "cell_type": "markdown",
   "id": "de47dea8",
   "metadata": {},
   "source": [
    "6. What is a `rank-1` tensor?"
   ]
  },
  {
   "cell_type": "markdown",
   "id": "090c7261",
   "metadata": {},
   "source": []
  },
  {
   "cell_type": "markdown",
   "id": "d365dbdf",
   "metadata": {},
   "source": [
    "7. What is another name for a `rank-1` tensor?\n"
   ]
  },
  {
   "cell_type": "markdown",
   "id": "14e8d893",
   "metadata": {},
   "source": []
  },
  {
   "cell_type": "markdown",
   "id": "c45b49bc",
   "metadata": {},
   "source": [
    "8. How would you implement a `rank-1` tensor in Python?"
   ]
  },
  {
   "cell_type": "code",
   "execution_count": null,
   "id": "6dbda1f4",
   "metadata": {},
   "outputs": [],
   "source": []
  },
  {
   "cell_type": "markdown",
   "id": "64688003",
   "metadata": {},
   "source": [
    "9. What is a `rank-2` tensor?"
   ]
  },
  {
   "cell_type": "markdown",
   "id": "7b85aa08",
   "metadata": {},
   "source": []
  },
  {
   "cell_type": "markdown",
   "id": "0529c828",
   "metadata": {},
   "source": [
    "10. What is another name for a `rank-2` tensor?"
   ]
  },
  {
   "cell_type": "markdown",
   "id": "3712e980",
   "metadata": {},
   "source": []
  },
  {
   "cell_type": "markdown",
   "id": "528d441c",
   "metadata": {},
   "source": [
    "11. How would you implement a `rank-2` tensor in Python?"
   ]
  },
  {
   "cell_type": "code",
   "execution_count": null,
   "id": "0f2d923a",
   "metadata": {},
   "outputs": [],
   "source": []
  },
  {
   "cell_type": "markdown",
   "id": "4aea447f",
   "metadata": {},
   "source": [
    "12. What does the shape of a tensor signify?"
   ]
  },
  {
   "cell_type": "markdown",
   "id": "52c8f708",
   "metadata": {},
   "source": []
  },
  {
   "cell_type": "markdown",
   "id": "93763683",
   "metadata": {},
   "source": [
    "13. How can you determine the number of axes of a tensor in TensorFlow?"
   ]
  },
  {
   "cell_type": "markdown",
   "id": "78398d0e",
   "metadata": {},
   "source": [
    "\n"
   ]
  },
  {
   "cell_type": "code",
   "execution_count": null,
   "id": "5e1d200a",
   "metadata": {},
   "outputs": [],
   "source": []
  },
  {
   "cell_type": "markdown",
   "id": "7bc55154",
   "metadata": {},
   "source": [
    "14. What is the size of a tensor?"
   ]
  },
  {
   "cell_type": "markdown",
   "id": "289eed2a",
   "metadata": {},
   "source": []
  },
  {
   "cell_type": "markdown",
   "id": "9d395c22",
   "metadata": {},
   "source": [
    "15. How do you calculate the size of a tensor in TensorFlow?"
   ]
  },
  {
   "cell_type": "markdown",
   "id": "aedeaf8c",
   "metadata": {},
   "source": [
    "\n"
   ]
  },
  {
   "cell_type": "code",
   "execution_count": null,
   "id": "e7e37efc",
   "metadata": {},
   "outputs": [],
   "source": []
  },
  {
   "cell_type": "markdown",
   "id": "3abf57f5",
   "metadata": {},
   "source": [
    "16. How do you convert a tensor to a NumPy array?"
   ]
  },
  {
   "cell_type": "markdown",
   "id": "8abf222a",
   "metadata": {},
   "source": [
    "\n"
   ]
  },
  {
   "cell_type": "code",
   "execution_count": null,
   "id": "1317c808",
   "metadata": {},
   "outputs": [],
   "source": []
  },
  {
   "cell_type": "code",
   "execution_count": null,
   "id": "74c3a8fd",
   "metadata": {},
   "outputs": [],
   "source": []
  },
  {
   "cell_type": "markdown",
   "id": "11c781d4",
   "metadata": {},
   "source": [
    "17. How to convert Numpy array to TensorFlow tensor?"
   ]
  },
  {
   "cell_type": "markdown",
   "id": "79d60197",
   "metadata": {},
   "source": []
  },
  {
   "cell_type": "markdown",
   "id": "f88351be",
   "metadata": {},
   "source": [
    "18. How do you add tensors?"
   ]
  },
  {
   "cell_type": "markdown",
   "id": "2bc1faf6",
   "metadata": {},
   "source": []
  },
  {
   "cell_type": "code",
   "execution_count": null,
   "id": "e1acfdfb",
   "metadata": {},
   "outputs": [],
   "source": []
  },
  {
   "cell_type": "code",
   "execution_count": null,
   "id": "60b00c13",
   "metadata": {},
   "outputs": [],
   "source": []
  },
  {
   "cell_type": "markdown",
   "id": "4dac0456",
   "metadata": {},
   "source": [
    "19. How do you perform element-wise multiplication on tensors?"
   ]
  },
  {
   "cell_type": "markdown",
   "id": "13b386a7",
   "metadata": {},
   "source": []
  },
  {
   "cell_type": "code",
   "execution_count": null,
   "id": "37d6aa85",
   "metadata": {},
   "outputs": [],
   "source": []
  },
  {
   "cell_type": "code",
   "execution_count": null,
   "id": "90f8cd3f",
   "metadata": {},
   "outputs": [],
   "source": []
  },
  {
   "cell_type": "markdown",
   "id": "7f46f5e1",
   "metadata": {},
   "source": [
    "20. How do you multiply matrices in TensorFlow?"
   ]
  },
  {
   "cell_type": "markdown",
   "id": "d5662fe7",
   "metadata": {},
   "source": []
  },
  {
   "cell_type": "code",
   "execution_count": null,
   "id": "2609096c",
   "metadata": {},
   "outputs": [],
   "source": []
  },
  {
   "cell_type": "code",
   "execution_count": null,
   "id": "88fccedc",
   "metadata": {},
   "outputs": [],
   "source": []
  },
  {
   "cell_type": "markdown",
   "id": "a5aa2364",
   "metadata": {},
   "source": [
    "21. What is eager execution in TensorFlow?"
   ]
  },
  {
   "cell_type": "markdown",
   "id": "afd3b239",
   "metadata": {},
   "source": []
  },
  {
   "cell_type": "markdown",
   "id": "334cc4e3",
   "metadata": {},
   "source": [
    "22. How to get the TensorFlow version?"
   ]
  },
  {
   "cell_type": "code",
   "execution_count": null,
   "id": "5ce1c859",
   "metadata": {},
   "outputs": [],
   "source": []
  },
  {
   "cell_type": "markdown",
   "id": "5be5c3e0",
   "metadata": {},
   "source": [
    "23. What is TensorBoard?\n"
   ]
  },
  {
   "cell_type": "markdown",
   "id": "83a31227",
   "metadata": {},
   "source": []
  },
  {
   "cell_type": "markdown",
   "id": "8fd2a236",
   "metadata": {},
   "source": [
    "24. What is the backend of TensorFlow"
   ]
  },
  {
   "cell_type": "markdown",
   "id": "235f7c6f",
   "metadata": {},
   "source": []
  },
  {
   "cell_type": "markdown",
   "id": "535ac526",
   "metadata": {},
   "source": [
    "25. Why Tensorflow uses computational\n",
    "graphs?"
   ]
  },
  {
   "cell_type": "markdown",
   "id": "9c5ece52",
   "metadata": {},
   "source": []
  }
 ],
 "metadata": {
  "kernelspec": {
   "display_name": "Python 3 (ipykernel)",
   "language": "python",
   "name": "python3"
  },
  "language_info": {
   "codemirror_mode": {
    "name": "ipython",
    "version": 3
   },
   "file_extension": ".py",
   "mimetype": "text/x-python",
   "name": "python",
   "nbconvert_exporter": "python",
   "pygments_lexer": "ipython3",
   "version": "3.9.15"
  }
 },
 "nbformat": 4,
 "nbformat_minor": 5
}
