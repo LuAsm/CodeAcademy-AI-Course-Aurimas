{
  "cells": [
    {
      "cell_type": "markdown",
      "source": [
        "<a href=\"https://colab.research.google.com/github/aurimas13/CodeAcademy-AI-Course/blob/main/Notebooks_In_Progress/K-means_demo_blank.ipynb\" target=\"_parent\"><img src=\"https://colab.research.google.com/assets/colab-badge.svg\" alt=\"Open In Colab\"/></a>"
      ],
      "metadata": {
        "id": "TBX4cwHP6YBL"
      },
      "id": "TBX4cwHP6YBL"
    },
    {
      "cell_type": "code",
      "execution_count": null,
      "id": "f8e8570a-4fd9-4678-85c2-3402e5565170",
      "metadata": {
        "id": "f8e8570a-4fd9-4678-85c2-3402e5565170"
      },
      "outputs": [],
      "source": [
        "import pandas as pd\n",
        "import numpy as np\n",
        "import matplotlib.pyplot as plt\n",
        "import seaborn as sns\n",
        "import sklearn\n",
        "import warnings\n",
        "warnings.filterwarnings('ignore')\n",
        "warnings.simplefilter('ignore')\n",
        "from kneed import KneeLocator\n",
        "from sklearn.datasets import make_blobs\n",
        "from sklearn.cluster import KMeans\n",
        "from sklearn.metrics import silhouette_score\n",
        "from sklearn.preprocessing import StandardScaler"
      ]
    },
    {
      "cell_type": "markdown",
      "id": "60b84d41-de9a-48c5-a4e7-6a6af814a4cf",
      "metadata": {
        "id": "60b84d41-de9a-48c5-a4e7-6a6af814a4cf"
      },
      "source": [
        "# <b> K-means clustering demonstration </b>\n"
      ]
    },
    {
      "cell_type": "markdown",
      "id": "4bbf5f0a-f7f8-47d9-8e34-c8e4e53acd7f",
      "metadata": {
        "id": "4bbf5f0a-f7f8-47d9-8e34-c8e4e53acd7f"
      },
      "source": [
        "Clustering helps identify two qualities of data:\n",
        "\n",
        "+ Meaningfulness\n",
        "+ Usefulness"
      ]
    },
    {
      "cell_type": "markdown",
      "id": "3a553b38-45e8-4645-9dad-85e146326af2",
      "metadata": {
        "id": "3a553b38-45e8-4645-9dad-85e146326af2"
      },
      "source": [
        "## <b> Revisiting k-means algorithm"
      ]
    },
    {
      "cell_type": "markdown",
      "id": "876a1773-517a-4d93-924d-753f30741874",
      "metadata": {
        "id": "876a1773-517a-4d93-924d-753f30741874"
      },
      "source": [
        "![Screenshot 2022-12-14 at 16.39.11.png](attachment:f7bd1765-a36c-4c95-b75b-6a804597077e.png)"
      ]
    },
    {
      "cell_type": "markdown",
      "id": "11c7a162-9d28-4569-98d5-dfca92e7e11f",
      "metadata": {
        "id": "11c7a162-9d28-4569-98d5-dfca92e7e11f"
      },
      "source": [
        "- Talked in 13-15 slides"
      ]
    },
    {
      "cell_type": "markdown",
      "id": "9c915927-9e7c-4bd2-ac4b-63f1fedfc076",
      "metadata": {
        "id": "9c915927-9e7c-4bd2-ac4b-63f1fedfc076"
      },
      "source": [
        "# Writing Your First K-Means Clustering Code in Python\n",
        "\n",
        "+ There is a nice implementation of k-means clustering in Python from the popular machine learning package [scikit-learn](https://scikit-learn.org/stable/)."
      ]
    },
    {
      "cell_type": "code",
      "execution_count": null,
      "id": "7b8cbce5-afc1-4132-856a-50a15e37e43b",
      "metadata": {
        "id": "7b8cbce5-afc1-4132-856a-50a15e37e43b"
      },
      "outputs": [],
      "source": []
    },
    {
      "cell_type": "code",
      "execution_count": null,
      "id": "29df2274-1ec5-4947-9818-700fec25fc6c",
      "metadata": {
        "id": "29df2274-1ec5-4947-9818-700fec25fc6c"
      },
      "outputs": [],
      "source": []
    },
    {
      "cell_type": "code",
      "execution_count": null,
      "id": "826585a0-fca0-4ea1-a5de-3c12a3b52f36",
      "metadata": {
        "id": "826585a0-fca0-4ea1-a5de-3c12a3b52f36"
      },
      "outputs": [],
      "source": []
    },
    {
      "cell_type": "code",
      "execution_count": null,
      "id": "d84b38d2-2ab3-4ca2-8041-ad9c7883b526",
      "metadata": {
        "id": "d84b38d2-2ab3-4ca2-8041-ad9c7883b526"
      },
      "outputs": [],
      "source": []
    },
    {
      "cell_type": "code",
      "execution_count": null,
      "id": "10a078e7-3070-4327-914a-7c8e2bc078b9",
      "metadata": {
        "id": "10a078e7-3070-4327-914a-7c8e2bc078b9"
      },
      "outputs": [],
      "source": []
    },
    {
      "cell_type": "code",
      "execution_count": null,
      "id": "0a029fe3-7d0d-49da-960e-af1bf455d000",
      "metadata": {
        "id": "0a029fe3-7d0d-49da-960e-af1bf455d000"
      },
      "outputs": [],
      "source": []
    },
    {
      "cell_type": "code",
      "execution_count": null,
      "id": "b10aec75-bcb4-4e0f-a25b-ffcabd84db0e",
      "metadata": {
        "id": "b10aec75-bcb4-4e0f-a25b-ffcabd84db0e"
      },
      "outputs": [],
      "source": []
    },
    {
      "cell_type": "code",
      "execution_count": null,
      "id": "a2098af2-ad91-4c89-9a1c-86da77c5a807",
      "metadata": {
        "id": "a2098af2-ad91-4c89-9a1c-86da77c5a807"
      },
      "outputs": [],
      "source": []
    },
    {
      "cell_type": "code",
      "execution_count": null,
      "id": "61835d3a-1efd-4bb8-8f15-1bfb3f0e174f",
      "metadata": {
        "id": "61835d3a-1efd-4bb8-8f15-1bfb3f0e174f"
      },
      "outputs": [],
      "source": []
    },
    {
      "cell_type": "code",
      "execution_count": null,
      "id": "c4d574c0-767f-405d-966f-7af6acbb3690",
      "metadata": {
        "id": "c4d574c0-767f-405d-966f-7af6acbb3690"
      },
      "outputs": [],
      "source": []
    },
    {
      "cell_type": "markdown",
      "id": "02d3854b-9826-464e-965a-6c427670ba25",
      "metadata": {
        "id": "02d3854b-9826-464e-965a-6c427670ba25"
      },
      "source": [
        "# <b> Choosing the Appropriate Number of Clusters\n"
      ]
    },
    {
      "cell_type": "markdown",
      "id": "75358ffb-b76b-467e-86af-21a6cb90198c",
      "metadata": {
        "id": "75358ffb-b76b-467e-86af-21a6cb90198c"
      },
      "source": [
        "+ The elbow method\n",
        "+ The silhouette coefficient"
      ]
    },
    {
      "cell_type": "code",
      "execution_count": null,
      "id": "b04b3b59-bd40-49f7-8291-52e0afcd6082",
      "metadata": {
        "id": "b04b3b59-bd40-49f7-8291-52e0afcd6082"
      },
      "outputs": [],
      "source": []
    },
    {
      "cell_type": "code",
      "execution_count": null,
      "id": "fd37a7a0-a162-44ff-a275-8b982f13ae5b",
      "metadata": {
        "id": "fd37a7a0-a162-44ff-a275-8b982f13ae5b"
      },
      "outputs": [],
      "source": []
    },
    {
      "cell_type": "code",
      "execution_count": null,
      "id": "a00a9dcc-75e8-423e-a0a7-3166a5776f42",
      "metadata": {
        "id": "a00a9dcc-75e8-423e-a0a7-3166a5776f42"
      },
      "outputs": [],
      "source": []
    },
    {
      "cell_type": "code",
      "execution_count": null,
      "id": "c90b9001-8516-4424-ab7e-e855b2cc6892",
      "metadata": {
        "id": "c90b9001-8516-4424-ab7e-e855b2cc6892"
      },
      "outputs": [],
      "source": []
    },
    {
      "cell_type": "code",
      "execution_count": null,
      "id": "d70486b5-71cc-4b3d-83d2-510d3f7f5586",
      "metadata": {
        "id": "d70486b5-71cc-4b3d-83d2-510d3f7f5586"
      },
      "outputs": [],
      "source": []
    },
    {
      "cell_type": "code",
      "execution_count": null,
      "id": "4cfc9d1a-1345-4092-b604-8a2b1ef88347",
      "metadata": {
        "id": "4cfc9d1a-1345-4092-b604-8a2b1ef88347"
      },
      "outputs": [],
      "source": []
    },
    {
      "cell_type": "markdown",
      "id": "23728c50-8d12-4913-b413-463a1fb03fd1",
      "metadata": {
        "id": "23728c50-8d12-4913-b413-463a1fb03fd1"
      },
      "source": [
        "# <b> Evaluating Clustering Performance Using Advanced Techniques"
      ]
    },
    {
      "cell_type": "markdown",
      "id": "076ce6de-b6e4-4ce8-aa5a-b707b1cde5b6",
      "metadata": {
        "id": "076ce6de-b6e4-4ce8-aa5a-b707b1cde5b6"
      },
      "source": [
        "The elbow method and silhouette coefficient evaluate clustering performance without ground truth labels. Ground truth labels categorize data points into groups based on assignment by a human or an existing algorithm. These types of metrics do their best to suggest the correct number of clusters but can be deceiving when used without context."
      ]
    },
    {
      "cell_type": "markdown",
      "id": "24fb2b25-b797-42b2-802e-64af30356c8b",
      "metadata": {
        "id": "24fb2b25-b797-42b2-802e-64af30356c8b"
      },
      "source": [
        "## Ground truth metrics"
      ]
    },
    {
      "cell_type": "code",
      "execution_count": null,
      "id": "03e3a1b2-b959-43f7-b27a-5b2db7234453",
      "metadata": {
        "id": "03e3a1b2-b959-43f7-b27a-5b2db7234453"
      },
      "outputs": [],
      "source": []
    },
    {
      "cell_type": "code",
      "execution_count": null,
      "id": "53de94e0-7ba1-49c8-af49-427f7f00cd08",
      "metadata": {
        "id": "53de94e0-7ba1-49c8-af49-427f7f00cd08"
      },
      "outputs": [],
      "source": []
    },
    {
      "cell_type": "code",
      "execution_count": null,
      "id": "78afd243-bc87-49bc-9921-73eff3cedea8",
      "metadata": {
        "id": "78afd243-bc87-49bc-9921-73eff3cedea8"
      },
      "outputs": [],
      "source": []
    },
    {
      "cell_type": "code",
      "execution_count": null,
      "id": "595030e3-142c-4e0d-964c-211f37a1ea99",
      "metadata": {
        "id": "595030e3-142c-4e0d-964c-211f37a1ea99"
      },
      "outputs": [],
      "source": []
    },
    {
      "cell_type": "code",
      "execution_count": null,
      "id": "0aff6399-3284-4c39-b13c-b91113f82f31",
      "metadata": {
        "id": "0aff6399-3284-4c39-b13c-b91113f82f31"
      },
      "outputs": [],
      "source": []
    },
    {
      "cell_type": "code",
      "execution_count": null,
      "id": "9b250fa2-f292-4e08-ae5d-fed1bff92fa2",
      "metadata": {
        "id": "9b250fa2-f292-4e08-ae5d-fed1bff92fa2"
      },
      "outputs": [],
      "source": []
    },
    {
      "cell_type": "code",
      "execution_count": null,
      "id": "fdeffc54-3996-457c-bd49-c115cc95e4f3",
      "metadata": {
        "id": "fdeffc54-3996-457c-bd49-c115cc95e4f3"
      },
      "outputs": [],
      "source": []
    },
    {
      "cell_type": "code",
      "execution_count": null,
      "id": "8319a84a-4bfc-4893-a627-8b6c26fc1b12",
      "metadata": {
        "id": "8319a84a-4bfc-4893-a627-8b6c26fc1b12"
      },
      "outputs": [],
      "source": []
    },
    {
      "cell_type": "code",
      "execution_count": null,
      "id": "804e16ad-13fc-40db-b2c5-ef1fef7bb665",
      "metadata": {
        "id": "804e16ad-13fc-40db-b2c5-ef1fef7bb665"
      },
      "outputs": [],
      "source": []
    },
    {
      "cell_type": "code",
      "execution_count": null,
      "id": "a796bd59-e355-49c6-a03a-675d2dad409b",
      "metadata": {
        "id": "a796bd59-e355-49c6-a03a-675d2dad409b"
      },
      "outputs": [],
      "source": []
    },
    {
      "cell_type": "markdown",
      "id": "20f68eb9-6704-44e0-98ec-40b062229de8",
      "metadata": {
        "id": "20f68eb9-6704-44e0-98ec-40b062229de8"
      },
      "source": [
        "# <b> K-Means Clustering in Python -- Synthetic Data"
      ]
    },
    {
      "cell_type": "markdown",
      "id": "951ceefd-5966-4478-93e3-b2cd07742260",
      "metadata": {
        "id": "951ceefd-5966-4478-93e3-b2cd07742260"
      },
      "source": [
        "## K-Means Clustering in Python"
      ]
    },
    {
      "cell_type": "code",
      "execution_count": null,
      "id": "304200a8-64cf-4449-923b-8907889145a3",
      "metadata": {
        "id": "304200a8-64cf-4449-923b-8907889145a3"
      },
      "outputs": [],
      "source": []
    },
    {
      "cell_type": "code",
      "execution_count": null,
      "id": "6453935f-f696-4c2d-ad61-bd0d800c5cf8",
      "metadata": {
        "id": "6453935f-f696-4c2d-ad61-bd0d800c5cf8"
      },
      "outputs": [],
      "source": []
    },
    {
      "cell_type": "code",
      "execution_count": null,
      "id": "42a9bdbf-b717-4e08-8967-77b936fb9c3b",
      "metadata": {
        "id": "42a9bdbf-b717-4e08-8967-77b936fb9c3b"
      },
      "outputs": [],
      "source": []
    },
    {
      "cell_type": "code",
      "execution_count": null,
      "id": "d924e5c8-73b7-4a8d-954c-0b91564eb10e",
      "metadata": {
        "id": "d924e5c8-73b7-4a8d-954c-0b91564eb10e"
      },
      "outputs": [],
      "source": []
    },
    {
      "cell_type": "code",
      "execution_count": null,
      "id": "0278a510-3376-4ed5-9497-6fcefc178aa2",
      "metadata": {
        "id": "0278a510-3376-4ed5-9497-6fcefc178aa2"
      },
      "outputs": [],
      "source": []
    },
    {
      "cell_type": "markdown",
      "id": "73957e01-3af0-4aa6-ba30-f8660a9a35aa",
      "metadata": {
        "id": "73957e01-3af0-4aa6-ba30-f8660a9a35aa"
      },
      "source": [
        "The data variable contains all the gene expression values from 20,531 genes, while true_label_names are the cancer types for each of the 881 samples containing abbreviations of cancer types:\n",
        "\n",
        "BRCA: Breast invasive carcinoma <br>\n",
        "COAD: Colon adenocarcinoma <br>\n",
        "KIRC: Kidney renal clear cell carcinoma <br>\n",
        "LUAD: Lung adenocarcinoma <br>\n",
        "PRAD: Prostate adenocarcinoma <br>"
      ]
    },
    {
      "cell_type": "code",
      "execution_count": null,
      "id": "3203cd87-cdcc-4b65-b8f0-ce17a8116066",
      "metadata": {
        "id": "3203cd87-cdcc-4b65-b8f0-ce17a8116066"
      },
      "outputs": [],
      "source": []
    },
    {
      "cell_type": "code",
      "execution_count": null,
      "id": "72c14758-4371-4c43-8155-f41f1382ac54",
      "metadata": {
        "id": "72c14758-4371-4c43-8155-f41f1382ac54"
      },
      "outputs": [],
      "source": []
    },
    {
      "cell_type": "code",
      "execution_count": null,
      "id": "a7653643-0df8-4008-a5c5-0e1c30f24b44",
      "metadata": {
        "id": "a7653643-0df8-4008-a5c5-0e1c30f24b44"
      },
      "outputs": [],
      "source": []
    },
    {
      "cell_type": "code",
      "execution_count": null,
      "id": "0f861d0c-5afa-459a-ace9-df43d076e71c",
      "metadata": {
        "id": "0f861d0c-5afa-459a-ace9-df43d076e71c"
      },
      "outputs": [],
      "source": []
    },
    {
      "cell_type": "code",
      "execution_count": null,
      "id": "f19c6da0-f808-44a6-911f-4cd8c90ba7ab",
      "metadata": {
        "id": "f19c6da0-f808-44a6-911f-4cd8c90ba7ab"
      },
      "outputs": [],
      "source": []
    },
    {
      "cell_type": "code",
      "execution_count": null,
      "id": "ef869cc4-0304-48d5-9beb-4aacab62ac50",
      "metadata": {
        "id": "ef869cc4-0304-48d5-9beb-4aacab62ac50"
      },
      "outputs": [],
      "source": []
    },
    {
      "cell_type": "code",
      "execution_count": null,
      "id": "2b8bf7ad-adc5-4027-be80-1123d32d1a0b",
      "metadata": {
        "id": "2b8bf7ad-adc5-4027-be80-1123d32d1a0b"
      },
      "outputs": [],
      "source": []
    },
    {
      "cell_type": "code",
      "execution_count": null,
      "id": "a0a6c7e9-722d-4eac-b712-150e9a850036",
      "metadata": {
        "id": "a0a6c7e9-722d-4eac-b712-150e9a850036"
      },
      "outputs": [],
      "source": []
    },
    {
      "cell_type": "code",
      "execution_count": null,
      "id": "8b0af022-fde8-4718-a25c-feaec1d91e0d",
      "metadata": {
        "id": "8b0af022-fde8-4718-a25c-feaec1d91e0d"
      },
      "outputs": [],
      "source": []
    },
    {
      "cell_type": "code",
      "execution_count": null,
      "id": "1221e67e-7cba-4de3-885f-bfe5d6511c2f",
      "metadata": {
        "id": "1221e67e-7cba-4de3-885f-bfe5d6511c2f"
      },
      "outputs": [],
      "source": []
    },
    {
      "cell_type": "code",
      "execution_count": null,
      "id": "7aa0d546-7a9d-421d-9587-fd0bb454ee05",
      "metadata": {
        "id": "7aa0d546-7a9d-421d-9587-fd0bb454ee05"
      },
      "outputs": [],
      "source": []
    },
    {
      "cell_type": "code",
      "execution_count": null,
      "id": "8fc3155a-7e11-455a-9337-92390ba8d3b1",
      "metadata": {
        "id": "8fc3155a-7e11-455a-9337-92390ba8d3b1"
      },
      "outputs": [],
      "source": []
    },
    {
      "cell_type": "code",
      "execution_count": null,
      "id": "e9694cf6-54b8-4db3-918f-a1397987f5bd",
      "metadata": {
        "id": "e9694cf6-54b8-4db3-918f-a1397987f5bd"
      },
      "outputs": [],
      "source": []
    },
    {
      "cell_type": "code",
      "execution_count": null,
      "id": "1076e709-06a3-43bd-92fd-28199b742a1d",
      "metadata": {
        "id": "1076e709-06a3-43bd-92fd-28199b742a1d"
      },
      "outputs": [],
      "source": []
    },
    {
      "cell_type": "code",
      "execution_count": null,
      "id": "23eabcdd-ba08-4529-b8b4-692accec0800",
      "metadata": {
        "id": "23eabcdd-ba08-4529-b8b4-692accec0800"
      },
      "outputs": [],
      "source": []
    },
    {
      "cell_type": "markdown",
      "id": "26893f47-83a1-4a15-8a46-4cb8c7421ca6",
      "metadata": {
        "id": "26893f47-83a1-4a15-8a46-4cb8c7421ca6"
      },
      "source": [
        "## <b> Tuning a K-Means Clustering Pipeline"
      ]
    },
    {
      "cell_type": "code",
      "execution_count": null,
      "id": "f1784b46-1fcb-4350-b6f5-aff175abbccb",
      "metadata": {
        "id": "f1784b46-1fcb-4350-b6f5-aff175abbccb"
      },
      "outputs": [],
      "source": []
    },
    {
      "cell_type": "code",
      "execution_count": null,
      "id": "06b43132-760f-4431-a4ec-17bdc4c1ba7d",
      "metadata": {
        "id": "06b43132-760f-4431-a4ec-17bdc4c1ba7d"
      },
      "outputs": [],
      "source": []
    },
    {
      "cell_type": "code",
      "execution_count": null,
      "id": "5742ab1b-6ee9-44a3-9334-d33a613936dd",
      "metadata": {
        "id": "5742ab1b-6ee9-44a3-9334-d33a613936dd"
      },
      "outputs": [],
      "source": []
    },
    {
      "cell_type": "code",
      "execution_count": null,
      "id": "97061353-7952-4061-a038-92b3c5e1ef62",
      "metadata": {
        "id": "97061353-7952-4061-a038-92b3c5e1ef62"
      },
      "outputs": [],
      "source": []
    }
  ],
  "metadata": {
    "kernelspec": {
      "display_name": "Python 3 (ipykernel)",
      "language": "python",
      "name": "python3"
    },
    "language_info": {
      "codemirror_mode": {
        "name": "ipython",
        "version": 3
      },
      "file_extension": ".py",
      "mimetype": "text/x-python",
      "name": "python",
      "nbconvert_exporter": "python",
      "pygments_lexer": "ipython3",
      "version": "3.9.9"
    },
    "colab": {
      "provenance": []
    }
  },
  "nbformat": 4,
  "nbformat_minor": 5
}