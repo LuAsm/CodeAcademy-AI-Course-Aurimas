{
 "cells": [
  {
   "cell_type": "markdown",
   "id": "5fb88418-4b64-4bb1-9a8d-32b901cf7598",
   "metadata": {},
   "source": [
    "## Combining what we learnt about PyTorch, so Let’s Build a Neural Network\n",
    "\n",
    "Building a neural network model from scratch in PyTorch is easier than it sounds and you have noticed when we looked at some examples last week.\n",
    "\n",
    "We’ll build a model around the Iris dataset for two reasons:\n",
    "\n",
    "+ No data preparation is needed — the dataset is simple to understand, clean, and ready for supervised machine learning classification.\n",
    "+ You don’t need a huge network to get accurate results — which makes visualizing the network easier."
   ]
  },
  {
   "cell_type": "code",
   "execution_count": null,
   "id": "e1483013-3033-4d41-bc3b-b0aea1f41b0a",
   "metadata": {},
   "outputs": [],
   "source": []
  },
  {
   "cell_type": "markdown",
   "id": "7be555f9-6cee-48b5-b8d5-0c0af5fb848c",
   "metadata": {},
   "source": [
    "- The features of the dataset can be passed straight into the `torch.tensor()` function, while the target variable requires some encoding (from string to integer):"
   ]
  },
  {
   "cell_type": "code",
   "execution_count": null,
   "id": "f9f0069a-8a8a-4d16-a020-f91b0509f364",
   "metadata": {},
   "outputs": [],
   "source": []
  },
  {
   "cell_type": "markdown",
   "id": "eee952ce-74e7-4c4e-a7c6-185f1769a5e9",
   "metadata": {},
   "source": [
    "And that’s it. The dataset is ready to be passed into a PyTorch neural network model. Let’s build one next. It will have an input layer going from 4 features to 16 nodes, one hidden layer, and an output layer going from 16 nodes to 3 class probabilities:"
   ]
  },
  {
   "cell_type": "code",
   "execution_count": null,
   "id": "effd7b23-dbac-4a1b-b510-70a300f7f63b",
   "metadata": {},
   "outputs": [],
   "source": []
  },
  {
   "cell_type": "markdown",
   "id": "3072f5f7-a95a-49e4-b6b8-67ba2b118fd7",
   "metadata": {},
   "source": [
    "# <b> Torchviz: Visualize PyTorch Neural Networks With a Single Function Call <b>\n",
    "\n",
    "Torchviz is a Python package used to create visualizations of PyTorch execution graphs and traces. It depends on Graphviz, which is a dependency you’ll have to install system-wide. "
   ]
  },
  {
   "cell_type": "code",
   "execution_count": 1,
   "id": "79659b52-3d2b-42a2-9cc2-e33888787549",
   "metadata": {
    "tags": []
   },
   "outputs": [],
   "source": [
    "# %conda install -c conda-forge graphviz\n",
    "# %pip install torchviz\n"
   ]
  },
  {
   "cell_type": "markdown",
   "id": "c286322b-9dd3-452b-a34b-b3e922c510b6",
   "metadata": {},
   "source": [
    "- To use Torchviz in Python, you’ll have to import the make_dot() function, make an instance of your neural network class, and calculate prediction probabilities of the entire training set or a batch of samples."
   ]
  },
  {
   "cell_type": "code",
   "execution_count": null,
   "id": "717c46c2-a374-433b-a16d-f10fb83a9d00",
   "metadata": {},
   "outputs": [],
   "source": []
  },
  {
   "cell_type": "code",
   "execution_count": null,
   "id": "38fa479f-cd68-4cb9-83b5-e6fb37fc5de4",
   "metadata": {},
   "outputs": [],
   "source": []
  },
  {
   "cell_type": "markdown",
   "id": "e5d8b1bc-0f61-496d-bdfb-18303656ecc8",
   "metadata": {},
   "source": [
    "You may see what autograd saves for the backward pass by specifying two additional parameters: `show_attrs=True` and `show_saved=True`:"
   ]
  },
  {
   "cell_type": "code",
   "execution_count": null,
   "id": "fba43be1-85cd-4106-946a-649df47255db",
   "metadata": {},
   "outputs": [],
   "source": []
  },
  {
   "cell_type": "markdown",
   "id": "e28aaea5-9fb5-465f-b64d-acc4395a150e",
   "metadata": {},
   "source": [
    "## <b> Tensorboard: Visualize Machine Learning Workflow and Graphs <b>\n",
    "    \n",
    "TensorBoard is a visualization and tooling framework needed for machine learning experimentations. It has many features useful to deep learning researchers and practitioners, one of them being visualizing the model graph.\n"
   ]
  },
  {
   "cell_type": "code",
   "execution_count": 2,
   "id": "eb466252-69cd-467b-8d3a-0ba959615a97",
   "metadata": {},
   "outputs": [],
   "source": [
    "# %pip install tensorboard"
   ]
  },
  {
   "cell_type": "code",
   "execution_count": null,
   "id": "876ad6c3-2675-40bf-a9be-9650bb3547ed",
   "metadata": {},
   "outputs": [],
   "source": []
  },
  {
   "cell_type": "markdown",
   "id": "75e3a933-99cc-4d2e-82a4-7fa6eae41edb",
   "metadata": {},
   "source": [
    "+ Once the network graph is saved, navigate to the log directory from the shell and launch TensorBoard:\n",
    "\n",
    "`cd <path-to-logs-dir> \n",
    "tensorboard --logdir=./`"
   ]
  },
  {
   "cell_type": "markdown",
   "id": "a480538a-6da7-4a44-b987-fb9e528377e6",
   "metadata": {},
   "source": [
    "+ You’ll be able to see the model graph on http://localhost:XXXX where XXXX represents what is written in your machine. You can click on any graph element and TensorBoard will expand it for you.\n"
   ]
  },
  {
   "cell_type": "markdown",
   "id": "19d52fd7-1227-45c3-9b38-1f2d6ff74c56",
   "metadata": {},
   "source": [
    "## Summing up How to Visualize PyTorch Neural Networks\n",
    "\n",
    "+ If you want to understand what’s going on in a neural network model, visualizing the network graph is the way to go. Sure, you need to actually understand why the network is constructed the way it is, but that’s a fundamental deep learning knowledge we assume you have.\n",
    "\n",
    "+ Maximize the benefits of your ML projects with templates using PyTorch.\n",
    "\n",
    "+ We’ve explored two ways to visualize neural network models from PyTorch — with Torchviz, and TensorBoard. All are excellent, and there’s no way to pick a winner. It's for yo to decide which you prefer.\n"
   ]
  },
  {
   "cell_type": "code",
   "execution_count": null,
   "id": "0e5651bc-fe9a-4830-bde2-9c00b387adc0",
   "metadata": {},
   "outputs": [],
   "source": []
  }
 ],
 "metadata": {
  "kernelspec": {
   "display_name": "Python 3 (ipykernel)",
   "language": "python",
   "name": "python3"
  },
  "language_info": {
   "codemirror_mode": {
    "name": "ipython",
    "version": 3
   },
   "file_extension": ".py",
   "mimetype": "text/x-python",
   "name": "python",
   "nbconvert_exporter": "python",
   "pygments_lexer": "ipython3",
   "version": "3.9.15"
  }
 },
 "nbformat": 4,
 "nbformat_minor": 5
}
