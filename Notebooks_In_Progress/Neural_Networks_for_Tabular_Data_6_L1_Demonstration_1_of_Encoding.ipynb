{
  "cells": [
    {
      "cell_type": "markdown",
      "source": [
        "<a href=\"https://colab.research.google.com/github/aurimas13/CodeAcademy-AI-Course/blob/main/Notebooks_In_Progress/Neural_Networks_for_Tabular_Data_6_L1_Demonstration_1_of_Encoding.ipynb\" target=\"_parent\"><img src=\"https://colab.research.google.com/assets/colab-badge.svg\" alt=\"Open In Colab\"/></a>"
      ],
      "metadata": {
        "id": "IsPvGOaxts_O"
      },
      "id": "IsPvGOaxts_O"
    },
    {
      "cell_type": "code",
      "execution_count": 11,
      "id": "237108b8",
      "metadata": {
        "id": "237108b8"
      },
      "outputs": [],
      "source": [
        "import warnings\n",
        "warnings.filterwarnings('ignore')\n",
        "import numpy as np\n",
        "import pandas as pd\n",
        "from pandas import read_csv\n",
        "from numpy import asarray\n",
        "from sklearn.model_selection import train_test_split\n",
        "from sklearn.preprocessing import OrdinalEncoder\n",
        "from sklearn.preprocessing import LabelEncoder\n",
        "from sklearn.linear_model import LogisticRegression\n",
        "from sklearn.preprocessing import OneHotEncoder\n",
        "from sklearn.metrics import accuracy_score"
      ]
    },
    {
      "cell_type": "markdown",
      "id": "a14c862c",
      "metadata": {
        "id": "a14c862c"
      },
      "source": [
        "# Ordinal Encoding\n",
        "\n",
        "In ordinal encoding, each unique category value is assigned an integer value.\n",
        "\n",
        "For example, “red” is 1, “green” is 2, and “blue” is 3.\n",
        "\n",
        "This is called an ordinal encoding or an integer encoding and is easily reversible. Often, integer values starting at zero are used.\n",
        "\n",
        "For some variables, an ordinal encoding may be enough. The integer values have a natural ordered relationship between each other and machine learning algorithms may be able to understand and harness this relationship.\n",
        "\n",
        "It is a natural encoding for ordinal variables. For categorical variables, it imposes an ordinal relationship where no such relationship may exist. This can cause problems and a one-hot encoding may be used instead.\n",
        "\n",
        "This ordinal encoding transform is available in the scikit-learn Python machine learning library via the OrdinalEncoder class.\n",
        "\n",
        "By default, it will assign integers to labels in the order that is observed in the data. If a specific order is desired, it can be specified via the “categories” argument as a list with the rank order of all expected labels.\n",
        "\n",
        "We can demonstrate the usage of this class by converting colors categories “red”, “green” and “blue” into integers. First the categories are sorted then numbers are applied. For strings, this means the labels are sorted alphabetically and that blue=0, green=1 and red=2.\n",
        "\n",
        "The complete example is listed below."
      ]
    },
    {
      "cell_type": "code",
      "execution_count": 11,
      "id": "3ec02a51",
      "metadata": {
        "id": "3ec02a51"
      },
      "outputs": [],
      "source": []
    },
    {
      "cell_type": "markdown",
      "id": "8bc42f7b",
      "metadata": {
        "id": "8bc42f7b"
      },
      "source": [
        "This OrdinalEncoder class is intended for input variables that are organized into rows and columns, e.g. a matrix.\n",
        "\n",
        "If a categorical target variable needs to be encoded for a classification predictive modeling problem, then the LabelEncoder class can be used. It does the same thing as the OrdinalEncoder, although it expects a one-dimensional input for the single target variable."
      ]
    },
    {
      "cell_type": "markdown",
      "id": "18e84350",
      "metadata": {
        "id": "18e84350"
      },
      "source": [
        "# One-Hot Encoding\n",
        "\n",
        "For categorical variables where no ordinal relationship exists, the integer encoding may not be enough, at best, or misleading to the model at worst.\n",
        "\n",
        "Forcing an ordinal relationship via an ordinal encoding and allowing the model to assume a natural ordering between categories may result in poor performance or unexpected results (predictions halfway between categories).\n",
        "\n",
        "In this case, a one-hot encoding can be applied to the ordinal representation. This is where the integer encoded variable is removed and one new binary variable is added for each unique integer value in the variable.\n",
        "\n",
        "Each bit represents a possible category. If the variable cannot belong to multiple categories at once, then only one bit in the group can be “on.” This is called one-hot encoding …\n",
        "\n",
        "— Page 78, Feature Engineering for Machine Learning, 2018.\n",
        "\n",
        "In the “color” variable example, there are three categories, and, therefore, three binary variables are needed. A “1” value is placed in the binary variable for the color and “0” values for the other colors.\n",
        "\n",
        "This one-hot encoding transform is available in the scikit-learn Python machine learning library via the OneHotEncoder class.\n",
        "\n",
        "We can demonstrate the usage of the OneHotEncoder on the color categories. First the categories are sorted, in this case alphabetically because they are strings, then binary variables are created for each category in turn. This means blue will be represented as [1, 0, 0] with a “1” in for the first binary variable, then green, then finally red.\n",
        "\n",
        "The complete example is listed below."
      ]
    },
    {
      "cell_type": "code",
      "execution_count": 11,
      "id": "b7a0f4db",
      "metadata": {
        "id": "b7a0f4db"
      },
      "outputs": [],
      "source": []
    },
    {
      "cell_type": "markdown",
      "id": "f8826eb4",
      "metadata": {
        "id": "f8826eb4"
      },
      "source": [
        "# Breast Cancer Dataset\n",
        "\n",
        "\n",
        "As the basis of this tutorial, we will use the “Breast Cancer” dataset that has been widely studied in machine learning since the 1980s.\n",
        "\n",
        "The dataset classifies breast cancer patient data as either a recurrence or no recurrence of cancer. There are 286 examples and nine input variables. It is a binary classification problem.\n",
        "\n",
        "A reasonable classification accuracy score on this dataset is between 68 percent and 73 percent. We will aim for this region, but note that the models in this tutorial are not optimized: they are designed to demonstrate encoding schemes.\n"
      ]
    },
    {
      "cell_type": "code",
      "execution_count": 12,
      "id": "84c3398b",
      "metadata": {
        "colab": {
          "base_uri": "https://localhost:8080/",
          "height": 206
        },
        "id": "84c3398b",
        "outputId": "0f4e2ff5-6774-4416-9c6e-78669b458ed6"
      },
      "outputs": [
        {
          "output_type": "execute_result",
          "data": {
            "text/plain": [
              "         0          1        2      3      4    5        6           7      8  \\\n",
              "0  '40-49'  'premeno'  '15-19'  '0-2'  'yes'  '3'  'right'   'left_up'   'no'   \n",
              "1  '50-59'     'ge40'  '15-19'  '0-2'   'no'  '1'  'right'   'central'   'no'   \n",
              "2  '50-59'     'ge40'  '35-39'  '0-2'   'no'  '2'   'left'  'left_low'   'no'   \n",
              "3  '40-49'  'premeno'  '35-39'  '0-2'  'yes'  '3'  'right'  'left_low'  'yes'   \n",
              "4  '40-49'  'premeno'  '30-34'  '3-5'  'yes'  '2'   'left'  'right_up'   'no'   \n",
              "\n",
              "                        9  \n",
              "0     'recurrence-events'  \n",
              "1  'no-recurrence-events'  \n",
              "2     'recurrence-events'  \n",
              "3  'no-recurrence-events'  \n",
              "4     'recurrence-events'  "
            ],
            "text/html": [
              "\n",
              "  <div id=\"df-8bdcbc0e-1428-4182-bf70-9122a26210c7\">\n",
              "    <div class=\"colab-df-container\">\n",
              "      <div>\n",
              "<style scoped>\n",
              "    .dataframe tbody tr th:only-of-type {\n",
              "        vertical-align: middle;\n",
              "    }\n",
              "\n",
              "    .dataframe tbody tr th {\n",
              "        vertical-align: top;\n",
              "    }\n",
              "\n",
              "    .dataframe thead th {\n",
              "        text-align: right;\n",
              "    }\n",
              "</style>\n",
              "<table border=\"1\" class=\"dataframe\">\n",
              "  <thead>\n",
              "    <tr style=\"text-align: right;\">\n",
              "      <th></th>\n",
              "      <th>0</th>\n",
              "      <th>1</th>\n",
              "      <th>2</th>\n",
              "      <th>3</th>\n",
              "      <th>4</th>\n",
              "      <th>5</th>\n",
              "      <th>6</th>\n",
              "      <th>7</th>\n",
              "      <th>8</th>\n",
              "      <th>9</th>\n",
              "    </tr>\n",
              "  </thead>\n",
              "  <tbody>\n",
              "    <tr>\n",
              "      <th>0</th>\n",
              "      <td>'40-49'</td>\n",
              "      <td>'premeno'</td>\n",
              "      <td>'15-19'</td>\n",
              "      <td>'0-2'</td>\n",
              "      <td>'yes'</td>\n",
              "      <td>'3'</td>\n",
              "      <td>'right'</td>\n",
              "      <td>'left_up'</td>\n",
              "      <td>'no'</td>\n",
              "      <td>'recurrence-events'</td>\n",
              "    </tr>\n",
              "    <tr>\n",
              "      <th>1</th>\n",
              "      <td>'50-59'</td>\n",
              "      <td>'ge40'</td>\n",
              "      <td>'15-19'</td>\n",
              "      <td>'0-2'</td>\n",
              "      <td>'no'</td>\n",
              "      <td>'1'</td>\n",
              "      <td>'right'</td>\n",
              "      <td>'central'</td>\n",
              "      <td>'no'</td>\n",
              "      <td>'no-recurrence-events'</td>\n",
              "    </tr>\n",
              "    <tr>\n",
              "      <th>2</th>\n",
              "      <td>'50-59'</td>\n",
              "      <td>'ge40'</td>\n",
              "      <td>'35-39'</td>\n",
              "      <td>'0-2'</td>\n",
              "      <td>'no'</td>\n",
              "      <td>'2'</td>\n",
              "      <td>'left'</td>\n",
              "      <td>'left_low'</td>\n",
              "      <td>'no'</td>\n",
              "      <td>'recurrence-events'</td>\n",
              "    </tr>\n",
              "    <tr>\n",
              "      <th>3</th>\n",
              "      <td>'40-49'</td>\n",
              "      <td>'premeno'</td>\n",
              "      <td>'35-39'</td>\n",
              "      <td>'0-2'</td>\n",
              "      <td>'yes'</td>\n",
              "      <td>'3'</td>\n",
              "      <td>'right'</td>\n",
              "      <td>'left_low'</td>\n",
              "      <td>'yes'</td>\n",
              "      <td>'no-recurrence-events'</td>\n",
              "    </tr>\n",
              "    <tr>\n",
              "      <th>4</th>\n",
              "      <td>'40-49'</td>\n",
              "      <td>'premeno'</td>\n",
              "      <td>'30-34'</td>\n",
              "      <td>'3-5'</td>\n",
              "      <td>'yes'</td>\n",
              "      <td>'2'</td>\n",
              "      <td>'left'</td>\n",
              "      <td>'right_up'</td>\n",
              "      <td>'no'</td>\n",
              "      <td>'recurrence-events'</td>\n",
              "    </tr>\n",
              "  </tbody>\n",
              "</table>\n",
              "</div>\n",
              "      <button class=\"colab-df-convert\" onclick=\"convertToInteractive('df-8bdcbc0e-1428-4182-bf70-9122a26210c7')\"\n",
              "              title=\"Convert this dataframe to an interactive table.\"\n",
              "              style=\"display:none;\">\n",
              "        \n",
              "  <svg xmlns=\"http://www.w3.org/2000/svg\" height=\"24px\"viewBox=\"0 0 24 24\"\n",
              "       width=\"24px\">\n",
              "    <path d=\"M0 0h24v24H0V0z\" fill=\"none\"/>\n",
              "    <path d=\"M18.56 5.44l.94 2.06.94-2.06 2.06-.94-2.06-.94-.94-2.06-.94 2.06-2.06.94zm-11 1L8.5 8.5l.94-2.06 2.06-.94-2.06-.94L8.5 2.5l-.94 2.06-2.06.94zm10 10l.94 2.06.94-2.06 2.06-.94-2.06-.94-.94-2.06-.94 2.06-2.06.94z\"/><path d=\"M17.41 7.96l-1.37-1.37c-.4-.4-.92-.59-1.43-.59-.52 0-1.04.2-1.43.59L10.3 9.45l-7.72 7.72c-.78.78-.78 2.05 0 2.83L4 21.41c.39.39.9.59 1.41.59.51 0 1.02-.2 1.41-.59l7.78-7.78 2.81-2.81c.8-.78.8-2.07 0-2.86zM5.41 20L4 18.59l7.72-7.72 1.47 1.35L5.41 20z\"/>\n",
              "  </svg>\n",
              "      </button>\n",
              "      \n",
              "  <style>\n",
              "    .colab-df-container {\n",
              "      display:flex;\n",
              "      flex-wrap:wrap;\n",
              "      gap: 12px;\n",
              "    }\n",
              "\n",
              "    .colab-df-convert {\n",
              "      background-color: #E8F0FE;\n",
              "      border: none;\n",
              "      border-radius: 50%;\n",
              "      cursor: pointer;\n",
              "      display: none;\n",
              "      fill: #1967D2;\n",
              "      height: 32px;\n",
              "      padding: 0 0 0 0;\n",
              "      width: 32px;\n",
              "    }\n",
              "\n",
              "    .colab-df-convert:hover {\n",
              "      background-color: #E2EBFA;\n",
              "      box-shadow: 0px 1px 2px rgba(60, 64, 67, 0.3), 0px 1px 3px 1px rgba(60, 64, 67, 0.15);\n",
              "      fill: #174EA6;\n",
              "    }\n",
              "\n",
              "    [theme=dark] .colab-df-convert {\n",
              "      background-color: #3B4455;\n",
              "      fill: #D2E3FC;\n",
              "    }\n",
              "\n",
              "    [theme=dark] .colab-df-convert:hover {\n",
              "      background-color: #434B5C;\n",
              "      box-shadow: 0px 1px 3px 1px rgba(0, 0, 0, 0.15);\n",
              "      filter: drop-shadow(0px 1px 2px rgba(0, 0, 0, 0.3));\n",
              "      fill: #FFFFFF;\n",
              "    }\n",
              "  </style>\n",
              "\n",
              "      <script>\n",
              "        const buttonEl =\n",
              "          document.querySelector('#df-8bdcbc0e-1428-4182-bf70-9122a26210c7 button.colab-df-convert');\n",
              "        buttonEl.style.display =\n",
              "          google.colab.kernel.accessAllowed ? 'block' : 'none';\n",
              "\n",
              "        async function convertToInteractive(key) {\n",
              "          const element = document.querySelector('#df-8bdcbc0e-1428-4182-bf70-9122a26210c7');\n",
              "          const dataTable =\n",
              "            await google.colab.kernel.invokeFunction('convertToInteractive',\n",
              "                                                     [key], {});\n",
              "          if (!dataTable) return;\n",
              "\n",
              "          const docLinkHtml = 'Like what you see? Visit the ' +\n",
              "            '<a target=\"_blank\" href=https://colab.research.google.com/notebooks/data_table.ipynb>data table notebook</a>'\n",
              "            + ' to learn more about interactive tables.';\n",
              "          element.innerHTML = '';\n",
              "          dataTable['output_type'] = 'display_data';\n",
              "          await google.colab.output.renderOutput(dataTable, element);\n",
              "          const docLink = document.createElement('div');\n",
              "          docLink.innerHTML = docLinkHtml;\n",
              "          element.appendChild(docLink);\n",
              "        }\n",
              "      </script>\n",
              "    </div>\n",
              "  </div>\n",
              "  "
            ]
          },
          "metadata": {},
          "execution_count": 12
        }
      ],
      "source": [
        "# load the dataset\n",
        "url = 'https://media.githubusercontent.com/media/aurimas13/CodeAcademy-AI-Course/main/Datasets/medical.csv'\n",
        "dataset = pd.read_csv(url, header=None)\n",
        "# retrieve the array of data\n",
        "data = dataset.values"
      ]
    },
    {
      "cell_type": "markdown",
      "id": "ac7ea34b",
      "metadata": {
        "id": "ac7ea34b"
      },
      "source": [
        "Once loaded, we can split the columns into input (X) and output (y) for modeling."
      ]
    },
    {
      "cell_type": "code",
      "execution_count": 9,
      "id": "24911e99",
      "metadata": {
        "id": "24911e99"
      },
      "outputs": [],
      "source": []
    },
    {
      "cell_type": "markdown",
      "id": "6fa59949",
      "metadata": {
        "id": "6fa59949"
      },
      "source": [
        "Making use of this function, the complete example of loading and summarizing the raw categorical dataset is listed below."
      ]
    },
    {
      "cell_type": "code",
      "execution_count": 10,
      "id": "f3d91ef0",
      "metadata": {
        "id": "f3d91ef0"
      },
      "outputs": [],
      "source": [
        "# define the location of the dataset\n",
        "url = 'https://media.githubusercontent.com/media/aurimas13/CodeAcademy-AI-Course/main/Datasets/medical.csv'\n"
      ]
    },
    {
      "cell_type": "markdown",
      "id": "bffd59f9",
      "metadata": {
        "id": "bffd59f9"
      },
      "source": [
        "# OrdinalEncoder Transform\n",
        "\n",
        "\n",
        "An ordinal encoding involves mapping each unique label to an integer value.\n",
        "\n",
        "This type of encoding is really only appropriate if there is a known relationship between the categories. This relationship does exist for some of the variables in our dataset, and ideally, this should be harnessed when preparing the data.\n",
        "\n",
        "In this case, we will ignore any possible existing ordinal relationship and assume all variables are categorical. It can still be helpful to use an ordinal encoding, at least as a point of reference with other encoding schemes.\n",
        "\n",
        "We can use the OrdinalEncoder from scikit-learn to encode each variable to integers. This is a flexible class and does allow the order of the categories to be specified as arguments if any such order is known."
      ]
    },
    {
      "cell_type": "code",
      "execution_count": null,
      "id": "a236c48e",
      "metadata": {
        "id": "a236c48e"
      },
      "outputs": [],
      "source": []
    },
    {
      "cell_type": "code",
      "execution_count": null,
      "id": "540acae2",
      "metadata": {
        "id": "540acae2"
      },
      "outputs": [],
      "source": []
    },
    {
      "cell_type": "markdown",
      "id": "10e575e6",
      "metadata": {
        "id": "10e575e6"
      },
      "source": [
        "Let’s try it on our breast cancer dataset.\n",
        "\n",
        "The complete example of creating an ordinal encoding transform of the breast cancer dataset and summarizing the result is listed below\n"
      ]
    },
    {
      "cell_type": "code",
      "execution_count": null,
      "id": "9969b2e8",
      "metadata": {
        "id": "9969b2e8"
      },
      "outputs": [],
      "source": [
        "# define the location of the dataset\n",
        "url = 'https://media.githubusercontent.com/media/aurimas13/CodeAcademy-AI-Course/main/Examples/Data/medical.csv'\n"
      ]
    },
    {
      "cell_type": "markdown",
      "id": "dc8d50ed",
      "metadata": {
        "id": "dc8d50ed"
      },
      "source": [
        "Next, let’s evaluate machine learning on this dataset with this encoding.\n",
        "\n",
        "The best practice when encoding variables is to fit the encoding on the training dataset, then apply it to the train and test datasets.\n",
        "\n",
        "We will first split the dataset, then prepare the encoding on the training set, and apply it to the test set."
      ]
    },
    {
      "cell_type": "code",
      "execution_count": null,
      "id": "ac25cf4d",
      "metadata": {
        "id": "ac25cf4d"
      },
      "outputs": [],
      "source": []
    },
    {
      "cell_type": "markdown",
      "id": "dabd385f",
      "metadata": {
        "id": "dabd385f"
      },
      "source": [
        "We can then fit the OrdinalEncoder on the training dataset and use it to transform the train and test datasets.\n"
      ]
    },
    {
      "cell_type": "code",
      "execution_count": null,
      "id": "16e2c1de",
      "metadata": {
        "id": "16e2c1de"
      },
      "outputs": [],
      "source": []
    },
    {
      "cell_type": "code",
      "execution_count": null,
      "id": "c5e8d040",
      "metadata": {
        "id": "c5e8d040"
      },
      "outputs": [],
      "source": []
    },
    {
      "cell_type": "markdown",
      "id": "151d2d85",
      "metadata": {
        "id": "151d2d85"
      },
      "source": [
        "Running the example prepares the dataset in the correct manner, then evaluates a model fit on the transformed data.\n",
        "\n",
        "Your specific results may differ given the stochastic nature of the algorithm and evaluation procedure.\n",
        "\n",
        "In this ca?e, the model achieved a classification accuracy of about 75.79 percent, which is a reasonable score."
      ]
    },
    {
      "cell_type": "markdown",
      "id": "637b2d23",
      "metadata": {
        "id": "637b2d23"
      },
      "source": [
        "# OneHotEncoder Transform\n",
        "\n",
        "A one-hot encoding is appropriate for categorical data where no relationship exists between categories.\n",
        "\n",
        "The scikit-learn library provides the OneHotEncoder class to automatically one hot encode one or more variables.\n",
        "\n",
        "By default the OneHotEncoder will output data with a sparse representation, which is efficient given that most values are 0 in the encoded representation. We will disable this feature by setting the “sparse” argument to False so that we can review the effect of the encoding.\n",
        "\n",
        "Once defined, we can call the fit_transform() function and pass it to our dataset to create a quantile transformed version of our dataset."
      ]
    },
    {
      "cell_type": "code",
      "execution_count": null,
      "id": "98da9828",
      "metadata": {
        "id": "98da9828"
      },
      "outputs": [],
      "source": []
    },
    {
      "cell_type": "markdown",
      "id": "554e4c4e",
      "metadata": {
        "id": "554e4c4e"
      },
      "source": [
        "As before, we must label encode the target variable.\n",
        "\n",
        "The complete example of creating a one-hot encoding transform of the breast cancer dataset and summarizing the result is listed below."
      ]
    },
    {
      "cell_type": "code",
      "execution_count": null,
      "id": "c2cd1d0c",
      "metadata": {
        "id": "c2cd1d0c"
      },
      "outputs": [],
      "source": [
        "# define the location of the dataset\n",
        "url = 'https://media.githubusercontent.com/media/aurimas13/CodeAcademy-AI-Course/main/Examples/Data/medical.csv'"
      ]
    },
    {
      "cell_type": "markdown",
      "id": "c755b859",
      "metadata": {
        "id": "c755b859"
      },
      "source": [
        "Next, let’s evaluate machine learning on this dataset with this encoding as we did in the previous section.\n",
        "\n",
        "The encoding is fit on the training set then applied to both train and test sets as before."
      ]
    },
    {
      "cell_type": "code",
      "execution_count": null,
      "id": "7d749b15",
      "metadata": {
        "id": "7d749b15"
      },
      "outputs": [],
      "source": []
    },
    {
      "cell_type": "markdown",
      "id": "1fe4794e",
      "metadata": {
        "id": "1fe4794e"
      },
      "source": [
        "Final push give this:"
      ]
    },
    {
      "cell_type": "code",
      "execution_count": null,
      "id": "02916698",
      "metadata": {
        "id": "02916698"
      },
      "outputs": [],
      "source": []
    },
    {
      "cell_type": "markdown",
      "id": "6153bd04",
      "metadata": {
        "id": "6153bd04"
      },
      "source": [
        "Running the example prepares the dataset in the correct manner, then evaluates a model fit on the transformed data.\n",
        "\n",
        "Your specific results may differ given the stochastic nature of the algorithm and evaluation procedure.\n",
        "\n",
        "In this case, the model achieved a classification accuracy of about 70.53 percent, which is slightly worse than the ordinal encoding in the previous section."
      ]
    }
  ],
  "metadata": {
    "kernelspec": {
      "display_name": "Python 3 (ipykernel)",
      "language": "python",
      "name": "python3"
    },
    "language_info": {
      "codemirror_mode": {
        "name": "ipython",
        "version": 3
      },
      "file_extension": ".py",
      "mimetype": "text/x-python",
      "name": "python",
      "nbconvert_exporter": "python",
      "pygments_lexer": "ipython3",
      "version": "3.9.15"
    },
    "colab": {
      "provenance": []
    }
  },
  "nbformat": 4,
  "nbformat_minor": 5
}