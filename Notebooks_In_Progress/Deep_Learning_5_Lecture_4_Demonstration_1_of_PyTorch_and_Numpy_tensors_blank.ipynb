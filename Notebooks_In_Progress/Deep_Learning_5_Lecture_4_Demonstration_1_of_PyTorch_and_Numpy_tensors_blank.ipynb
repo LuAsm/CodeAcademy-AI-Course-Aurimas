{
  "cells": [
    {
      "cell_type": "markdown",
      "source": [
        "<a href=\"https://colab.research.google.com/github/aurimas13/CodeAcademy-AI-Course/blob/main/Notebooks_In_Progress/Deep_Learning_5_Lecture_4_Demonstration_1_of_PyTorch_and_Numpy_tensors_blank.ipynb\" target=\"_parent\"><img src=\"https://colab.research.google.com/assets/colab-badge.svg\" alt=\"Open In Colab\"/></a>"
      ],
      "metadata": {
        "id": "3oKuk4UD2asu"
      },
      "id": "3oKuk4UD2asu"
    },
    {
      "cell_type": "code",
      "execution_count": null,
      "id": "daceb95d-4bb2-46af-b605-696f295a0db6",
      "metadata": {
        "id": "daceb95d-4bb2-46af-b605-696f295a0db6"
      },
      "outputs": [],
      "source": []
    },
    {
      "cell_type": "code",
      "execution_count": null,
      "id": "d137dcf8-3b42-47a7-a239-dea6fef5961d",
      "metadata": {
        "id": "d137dcf8-3b42-47a7-a239-dea6fef5961d"
      },
      "outputs": [],
      "source": []
    },
    {
      "cell_type": "code",
      "execution_count": null,
      "id": "28341509-0c26-4eb6-897c-741cc415859a",
      "metadata": {
        "id": "28341509-0c26-4eb6-897c-741cc415859a"
      },
      "outputs": [],
      "source": []
    },
    {
      "cell_type": "code",
      "execution_count": null,
      "id": "21cbaeba-8389-405b-b541-24a94ec261e5",
      "metadata": {
        "id": "21cbaeba-8389-405b-b541-24a94ec261e5"
      },
      "outputs": [],
      "source": []
    },
    {
      "cell_type": "code",
      "execution_count": null,
      "id": "38f5be09-f730-4025-b2ab-078fd0c17204",
      "metadata": {
        "id": "38f5be09-f730-4025-b2ab-078fd0c17204"
      },
      "outputs": [],
      "source": []
    },
    {
      "cell_type": "code",
      "execution_count": null,
      "id": "854f84a2-af9a-4011-a2d7-3abe8a9e8850",
      "metadata": {
        "id": "854f84a2-af9a-4011-a2d7-3abe8a9e8850"
      },
      "outputs": [],
      "source": []
    },
    {
      "cell_type": "code",
      "execution_count": null,
      "id": "e343d607-369c-43cf-833e-b20028c0221d",
      "metadata": {
        "id": "e343d607-369c-43cf-833e-b20028c0221d"
      },
      "outputs": [],
      "source": []
    },
    {
      "cell_type": "code",
      "execution_count": null,
      "id": "6ce1c6f4-e25e-4863-a82d-80d7593324ec",
      "metadata": {
        "id": "6ce1c6f4-e25e-4863-a82d-80d7593324ec"
      },
      "outputs": [],
      "source": []
    },
    {
      "cell_type": "markdown",
      "id": "99d83eec-b463-4f3b-b307-d1161ed89f30",
      "metadata": {
        "id": "99d83eec-b463-4f3b-b307-d1161ed89f30"
      },
      "source": [
        "## Conclusion:\n",
        "    \n",
        "Creating tensors is fine, but the real fun starts when we can start manipulating them and applying mathematical operations. There are a ton of neat tensor operations already built-in, so we certainly won’t have time to go through them all. Instead, here is a link to check [them out in further detail](https://pytorch.org/docs/stable/torch.html), and just name a few:\n",
        "\n",
        "- matrix multiplication\n",
        "- compute eigenvectors and eigenvalues\n",
        "- sorting\n",
        "- index,slice,join\n",
        "- hamming window "
      ]
    }
  ],
  "metadata": {
    "kernelspec": {
      "display_name": "Python 3 (ipykernel)",
      "language": "python",
      "name": "python3"
    },
    "language_info": {
      "codemirror_mode": {
        "name": "ipython",
        "version": 3
      },
      "file_extension": ".py",
      "mimetype": "text/x-python",
      "name": "python",
      "nbconvert_exporter": "python",
      "pygments_lexer": "ipython3",
      "version": "3.9.15"
    },
    "colab": {
      "provenance": []
    }
  },
  "nbformat": 4,
  "nbformat_minor": 5
}