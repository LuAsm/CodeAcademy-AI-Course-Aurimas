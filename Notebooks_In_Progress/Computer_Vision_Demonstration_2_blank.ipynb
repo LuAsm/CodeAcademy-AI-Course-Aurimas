{
  "nbformat": 4,
  "nbformat_minor": 0,
  "metadata": {
    "colab": {
      "provenance": [],
      "machine_shape": "hm"
    },
    "kernelspec": {
      "name": "python3",
      "display_name": "Python 3"
    },
    "accelerator": "GPU",
    "gpuClass": "standard"
  },
  "cells": [
    {
      "cell_type": "markdown",
      "source": [
        "<a href=\"https://colab.research.google.com/github/aurimas13/CodeAcademy-AI-Course/blob/main/Notebooks_In_Progress/Computer_Vision_CNN_PyTorch_Demonstration_2_blank.ipynb\" target=\"_parent\"><img src=\"https://colab.research.google.com/assets/colab-badge.svg\" alt=\"Open In Colab\"/></a>\n"
      ],
      "metadata": {
        "id": "yk3LEtQOPo4C"
      }
    },
    {
      "cell_type": "markdown",
      "source": [
        "# **Importing libraries**"
      ],
      "metadata": {
        "id": "aPSqdJY039mh"
      }
    },
    {
      "cell_type": "code",
      "metadata": {
        "id": "pWVmtQfp8QQN"
      },
      "source": [],
      "execution_count": null,
      "outputs": []
    },
    {
      "cell_type": "markdown",
      "source": [
        "# **Define, Download and Normalize**\n"
      ],
      "metadata": {
        "id": "N0cEFktu35CZ"
      }
    },
    {
      "cell_type": "code",
      "metadata": {
        "id": "pTX3r9DU8Y23"
      },
      "source": [],
      "execution_count": null,
      "outputs": []
    },
    {
      "cell_type": "code",
      "metadata": {
        "id": "r7xcjccF8Zw2"
      },
      "source": [],
      "execution_count": null,
      "outputs": []
    },
    {
      "cell_type": "markdown",
      "source": [
        "# **Plotting images as pictures**"
      ],
      "metadata": {
        "id": "_I4HV96r4lVE"
      }
    },
    {
      "cell_type": "code",
      "metadata": {
        "id": "rqoyqo478aqf"
      },
      "source": [],
      "execution_count": null,
      "outputs": []
    },
    {
      "cell_type": "markdown",
      "source": [
        "# **Neural Network Architecture**"
      ],
      "metadata": {
        "id": "Bd8WzqqR4rqQ"
      }
    },
    {
      "cell_type": "code",
      "metadata": {
        "id": "qYoLjIav8beT"
      },
      "source": [],
      "execution_count": null,
      "outputs": []
    },
    {
      "cell_type": "code",
      "metadata": {
        "id": "KCcDmne38coE"
      },
      "source": [],
      "execution_count": null,
      "outputs": []
    },
    {
      "cell_type": "code",
      "metadata": {
        "id": "srdvvMUp8dxK"
      },
      "source": [
        "\n"
      ],
      "execution_count": null,
      "outputs": []
    },
    {
      "cell_type": "code",
      "metadata": {
        "id": "RNrkwJD10a7Y"
      },
      "source": [],
      "execution_count": null,
      "outputs": []
    },
    {
      "cell_type": "markdown",
      "source": [
        "# **Plotting**"
      ],
      "metadata": {
        "id": "IvGV-w715DDL"
      }
    },
    {
      "cell_type": "code",
      "metadata": {
        "id": "k-F5mzB7spVV"
      },
      "source": [],
      "execution_count": null,
      "outputs": []
    },
    {
      "cell_type": "markdown",
      "source": [
        "# **Showing Predictions**"
      ],
      "metadata": {
        "id": "aU4Jdyug5YbN"
      }
    },
    {
      "cell_type": "code",
      "metadata": {
        "id": "Kuh8qSBK8geL"
      },
      "source": [],
      "execution_count": null,
      "outputs": []
    },
    {
      "cell_type": "code",
      "metadata": {
        "id": "UdcSmsWpgvdp"
      },
      "source": [],
      "execution_count": null,
      "outputs": []
    },
    {
      "cell_type": "markdown",
      "source": [
        "# **END OF DEMONSTRATION ON MNIST DATA WITH CNN**"
      ],
      "metadata": {
        "id": "m1rtfGDf5nGT"
      }
    }
  ]
}