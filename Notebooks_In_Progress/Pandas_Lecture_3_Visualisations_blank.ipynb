{
  "cells": [
    {
      "cell_type": "markdown",
      "source": [
        "<a href=\"https://colab.research.google.com/github/aurimas13/CodeAcademy-AI-Course/blob/main/Notebooks_In_Progress/Pandas_Lecture_3_Visualisations_blank.ipynb\" target=\"_parent\"><img src=\"https://colab.research.google.com/assets/colab-badge.svg\" alt=\"Open In Colab\"/></a>"
      ],
      "metadata": {
        "id": "k7380mPx6iaj"
      },
      "id": "k7380mPx6iaj"
    },
    {
      "cell_type": "code",
      "execution_count": null,
      "id": "35a4077f-76c6-4fc2-8eda-dc2e836cd969",
      "metadata": {
        "pycharm": {
          "name": "#%%\n"
        },
        "id": "35a4077f-76c6-4fc2-8eda-dc2e836cd969"
      },
      "outputs": [],
      "source": [
        "import pandas as pd\n",
        "import numpy as np\n",
        "import matplotlib.pyplot as plt\n",
        "import warnings\n",
        "warnings.filterwarnings('ignore')\n",
        "warnings.simplefilter('ignore')"
      ]
    },
    {
      "cell_type": "markdown",
      "id": "d5413939-12fe-4111-a4ef-f7bc912c9304",
      "metadata": {
        "pycharm": {
          "name": "#%% md\n"
        },
        "id": "d5413939-12fe-4111-a4ef-f7bc912c9304"
      },
      "source": [
        "# Look at Matplotlib\n"
      ]
    },
    {
      "cell_type": "code",
      "execution_count": null,
      "id": "87fd5fa7-fd3a-4530-8f6b-700b7f206bb7",
      "metadata": {
        "pycharm": {
          "name": "#%%\n"
        },
        "id": "87fd5fa7-fd3a-4530-8f6b-700b7f206bb7"
      },
      "outputs": [],
      "source": []
    },
    {
      "cell_type": "code",
      "execution_count": null,
      "id": "d782fb72-8822-4f16-bb7b-eedba13d3493",
      "metadata": {
        "pycharm": {
          "name": "#%%\n"
        },
        "id": "d782fb72-8822-4f16-bb7b-eedba13d3493"
      },
      "outputs": [],
      "source": []
    },
    {
      "cell_type": "markdown",
      "id": "d969c5dd-fc20-4052-acd4-b56bf8d625ae",
      "metadata": {
        "pycharm": {
          "name": "#%% md\n"
        },
        "id": "d969c5dd-fc20-4052-acd4-b56bf8d625ae"
      },
      "source": [
        "# A Burst of Color: imshow() and matshow()"
      ]
    },
    {
      "cell_type": "code",
      "execution_count": null,
      "id": "4303c2f9-faa4-47de-9cad-ddadd82ddb6d",
      "metadata": {
        "pycharm": {
          "name": "#%%\n"
        },
        "id": "4303c2f9-faa4-47de-9cad-ddadd82ddb6d"
      },
      "outputs": [],
      "source": []
    },
    {
      "cell_type": "code",
      "execution_count": null,
      "id": "2bef2006-090d-41f4-9f07-52d7eed13427",
      "metadata": {
        "pycharm": {
          "name": "#%%\n"
        },
        "id": "2bef2006-090d-41f4-9f07-52d7eed13427"
      },
      "outputs": [],
      "source": []
    },
    {
      "cell_type": "code",
      "execution_count": null,
      "id": "814567e2-87fc-42b3-982a-c6e9b719b2cf",
      "metadata": {
        "pycharm": {
          "name": "#%%\n"
        },
        "id": "814567e2-87fc-42b3-982a-c6e9b719b2cf"
      },
      "outputs": [],
      "source": []
    },
    {
      "cell_type": "markdown",
      "id": "0e2697d3-f7bc-4de1-87f2-b32c53f35781",
      "metadata": {
        "pycharm": {
          "name": "#%% md\n"
        },
        "id": "0e2697d3-f7bc-4de1-87f2-b32c53f35781"
      },
      "source": [
        "# Wrapping Up"
      ]
    },
    {
      "cell_type": "markdown",
      "id": "3ec350ce-d7fb-4ea9-8ad0-8130f8b62714",
      "metadata": {
        "pycharm": {
          "name": "#%% md\n"
        },
        "id": "3ec350ce-d7fb-4ea9-8ad0-8130f8b62714"
      },
      "source": [
        "- Matplotlib gali būti techninė, daug sintaksės reikalaujanti biblioteka, bet padarys gražų grafiką (plot'ą).\n",
        "- Jos supratimas yra gera investicija, kuri atsipirks."
      ]
    },
    {
      "cell_type": "markdown",
      "id": "89b29212-79ae-4323-aea6-beb4b6e03799",
      "metadata": {
        "pycharm": {
          "name": "#%% md\n"
        },
        "id": "89b29212-79ae-4323-aea6-beb4b6e03799"
      },
      "source": [
        "# <b> Histograms & Seaborn </b>"
      ]
    },
    {
      "cell_type": "code",
      "execution_count": null,
      "id": "888a8fa2-b907-4f67-a770-7145ddcb0c42",
      "metadata": {
        "pycharm": {
          "name": "#%%\n"
        },
        "id": "888a8fa2-b907-4f67-a770-7145ddcb0c42"
      },
      "outputs": [],
      "source": []
    },
    {
      "cell_type": "code",
      "execution_count": null,
      "id": "448c1c04-a3cd-47be-bee9-e020fd4753a8",
      "metadata": {
        "pycharm": {
          "name": "#%%\n"
        },
        "id": "448c1c04-a3cd-47be-bee9-e020fd4753a8"
      },
      "outputs": [],
      "source": []
    },
    {
      "cell_type": "code",
      "execution_count": null,
      "id": "b415825a-2e31-4cb4-befe-7ab8dfd673f8",
      "metadata": {
        "pycharm": {
          "name": "#%%\n"
        },
        "id": "b415825a-2e31-4cb4-befe-7ab8dfd673f8"
      },
      "outputs": [],
      "source": []
    },
    {
      "cell_type": "markdown",
      "id": "20980861-ef93-4427-93cf-f9e07f49173a",
      "metadata": {
        "pycharm": {
          "name": "#%% md\n"
        },
        "id": "20980861-ef93-4427-93cf-f9e07f49173a"
      },
      "source": [
        "# Aggregations & Sampling"
      ]
    },
    {
      "cell_type": "markdown",
      "id": "fc96acd1-c987-4d4f-bb73-df5dd819c4a4",
      "metadata": {
        "pycharm": {
          "name": "#%% md\n"
        },
        "id": "fc96acd1-c987-4d4f-bb73-df5dd819c4a4"
      },
      "source": [
        "## Aggregation"
      ]
    },
    {
      "cell_type": "markdown",
      "id": "b41f1cbc-89a8-4554-a8ec-2d1c18754e9d",
      "metadata": {
        "pycharm": {
          "name": "#%% md\n"
        },
        "id": "b41f1cbc-89a8-4554-a8ec-2d1c18754e9d"
      },
      "source": [
        "### Agregacija reiškia dviejų ar daugiau atributų (arba objektų) sujungimą į vieną atributą (arba objektą), kurio tikslai:\n",
        "\n",
        "- Duomenų mažinimas\n",
        "- Mastelio pakeitimas\n",
        "- Daugiau stabilių duomenų "
      ]
    },
    {
      "cell_type": "code",
      "execution_count": null,
      "id": "2806e51a-8d28-4f2b-9be8-ab413c590b76",
      "metadata": {
        "pycharm": {
          "name": "#%%\n"
        },
        "id": "2806e51a-8d28-4f2b-9be8-ab413c590b76"
      },
      "outputs": [],
      "source": []
    },
    {
      "cell_type": "code",
      "execution_count": null,
      "id": "5fe30667-6106-44d0-aa84-90b720dffc47",
      "metadata": {
        "pycharm": {
          "name": "#%%\n"
        },
        "id": "5fe30667-6106-44d0-aa84-90b720dffc47"
      },
      "outputs": [],
      "source": []
    },
    {
      "cell_type": "code",
      "execution_count": null,
      "id": "bf4d2ea4-105b-40d6-8f55-51cf03637ade",
      "metadata": {
        "pycharm": {
          "name": "#%%\n"
        },
        "id": "bf4d2ea4-105b-40d6-8f55-51cf03637ade"
      },
      "outputs": [],
      "source": []
    },
    {
      "cell_type": "code",
      "execution_count": null,
      "id": "46f617c0-eabc-42e7-9023-6248b7529715",
      "metadata": {
        "pycharm": {
          "name": "#%%\n"
        },
        "id": "46f617c0-eabc-42e7-9023-6248b7529715"
      },
      "outputs": [],
      "source": []
    },
    {
      "cell_type": "code",
      "execution_count": null,
      "id": "4a38a89f-3499-4491-b77d-5314050fd768",
      "metadata": {
        "pycharm": {
          "name": "#%%\n"
        },
        "id": "4a38a89f-3499-4491-b77d-5314050fd768"
      },
      "outputs": [],
      "source": []
    },
    {
      "cell_type": "code",
      "execution_count": null,
      "id": "d2e0e523-68c6-40ef-8cd0-9db41a50cc10",
      "metadata": {
        "pycharm": {
          "name": "#%%\n"
        },
        "id": "d2e0e523-68c6-40ef-8cd0-9db41a50cc10"
      },
      "outputs": [],
      "source": []
    },
    {
      "cell_type": "code",
      "execution_count": null,
      "id": "eaddc5e4-21ec-4657-a3b2-4900c46ebbcc",
      "metadata": {
        "pycharm": {
          "name": "#%%\n"
        },
        "id": "eaddc5e4-21ec-4657-a3b2-4900c46ebbcc"
      },
      "outputs": [],
      "source": []
    },
    {
      "cell_type": "code",
      "execution_count": null,
      "id": "661779cb-18f0-4351-a094-a759da6bda2c",
      "metadata": {
        "pycharm": {
          "name": "#%%\n"
        },
        "id": "661779cb-18f0-4351-a094-a759da6bda2c"
      },
      "outputs": [],
      "source": []
    },
    {
      "cell_type": "code",
      "execution_count": null,
      "id": "18ec539c-4a41-4efb-8c2b-7f1ec39beb82",
      "metadata": {
        "pycharm": {
          "name": "#%%\n"
        },
        "id": "18ec539c-4a41-4efb-8c2b-7f1ec39beb82"
      },
      "outputs": [],
      "source": []
    },
    {
      "cell_type": "markdown",
      "id": "4731ecf9-cc94-41e3-add4-45e44f8b9bb3",
      "metadata": {
        "pycharm": {
          "name": "#%% md\n"
        },
        "id": "4731ecf9-cc94-41e3-add4-45e44f8b9bb3"
      },
      "source": [
        "## Sampling"
      ]
    },
    {
      "cell_type": "markdown",
      "id": "7fdf5d48-6521-4065-90c1-45940616d52a",
      "metadata": {
        "pycharm": {
          "name": "#%% md\n"
        },
        "id": "7fdf5d48-6521-4065-90c1-45940616d52a"
      },
      "source": [
        "### Sampling yra dažniausiai naudojamas metodas analizuojamų duomenų objektų poaibiui pasirinkti.\n",
        "\n",
        "### Sampling tipai\n",
        "- Simple Random Sampling:\n",
        "    - Sampling without replacement  \n",
        "    - Sampling with replacement\n",
        "- Stratified sampling \n",
        "- Progressive Sampling "
      ]
    },
    {
      "cell_type": "markdown",
      "id": "70a52267-a8c7-4fac-87cd-b2c46c8cee78",
      "metadata": {
        "pycharm": {
          "name": "#%% md\n"
        },
        "id": "70a52267-a8c7-4fac-87cd-b2c46c8cee78"
      },
      "source": [
        "### Sampling with Replacement"
      ]
    },
    {
      "cell_type": "code",
      "execution_count": null,
      "id": "f41c86e3-ee75-4337-87ac-d0b837f471f4",
      "metadata": {
        "pycharm": {
          "name": "#%%\n"
        },
        "id": "f41c86e3-ee75-4337-87ac-d0b837f471f4"
      },
      "outputs": [],
      "source": []
    },
    {
      "cell_type": "code",
      "execution_count": null,
      "id": "f91d1f99-7849-4db3-8e4e-3a8580803e4b",
      "metadata": {
        "pycharm": {
          "name": "#%%\n"
        },
        "id": "f91d1f99-7849-4db3-8e4e-3a8580803e4b"
      },
      "outputs": [],
      "source": []
    },
    {
      "cell_type": "markdown",
      "id": "8d25d22a-5667-4a38-b830-94955f3fc876",
      "metadata": {
        "pycharm": {
          "name": "#%% md\n"
        },
        "id": "8d25d22a-5667-4a38-b830-94955f3fc876"
      },
      "source": [
        "![Screenshot 2022-11-28 at 17.22.17.png](attachment:b2bf977c-7a65-4bc7-8c5f-19a679bbb9f9.png)\n",
        "\n"
      ]
    },
    {
      "cell_type": "code",
      "execution_count": null,
      "id": "45a77c75-d56c-468d-804e-b93d5f59c2f0",
      "metadata": {
        "pycharm": {
          "name": "#%%\n"
        },
        "id": "45a77c75-d56c-468d-804e-b93d5f59c2f0"
      },
      "outputs": [],
      "source": []
    },
    {
      "cell_type": "code",
      "execution_count": null,
      "id": "51aaf5b4-ec2d-4ffe-8fbf-a9d6c12f8a58",
      "metadata": {
        "pycharm": {
          "name": "#%%\n"
        },
        "id": "51aaf5b4-ec2d-4ffe-8fbf-a9d6c12f8a58"
      },
      "outputs": [],
      "source": []
    },
    {
      "cell_type": "code",
      "execution_count": null,
      "id": "632889c0-28ca-4993-9389-2825c66f7ab4",
      "metadata": {
        "pycharm": {
          "name": "#%%\n"
        },
        "id": "632889c0-28ca-4993-9389-2825c66f7ab4"
      },
      "outputs": [],
      "source": []
    },
    {
      "cell_type": "markdown",
      "id": "13005bb8-e7af-47e0-9d3f-b42c5b7ac3ec",
      "metadata": {
        "pycharm": {
          "name": "#%% md\n"
        },
        "id": "13005bb8-e7af-47e0-9d3f-b42c5b7ac3ec"
      },
      "source": [
        "### Sampling without replacement "
      ]
    },
    {
      "cell_type": "markdown",
      "id": "4b4c39f9-413f-4891-83a5-1b69a637564a",
      "metadata": {
        "pycharm": {
          "name": "#%% md\n"
        },
        "id": "4b4c39f9-413f-4891-83a5-1b69a637564a"
      },
      "source": [
        "![Screenshot 2022-11-28 at 17.31.19.png](attachment:0fde5b50-545b-4e39-b3d7-424679d1907e.png)"
      ]
    },
    {
      "cell_type": "code",
      "execution_count": null,
      "id": "0bd703b2-cc9c-4508-8ffd-0c7352ec9614",
      "metadata": {
        "pycharm": {
          "name": "#%%\n"
        },
        "id": "0bd703b2-cc9c-4508-8ffd-0c7352ec9614"
      },
      "outputs": [],
      "source": []
    },
    {
      "cell_type": "markdown",
      "id": "8ecf70d0-8c0d-48ee-b1da-f364212bf65e",
      "metadata": {
        "pycharm": {
          "name": "#%% md\n"
        },
        "id": "8ecf70d0-8c0d-48ee-b1da-f364212bf65e"
      },
      "source": [
        "# Bokeh"
      ]
    },
    {
      "cell_type": "code",
      "execution_count": null,
      "id": "981940a4-fd53-4be0-a332-2c4e77a6f899",
      "metadata": {
        "pycharm": {
          "name": "#%%\n"
        },
        "id": "981940a4-fd53-4be0-a332-2c4e77a6f899"
      },
      "outputs": [],
      "source": []
    },
    {
      "cell_type": "code",
      "execution_count": null,
      "id": "03c0fb94-3d90-4da8-b069-a08d44007dd9",
      "metadata": {
        "pycharm": {
          "name": "#%%\n"
        },
        "id": "03c0fb94-3d90-4da8-b069-a08d44007dd9"
      },
      "outputs": [],
      "source": []
    },
    {
      "cell_type": "code",
      "execution_count": null,
      "id": "efd966fa-5628-4f85-be21-3d7c79b145d3",
      "metadata": {
        "pycharm": {
          "name": "#%%\n"
        },
        "id": "efd966fa-5628-4f85-be21-3d7c79b145d3"
      },
      "outputs": [],
      "source": []
    },
    {
      "cell_type": "code",
      "execution_count": null,
      "id": "73ce6398-be83-4bd3-bd1b-94888f2ed367",
      "metadata": {
        "pycharm": {
          "name": "#%%\n"
        },
        "id": "73ce6398-be83-4bd3-bd1b-94888f2ed367"
      },
      "outputs": [],
      "source": [
        "# Read the csv files\n",
        "player_stats = pd.read_csv('Data/2017-18_playerBoxScore.csv', parse_dates=['gmDate'])\n",
        "team_stats = pd.read_csv('Data/2017-18_teamBoxScore.csv', parse_dates=['gmDate'])\n",
        "standings = pd.read_csv('Data/2017-18_standings.csv', parse_dates=['stDate'])"
      ]
    },
    {
      "cell_type": "markdown",
      "id": "3cfb30bc-cdd0-4f0e-bf79-c84063842d4b",
      "metadata": {
        "pycharm": {
          "name": "#%% md\n"
        },
        "id": "3cfb30bc-cdd0-4f0e-bf79-c84063842d4b"
      },
      "source": [
        "### ColumnDataSource"
      ]
    },
    {
      "cell_type": "code",
      "execution_count": null,
      "id": "28e07f1f-af71-42f4-bf42-94d0dcb6d87c",
      "metadata": {
        "pycharm": {
          "name": "#%%\n"
        },
        "id": "28e07f1f-af71-42f4-bf42-94d0dcb6d87c"
      },
      "outputs": [],
      "source": []
    },
    {
      "cell_type": "code",
      "execution_count": null,
      "id": "cfc6e4cc-e1c3-4dbe-8ef1-0f843d83d98d",
      "metadata": {
        "pycharm": {
          "name": "#%%\n"
        },
        "id": "cfc6e4cc-e1c3-4dbe-8ef1-0f843d83d98d"
      },
      "outputs": [],
      "source": []
    },
    {
      "cell_type": "code",
      "execution_count": null,
      "id": "eb86d191-c906-4804-ac50-e0c684d9ffd1",
      "metadata": {
        "pycharm": {
          "name": "#%%\n"
        },
        "id": "eb86d191-c906-4804-ac50-e0c684d9ffd1"
      },
      "outputs": [],
      "source": []
    },
    {
      "cell_type": "code",
      "execution_count": null,
      "id": "ee722399-fd5b-44fe-be52-2d2c5683e6bf",
      "metadata": {
        "pycharm": {
          "name": "#%%\n"
        },
        "id": "ee722399-fd5b-44fe-be52-2d2c5683e6bf"
      },
      "outputs": [],
      "source": []
    },
    {
      "cell_type": "code",
      "execution_count": null,
      "id": "7fa66a1f-69af-4f5e-9df7-916fed2e314a",
      "metadata": {
        "pycharm": {
          "name": "#%%\n"
        },
        "id": "7fa66a1f-69af-4f5e-9df7-916fed2e314a"
      },
      "outputs": [],
      "source": []
    },
    {
      "cell_type": "code",
      "execution_count": null,
      "id": "02616f1f-e34a-4fb3-8256-14dcac21c0f7",
      "metadata": {
        "pycharm": {
          "name": "#%%\n"
        },
        "id": "02616f1f-e34a-4fb3-8256-14dcac21c0f7"
      },
      "outputs": [],
      "source": []
    },
    {
      "cell_type": "code",
      "execution_count": null,
      "id": "1a70911d-d142-4fd7-97de-1351214cc733",
      "metadata": {
        "pycharm": {
          "name": "#%%\n"
        },
        "id": "1a70911d-d142-4fd7-97de-1351214cc733"
      },
      "outputs": [],
      "source": []
    },
    {
      "cell_type": "markdown",
      "id": "a2bbdb77-0dc7-4273-bd49-a2f6d9522cc8",
      "metadata": {
        "pycharm": {
          "name": "#%% md\n"
        },
        "id": "a2bbdb77-0dc7-4273-bd49-a2f6d9522cc8"
      },
      "source": [
        "#### Daugiau pasiskaityti apie Bokeh ir jos interaktyvias vizualizacijas galite čia - https://realpython.com/python-data-visualization-bokeh/"
      ]
    },
    {
      "cell_type": "markdown",
      "id": "56e52826-18eb-4166-a738-90f96ff6cdd3",
      "metadata": {
        "pycharm": {
          "name": "#%% md\n"
        },
        "id": "56e52826-18eb-4166-a738-90f96ff6cdd3"
      },
      "source": [
        "# Back to Slides for Conclusion"
      ]
    }
  ],
  "metadata": {
    "kernelspec": {
      "display_name": "Python 3 (ipykernel)",
      "language": "python",
      "name": "python3"
    },
    "language_info": {
      "codemirror_mode": {
        "name": "ipython",
        "version": 3
      },
      "file_extension": ".py",
      "mimetype": "text/x-python",
      "name": "python",
      "nbconvert_exporter": "python",
      "pygments_lexer": "ipython3",
      "version": "3.9.9"
    },
    "colab": {
      "provenance": []
    }
  },
  "nbformat": 4,
  "nbformat_minor": 5
}