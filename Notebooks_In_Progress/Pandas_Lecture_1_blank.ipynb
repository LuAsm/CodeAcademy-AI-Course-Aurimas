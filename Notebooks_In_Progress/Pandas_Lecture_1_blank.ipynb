{
  "cells": [
    {
      "cell_type": "markdown",
      "source": [
        "<a href=\"https://colab.research.google.com/github/aurimas13/CodeAcademy-AI-Course/blob/main/Notebooks_In_Progress/Pandas_Lecture_1_blank.ipynb\" target=\"_parent\"><img src=\"https://colab.research.google.com/assets/colab-badge.svg\" alt=\"Open In Colab\"/></a>"
      ],
      "metadata": {
        "id": "afUEDGJS6dRn"
      },
      "id": "afUEDGJS6dRn"
    },
    {
      "cell_type": "code",
      "execution_count": null,
      "id": "d86478d5",
      "metadata": {
        "id": "d86478d5"
      },
      "outputs": [],
      "source": [
        "import pandas as pd\n",
        "import numpy as np\n",
        "import warnings\n",
        "warnings.filterwarnings('ignore')\n",
        "warnings.simplefilter('ignore')"
      ]
    },
    {
      "cell_type": "markdown",
      "id": "31ae2659",
      "metadata": {
        "id": "31ae2659"
      },
      "source": [
        "## Create A `Series` Object\n"
      ]
    },
    {
      "cell_type": "code",
      "execution_count": null,
      "id": "32b07360",
      "metadata": {
        "id": "32b07360"
      },
      "outputs": [],
      "source": [
        "# Create series String\n"
      ]
    },
    {
      "cell_type": "code",
      "execution_count": null,
      "id": "db2828a9",
      "metadata": {
        "id": "db2828a9"
      },
      "outputs": [],
      "source": [
        "# Create series Ints\n",
        "lottery = [4, 8, 15, 16, 23, 42]\n"
      ]
    },
    {
      "cell_type": "code",
      "execution_count": null,
      "id": "e7f60eae",
      "metadata": {
        "id": "e7f60eae"
      },
      "outputs": [],
      "source": [
        "# Create series Boolean\n",
        "registrations = [True, False, False, False, True]\n"
      ]
    },
    {
      "cell_type": "code",
      "execution_count": null,
      "id": "d79e2dd1",
      "metadata": {
        "id": "d79e2dd1"
      },
      "outputs": [],
      "source": [
        "# Create Series from dict\n"
      ]
    },
    {
      "cell_type": "markdown",
      "id": "520378b8",
      "metadata": {
        "id": "520378b8"
      },
      "source": [
        "## Create A `DataFrame` Object\n"
      ]
    },
    {
      "cell_type": "markdown",
      "id": "4151b6e6",
      "metadata": {
        "id": "4151b6e6"
      },
      "source": [
        "### Dict"
      ]
    },
    {
      "cell_type": "code",
      "execution_count": null,
      "id": "78ed30b8",
      "metadata": {
        "id": "78ed30b8"
      },
      "outputs": [],
      "source": [
        "# First method to create DataFrame from [{},{},{}]\n"
      ]
    },
    {
      "cell_type": "code",
      "execution_count": null,
      "id": "aff716dd",
      "metadata": {
        "id": "aff716dd"
      },
      "outputs": [],
      "source": [
        "# Second method to create DataFrame from [{-:[],-:[],-:[]}, from_dict\n"
      ]
    },
    {
      "cell_type": "markdown",
      "id": "d7a92d7d",
      "metadata": {
        "id": "d7a92d7d"
      },
      "source": [
        "### List"
      ]
    },
    {
      "cell_type": "code",
      "execution_count": null,
      "id": "6cb2a076",
      "metadata": {
        "id": "6cb2a076"
      },
      "outputs": [],
      "source": [
        "# Third method to create DataFrame from sales=[(),(),()] labels=['','','',''] from_records(sales, columns=labels)\n"
      ]
    },
    {
      "cell_type": "markdown",
      "id": "91bf493d",
      "metadata": {
        "id": "91bf493d"
      },
      "source": [
        "### 4th method deprecated - Don't USE IT"
      ]
    },
    {
      "cell_type": "code",
      "execution_count": null,
      "id": "29defd8f",
      "metadata": {
        "id": "29defd8f"
      },
      "outputs": [],
      "source": [
        "# Fourth method to create DataFrame is DEPRECATED. Don't use it. \n",
        "# sales = ['',['','','']], ('',['','',''], etcX2 from_items(sales)\n"
      ]
    },
    {
      "cell_type": "markdown",
      "id": "c487182e",
      "metadata": {
        "id": "c487182e"
      },
      "source": [
        "# Data Input Formats"
      ]
    },
    {
      "cell_type": "code",
      "execution_count": null,
      "id": "fe0bb12d",
      "metadata": {
        "scrolled": true,
        "id": "fe0bb12d"
      },
      "outputs": [],
      "source": [
        "#read_csv(\"Data/dollar_euro.txt\", sep=\"\\t\")\n"
      ]
    },
    {
      "cell_type": "code",
      "execution_count": null,
      "id": "0ffdb97d",
      "metadata": {
        "id": "0ffdb97d"
      },
      "outputs": [],
      "source": [
        "#column_names =\n",
        "#pd.read_csv(\"Data/countries_male_population.csv\",\n",
        "\n",
        "#pd.read_csv(\"Data/countries_female_population.csv\",\n",
        "\n",
        "#to_csv(\"Data/countries_total_population.csv\")\n"
      ]
    },
    {
      "cell_type": "code",
      "execution_count": null,
      "id": "29edf7f8",
      "metadata": {
        "id": "29edf7f8"
      },
      "outputs": [],
      "source": [
        "# pd.read_csv(\"Data/titanic.csv\")"
      ]
    },
    {
      "cell_type": "code",
      "execution_count": null,
      "id": "cac39ea8",
      "metadata": {
        "id": "cac39ea8"
      },
      "outputs": [],
      "source": [
        "# pd.to_excel(\"Data/titanic.xlsx\", sheet_name=\"passengers\", index=False)\n"
      ]
    },
    {
      "cell_type": "code",
      "execution_count": null,
      "id": "f7a280ee",
      "metadata": {
        "id": "f7a280ee"
      },
      "outputs": [],
      "source": [
        "# pd.read_excel(\"Data/titanic.xlsx\", sheet_name=\"passengers\")\n"
      ]
    },
    {
      "cell_type": "markdown",
      "id": "bb0cc168",
      "metadata": {
        "id": "bb0cc168"
      },
      "source": [
        "## Working with JSON"
      ]
    },
    {
      "cell_type": "code",
      "execution_count": null,
      "id": "08f4277e",
      "metadata": {
        "id": "08f4277e"
      },
      "outputs": [],
      "source": [
        "# when JSON is a simple dict:\n"
      ]
    },
    {
      "cell_type": "code",
      "execution_count": null,
      "id": "6b61611d",
      "metadata": {
        "id": "6b61611d"
      },
      "outputs": [],
      "source": [
        "# when a list of dicts\n"
      ]
    },
    {
      "cell_type": "code",
      "execution_count": null,
      "id": "2e260fa7",
      "metadata": {
        "id": "2e260fa7"
      },
      "outputs": [],
      "source": [
        "# when JSON is a nested list\n"
      ]
    },
    {
      "cell_type": "code",
      "execution_count": null,
      "id": "272eb00c",
      "metadata": {
        "id": "272eb00c"
      },
      "outputs": [],
      "source": []
    },
    {
      "cell_type": "code",
      "execution_count": null,
      "id": "df7c014a",
      "metadata": {
        "id": "df7c014a"
      },
      "outputs": [],
      "source": [
        "# when errors like nan\n"
      ]
    },
    {
      "cell_type": "code",
      "execution_count": null,
      "id": "67d4760b",
      "metadata": {
        "id": "67d4760b"
      },
      "outputs": [],
      "source": []
    },
    {
      "cell_type": "markdown",
      "id": "42de347d-e96c-4c33-97a5-c7c6a4805620",
      "metadata": {
        "id": "42de347d-e96c-4c33-97a5-c7c6a4805620"
      },
      "source": [
        "## <i>Exploring the NBA data</i>"
      ]
    },
    {
      "cell_type": "code",
      "execution_count": null,
      "id": "6bdb196a-00d3-4f0c-884e-ac9c9208e14d",
      "metadata": {
        "id": "6bdb196a-00d3-4f0c-884e-ac9c9208e14d",
        "outputId": "eea226c5-ea66-4b10-f52d-85651f2fcceb"
      },
      "outputs": [
        {
          "data": {
            "text/html": [
              "<div>\n",
              "<style scoped>\n",
              "    .dataframe tbody tr th:only-of-type {\n",
              "        vertical-align: middle;\n",
              "    }\n",
              "\n",
              "    .dataframe tbody tr th {\n",
              "        vertical-align: top;\n",
              "    }\n",
              "\n",
              "    .dataframe thead th {\n",
              "        text-align: right;\n",
              "    }\n",
              "</style>\n",
              "<table border=\"1\" class=\"dataframe\">\n",
              "  <thead>\n",
              "    <tr style=\"text-align: right;\">\n",
              "      <th></th>\n",
              "      <th>Name</th>\n",
              "      <th>Team</th>\n",
              "      <th>Number</th>\n",
              "      <th>Position</th>\n",
              "      <th>Age</th>\n",
              "      <th>Height</th>\n",
              "      <th>Weight</th>\n",
              "      <th>College</th>\n",
              "      <th>Salary</th>\n",
              "    </tr>\n",
              "  </thead>\n",
              "  <tbody>\n",
              "    <tr>\n",
              "      <th>0</th>\n",
              "      <td>Avery Bradley</td>\n",
              "      <td>Boston Celtics</td>\n",
              "      <td>0.0</td>\n",
              "      <td>PG</td>\n",
              "      <td>25.0</td>\n",
              "      <td>6-2</td>\n",
              "      <td>180.0</td>\n",
              "      <td>Texas</td>\n",
              "      <td>7730337.0</td>\n",
              "    </tr>\n",
              "    <tr>\n",
              "      <th>1</th>\n",
              "      <td>Jae Crowder</td>\n",
              "      <td>Boston Celtics</td>\n",
              "      <td>99.0</td>\n",
              "      <td>SF</td>\n",
              "      <td>25.0</td>\n",
              "      <td>6-6</td>\n",
              "      <td>235.0</td>\n",
              "      <td>Marquette</td>\n",
              "      <td>6796117.0</td>\n",
              "    </tr>\n",
              "    <tr>\n",
              "      <th>2</th>\n",
              "      <td>John Holland</td>\n",
              "      <td>Boston Celtics</td>\n",
              "      <td>30.0</td>\n",
              "      <td>SG</td>\n",
              "      <td>27.0</td>\n",
              "      <td>6-5</td>\n",
              "      <td>205.0</td>\n",
              "      <td>Boston University</td>\n",
              "      <td>NaN</td>\n",
              "    </tr>\n",
              "    <tr>\n",
              "      <th>3</th>\n",
              "      <td>R.J. Hunter</td>\n",
              "      <td>Boston Celtics</td>\n",
              "      <td>28.0</td>\n",
              "      <td>SG</td>\n",
              "      <td>22.0</td>\n",
              "      <td>6-5</td>\n",
              "      <td>185.0</td>\n",
              "      <td>Georgia State</td>\n",
              "      <td>1148640.0</td>\n",
              "    </tr>\n",
              "    <tr>\n",
              "      <th>4</th>\n",
              "      <td>Jonas Jerebko</td>\n",
              "      <td>Boston Celtics</td>\n",
              "      <td>8.0</td>\n",
              "      <td>PF</td>\n",
              "      <td>29.0</td>\n",
              "      <td>6-10</td>\n",
              "      <td>231.0</td>\n",
              "      <td>NaN</td>\n",
              "      <td>5000000.0</td>\n",
              "    </tr>\n",
              "  </tbody>\n",
              "</table>\n",
              "</div>"
            ],
            "text/plain": [
              "            Name            Team  Number Position   Age Height  Weight  \\\n",
              "0  Avery Bradley  Boston Celtics     0.0       PG  25.0    6-2   180.0   \n",
              "1    Jae Crowder  Boston Celtics    99.0       SF  25.0    6-6   235.0   \n",
              "2   John Holland  Boston Celtics    30.0       SG  27.0    6-5   205.0   \n",
              "3    R.J. Hunter  Boston Celtics    28.0       SG  22.0    6-5   185.0   \n",
              "4  Jonas Jerebko  Boston Celtics     8.0       PF  29.0   6-10   231.0   \n",
              "\n",
              "             College     Salary  \n",
              "0              Texas  7730337.0  \n",
              "1          Marquette  6796117.0  \n",
              "2  Boston University        NaN  \n",
              "3      Georgia State  1148640.0  \n",
              "4                NaN  5000000.0  "
            ]
          },
          "execution_count": 19,
          "metadata": {},
          "output_type": "execute_result"
        }
      ],
      "source": [
        "nba = pd.read_csv('https://media.githubusercontent.com/media/aurimas13/CodeAcademy-AI-Course/main/Datasets/nba.csv')\n",
        "nba.columns\n",
        "nba.count\n",
        "nba.head(5)"
      ]
    },
    {
      "cell_type": "markdown",
      "id": "67d72045",
      "metadata": {
        "id": "67d72045"
      },
      "source": [
        "# <b> More useful for data analysis is manipulating A `Dataframe` Object </b>\n"
      ]
    },
    {
      "cell_type": "markdown",
      "id": "5a815b65",
      "metadata": {
        "id": "5a815b65"
      },
      "source": [
        "## Some shared methods and attributes with `Series`"
      ]
    },
    {
      "cell_type": "code",
      "execution_count": null,
      "id": "c7de890c",
      "metadata": {
        "id": "c7de890c"
      },
      "outputs": [],
      "source": [
        "#front\n"
      ]
    },
    {
      "cell_type": "code",
      "execution_count": null,
      "id": "bc8d6342",
      "metadata": {
        "id": "bc8d6342"
      },
      "outputs": [],
      "source": [
        "#end\n"
      ]
    },
    {
      "cell_type": "code",
      "execution_count": null,
      "id": "763afd05",
      "metadata": {
        "id": "763afd05"
      },
      "outputs": [],
      "source": [
        "#idx\n"
      ]
    },
    {
      "cell_type": "code",
      "execution_count": null,
      "id": "6eb1357a",
      "metadata": {
        "id": "6eb1357a"
      },
      "outputs": [],
      "source": [
        "#values\n"
      ]
    },
    {
      "cell_type": "code",
      "execution_count": null,
      "id": "78f0f824",
      "metadata": {
        "id": "78f0f824"
      },
      "outputs": [],
      "source": [
        "#columns\n"
      ]
    },
    {
      "cell_type": "code",
      "execution_count": null,
      "id": "2fecd01c",
      "metadata": {
        "id": "2fecd01c"
      },
      "outputs": [],
      "source": [
        "# Take one column .Team\n"
      ]
    },
    {
      "cell_type": "code",
      "execution_count": null,
      "id": "44186379",
      "metadata": {
        "id": "44186379"
      },
      "outputs": [],
      "source": [
        "# Take one column 'Team'\n"
      ]
    },
    {
      "cell_type": "code",
      "execution_count": null,
      "id": "0ce37908",
      "metadata": {
        "id": "0ce37908"
      },
      "outputs": [],
      "source": [
        "#dtypes.value_counts\n"
      ]
    },
    {
      "cell_type": "markdown",
      "id": "5f0b072b",
      "metadata": {
        "id": "5f0b072b"
      },
      "source": [
        "## Same `Series` attributes"
      ]
    },
    {
      "cell_type": "code",
      "execution_count": null,
      "id": "dcbc349e",
      "metadata": {
        "id": "dcbc349e"
      },
      "outputs": [],
      "source": [
        "nba_series = pd.read_csv(\"https://media.githubusercontent.com/media/aurimas13/CodeAcademy-AI-Course/main/Datasets/nba.csv\", usecols = [\"Name\"], squeeze = True)\n"
      ]
    },
    {
      "cell_type": "code",
      "execution_count": null,
      "id": "bd12d4db",
      "metadata": {
        "id": "bd12d4db"
      },
      "outputs": [],
      "source": [
        "# nba_series.values\n",
        "# nba_series.index\n",
        "# nba_series.dtype\n",
        "# nba_series.value_counts()\n",
        "# nba_series.value_counts().sum()\n",
        "# nba_series.count()\n",
        "# nba_series.is_unique\n",
        "# nba_series.ndim"
      ]
    },
    {
      "cell_type": "code",
      "execution_count": null,
      "id": "eec2ac8d",
      "metadata": {
        "id": "eec2ac8d"
      },
      "outputs": [],
      "source": [
        "# s = pd.Series([1.0, 2.0, 2.0, 243.0])\n"
      ]
    },
    {
      "cell_type": "markdown",
      "id": "d2aefb42",
      "metadata": {
        "id": "d2aefb42"
      },
      "source": [
        "## Select one column from A `DataFrame` Object"
      ]
    },
    {
      "cell_type": "code",
      "execution_count": null,
      "id": "5b9b833d",
      "metadata": {
        "id": "5b9b833d"
      },
      "outputs": [],
      "source": [
        "# nba_one['Team'] vs nba_one[[\"Team\"]]\n",
        "nba_one = pd.read_csv(\"https://media.githubusercontent.com/media/aurimas13/CodeAcademy-AI-Course/main/Datasets/nba.csv\")\n"
      ]
    },
    {
      "cell_type": "markdown",
      "id": "e210e40f",
      "metadata": {
        "id": "e210e40f"
      },
      "source": [
        "## Select two or more columns from A `DataFrame` Object\n"
      ]
    },
    {
      "cell_type": "code",
      "execution_count": null,
      "id": "2bd5e4c1",
      "metadata": {
        "id": "2bd5e4c1"
      },
      "outputs": [],
      "source": [
        "# Team, Name | Number, College | 'Salary', 'Team', 'Name'\n",
        "nba = pd.read_csv(\"https://media.githubusercontent.com/media/aurimas13/CodeAcademy-AI-Course/main/Datasets/nba.csv\")\n"
      ]
    },
    {
      "cell_type": "markdown",
      "id": "778b5a9e",
      "metadata": {
        "id": "778b5a9e"
      },
      "source": [
        "## Add a new column to A `DataFrame` Object"
      ]
    },
    {
      "cell_type": "code",
      "execution_count": null,
      "id": "bab7396d",
      "metadata": {
        "id": "bab7396d"
      },
      "outputs": [],
      "source": []
    },
    {
      "cell_type": "markdown",
      "id": "acdd2323",
      "metadata": {
        "id": "acdd2323"
      },
      "source": [
        "## <b> Time to look at the exercises </b>"
      ]
    },
    {
      "cell_type": "code",
      "execution_count": null,
      "id": "bbe03d1c",
      "metadata": {
        "id": "bbe03d1c"
      },
      "outputs": [],
      "source": []
    },
    {
      "cell_type": "markdown",
      "id": "e4f1d63a",
      "metadata": {
        "id": "e4f1d63a"
      },
      "source": [
        "# Indexing and Filtering"
      ]
    },
    {
      "cell_type": "code",
      "execution_count": null,
      "id": "4c4c25f7",
      "metadata": {
        "id": "4c4c25f7"
      },
      "outputs": [],
      "source": [
        "nba = pd.read_csv(\"https://media.githubusercontent.com/media/aurimas13/CodeAcademy-AI-Course/main/Datasets/nba.csv\")"
      ]
    },
    {
      "cell_type": "markdown",
      "id": "bdcd0a12",
      "metadata": {
        "id": "bdcd0a12"
      },
      "source": [
        "### Selecting"
      ]
    },
    {
      "cell_type": "code",
      "execution_count": null,
      "id": "eeaacb9a",
      "metadata": {
        "id": "eeaacb9a"
      },
      "outputs": [],
      "source": [
        "#Pasirenki viena stulpeli per ''\n"
      ]
    },
    {
      "cell_type": "code",
      "execution_count": null,
      "id": "4b44715a",
      "metadata": {
        "id": "4b44715a"
      },
      "outputs": [],
      "source": [
        "#Pasirenki viena stulpeli per .stulpelis\n"
      ]
    },
    {
      "cell_type": "code",
      "execution_count": null,
      "id": "5650a8a6",
      "metadata": {
        "id": "5650a8a6"
      },
      "outputs": [],
      "source": [
        "#Pasirenki dvi eilutes Name ir Teams per [[]]"
      ]
    },
    {
      "cell_type": "markdown",
      "id": "43f464ba",
      "metadata": {
        "id": "43f464ba"
      },
      "source": [
        "### The `.value_counts()` method"
      ]
    },
    {
      "cell_type": "code",
      "execution_count": null,
      "id": "f094b591",
      "metadata": {
        "id": "f094b591"
      },
      "outputs": [],
      "source": [
        "#3 budai\n"
      ]
    },
    {
      "cell_type": "markdown",
      "id": "d9e9e640",
      "metadata": {
        "id": "d9e9e640"
      },
      "source": [
        "## The `.astype()` method &  `.unique()` and `.nunique()` methods"
      ]
    },
    {
      "cell_type": "code",
      "execution_count": null,
      "id": "57ec6991",
      "metadata": {
        "id": "57ec6991",
        "outputId": "9921c601-1afc-4231-a6b3-d61a58867115"
      },
      "outputs": [
        {
          "data": {
            "text/html": [
              "<div>\n",
              "<style scoped>\n",
              "    .dataframe tbody tr th:only-of-type {\n",
              "        vertical-align: middle;\n",
              "    }\n",
              "\n",
              "    .dataframe tbody tr th {\n",
              "        vertical-align: top;\n",
              "    }\n",
              "\n",
              "    .dataframe thead th {\n",
              "        text-align: right;\n",
              "    }\n",
              "</style>\n",
              "<table border=\"1\" class=\"dataframe\">\n",
              "  <thead>\n",
              "    <tr style=\"text-align: right;\">\n",
              "      <th></th>\n",
              "      <th>Name</th>\n",
              "      <th>Team</th>\n",
              "      <th>Number</th>\n",
              "      <th>Position</th>\n",
              "      <th>Age</th>\n",
              "      <th>Height</th>\n",
              "      <th>Weight</th>\n",
              "      <th>College</th>\n",
              "      <th>Salary</th>\n",
              "    </tr>\n",
              "  </thead>\n",
              "  <tbody>\n",
              "    <tr>\n",
              "      <th>0</th>\n",
              "      <td>Avery Bradley</td>\n",
              "      <td>Boston Celtics</td>\n",
              "      <td>0.0</td>\n",
              "      <td>PG</td>\n",
              "      <td>25.0</td>\n",
              "      <td>6-2</td>\n",
              "      <td>180.0</td>\n",
              "      <td>Texas</td>\n",
              "      <td>7730337.0</td>\n",
              "    </tr>\n",
              "    <tr>\n",
              "      <th>1</th>\n",
              "      <td>Jae Crowder</td>\n",
              "      <td>Boston Celtics</td>\n",
              "      <td>99.0</td>\n",
              "      <td>SF</td>\n",
              "      <td>25.0</td>\n",
              "      <td>6-6</td>\n",
              "      <td>235.0</td>\n",
              "      <td>Marquette</td>\n",
              "      <td>6796117.0</td>\n",
              "    </tr>\n",
              "    <tr>\n",
              "      <th>2</th>\n",
              "      <td>John Holland</td>\n",
              "      <td>Boston Celtics</td>\n",
              "      <td>30.0</td>\n",
              "      <td>SG</td>\n",
              "      <td>27.0</td>\n",
              "      <td>6-5</td>\n",
              "      <td>205.0</td>\n",
              "      <td>Boston University</td>\n",
              "      <td>NaN</td>\n",
              "    </tr>\n",
              "    <tr>\n",
              "      <th>3</th>\n",
              "      <td>R.J. Hunter</td>\n",
              "      <td>Boston Celtics</td>\n",
              "      <td>28.0</td>\n",
              "      <td>SG</td>\n",
              "      <td>22.0</td>\n",
              "      <td>6-5</td>\n",
              "      <td>185.0</td>\n",
              "      <td>Georgia State</td>\n",
              "      <td>1148640.0</td>\n",
              "    </tr>\n",
              "    <tr>\n",
              "      <th>4</th>\n",
              "      <td>Jonas Jerebko</td>\n",
              "      <td>Boston Celtics</td>\n",
              "      <td>8.0</td>\n",
              "      <td>PF</td>\n",
              "      <td>29.0</td>\n",
              "      <td>6-10</td>\n",
              "      <td>231.0</td>\n",
              "      <td>NaN</td>\n",
              "      <td>5000000.0</td>\n",
              "    </tr>\n",
              "    <tr>\n",
              "      <th>5</th>\n",
              "      <td>Amir Johnson</td>\n",
              "      <td>Boston Celtics</td>\n",
              "      <td>90.0</td>\n",
              "      <td>PF</td>\n",
              "      <td>29.0</td>\n",
              "      <td>6-9</td>\n",
              "      <td>240.0</td>\n",
              "      <td>NaN</td>\n",
              "      <td>12000000.0</td>\n",
              "    </tr>\n",
              "    <tr>\n",
              "      <th>6</th>\n",
              "      <td>Jordan Mickey</td>\n",
              "      <td>Boston Celtics</td>\n",
              "      <td>55.0</td>\n",
              "      <td>PF</td>\n",
              "      <td>21.0</td>\n",
              "      <td>6-8</td>\n",
              "      <td>235.0</td>\n",
              "      <td>LSU</td>\n",
              "      <td>1170960.0</td>\n",
              "    </tr>\n",
              "    <tr>\n",
              "      <th>7</th>\n",
              "      <td>Kelly Olynyk</td>\n",
              "      <td>Boston Celtics</td>\n",
              "      <td>41.0</td>\n",
              "      <td>C</td>\n",
              "      <td>25.0</td>\n",
              "      <td>7-0</td>\n",
              "      <td>238.0</td>\n",
              "      <td>Gonzaga</td>\n",
              "      <td>2165160.0</td>\n",
              "    </tr>\n",
              "    <tr>\n",
              "      <th>8</th>\n",
              "      <td>Terry Rozier</td>\n",
              "      <td>Boston Celtics</td>\n",
              "      <td>12.0</td>\n",
              "      <td>PG</td>\n",
              "      <td>22.0</td>\n",
              "      <td>6-2</td>\n",
              "      <td>190.0</td>\n",
              "      <td>Louisville</td>\n",
              "      <td>1824360.0</td>\n",
              "    </tr>\n",
              "    <tr>\n",
              "      <th>9</th>\n",
              "      <td>Marcus Smart</td>\n",
              "      <td>Boston Celtics</td>\n",
              "      <td>36.0</td>\n",
              "      <td>PG</td>\n",
              "      <td>22.0</td>\n",
              "      <td>6-4</td>\n",
              "      <td>220.0</td>\n",
              "      <td>Oklahoma State</td>\n",
              "      <td>3431040.0</td>\n",
              "    </tr>\n",
              "  </tbody>\n",
              "</table>\n",
              "</div>"
            ],
            "text/plain": [
              "            Name            Team  Number Position   Age Height  Weight  \\\n",
              "0  Avery Bradley  Boston Celtics     0.0       PG  25.0    6-2   180.0   \n",
              "1    Jae Crowder  Boston Celtics    99.0       SF  25.0    6-6   235.0   \n",
              "2   John Holland  Boston Celtics    30.0       SG  27.0    6-5   205.0   \n",
              "3    R.J. Hunter  Boston Celtics    28.0       SG  22.0    6-5   185.0   \n",
              "4  Jonas Jerebko  Boston Celtics     8.0       PF  29.0   6-10   231.0   \n",
              "5   Amir Johnson  Boston Celtics    90.0       PF  29.0    6-9   240.0   \n",
              "6  Jordan Mickey  Boston Celtics    55.0       PF  21.0    6-8   235.0   \n",
              "7   Kelly Olynyk  Boston Celtics    41.0        C  25.0    7-0   238.0   \n",
              "8   Terry Rozier  Boston Celtics    12.0       PG  22.0    6-2   190.0   \n",
              "9   Marcus Smart  Boston Celtics    36.0       PG  22.0    6-4   220.0   \n",
              "\n",
              "             College      Salary  \n",
              "0              Texas   7730337.0  \n",
              "1          Marquette   6796117.0  \n",
              "2  Boston University         NaN  \n",
              "3      Georgia State   1148640.0  \n",
              "4                NaN   5000000.0  \n",
              "5                NaN  12000000.0  \n",
              "6                LSU   1170960.0  \n",
              "7            Gonzaga   2165160.0  \n",
              "8         Louisville   1824360.0  \n",
              "9     Oklahoma State   3431040.0  "
            ]
          },
          "execution_count": 38,
          "metadata": {},
          "output_type": "execute_result"
        }
      ],
      "source": [
        "#2/3 budai\n",
        "\n",
        "nba.head(10)"
      ]
    },
    {
      "cell_type": "code",
      "execution_count": null,
      "id": "4ee7a548",
      "metadata": {
        "id": "4ee7a548"
      },
      "outputs": [],
      "source": []
    },
    {
      "cell_type": "code",
      "execution_count": null,
      "id": "a91c419b",
      "metadata": {
        "id": "a91c419b"
      },
      "outputs": [],
      "source": []
    },
    {
      "cell_type": "code",
      "execution_count": null,
      "id": "ce55a0cd",
      "metadata": {
        "id": "ce55a0cd"
      },
      "outputs": [],
      "source": []
    },
    {
      "cell_type": "markdown",
      "id": "a9145041",
      "metadata": {
        "id": "a9145041"
      },
      "source": [
        "## Filter A `DataFrame` Based On A Condition"
      ]
    },
    {
      "cell_type": "code",
      "execution_count": null,
      "id": "5b231833",
      "metadata": {
        "id": "5b231833"
      },
      "outputs": [],
      "source": [
        "\n"
      ]
    },
    {
      "cell_type": "markdown",
      "id": "21e693e5",
      "metadata": {
        "id": "21e693e5"
      },
      "source": [
        "## Filter with More than One Condition (AND)"
      ]
    },
    {
      "cell_type": "code",
      "execution_count": null,
      "id": "2eeced32",
      "metadata": {
        "id": "2eeced32"
      },
      "outputs": [],
      "source": [
        "\n"
      ]
    },
    {
      "cell_type": "code",
      "execution_count": null,
      "id": "37efda0c",
      "metadata": {
        "scrolled": true,
        "id": "37efda0c"
      },
      "outputs": [],
      "source": []
    },
    {
      "cell_type": "markdown",
      "id": "1fda45ee",
      "metadata": {
        "id": "1fda45ee"
      },
      "source": [
        "## Filter with More than One Condition (OR)"
      ]
    },
    {
      "cell_type": "code",
      "execution_count": null,
      "id": "fcd9e027",
      "metadata": {
        "id": "fcd9e027"
      },
      "outputs": [],
      "source": []
    },
    {
      "cell_type": "code",
      "execution_count": null,
      "id": "00b807d2",
      "metadata": {
        "id": "00b807d2"
      },
      "outputs": [],
      "source": []
    },
    {
      "cell_type": "markdown",
      "id": "12310fd2",
      "metadata": {
        "id": "12310fd2"
      },
      "source": [
        "## Retrieve Rows by Index Label with `.loc[]`"
      ]
    },
    {
      "cell_type": "code",
      "execution_count": null,
      "id": "42ba5454",
      "metadata": {
        "id": "42ba5454"
      },
      "outputs": [],
      "source": [
        "nba = pd.read_csv(\"https://media.githubusercontent.com/media/aurimas13/CodeAcademy-AI-Course/main/Datasets/nba.csv\")\n"
      ]
    },
    {
      "cell_type": "code",
      "execution_count": null,
      "id": "c5023358",
      "metadata": {
        "id": "c5023358"
      },
      "outputs": [],
      "source": []
    },
    {
      "cell_type": "code",
      "execution_count": null,
      "id": "1359e4f4-2551-4ed3-9c41-e4c4191be68b",
      "metadata": {
        "id": "1359e4f4-2551-4ed3-9c41-e4c4191be68b"
      },
      "outputs": [],
      "source": []
    },
    {
      "cell_type": "code",
      "execution_count": null,
      "id": "0f099ecd-1e34-4ff2-8ada-57a8156dc14b",
      "metadata": {
        "id": "0f099ecd-1e34-4ff2-8ada-57a8156dc14b",
        "outputId": "4f91e021-92dc-4164-d2b4-035323a6e02a"
      },
      "outputs": [
        {
          "data": {
            "text/html": [
              "<div>\n",
              "<style scoped>\n",
              "    .dataframe tbody tr th:only-of-type {\n",
              "        vertical-align: middle;\n",
              "    }\n",
              "\n",
              "    .dataframe tbody tr th {\n",
              "        vertical-align: top;\n",
              "    }\n",
              "\n",
              "    .dataframe thead th {\n",
              "        text-align: right;\n",
              "    }\n",
              "</style>\n",
              "<table border=\"1\" class=\"dataframe\">\n",
              "  <thead>\n",
              "    <tr style=\"text-align: right;\">\n",
              "      <th></th>\n",
              "      <th>Name</th>\n",
              "      <th>Team</th>\n",
              "      <th>Number</th>\n",
              "      <th>Position</th>\n",
              "      <th>Age</th>\n",
              "      <th>Height</th>\n",
              "      <th>Weight</th>\n",
              "      <th>College</th>\n",
              "      <th>Salary</th>\n",
              "    </tr>\n",
              "  </thead>\n",
              "  <tbody>\n",
              "    <tr>\n",
              "      <th>0</th>\n",
              "      <td>Avery Bradley</td>\n",
              "      <td>Boston Celtics</td>\n",
              "      <td>0.0</td>\n",
              "      <td>PG</td>\n",
              "      <td>25.0</td>\n",
              "      <td>6-2</td>\n",
              "      <td>180.0</td>\n",
              "      <td>Texas</td>\n",
              "      <td>7730337.0</td>\n",
              "    </tr>\n",
              "    <tr>\n",
              "      <th>1</th>\n",
              "      <td>Jae Crowder</td>\n",
              "      <td>Boston Celtics</td>\n",
              "      <td>99.0</td>\n",
              "      <td>SF</td>\n",
              "      <td>25.0</td>\n",
              "      <td>6-6</td>\n",
              "      <td>235.0</td>\n",
              "      <td>Marquette</td>\n",
              "      <td>6796117.0</td>\n",
              "    </tr>\n",
              "    <tr>\n",
              "      <th>2</th>\n",
              "      <td>John Holland</td>\n",
              "      <td>Boston Celtics</td>\n",
              "      <td>30.0</td>\n",
              "      <td>SG</td>\n",
              "      <td>27.0</td>\n",
              "      <td>6-5</td>\n",
              "      <td>205.0</td>\n",
              "      <td>Boston University</td>\n",
              "      <td>NaN</td>\n",
              "    </tr>\n",
              "    <tr>\n",
              "      <th>3</th>\n",
              "      <td>R.J. Hunter</td>\n",
              "      <td>Boston Celtics</td>\n",
              "      <td>28.0</td>\n",
              "      <td>SG</td>\n",
              "      <td>22.0</td>\n",
              "      <td>6-5</td>\n",
              "      <td>185.0</td>\n",
              "      <td>Georgia State</td>\n",
              "      <td>1148640.0</td>\n",
              "    </tr>\n",
              "    <tr>\n",
              "      <th>4</th>\n",
              "      <td>Jonas Jerebko</td>\n",
              "      <td>Boston Celtics</td>\n",
              "      <td>8.0</td>\n",
              "      <td>PF</td>\n",
              "      <td>29.0</td>\n",
              "      <td>6-10</td>\n",
              "      <td>231.0</td>\n",
              "      <td>NaN</td>\n",
              "      <td>5000000.0</td>\n",
              "    </tr>\n",
              "    <tr>\n",
              "      <th>5</th>\n",
              "      <td>Amir Johnson</td>\n",
              "      <td>Boston Celtics</td>\n",
              "      <td>90.0</td>\n",
              "      <td>PF</td>\n",
              "      <td>29.0</td>\n",
              "      <td>6-9</td>\n",
              "      <td>240.0</td>\n",
              "      <td>NaN</td>\n",
              "      <td>12000000.0</td>\n",
              "    </tr>\n",
              "    <tr>\n",
              "      <th>6</th>\n",
              "      <td>Jordan Mickey</td>\n",
              "      <td>Boston Celtics</td>\n",
              "      <td>55.0</td>\n",
              "      <td>PF</td>\n",
              "      <td>21.0</td>\n",
              "      <td>6-8</td>\n",
              "      <td>235.0</td>\n",
              "      <td>LSU</td>\n",
              "      <td>1170960.0</td>\n",
              "    </tr>\n",
              "    <tr>\n",
              "      <th>7</th>\n",
              "      <td>Kelly Olynyk</td>\n",
              "      <td>Boston Celtics</td>\n",
              "      <td>41.0</td>\n",
              "      <td>C</td>\n",
              "      <td>25.0</td>\n",
              "      <td>7-0</td>\n",
              "      <td>238.0</td>\n",
              "      <td>Gonzaga</td>\n",
              "      <td>2165160.0</td>\n",
              "    </tr>\n",
              "    <tr>\n",
              "      <th>8</th>\n",
              "      <td>Terry Rozier</td>\n",
              "      <td>Boston Celtics</td>\n",
              "      <td>12.0</td>\n",
              "      <td>PG</td>\n",
              "      <td>22.0</td>\n",
              "      <td>6-2</td>\n",
              "      <td>190.0</td>\n",
              "      <td>Louisville</td>\n",
              "      <td>1824360.0</td>\n",
              "    </tr>\n",
              "    <tr>\n",
              "      <th>9</th>\n",
              "      <td>Marcus Smart</td>\n",
              "      <td>Boston Celtics</td>\n",
              "      <td>36.0</td>\n",
              "      <td>PG</td>\n",
              "      <td>22.0</td>\n",
              "      <td>6-4</td>\n",
              "      <td>220.0</td>\n",
              "      <td>Oklahoma State</td>\n",
              "      <td>3431040.0</td>\n",
              "    </tr>\n",
              "  </tbody>\n",
              "</table>\n",
              "</div>"
            ],
            "text/plain": [
              "            Name            Team  Number Position   Age Height  Weight  \\\n",
              "0  Avery Bradley  Boston Celtics     0.0       PG  25.0    6-2   180.0   \n",
              "1    Jae Crowder  Boston Celtics    99.0       SF  25.0    6-6   235.0   \n",
              "2   John Holland  Boston Celtics    30.0       SG  27.0    6-5   205.0   \n",
              "3    R.J. Hunter  Boston Celtics    28.0       SG  22.0    6-5   185.0   \n",
              "4  Jonas Jerebko  Boston Celtics     8.0       PF  29.0   6-10   231.0   \n",
              "5   Amir Johnson  Boston Celtics    90.0       PF  29.0    6-9   240.0   \n",
              "6  Jordan Mickey  Boston Celtics    55.0       PF  21.0    6-8   235.0   \n",
              "7   Kelly Olynyk  Boston Celtics    41.0        C  25.0    7-0   238.0   \n",
              "8   Terry Rozier  Boston Celtics    12.0       PG  22.0    6-2   190.0   \n",
              "9   Marcus Smart  Boston Celtics    36.0       PG  22.0    6-4   220.0   \n",
              "\n",
              "             College      Salary  \n",
              "0              Texas   7730337.0  \n",
              "1          Marquette   6796117.0  \n",
              "2  Boston University         NaN  \n",
              "3      Georgia State   1148640.0  \n",
              "4                NaN   5000000.0  \n",
              "5                NaN  12000000.0  \n",
              "6                LSU   1170960.0  \n",
              "7            Gonzaga   2165160.0  \n",
              "8         Louisville   1824360.0  \n",
              "9     Oklahoma State   3431040.0  "
            ]
          },
          "execution_count": 40,
          "metadata": {},
          "output_type": "execute_result"
        }
      ],
      "source": [
        "# another method to set index\n",
        "\n",
        "nba.head(10)"
      ]
    },
    {
      "cell_type": "code",
      "execution_count": null,
      "id": "4a9f0981",
      "metadata": {
        "scrolled": true,
        "id": "4a9f0981"
      },
      "outputs": [],
      "source": []
    },
    {
      "cell_type": "code",
      "execution_count": null,
      "id": "fda896e7",
      "metadata": {
        "id": "fda896e7"
      },
      "outputs": [],
      "source": []
    },
    {
      "cell_type": "code",
      "execution_count": null,
      "id": "4f2e5dcd",
      "metadata": {
        "id": "4f2e5dcd"
      },
      "outputs": [],
      "source": []
    },
    {
      "cell_type": "code",
      "execution_count": null,
      "id": "b78a9959",
      "metadata": {
        "id": "b78a9959"
      },
      "outputs": [],
      "source": []
    },
    {
      "cell_type": "markdown",
      "id": "67ad31e7",
      "metadata": {
        "id": "67ad31e7"
      },
      "source": [
        "### Slicing"
      ]
    },
    {
      "cell_type": "code",
      "execution_count": null,
      "id": "24fe2ffe",
      "metadata": {
        "id": "24fe2ffe"
      },
      "outputs": [],
      "source": []
    },
    {
      "cell_type": "code",
      "execution_count": null,
      "id": "b855690d",
      "metadata": {
        "id": "b855690d"
      },
      "outputs": [],
      "source": []
    },
    {
      "cell_type": "code",
      "execution_count": null,
      "id": "c9f4b89f",
      "metadata": {
        "id": "c9f4b89f"
      },
      "outputs": [],
      "source": []
    },
    {
      "cell_type": "code",
      "execution_count": null,
      "id": "b5f8df72",
      "metadata": {
        "id": "b5f8df72"
      },
      "outputs": [],
      "source": []
    },
    {
      "cell_type": "code",
      "execution_count": null,
      "id": "513e8a10",
      "metadata": {
        "id": "513e8a10"
      },
      "outputs": [],
      "source": []
    },
    {
      "cell_type": "code",
      "execution_count": null,
      "id": "8578eb87",
      "metadata": {
        "id": "8578eb87"
      },
      "outputs": [],
      "source": [
        "nba.reset_index(drop=True, inplace=True)"
      ]
    },
    {
      "cell_type": "markdown",
      "id": "bd824188",
      "metadata": {
        "id": "bd824188"
      },
      "source": [
        "## Retrieve Row(s) by Index Position with `iloc[]`"
      ]
    },
    {
      "cell_type": "code",
      "execution_count": null,
      "id": "1c600929",
      "metadata": {
        "id": "1c600929"
      },
      "outputs": [],
      "source": [
        "nba = pd.read_csv(\"https://media.githubusercontent.com/media/aurimas13/CodeAcademy-AI-Course/main/Datasets/nba.csv\")\n"
      ]
    },
    {
      "cell_type": "code",
      "execution_count": null,
      "id": "9b76e96d",
      "metadata": {
        "id": "9b76e96d"
      },
      "outputs": [],
      "source": [
        "\n"
      ]
    },
    {
      "cell_type": "code",
      "execution_count": null,
      "id": "26f69dc9",
      "metadata": {
        "id": "26f69dc9"
      },
      "outputs": [],
      "source": []
    },
    {
      "cell_type": "code",
      "execution_count": null,
      "id": "069579f7",
      "metadata": {
        "id": "069579f7"
      },
      "outputs": [],
      "source": []
    },
    {
      "cell_type": "code",
      "execution_count": null,
      "id": "29eb3aa7",
      "metadata": {
        "id": "29eb3aa7"
      },
      "outputs": [],
      "source": []
    },
    {
      "cell_type": "code",
      "execution_count": null,
      "id": "0bf8a93c",
      "metadata": {
        "scrolled": true,
        "id": "0bf8a93c"
      },
      "outputs": [],
      "source": []
    },
    {
      "cell_type": "code",
      "execution_count": null,
      "id": "0046852c",
      "metadata": {
        "id": "0046852c"
      },
      "outputs": [],
      "source": [
        "nba = pd.read_csv(\"Data/nba.csv\")\n",
        "# nba.sort_index(inplace = True)\n",
        "# nba.head(22)"
      ]
    },
    {
      "cell_type": "code",
      "execution_count": null,
      "id": "3ef12ef6",
      "metadata": {
        "id": "3ef12ef6"
      },
      "outputs": [],
      "source": []
    },
    {
      "cell_type": "code",
      "execution_count": null,
      "id": "1894b7fe",
      "metadata": {
        "id": "1894b7fe"
      },
      "outputs": [],
      "source": [
        "# nba.iloc[100:300]\n"
      ]
    },
    {
      "cell_type": "markdown",
      "id": "b27fa6ec",
      "metadata": {
        "id": "b27fa6ec"
      },
      "source": [
        "## Create a new column & get biggest values"
      ]
    },
    {
      "cell_type": "code",
      "execution_count": null,
      "id": "c2b3a4d4",
      "metadata": {
        "id": "c2b3a4d4"
      },
      "outputs": [],
      "source": [
        "nba = pd.read_csv(\"https://media.githubusercontent.com/media/aurimas13/CodeAcademy-AI-Course/main/Datasets/nba.csv\")\n",
        "\n",
        "\n",
        "# or"
      ]
    },
    {
      "cell_type": "code",
      "execution_count": null,
      "id": "d109f3a8",
      "metadata": {
        "id": "d109f3a8",
        "outputId": "d5478e28-def9-4c41-8bd7-7f8181b1687a"
      },
      "outputs": [
        {
          "data": {
            "text/html": [
              "<div>\n",
              "<style scoped>\n",
              "    .dataframe tbody tr th:only-of-type {\n",
              "        vertical-align: middle;\n",
              "    }\n",
              "\n",
              "    .dataframe tbody tr th {\n",
              "        vertical-align: top;\n",
              "    }\n",
              "\n",
              "    .dataframe thead th {\n",
              "        text-align: right;\n",
              "    }\n",
              "</style>\n",
              "<table border=\"1\" class=\"dataframe\">\n",
              "  <thead>\n",
              "    <tr style=\"text-align: right;\">\n",
              "      <th></th>\n",
              "      <th>Name</th>\n",
              "      <th>Team</th>\n",
              "      <th>Number</th>\n",
              "      <th>Position</th>\n",
              "      <th>Age</th>\n",
              "      <th>Height</th>\n",
              "      <th>Weight</th>\n",
              "      <th>College</th>\n",
              "      <th>Salary</th>\n",
              "    </tr>\n",
              "  </thead>\n",
              "  <tbody>\n",
              "    <tr>\n",
              "      <th>0</th>\n",
              "      <td>Avery Bradley</td>\n",
              "      <td>Boston Celtics</td>\n",
              "      <td>0.0</td>\n",
              "      <td>PG</td>\n",
              "      <td>25.0</td>\n",
              "      <td>6-2</td>\n",
              "      <td>180.0</td>\n",
              "      <td>Texas</td>\n",
              "      <td>7730337.0</td>\n",
              "    </tr>\n",
              "    <tr>\n",
              "      <th>1</th>\n",
              "      <td>Jae Crowder</td>\n",
              "      <td>Boston Celtics</td>\n",
              "      <td>99.0</td>\n",
              "      <td>SF</td>\n",
              "      <td>25.0</td>\n",
              "      <td>6-6</td>\n",
              "      <td>235.0</td>\n",
              "      <td>Marquette</td>\n",
              "      <td>6796117.0</td>\n",
              "    </tr>\n",
              "    <tr>\n",
              "      <th>2</th>\n",
              "      <td>John Holland</td>\n",
              "      <td>Boston Celtics</td>\n",
              "      <td>30.0</td>\n",
              "      <td>SG</td>\n",
              "      <td>27.0</td>\n",
              "      <td>6-5</td>\n",
              "      <td>205.0</td>\n",
              "      <td>Boston University</td>\n",
              "      <td>NaN</td>\n",
              "    </tr>\n",
              "    <tr>\n",
              "      <th>3</th>\n",
              "      <td>R.J. Hunter</td>\n",
              "      <td>Boston Celtics</td>\n",
              "      <td>28.0</td>\n",
              "      <td>SG</td>\n",
              "      <td>22.0</td>\n",
              "      <td>6-5</td>\n",
              "      <td>185.0</td>\n",
              "      <td>Georgia State</td>\n",
              "      <td>1148640.0</td>\n",
              "    </tr>\n",
              "    <tr>\n",
              "      <th>4</th>\n",
              "      <td>Jonas Jerebko</td>\n",
              "      <td>Boston Celtics</td>\n",
              "      <td>8.0</td>\n",
              "      <td>PF</td>\n",
              "      <td>29.0</td>\n",
              "      <td>6-10</td>\n",
              "      <td>231.0</td>\n",
              "      <td>NaN</td>\n",
              "      <td>5000000.0</td>\n",
              "    </tr>\n",
              "    <tr>\n",
              "      <th>5</th>\n",
              "      <td>Amir Johnson</td>\n",
              "      <td>Boston Celtics</td>\n",
              "      <td>90.0</td>\n",
              "      <td>PF</td>\n",
              "      <td>29.0</td>\n",
              "      <td>6-9</td>\n",
              "      <td>240.0</td>\n",
              "      <td>NaN</td>\n",
              "      <td>12000000.0</td>\n",
              "    </tr>\n",
              "    <tr>\n",
              "      <th>6</th>\n",
              "      <td>Jordan Mickey</td>\n",
              "      <td>Boston Celtics</td>\n",
              "      <td>55.0</td>\n",
              "      <td>PF</td>\n",
              "      <td>21.0</td>\n",
              "      <td>6-8</td>\n",
              "      <td>235.0</td>\n",
              "      <td>LSU</td>\n",
              "      <td>1170960.0</td>\n",
              "    </tr>\n",
              "    <tr>\n",
              "      <th>7</th>\n",
              "      <td>Kelly Olynyk</td>\n",
              "      <td>Boston Celtics</td>\n",
              "      <td>41.0</td>\n",
              "      <td>C</td>\n",
              "      <td>25.0</td>\n",
              "      <td>7-0</td>\n",
              "      <td>238.0</td>\n",
              "      <td>Gonzaga</td>\n",
              "      <td>2165160.0</td>\n",
              "    </tr>\n",
              "    <tr>\n",
              "      <th>8</th>\n",
              "      <td>Terry Rozier</td>\n",
              "      <td>Boston Celtics</td>\n",
              "      <td>12.0</td>\n",
              "      <td>PG</td>\n",
              "      <td>22.0</td>\n",
              "      <td>6-2</td>\n",
              "      <td>190.0</td>\n",
              "      <td>Louisville</td>\n",
              "      <td>1824360.0</td>\n",
              "    </tr>\n",
              "    <tr>\n",
              "      <th>9</th>\n",
              "      <td>Marcus Smart</td>\n",
              "      <td>Boston Celtics</td>\n",
              "      <td>36.0</td>\n",
              "      <td>PG</td>\n",
              "      <td>22.0</td>\n",
              "      <td>6-4</td>\n",
              "      <td>220.0</td>\n",
              "      <td>Oklahoma State</td>\n",
              "      <td>3431040.0</td>\n",
              "    </tr>\n",
              "  </tbody>\n",
              "</table>\n",
              "</div>"
            ],
            "text/plain": [
              "            Name            Team  Number Position   Age Height  Weight  \\\n",
              "0  Avery Bradley  Boston Celtics     0.0       PG  25.0    6-2   180.0   \n",
              "1    Jae Crowder  Boston Celtics    99.0       SF  25.0    6-6   235.0   \n",
              "2   John Holland  Boston Celtics    30.0       SG  27.0    6-5   205.0   \n",
              "3    R.J. Hunter  Boston Celtics    28.0       SG  22.0    6-5   185.0   \n",
              "4  Jonas Jerebko  Boston Celtics     8.0       PF  29.0   6-10   231.0   \n",
              "5   Amir Johnson  Boston Celtics    90.0       PF  29.0    6-9   240.0   \n",
              "6  Jordan Mickey  Boston Celtics    55.0       PF  21.0    6-8   235.0   \n",
              "7   Kelly Olynyk  Boston Celtics    41.0        C  25.0    7-0   238.0   \n",
              "8   Terry Rozier  Boston Celtics    12.0       PG  22.0    6-2   190.0   \n",
              "9   Marcus Smart  Boston Celtics    36.0       PG  22.0    6-4   220.0   \n",
              "\n",
              "             College      Salary  \n",
              "0              Texas   7730337.0  \n",
              "1          Marquette   6796117.0  \n",
              "2  Boston University         NaN  \n",
              "3      Georgia State   1148640.0  \n",
              "4                NaN   5000000.0  \n",
              "5                NaN  12000000.0  \n",
              "6                LSU   1170960.0  \n",
              "7            Gonzaga   2165160.0  \n",
              "8         Louisville   1824360.0  \n",
              "9     Oklahoma State   3431040.0  "
            ]
          },
          "execution_count": 46,
          "metadata": {},
          "output_type": "execute_result"
        }
      ],
      "source": [
        "\n",
        "nba.head(10)"
      ]
    },
    {
      "cell_type": "code",
      "execution_count": null,
      "id": "6b94d86e",
      "metadata": {
        "id": "6b94d86e"
      },
      "outputs": [],
      "source": []
    },
    {
      "cell_type": "code",
      "execution_count": null,
      "id": "9c1291bd",
      "metadata": {
        "id": "9c1291bd"
      },
      "outputs": [],
      "source": []
    },
    {
      "cell_type": "code",
      "execution_count": null,
      "id": "7d01dcbb",
      "metadata": {
        "id": "7d01dcbb"
      },
      "outputs": [],
      "source": [
        "\n"
      ]
    },
    {
      "cell_type": "markdown",
      "id": "2808ff32",
      "metadata": {
        "id": "2808ff32"
      },
      "source": [
        "## Set filters in `DataFrame` through `loc`"
      ]
    },
    {
      "cell_type": "code",
      "execution_count": null,
      "id": "0eb0eaa5",
      "metadata": {
        "id": "0eb0eaa5"
      },
      "outputs": [],
      "source": [
        "nba = pd.read_csv(\"https://media.githubusercontent.com/media/aurimas13/CodeAcademy-AI-Course/main/Datasets/nba.csv\")\n",
        "# nba.set_index(\"Name\", inplace = True)\n"
      ]
    },
    {
      "cell_type": "code",
      "execution_count": null,
      "id": "6fec8ac1",
      "metadata": {
        "id": "6fec8ac1"
      },
      "outputs": [],
      "source": [
        "\n",
        "\n",
        "\n",
        "\n"
      ]
    },
    {
      "cell_type": "code",
      "execution_count": null,
      "id": "04771a03",
      "metadata": {
        "id": "04771a03"
      },
      "outputs": [],
      "source": []
    },
    {
      "cell_type": "code",
      "execution_count": null,
      "id": "571d5eb4",
      "metadata": {
        "scrolled": true,
        "id": "571d5eb4"
      },
      "outputs": [],
      "source": []
    },
    {
      "cell_type": "code",
      "execution_count": null,
      "id": "ddc1a52f",
      "metadata": {
        "id": "ddc1a52f"
      },
      "outputs": [],
      "source": [
        "\n",
        "# or"
      ]
    },
    {
      "cell_type": "code",
      "execution_count": null,
      "id": "ac1cd722",
      "metadata": {
        "id": "ac1cd722"
      },
      "outputs": [],
      "source": []
    },
    {
      "cell_type": "markdown",
      "id": "b7d39118",
      "metadata": {
        "id": "b7d39118"
      },
      "source": [
        "## Methods on the `.groupby()` method and `DataFrame` columns"
      ]
    },
    {
      "cell_type": "code",
      "execution_count": null,
      "id": "93515f10",
      "metadata": {
        "scrolled": true,
        "id": "93515f10"
      },
      "outputs": [],
      "source": [
        "nba = pd.read_csv(\"https://media.githubusercontent.com/media/aurimas13/CodeAcademy-AI-Course/main/Datasets/nba.csv\")\n",
        "\n"
      ]
    },
    {
      "cell_type": "code",
      "execution_count": null,
      "id": "215a3714",
      "metadata": {
        "id": "215a3714"
      },
      "outputs": [],
      "source": [
        "#get_group\n"
      ]
    },
    {
      "cell_type": "code",
      "execution_count": null,
      "id": "1926f32c",
      "metadata": {
        "scrolled": true,
        "id": "1926f32c"
      },
      "outputs": [],
      "source": [
        "#max(), min(), sum(), mean()\n",
        "\n",
        "\n",
        "\n"
      ]
    },
    {
      "cell_type": "code",
      "execution_count": null,
      "id": "967d9250",
      "metadata": {
        "scrolled": true,
        "id": "967d9250"
      },
      "outputs": [],
      "source": [
        "\n",
        "\n",
        "\n",
        "\n",
        "\n",
        "\n"
      ]
    },
    {
      "cell_type": "markdown",
      "id": "b7ca4a51",
      "metadata": {
        "id": "b7ca4a51"
      },
      "source": [
        "## Grouping by Multiple Columns"
      ]
    },
    {
      "cell_type": "code",
      "execution_count": null,
      "id": "b0fd2588",
      "metadata": {
        "id": "b0fd2588"
      },
      "outputs": [],
      "source": [
        "nba = pd.read_csv(\"https://media.githubusercontent.com/media/aurimas13/CodeAcademy-AI-Course/main/Datasets/nba.csv\")\n",
        "\n"
      ]
    },
    {
      "cell_type": "code",
      "execution_count": null,
      "id": "86e40530",
      "metadata": {
        "scrolled": true,
        "id": "86e40530"
      },
      "outputs": [],
      "source": [
        "\n",
        "\n",
        "\n",
        "\n"
      ]
    },
    {
      "cell_type": "markdown",
      "id": "f27c0e78",
      "metadata": {
        "id": "f27c0e78"
      },
      "source": [
        "## Iterating through Groups"
      ]
    },
    {
      "cell_type": "code",
      "execution_count": null,
      "id": "f4d00066",
      "metadata": {
        "scrolled": true,
        "id": "f4d00066"
      },
      "outputs": [],
      "source": [
        "nba = pd.read_csv(\"https://media.githubusercontent.com/media/aurimas13/CodeAcademy-AI-Course/main/Datasets/nba.csv\")\n",
        "\n"
      ]
    },
    {
      "cell_type": "code",
      "execution_count": null,
      "id": "0aef071b",
      "metadata": {
        "id": "0aef071b"
      },
      "outputs": [],
      "source": [
        "nba = pd.DataFrame(columns = nba.columns)\n",
        "# nba"
      ]
    },
    {
      "cell_type": "code",
      "execution_count": null,
      "id": "4e7dd3a4",
      "metadata": {
        "scrolled": true,
        "id": "4e7dd3a4"
      },
      "outputs": [],
      "source": [
        "\n",
        "\n",
        "\n"
      ]
    },
    {
      "cell_type": "code",
      "execution_count": null,
      "id": "3cd863e3",
      "metadata": {
        "id": "3cd863e3"
      },
      "outputs": [],
      "source": []
    },
    {
      "cell_type": "code",
      "execution_count": null,
      "id": "45bbba94",
      "metadata": {
        "id": "45bbba94"
      },
      "outputs": [],
      "source": []
    },
    {
      "cell_type": "code",
      "execution_count": null,
      "id": "e745dc0e",
      "metadata": {
        "id": "e745dc0e"
      },
      "outputs": [],
      "source": [
        "\n"
      ]
    },
    {
      "cell_type": "code",
      "execution_count": null,
      "id": "32ec318c",
      "metadata": {
        "scrolled": true,
        "id": "32ec318c"
      },
      "outputs": [],
      "source": [
        "\n"
      ]
    },
    {
      "cell_type": "code",
      "execution_count": null,
      "id": "57d9c488",
      "metadata": {
        "id": "57d9c488"
      },
      "outputs": [],
      "source": [
        "nba = pd.read_csv(\"https://media.githubusercontent.com/media/aurimas13/CodeAcademy-AI-Course/main/Datasets/nba.csv\")\n",
        "\n",
        "\n"
      ]
    },
    {
      "cell_type": "code",
      "execution_count": null,
      "id": "f3d0dccf",
      "metadata": {
        "scrolled": true,
        "id": "f3d0dccf"
      },
      "outputs": [],
      "source": [
        "\n",
        "\n",
        "\n"
      ]
    },
    {
      "cell_type": "markdown",
      "id": "17da627c",
      "metadata": {
        "id": "17da627c"
      },
      "source": [
        "## The `.agg()` Method"
      ]
    },
    {
      "cell_type": "code",
      "execution_count": null,
      "id": "e510c4bc",
      "metadata": {
        "id": "e510c4bc",
        "outputId": "e9e9fc39-c2cd-4be7-dbb2-95a7a80e8ed4"
      },
      "outputs": [
        {
          "data": {
            "text/html": [
              "<div>\n",
              "<style scoped>\n",
              "    .dataframe tbody tr th:only-of-type {\n",
              "        vertical-align: middle;\n",
              "    }\n",
              "\n",
              "    .dataframe tbody tr th {\n",
              "        vertical-align: top;\n",
              "    }\n",
              "\n",
              "    .dataframe thead th {\n",
              "        text-align: right;\n",
              "    }\n",
              "</style>\n",
              "<table border=\"1\" class=\"dataframe\">\n",
              "  <thead>\n",
              "    <tr style=\"text-align: right;\">\n",
              "      <th></th>\n",
              "      <th>Name</th>\n",
              "      <th>Team</th>\n",
              "      <th>Number</th>\n",
              "      <th>Position</th>\n",
              "      <th>Age</th>\n",
              "      <th>Height</th>\n",
              "      <th>Weight</th>\n",
              "      <th>College</th>\n",
              "      <th>Salary</th>\n",
              "    </tr>\n",
              "  </thead>\n",
              "  <tbody>\n",
              "    <tr>\n",
              "      <th>0</th>\n",
              "      <td>Avery Bradley</td>\n",
              "      <td>Boston Celtics</td>\n",
              "      <td>0.0</td>\n",
              "      <td>PG</td>\n",
              "      <td>25.0</td>\n",
              "      <td>6-2</td>\n",
              "      <td>180.0</td>\n",
              "      <td>Texas</td>\n",
              "      <td>7730337.0</td>\n",
              "    </tr>\n",
              "    <tr>\n",
              "      <th>1</th>\n",
              "      <td>Jae Crowder</td>\n",
              "      <td>Boston Celtics</td>\n",
              "      <td>99.0</td>\n",
              "      <td>SF</td>\n",
              "      <td>25.0</td>\n",
              "      <td>6-6</td>\n",
              "      <td>235.0</td>\n",
              "      <td>Marquette</td>\n",
              "      <td>6796117.0</td>\n",
              "    </tr>\n",
              "    <tr>\n",
              "      <th>2</th>\n",
              "      <td>John Holland</td>\n",
              "      <td>Boston Celtics</td>\n",
              "      <td>30.0</td>\n",
              "      <td>SG</td>\n",
              "      <td>27.0</td>\n",
              "      <td>6-5</td>\n",
              "      <td>205.0</td>\n",
              "      <td>Boston University</td>\n",
              "      <td>NaN</td>\n",
              "    </tr>\n",
              "  </tbody>\n",
              "</table>\n",
              "</div>"
            ],
            "text/plain": [
              "            Name            Team  Number Position   Age Height  Weight  \\\n",
              "0  Avery Bradley  Boston Celtics     0.0       PG  25.0    6-2   180.0   \n",
              "1    Jae Crowder  Boston Celtics    99.0       SF  25.0    6-6   235.0   \n",
              "2   John Holland  Boston Celtics    30.0       SG  27.0    6-5   205.0   \n",
              "\n",
              "             College     Salary  \n",
              "0              Texas  7730337.0  \n",
              "1          Marquette  6796117.0  \n",
              "2  Boston University        NaN  "
            ]
          },
          "execution_count": 56,
          "metadata": {},
          "output_type": "execute_result"
        }
      ],
      "source": [
        "nba = pd.read_csv(\"https://media.githubusercontent.com/media/aurimas13/CodeAcademy-AI-Course/main/Datasets/nba.csv\")\n",
        "teams=nba.groupby(\"Team\")\n",
        "nba.head(3)"
      ]
    },
    {
      "cell_type": "code",
      "execution_count": null,
      "id": "2f258c08",
      "metadata": {
        "scrolled": true,
        "id": "2f258c08"
      },
      "outputs": [],
      "source": [
        "\n"
      ]
    },
    {
      "cell_type": "code",
      "execution_count": null,
      "id": "f06bb7bc",
      "metadata": {
        "scrolled": true,
        "id": "f06bb7bc"
      },
      "outputs": [],
      "source": [
        "\n",
        "\n"
      ]
    },
    {
      "cell_type": "code",
      "execution_count": null,
      "id": "3557f27d",
      "metadata": {
        "scrolled": true,
        "id": "3557f27d"
      },
      "outputs": [],
      "source": []
    },
    {
      "cell_type": "markdown",
      "id": "afd1c2eb",
      "metadata": {
        "id": "afd1c2eb"
      },
      "source": [
        "## Quick look at the Visualisations "
      ]
    },
    {
      "cell_type": "code",
      "execution_count": null,
      "id": "bbcbeaa4",
      "metadata": {
        "id": "bbcbeaa4"
      },
      "outputs": [],
      "source": [
        "# Creating a Series plot\n",
        "\n",
        "\n"
      ]
    },
    {
      "cell_type": "code",
      "execution_count": null,
      "id": "da49f87b",
      "metadata": {
        "id": "da49f87b"
      },
      "outputs": [],
      "source": [
        "# Creating a DF bar plot\n",
        "\n"
      ]
    },
    {
      "cell_type": "code",
      "execution_count": null,
      "id": "3a749cde",
      "metadata": {
        "id": "3a749cde"
      },
      "outputs": [],
      "source": [
        "# Creating a DF histogram plot\n",
        "\n",
        "\n",
        "\n",
        "\n",
        "\n",
        "\n",
        "\n",
        "\n"
      ]
    },
    {
      "cell_type": "code",
      "execution_count": null,
      "id": "b3b9ed86",
      "metadata": {
        "id": "b3b9ed86"
      },
      "outputs": [],
      "source": [
        "# Creating a DF scatter plot\n",
        "\n",
        "\n",
        "\n",
        "\n"
      ]
    },
    {
      "cell_type": "code",
      "execution_count": null,
      "id": "0b60874b",
      "metadata": {
        "id": "0b60874b"
      },
      "outputs": [],
      "source": [
        "# Creating a DF area plot\n",
        "\n"
      ]
    },
    {
      "cell_type": "code",
      "execution_count": null,
      "id": "9dd7017b",
      "metadata": {
        "id": "9dd7017b"
      },
      "outputs": [],
      "source": [
        "# Creating a Series pie plot\n",
        "\n",
        "\n"
      ]
    },
    {
      "cell_type": "markdown",
      "id": "cd7ed0b7",
      "metadata": {
        "id": "cd7ed0b7"
      },
      "source": [
        "## <b> Time to look at the exercises </b>"
      ]
    },
    {
      "cell_type": "code",
      "execution_count": null,
      "id": "14df48f3",
      "metadata": {
        "id": "14df48f3"
      },
      "outputs": [],
      "source": []
    }
  ],
  "metadata": {
    "kernelspec": {
      "display_name": "Python 3 (ipykernel)",
      "language": "python",
      "name": "python3"
    },
    "language_info": {
      "codemirror_mode": {
        "name": "ipython",
        "version": 3
      },
      "file_extension": ".py",
      "mimetype": "text/x-python",
      "name": "python",
      "nbconvert_exporter": "python",
      "pygments_lexer": "ipython3",
      "version": "3.8.11"
    },
    "colab": {
      "provenance": []
    }
  },
  "nbformat": 4,
  "nbformat_minor": 5
}