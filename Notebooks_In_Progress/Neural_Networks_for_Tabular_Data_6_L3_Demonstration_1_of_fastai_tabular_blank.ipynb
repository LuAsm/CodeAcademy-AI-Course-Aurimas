{
  "nbformat": 4,
  "nbformat_minor": 0,
  "metadata": {
    "colab": {
      "provenance": [],
      "machine_shape": "hm"
    },
    "kernelspec": {
      "name": "python3",
      "display_name": "Python 3"
    },
    "language_info": {
      "name": "python"
    },
    "gpuClass": "premium",
    "accelerator": "GPU"
  },
  "cells": [
    {
      "cell_type": "markdown",
      "source": [
        "<a href=\"https://colab.research.google.com/github/aurimas13/CodeAcademy-AI-Course/blob/main/Notebooks_In_Progress/Neural_Networks_for_Tabular_Data_6_L3_Demonstration_1_of_fastai_tabular_blank.ipynb\" target=\"_parent\"><img src=\"https://colab.research.google.com/assets/colab-badge.svg\" alt=\"Open In Colab\"/></a>"
      ],
      "metadata": {
        "id": "_l631BHmt4zN"
      }
    },
    {
      "cell_type": "markdown",
      "source": [
        "## Tabular training\n",
        "\n",
        "How to use the tabular application in fastai"
      ],
      "metadata": {
        "id": "6xcB7XGwCLAp"
      }
    },
    {
      "cell_type": "markdown",
      "source": [
        "To illustrate the tabular application, we will use the example of the [Adult dataset](https://archive.ics.uci.edu/ml/datasets/Adult) where we have to predict if a person is earning more or less than $50k per year using some general data.\n",
        "\n"
      ],
      "metadata": {
        "id": "qYdbFf_6DGLz"
      }
    },
    {
      "cell_type": "code",
      "source": [
        "from fastai.tabular.all import *"
      ],
      "metadata": {
        "id": "WE5Ic9ZICX4E"
      },
      "execution_count": null,
      "outputs": []
    },
    {
      "cell_type": "markdown",
      "source": [
        "We can download a sample of this dataset with the usual [untar_data](https://docs.fast.ai/data.external.html#untar_data) command:\n",
        "\n"
      ],
      "metadata": {
        "id": "fdx2B5AuCLJN"
      }
    },
    {
      "cell_type": "code",
      "source": [
        "path = untar_data(URLs.ADULT_SAMPLE)\n",
        "path.ls()"
      ],
      "metadata": {
        "colab": {
          "base_uri": "https://localhost:8080/",
          "height": 93
        },
        "id": "853OLmbgCjv4",
        "outputId": "4df9abb0-0808-4d28-8926-157095353223"
      },
      "execution_count": null,
      "outputs": [
        {
          "output_type": "display_data",
          "data": {
            "text/plain": [
              "<IPython.core.display.HTML object>"
            ],
            "text/html": [
              "\n",
              "<style>\n",
              "    /* Turns off some styling */\n",
              "    progress {\n",
              "        /* gets rid of default border in Firefox and Opera. */\n",
              "        border: none;\n",
              "        /* Needs to be in here for Safari polyfill so background images work as expected. */\n",
              "        background-size: auto;\n",
              "    }\n",
              "    progress:not([value]), progress:not([value])::-webkit-progress-bar {\n",
              "        background: repeating-linear-gradient(45deg, #7e7e7e, #7e7e7e 10px, #5c5c5c 10px, #5c5c5c 20px);\n",
              "    }\n",
              "    .progress-bar-interrupted, .progress-bar-interrupted::-webkit-progress-bar {\n",
              "        background: #F44336;\n",
              "    }\n",
              "</style>\n"
            ]
          },
          "metadata": {}
        },
        {
          "output_type": "display_data",
          "data": {
            "text/plain": [
              "<IPython.core.display.HTML object>"
            ],
            "text/html": [
              "\n",
              "    <div>\n",
              "      <progress value='974848' class='' max='968212' style='width:300px; height:20px; vertical-align: middle;'></progress>\n",
              "      100.69% [974848/968212 00:00&lt;00:00]\n",
              "    </div>\n",
              "    "
            ]
          },
          "metadata": {}
        },
        {
          "output_type": "execute_result",
          "data": {
            "text/plain": [
              "(#3) [Path('/root/.fastai/data/adult_sample/models'),Path('/root/.fastai/data/adult_sample/adult.csv'),Path('/root/.fastai/data/adult_sample/export.pkl')]"
            ]
          },
          "metadata": {},
          "execution_count": 2
        }
      ]
    },
    {
      "cell_type": "markdown",
      "source": [
        "Then we can have a look at how the data is structured:\n"
      ],
      "metadata": {
        "id": "TMP6tlOcCnHq"
      }
    },
    {
      "cell_type": "code",
      "source": [
        "df = pd.read_csv(path/'adult.csv')\n",
        "# df.head()\n"
      ],
      "metadata": {
        "id": "im0R5ax1BvFj"
      },
      "execution_count": null,
      "outputs": []
    },
    {
      "cell_type": "markdown",
      "source": [
        "Some of the columns are continuous (like age) and we will treat them as float numbers we can feed our model directly. Others are categorical (like workclass or education) and we will convert them to a unique index that we will feed to embedding layers. We can specify our categorical and continuous column names, as well as the name of the dependent variable in [TabularDataLoaders](https://docs.fast.ai/tabular.data.html#tabulardataloaders) factory methods:"
      ],
      "metadata": {
        "id": "JiSKfhOxCuQO"
      }
    },
    {
      "cell_type": "code",
      "source": [],
      "metadata": {
        "id": "QIVZs2vAB4dE"
      },
      "execution_count": null,
      "outputs": []
    },
    {
      "cell_type": "markdown",
      "source": [
        "The last part is the list of pre-processors we apply to our data:\n",
        "\n",
        "- [Categorify](https://docs.fast.ai/tabular.core.html#categorify) is going to take every categorical variable and make a map from integer to unique categories, then replace the values by the corresponding index.\n",
        "- [FillMissing](https://docs.fast.ai/tabular.core.html#fillmissing) will fill the missing values in the continuous variables by the median of existing values (you can choose a specific value if you prefer)\n",
        "- [Normalize](https://docs.fast.ai/data.transforms.html#normalize) will normalize the continuous variables (subtract the mean and divide by the std)"
      ],
      "metadata": {
        "id": "xVt84Uv_D1kJ"
      }
    },
    {
      "cell_type": "markdown",
      "source": [
        "To further expose what’s going on below the surface, let’s rewrite this utilizing fastai’s [TabularPandas](https://docs.fast.ai/tabular.core.html#tabularpandas) class. We will need to make one adjustment, which is defining how we want to split our data. By default the factory method above used a random 80/20 split, so we will do the same:"
      ],
      "metadata": {
        "id": "Qj7YpTmIEUGH"
      }
    },
    {
      "cell_type": "code",
      "source": [],
      "metadata": {
        "id": "dNUEwxmbC3ru"
      },
      "execution_count": null,
      "outputs": []
    },
    {
      "cell_type": "code",
      "source": [],
      "metadata": {
        "id": "nE98PHtIEcAt"
      },
      "execution_count": null,
      "outputs": []
    },
    {
      "cell_type": "markdown",
      "source": [
        "Once we build our [TabularPandas](https://docs.fast.ai/tabular.core.html#tabularpandas) object, our data is completely preprocessed as seen below:\n",
        "\n"
      ],
      "metadata": {
        "id": "uiIC5tq-Efvh"
      }
    },
    {
      "cell_type": "code",
      "source": [],
      "metadata": {
        "id": "iT5YyU5BEd_e"
      },
      "execution_count": null,
      "outputs": []
    },
    {
      "cell_type": "markdown",
      "source": [
        "Now we can build our [DataLoaders](https://docs.fast.ai/data.core.html#dataloaders) again:\n",
        "\n"
      ],
      "metadata": {
        "id": "3nENly9ZEo6B"
      }
    },
    {
      "cell_type": "code",
      "source": [],
      "metadata": {
        "id": "Fg4bHKiSEn7-"
      },
      "execution_count": null,
      "outputs": []
    },
    {
      "cell_type": "markdown",
      "source": [
        "The [show_batch](https://docs.fast.ai/vision.gan.html#show_batch) method works like for every other application:"
      ],
      "metadata": {
        "id": "ojL4goaYE6BL"
      }
    },
    {
      "cell_type": "code",
      "source": [],
      "metadata": {
        "id": "EZSS7oOZEw91"
      },
      "execution_count": null,
      "outputs": []
    },
    {
      "cell_type": "markdown",
      "source": [
        "We can define a model using the [tabular_learner](https://docs.fast.ai/tabular.learner.html#tabular_learner) method. When we define our model, fastai will try to infer the loss function based on our `y_names` earlier.\n",
        "\n",
        "**Note**: Sometimes with tabular data, your `y`’s may be encoded (such as 0 and 1). In such a case you should explicitly pass `y_block = CategoryBlock` in your constructor so `fastai` won’t presume you are doing regression."
      ],
      "metadata": {
        "id": "qHoLiYGMFF8j"
      }
    },
    {
      "cell_type": "code",
      "source": [],
      "metadata": {
        "id": "zfTKMLHxFDDn"
      },
      "execution_count": null,
      "outputs": []
    },
    {
      "cell_type": "markdown",
      "source": [
        "And we can train that model with the `fit_one_cycle` method (the `fine_tune` method won’t be useful here since we don’t have a pretrained model)"
      ],
      "metadata": {
        "id": "V1ByNnBNFSSK"
      }
    },
    {
      "cell_type": "code",
      "source": [],
      "metadata": {
        "id": "uSS9JwBDFPrb"
      },
      "execution_count": null,
      "outputs": []
    },
    {
      "cell_type": "markdown",
      "source": [
        "We can then have a look at some predictions:\n",
        "\n"
      ],
      "metadata": {
        "id": "tOMGcTA2FkbL"
      }
    },
    {
      "cell_type": "code",
      "source": [],
      "metadata": {
        "id": "76fZIL8MFRQK"
      },
      "execution_count": null,
      "outputs": []
    },
    {
      "cell_type": "markdown",
      "source": [
        "Or use the predict method on a row:\n",
        "\n"
      ],
      "metadata": {
        "id": "e74_so6pFq18"
      }
    },
    {
      "cell_type": "code",
      "source": [],
      "metadata": {
        "id": "hsJVeDGiFnrb"
      },
      "execution_count": null,
      "outputs": []
    },
    {
      "cell_type": "code",
      "source": [],
      "metadata": {
        "id": "XqO8Y_ZwFtLl"
      },
      "execution_count": null,
      "outputs": []
    },
    {
      "cell_type": "code",
      "source": [],
      "metadata": {
        "id": "psXUhOa7Fuv4"
      },
      "execution_count": null,
      "outputs": []
    },
    {
      "cell_type": "markdown",
      "source": [
        "To get prediction on a new dataframe, you can use the `test_dl` method of the [DataLoaders](https://docs.fast.ai/data.core.html#dataloaders). That dataframe does not need to have the dependent variable in its column."
      ],
      "metadata": {
        "id": "dDWjcqTlF1ac"
      }
    },
    {
      "cell_type": "code",
      "source": [],
      "metadata": {
        "id": "4kTl9XdOFwgC"
      },
      "execution_count": null,
      "outputs": []
    },
    {
      "cell_type": "markdown",
      "source": [
        "Then [Learner.get_preds](https://docs.fast.ai/learner.html#learner.get_preds) will give you the predictions:\n",
        "\n"
      ],
      "metadata": {
        "id": "y7LSj749GEIK"
      }
    },
    {
      "cell_type": "code",
      "source": [],
      "metadata": {
        "id": "RltNWDPmGADf"
      },
      "execution_count": null,
      "outputs": []
    },
    {
      "cell_type": "markdown",
      "source": [
        "# `fastai` with Other Libraries\n"
      ],
      "metadata": {
        "id": "J-L8t7SpGT3B"
      }
    },
    {
      "cell_type": "markdown",
      "source": [
        "As mentioned earlier, [TabularPandas](https://docs.fast.ai/tabular.core.html#tabularpandas) is a powerful and easy preprocessing tool for tabular data. Integration with libraries such as Random Forests and XGBoost requires only one extra step, that the `.dataloaders` call did for us. Let’s look at our `to` again. Its values are stored in a `DataFrame` like object, where we can extract the `cats`, `conts`, `xs` and `ys` if we want to:"
      ],
      "metadata": {
        "id": "3KLKTvXnGbWy"
      }
    },
    {
      "cell_type": "code",
      "source": [],
      "metadata": {
        "id": "1sbrirRHGBf1"
      },
      "execution_count": null,
      "outputs": []
    },
    {
      "cell_type": "markdown",
      "source": [
        "Now that everything is encoded, you can then send this off to XGBoost or Random Forests by extracting the train and validation sets and their values:\n",
        "\n"
      ],
      "metadata": {
        "id": "if_EEFZkGtpK"
      }
    },
    {
      "cell_type": "code",
      "source": [],
      "metadata": {
        "id": "27JHAemYGsz8"
      },
      "execution_count": null,
      "outputs": []
    },
    {
      "cell_type": "markdown",
      "source": [
        "And now we can directly send this in!"
      ],
      "metadata": {
        "id": "41XXxUZOGzlI"
      }
    }
  ]
}