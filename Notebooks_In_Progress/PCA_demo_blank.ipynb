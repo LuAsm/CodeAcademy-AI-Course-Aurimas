{
 "cells": [
  {
   "cell_type": "code",
   "execution_count": 1,
   "id": "39bd5a52-61ef-4890-b5ad-407cc9c9d523",
   "metadata": {},
   "outputs": [],
   "source": [
    "import pandas as pd\n",
    "import numpy as np\n",
    "import matplotlib.pyplot as plt\n",
    "import sklearn\n",
    "import warnings\n",
    "warnings.filterwarnings('ignore')\n",
    "warnings.simplefilter('ignore')"
   ]
  },
  {
   "cell_type": "markdown",
   "id": "a9bf0156-7131-4890-b947-1a61aa982fef",
   "metadata": {},
   "source": [
    "# Principal Component Analysis overview"
   ]
  },
  {
   "cell_type": "markdown",
   "id": "0b6a5a84-e293-46d6-944b-20a87db8177d",
   "metadata": {},
   "source": [
    " - PCA is an unsupervised pre-processing task that is carried out before applying any ML algorithm. \n",
    " - To implement PCA in Scikit learn, it is essential to standardize/normalize the data before applying PCA.\n",
    " - PCA is imported from sklearn.decomposition. \n",
    " - We need to select the required number of principal components, where n_components is usually chosen to be 2 for better visualization but it matters and depends on data.\n",
    " - PCA is also one of the popular tools used for EDA.\n",
    " - Lecture Slides 7 to 9\n",
    " \n",
    " \n",
    "   "
   ]
  },
  {
   "cell_type": "markdown",
   "id": "77ae0c38-ad1e-4b86-911b-d040b1064429",
   "metadata": {},
   "source": [
    "## Scikit-learn (sklearn) implementation overview"
   ]
  },
  {
   "cell_type": "code",
   "execution_count": null,
   "id": "9c65c8de-6a4b-4e51-8bb9-e333e70b9c1b",
   "metadata": {},
   "outputs": [],
   "source": []
  },
  {
   "cell_type": "code",
   "execution_count": null,
   "id": "744037b2-4da0-435b-ab0c-4e6d14d48cb1",
   "metadata": {},
   "outputs": [],
   "source": []
  },
  {
   "cell_type": "code",
   "execution_count": null,
   "id": "6d0d27ee-1780-43bb-a140-cba3c1c39c79",
   "metadata": {},
   "outputs": [],
   "source": []
  },
  {
   "cell_type": "code",
   "execution_count": null,
   "id": "b9d56b5d-318e-4256-b9e3-589168327eeb",
   "metadata": {},
   "outputs": [],
   "source": []
  },
  {
   "cell_type": "code",
   "execution_count": null,
   "id": "a0632871-fa14-4e51-a800-9436e846d645",
   "metadata": {},
   "outputs": [],
   "source": []
  },
  {
   "cell_type": "code",
   "execution_count": null,
   "id": "e4e1ecc9-2825-457a-bff9-6902e8751fce",
   "metadata": {},
   "outputs": [],
   "source": []
  },
  {
   "cell_type": "code",
   "execution_count": null,
   "id": "19e90a22-8a0b-498a-b699-d8cd15ea61c1",
   "metadata": {},
   "outputs": [],
   "source": []
  },
  {
   "cell_type": "code",
   "execution_count": null,
   "id": "94848970-60c9-489c-b502-4684ab60abb8",
   "metadata": {},
   "outputs": [],
   "source": []
  },
  {
   "cell_type": "code",
   "execution_count": null,
   "id": "349092cd-74c9-4f3b-9ed9-a0d038f1374a",
   "metadata": {},
   "outputs": [],
   "source": []
  },
  {
   "cell_type": "markdown",
   "id": "4b272553-c56b-45bd-bd0c-58ebaaed7563",
   "metadata": {},
   "source": [
    "## Choosing a good value for PCA Dimensionality Reduction"
   ]
  },
  {
   "cell_type": "code",
   "execution_count": null,
   "id": "ddc81720-ddd7-46be-93ef-d933c6354c7e",
   "metadata": {},
   "outputs": [],
   "source": []
  },
  {
   "cell_type": "code",
   "execution_count": null,
   "id": "a073f747-539a-4e58-80e3-bd473c0886f1",
   "metadata": {},
   "outputs": [],
   "source": []
  },
  {
   "cell_type": "code",
   "execution_count": null,
   "id": "53172636-fb65-4319-8c82-c04b941c890d",
   "metadata": {},
   "outputs": [],
   "source": []
  },
  {
   "cell_type": "code",
   "execution_count": null,
   "id": "7fbb7e8c-bd55-43d3-82e0-075ea0095d2e",
   "metadata": {},
   "outputs": [],
   "source": []
  },
  {
   "cell_type": "code",
   "execution_count": null,
   "id": "0b7c50d0-0683-4970-b6f6-c1b160b7edf0",
   "metadata": {},
   "outputs": [],
   "source": []
  },
  {
   "cell_type": "code",
   "execution_count": null,
   "id": "ae6c1e9b-57db-4b3d-9df2-7717146270ed",
   "metadata": {},
   "outputs": [],
   "source": []
  },
  {
   "cell_type": "markdown",
   "id": "16344b24-820b-4904-a961-c32a23cc8bac",
   "metadata": {},
   "source": [
    "## Image compression\n"
   ]
  },
  {
   "cell_type": "code",
   "execution_count": null,
   "id": "fa8b6bb6-f6ee-4c34-8007-5e58b14e3bd0",
   "metadata": {},
   "outputs": [],
   "source": []
  },
  {
   "cell_type": "code",
   "execution_count": null,
   "id": "a3ff7110-bb62-4bd8-88c4-3750bf83d74d",
   "metadata": {},
   "outputs": [],
   "source": []
  },
  {
   "cell_type": "code",
   "execution_count": null,
   "id": "4195ffed-518d-4d96-be1d-edd814297ff3",
   "metadata": {},
   "outputs": [],
   "source": []
  },
  {
   "cell_type": "markdown",
   "id": "32c76669-922a-45c9-976a-a175d28019bc",
   "metadata": {},
   "source": [
    "## Display an image"
   ]
  },
  {
   "cell_type": "code",
   "execution_count": null,
   "id": "af901af1-300e-449d-a16f-6f6cca8ba7d1",
   "metadata": {},
   "outputs": [],
   "source": []
  },
  {
   "cell_type": "markdown",
   "id": "523bd97c-9207-4632-b2fe-5390df838067",
   "metadata": {},
   "source": [
    "# Apply PCA"
   ]
  },
  {
   "cell_type": "markdown",
   "id": "99b095ab-379d-4e20-87bc-93d817ee38f0",
   "metadata": {},
   "source": [
    "## Choose the right number of dimensions through Scree plot\n"
   ]
  },
  {
   "cell_type": "code",
   "execution_count": null,
   "id": "582b1cdc-41e7-4f08-8547-cd1d5a4dbded",
   "metadata": {},
   "outputs": [],
   "source": []
  },
  {
   "cell_type": "code",
   "execution_count": null,
   "id": "ec9eb4f6-43c3-4328-9a55-1fe03f7100f5",
   "metadata": {},
   "outputs": [],
   "source": []
  },
  {
   "cell_type": "code",
   "execution_count": null,
   "id": "e1c1d58a-fddc-40c8-9a5a-0e5cab481a33",
   "metadata": {},
   "outputs": [],
   "source": []
  },
  {
   "cell_type": "code",
   "execution_count": null,
   "id": "96639b0e-1d28-4e82-b8f2-c7cd8f58b06e",
   "metadata": {},
   "outputs": [],
   "source": []
  },
  {
   "cell_type": "markdown",
   "id": "332fb14d-d82b-4f4b-abe9-560590684a70",
   "metadata": {},
   "source": [
    "# PCA for Data Visualization "
   ]
  },
  {
   "cell_type": "markdown",
   "id": "624b1409-fcda-4a70-ab9d-2488d155ceb6",
   "metadata": {},
   "source": [
    "## Load"
   ]
  },
  {
   "cell_type": "code",
   "execution_count": null,
   "id": "4868eb9b-8bf2-4ddd-9f88-4d61ebd00c7c",
   "metadata": {},
   "outputs": [],
   "source": []
  },
  {
   "cell_type": "markdown",
   "id": "b3951968-7387-4b9f-846f-33f65ed4a413",
   "metadata": {},
   "source": [
    "## Scale"
   ]
  },
  {
   "cell_type": "code",
   "execution_count": null,
   "id": "29c68841-92a6-41e5-b379-f7db1bfc3fad",
   "metadata": {},
   "outputs": [],
   "source": []
  },
  {
   "cell_type": "markdown",
   "id": "781cb61e-ec69-494e-bdd6-4bf0108d0f10",
   "metadata": {},
   "source": [
    "## PCA Projection "
   ]
  },
  {
   "cell_type": "code",
   "execution_count": null,
   "id": "30014d28-45f6-47c1-93d9-83b0b7f47e71",
   "metadata": {},
   "outputs": [],
   "source": []
  },
  {
   "cell_type": "code",
   "execution_count": null,
   "id": "8ec5ab48-20f0-40cd-9444-4f34f4428bc9",
   "metadata": {},
   "outputs": [],
   "source": []
  },
  {
   "cell_type": "markdown",
   "id": "ae7035c4-9f74-4bd4-9dac-38ed37464c48",
   "metadata": {},
   "source": [
    "## Visualize Projection"
   ]
  },
  {
   "cell_type": "code",
   "execution_count": null,
   "id": "aa57dccd-8aa4-4f20-b504-cf1a6ddbcedd",
   "metadata": {},
   "outputs": [],
   "source": []
  },
  {
   "cell_type": "code",
   "execution_count": null,
   "id": "e7f6e9a1-6b2c-4202-9037-be216c7f0578",
   "metadata": {},
   "outputs": [],
   "source": []
  },
  {
   "cell_type": "markdown",
   "id": "97462d00-4b04-443a-9611-c02f3ffe24e8",
   "metadata": {},
   "source": [
    "# PCA with PyCaret"
   ]
  },
  {
   "cell_type": "code",
   "execution_count": null,
   "id": "9ea60f8b-d883-4a41-86d5-15513b0f6d9f",
   "metadata": {},
   "outputs": [],
   "source": []
  },
  {
   "cell_type": "code",
   "execution_count": null,
   "id": "a0ec014a-5929-4391-a48c-e24aa416b8ac",
   "metadata": {},
   "outputs": [],
   "source": []
  },
  {
   "cell_type": "code",
   "execution_count": null,
   "id": "c885ee00-a9df-452e-aa5b-cb68d3619eb8",
   "metadata": {
    "collapsed": true,
    "jupyter": {
     "outputs_hidden": true
    },
    "tags": []
   },
   "outputs": [],
   "source": []
  },
  {
   "cell_type": "code",
   "execution_count": null,
   "id": "4897022b-f73c-4beb-838d-b80591859fc0",
   "metadata": {},
   "outputs": [],
   "source": []
  },
  {
   "cell_type": "code",
   "execution_count": null,
   "id": "8c9d095c-37f9-4a67-b51b-65efbf94ea6f",
   "metadata": {},
   "outputs": [],
   "source": []
  },
  {
   "cell_type": "code",
   "execution_count": null,
   "id": "e1b8f1c1-0840-4f2f-893b-6ae9120c9860",
   "metadata": {
    "tags": []
   },
   "outputs": [],
   "source": []
  },
  {
   "cell_type": "markdown",
   "id": "2941f52c-8d51-41e1-8ebc-0b1ed335be3a",
   "metadata": {},
   "source": [
    "# BACK TO SLIDES"
   ]
  }
 ],
 "metadata": {
  "kernelspec": {
   "display_name": "Python 3 (ipykernel)",
   "language": "python",
   "name": "python3"
  },
  "language_info": {
   "codemirror_mode": {
    "name": "ipython",
    "version": 3
   },
   "file_extension": ".py",
   "mimetype": "text/x-python",
   "name": "python",
   "nbconvert_exporter": "python",
   "pygments_lexer": "ipython3",
   "version": "3.9.9"
  }
 },
 "nbformat": 4,
 "nbformat_minor": 5
}
