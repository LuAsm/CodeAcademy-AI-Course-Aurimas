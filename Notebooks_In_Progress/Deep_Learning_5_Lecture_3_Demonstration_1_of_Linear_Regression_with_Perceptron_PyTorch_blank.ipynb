{
  "cells": [
    {
      "cell_type": "markdown",
      "source": [
        "<a href=\"https://colab.research.google.com/github/aurimas13/CodeAcademy-AI-Course/blob/main/Notebooks_In_Progress/Deep_Learning_5_Lecture_3_Demonstration_1_of_Linear_Regression_with_Perceptron_PyTorch_blank.ipynb\" target=\"_parent\"><img src=\"https://colab.research.google.com/assets/colab-badge.svg\" alt=\"Open In Colab\"/></a>"
      ],
      "metadata": {
        "id": "IwLF0d0l2P1u"
      },
      "id": "IwLF0d0l2P1u"
    },
    {
      "cell_type": "markdown",
      "id": "7f4f8675-ec7e-4903-ad86-bc02423988ee",
      "metadata": {
        "id": "7f4f8675-ec7e-4903-ad86-bc02423988ee"
      },
      "source": [
        "# <b> Terminology related to Linear Regression with Perceptron"
      ]
    },
    {
      "cell_type": "markdown",
      "id": "176e52fc-495d-4b01-ace3-3135a9003e8d",
      "metadata": {
        "id": "176e52fc-495d-4b01-ace3-3135a9003e8d"
      },
      "source": [
        "+ Tensor: Tensor is an array that stores the data just like any other data structure. The collection of stored values can be easily accessed through indexing. Scalar –> Vector –> Matrix –> Tensor\n",
        "\n",
        "\n",
        "+ Optimization: The process of changing certain values(s) to get a better result altogether.\n",
        "\n",
        "+ Loss: The difference between actual and expected output. The term signifies the value that needs to be minimized to get the best-optimized model.\n",
        "\n",
        "+ Variable: The input values that we already possess as the data to create a model on are called variables. \n",
        "\n",
        "+ Weights: The coefficient values that are attached to the linear equation and optimized during the training to minimize the loss are called weights of a model. \n",
        "\n",
        "+ Bias: The constant value used in the linear equation to manage the vertical placement of the line over the cartesian plane. "
      ]
    },
    {
      "cell_type": "markdown",
      "id": "6ff71200-fd07-4401-a14d-4bc8a4fdf1aa",
      "metadata": {
        "id": "6ff71200-fd07-4401-a14d-4bc8a4fdf1aa"
      },
      "source": [
        "# <b> What is Perceptron?\n",
        "The simplest neural network which is nothing but a single neuron is termed a Perceptron. \n",
        "\n",
        "A Neuron is nothing but a couple of mathematical functions stacked on top of each other. Here is how it looks like diagrammatically.The equation is a simple functional equation that applies a function on input and produces an output."
      ]
    },
    {
      "cell_type": "markdown",
      "id": "85ad5b58-f579-45b2-9dd0-cd391ecfec9d",
      "metadata": {
        "id": "85ad5b58-f579-45b2-9dd0-cd391ecfec9d"
      },
      "source": [
        "![Screenshot 2023-01-03 at 12.07.49.png](attachment:597ce807-f036-4b5e-bdb5-3ba253bea723.png)\n",
        "![Screenshot 2023-01-03 at 12.02.59.png](attachment:fc06289d-47ce-4fce-a86d-569a8a818636.png)"
      ]
    },
    {
      "cell_type": "markdown",
      "id": "037aae9a-f02c-4112-8848-e13b8e413441",
      "metadata": {
        "id": "037aae9a-f02c-4112-8848-e13b8e413441"
      },
      "source": [
        "## 1. Importing libraries and Creating Dataset"
      ]
    },
    {
      "cell_type": "code",
      "execution_count": null,
      "id": "1b71690f-e760-43d7-abbb-52091a28d9e3",
      "metadata": {
        "id": "1b71690f-e760-43d7-abbb-52091a28d9e3"
      },
      "outputs": [],
      "source": []
    },
    {
      "cell_type": "code",
      "execution_count": null,
      "id": "4f961c03-97e0-456b-ace0-dddac9995267",
      "metadata": {
        "id": "4f961c03-97e0-456b-ace0-dddac9995267"
      },
      "outputs": [],
      "source": []
    },
    {
      "cell_type": "code",
      "execution_count": null,
      "id": "438cb4e7-d452-41cd-a633-628caf843c4d",
      "metadata": {
        "id": "438cb4e7-d452-41cd-a633-628caf843c4d"
      },
      "outputs": [],
      "source": []
    },
    {
      "cell_type": "code",
      "execution_count": null,
      "id": "e0ce024c-dd1a-4150-9b09-b6b0f8f876c3",
      "metadata": {
        "id": "e0ce024c-dd1a-4150-9b09-b6b0f8f876c3"
      },
      "outputs": [],
      "source": []
    },
    {
      "cell_type": "markdown",
      "id": "78ac9bc7-667a-4aa3-9187-98a133e52e6c",
      "metadata": {
        "tags": [],
        "id": "78ac9bc7-667a-4aa3-9187-98a133e52e6c"
      },
      "source": [
        "## 2. Data preparation and Modelling with Pytorch"
      ]
    },
    {
      "cell_type": "code",
      "execution_count": null,
      "id": "b88722ee-fcd3-428c-84c3-fc359c0bbee3",
      "metadata": {
        "id": "b88722ee-fcd3-428c-84c3-fc359c0bbee3"
      },
      "outputs": [],
      "source": []
    },
    {
      "cell_type": "markdown",
      "id": "121063d7-8eed-4678-9b64-02ba46eb04aa",
      "metadata": {
        "id": "121063d7-8eed-4678-9b64-02ba46eb04aa"
      },
      "source": [
        "## <b> Modeling in Pytorch"
      ]
    },
    {
      "cell_type": "code",
      "execution_count": null,
      "id": "c132a820-a9f5-4600-9cd8-ccd58125b6a0",
      "metadata": {
        "id": "c132a820-a9f5-4600-9cd8-ccd58125b6a0"
      },
      "outputs": [],
      "source": []
    },
    {
      "cell_type": "code",
      "execution_count": null,
      "id": "3b43e20a-a830-46b1-b602-723ff3fe98f4",
      "metadata": {
        "id": "3b43e20a-a830-46b1-b602-723ff3fe98f4"
      },
      "outputs": [],
      "source": []
    },
    {
      "cell_type": "code",
      "execution_count": null,
      "id": "73d87c92-da90-4418-8f9b-8adcf56fd5e6",
      "metadata": {
        "id": "73d87c92-da90-4418-8f9b-8adcf56fd5e6"
      },
      "outputs": [],
      "source": []
    },
    {
      "cell_type": "markdown",
      "id": "e198c73c-003b-4ac3-b453-9e3e8fb99ffc",
      "metadata": {
        "id": "e198c73c-003b-4ac3-b453-9e3e8fb99ffc"
      },
      "source": [
        "## <b> Training and Visualizing Linear Regression Model with Perceptron in Pytorch"
      ]
    },
    {
      "cell_type": "code",
      "execution_count": null,
      "id": "d6df164d-b7be-47c3-8d71-490191266720",
      "metadata": {
        "collapsed": true,
        "jupyter": {
          "outputs_hidden": true
        },
        "tags": [],
        "id": "d6df164d-b7be-47c3-8d71-490191266720"
      },
      "outputs": [],
      "source": []
    },
    {
      "cell_type": "markdown",
      "id": "f9d985be-c068-4833-908e-e460a70e87db",
      "metadata": {
        "id": "f9d985be-c068-4833-908e-e460a70e87db"
      },
      "source": [
        "1. Forward Pass:\n",
        "\n",
        "Predicting output value Y with input value X using the linear equation. \n",
        "\n",
        "2. Finding Loss:\n",
        "\n",
        "Finding the difference between Y_train and Y_pred by squaring the difference and then summing it.\n",
        "\n",
        "3. For the loss_backward() function call:\n",
        "\n",
        "backward pass will compute the gradient of the loss with respect to all Tensors with ‘requires_grad=True’.\n",
        "\n",
        "4. Manually updating the weights\n",
        "\n",
        "Weights have requires_grad=True, but we don’t need to track this in ‘autograd’. So will wrap it in ‘torch.no_grad’ updating the reduced weight by subtracting the multiplication of learning rate and gradients manually zero the weight gradients after updating weights to store the latest values for the next iteration. "
      ]
    },
    {
      "cell_type": "code",
      "execution_count": null,
      "id": "371c0eac-bb82-4f49-90b1-ad2f38c65e01",
      "metadata": {
        "id": "371c0eac-bb82-4f49-90b1-ad2f38c65e01"
      },
      "outputs": [],
      "source": []
    },
    {
      "cell_type": "code",
      "execution_count": null,
      "id": "70f44c97-9986-4e8c-9ba4-ee16da528197",
      "metadata": {
        "id": "70f44c97-9986-4e8c-9ba4-ee16da528197"
      },
      "outputs": [],
      "source": []
    },
    {
      "cell_type": "markdown",
      "id": "728db1c2-2483-4d4e-b8cb-f537bf4a6d6b",
      "metadata": {
        "id": "728db1c2-2483-4d4e-b8cb-f537bf4a6d6b"
      },
      "source": [
        "## Visualizing the Prediction and Actual values\n"
      ]
    },
    {
      "cell_type": "code",
      "execution_count": null,
      "id": "765c8957-34e7-4b1f-b33a-f228ae5e5eb5",
      "metadata": {
        "id": "765c8957-34e7-4b1f-b33a-f228ae5e5eb5"
      },
      "outputs": [],
      "source": []
    },
    {
      "cell_type": "markdown",
      "id": "85a051fa-8f5a-4764-89ad-f63996098493",
      "metadata": {
        "id": "85a051fa-8f5a-4764-89ad-f63996098493"
      },
      "source": [
        "**Source**: https://www.analyticsvidhya.com/blog/2021/11/a-comprehensive-guide-to-linear-regression-with-pytorch/"
      ]
    }
  ],
  "metadata": {
    "kernelspec": {
      "display_name": "Python 3 (ipykernel)",
      "language": "python",
      "name": "python3"
    },
    "language_info": {
      "codemirror_mode": {
        "name": "ipython",
        "version": 3
      },
      "file_extension": ".py",
      "mimetype": "text/x-python",
      "name": "python",
      "nbconvert_exporter": "python",
      "pygments_lexer": "ipython3",
      "version": "3.9.15"
    },
    "colab": {
      "provenance": []
    }
  },
  "nbformat": 4,
  "nbformat_minor": 5
}