{
 "cells": [
  {
   "cell_type": "markdown",
   "id": "17b90747-c2d7-4c42-9506-000dbcadcfeb",
   "metadata": {},
   "source": [
    "1. Write a Pandas program to select the rows where the number of attempts in the examination is greater than 2.\n",
    "\n",
    "Sample DataFrame: <br>\n",
    "exam_data = {'name': ['Anastasia', 'Dima', 'Katherine', 'James', 'Emily', 'Michael', 'Matthew', 'Laura', 'Kevin', 'Jonas'],\n",
    "'score': [12.5, 9, 16.5, np.nan, 9, 20, 14.5, np.nan, 8, 19], <br>\n",
    "'attempts': [1, 3, 2, 3, 2, 3, 1, 1, 2, 1], <br>\n",
    "'qualify': ['yes', 'no', 'yes', 'no', 'no', 'yes', 'yes', 'no', 'no', 'yes']} <br>\n",
    "labels = ['a', 'b', 'c', 'd', 'e', 'f', 'g', 'h', 'i', 'j'] <br>"
   ]
  },
  {
   "cell_type": "code",
   "execution_count": null,
   "id": "a30eefb0-1023-44ca-9188-910b3c0e7c8a",
   "metadata": {},
   "outputs": [],
   "source": []
  },
  {
   "cell_type": "markdown",
   "id": "0d998009-a544-47e8-b0c9-aa053c901c41",
   "metadata": {},
   "source": [
    "2. Write a Pandas program to select the rows where number of attempts in the examination is less than 2 and score greater than 15.\n",
    "\n",
    "Sample DataFrame: <br>\n",
    "Sample Python dictionary data and list labels: <br>\n",
    "exam_data = {'name': ['Anastasia', 'Dima', 'Katherine', 'James', 'Emily', 'Michael', 'Matthew', 'Laura', 'Kevin', 'Jonas'],<br>\n",
    "'score': [12.5, 9, 16.5, np.nan, 9, 20, 14.5, np.nan, 8, 19],<br>\n",
    "'attempts': [1, 3, 2, 3, 2, 3, 1, 1, 2, 1],<br>\n",
    "'qualify': ['yes', 'no', 'yes', 'no', 'no', 'yes', 'yes', 'no', 'no', 'yes']}<br>\n",
    "labels = ['a', 'b', 'c', 'd', 'e', 'f', 'g', 'h', 'i', 'j']<br>"
   ]
  },
  {
   "cell_type": "code",
   "execution_count": null,
   "id": "3e5c2fcb-8d65-4bdd-8500-dcf7257ae9cd",
   "metadata": {},
   "outputs": [],
   "source": []
  },
  {
   "cell_type": "markdown",
   "id": "94ede5d3-22a7-425e-9183-b47730189f3b",
   "metadata": {},
   "source": [
    "3. Write a Pandas program to replace all the NaN values with Zero's in a column of a dataframe.\n",
    "\n",
    "<center> Original DataFrame:</center>\n",
    "\n",
    "|| attempts | name | qualify | score |\n",
    "| --- | --- | --- | --- | --- |\n",
    "0 |1 |Anastasia| yes| 12.5|\n",
    "1 |3 |Dima| no| 9.0|\n",
    "2 |2 |Katherine| yes| 16.5|\n",
    "3 |3 |James| no| NaN|\n",
    "4 |2 |Emily| no| 9.0|\n",
    "5 |3 |Michael| yes| 20.0|\n",
    "6 |1 |Matthew| yes| 14.5|\n",
    "7 |1 |Laura| no| NaN|\n",
    "8 |2 |Kevin| no| 8.0|\n",
    "9 |1 |Jonas| yes| 19.0|\n",
    "\n",
    "<center>New DataFrame replacing all NaN with 0:</center>\n",
    "\n",
    "|| attempts | name | qualify | score |\n",
    "| --- | --- | --- | --- | --- |\n",
    "0 |1 |Anastasia| yes| 12.5|\n",
    "1 |3 |Dima| no| 9.0|\n",
    "2 |2 |Katherine| yes| 16.5|\n",
    "3 |3 |James| no| 0.0|\n",
    "4 |2 |Emily| no| 9.0|\n",
    "5 |3 |Michael| yes| 20.0|\n",
    "6 |1 |Matthew| yes| 14.5|\n",
    "7 |1 |Laura| no| 0.0|\n",
    "8 |2 |Kevin| no| 8.0|\n",
    "9 |1 |Jonas| yes| 19.0|"
   ]
  },
  {
   "cell_type": "code",
   "execution_count": null,
   "id": "25f9fb05-8de4-47fb-9ead-718140018ad6",
   "metadata": {},
   "outputs": [],
   "source": []
  },
  {
   "cell_type": "markdown",
   "id": "8603671d-2a47-46c9-9c95-d8250b2a849f",
   "metadata": {},
   "source": [
    "4. Write a Pandas program to check whether a given column is present in a DataFrame or not. \n",
    "\n",
    "<center>Original DataFrame:</center>\n",
    "\n",
    "|(index)| col1 | col2 | col3 |\n",
    "| --- | --- | --- | --- |\n",
    "0| 1| 4| 7<br>\n",
    "1| 2| 5| 8<br>\n",
    "2| 3| 6| 12<br>\n",
    "3| 4| 9| 1<br>\n",
    "4| 7| 5| 11<br>\n",
    "\n",
    "Hint: <br>\n",
    "Col4 is not present in DataFrame.<br>\n",
    "Col1 is present in DataFrame.<br>"
   ]
  },
  {
   "cell_type": "code",
   "execution_count": null,
   "id": "9e498fdb-4aa1-497b-832f-f63a40642d79",
   "metadata": {},
   "outputs": [],
   "source": []
  },
  {
   "cell_type": "markdown",
   "id": "545392ab-c942-4318-8003-0ebc5ea5e957",
   "metadata": {},
   "source": [
    "5. Write a Pandas program to insert a given column (col1) at a specific column index (first) in a DataFrame.\n",
    "\n",
    "<center> Original DataFrame: </center>\n",
    "\n",
    "|| col2 | col3 | \n",
    "| --- | --- | --- |\n",
    "0| 4| 7 <br>\n",
    "1| 5| 8 <br>\n",
    "2| 6| 12 <br>\n",
    "3| 9| 1 <br>\n",
    "4| 5| 11 <br>\n",
    "\n",
    "<center> New DataFrame: </center>\n",
    "\n",
    "|| col1 | col2 | col3 |\n",
    "| --- | --- | --- | --- |\n",
    "0| 1| 4| 7 <br>\n",
    "1| 2| 5| 8 <br>\n",
    "2| 3| 6| 12 <br>\n",
    "3| 4| 9| 1 <br>\n",
    "4| 7| 5| 11 <br>"
   ]
  },
  {
   "cell_type": "code",
   "execution_count": null,
   "id": "81f39bce-196e-4958-9739-6fe9820723f0",
   "metadata": {},
   "outputs": [],
   "source": []
  },
  {
   "cell_type": "markdown",
   "id": "abffabd8-3d86-4dbb-a3c6-7afda0353388",
   "metadata": {},
   "source": [
    "6. Write a Pandas program to group by the first column and get second column as lists in rows.\n",
    "\n",
    "<center> Original DataFrame: </center>\n",
    "\n",
    "|| col1 | col2 | \n",
    "| --- | --- | --- |\n",
    "0| C1| 1 <br>\n",
    "1| C1| 2 <br>\n",
    "2| C2| 3 <br>\n",
    "3| C2| 3 <br>\n",
    "4| C2| 4 <br>\n",
    "5| C3| 6 <br>\n",
    "6| C2| 5 <br>\n"
   ]
  },
  {
   "cell_type": "code",
   "execution_count": null,
   "id": "a7e38076-1e52-482f-82f8-10033201654a",
   "metadata": {},
   "outputs": [],
   "source": []
  },
  {
   "cell_type": "markdown",
   "id": "cad41a70-f438-4e2e-a6d4-601fbd75d52d",
   "metadata": {},
   "source": [
    "7. Write a Pandas program to select all columns, except one given column (col3) in a DataFrame. \n",
    "\n",
    "<center> Original DataFrame: </center>\n",
    "\n",
    "|| col1 | col2 | col3 |\n",
    "| --- | --- | --- | --- |\n",
    "0| 1| 4| 7 <br>\n",
    "1| 2| 5| 8 <br>\n",
    "2| 3| 6| 12 <br>\n",
    "3| 4| 9| 1 <br>\n",
    "4| 7| 5| 11 <br>\n"
   ]
  },
  {
   "cell_type": "code",
   "execution_count": null,
   "id": "7755dc06-b302-4be3-8173-27018a40e5e0",
   "metadata": {},
   "outputs": [],
   "source": []
  },
  {
   "cell_type": "markdown",
   "id": "2825e516-91aa-4f56-b421-990024a51020",
   "metadata": {},
   "source": [
    "8. Write a Pandas program to count number of columns of a DataFrame. \n",
    "\n",
    "<center> Original DataFrame: </center>\n",
    "\n",
    "|| col1 | col2 | col3 |\n",
    "| --- | --- | --- | --- |\n",
    "0| 1| 4| 7 <br>\n",
    "1| 2| 5| 8 <br>\n",
    "2| 3| 6| 12 <br>\n",
    "3| 4| 9| 1 <br>\n",
    "4| 7| 5| 11 <br>\n"
   ]
  },
  {
   "cell_type": "code",
   "execution_count": null,
   "id": "ea1d9567-bb85-4f07-b0cb-84dcb88fe85c",
   "metadata": {},
   "outputs": [],
   "source": []
  },
  {
   "cell_type": "markdown",
   "id": "ed449f65-a5e4-47fd-9812-0aa89c90ce76",
   "metadata": {},
   "source": [
    "9. Write a Pandas program to get topmost n records within each group of a DataFrame. \n",
    "\n",
    "<center> Original DataFrame: </center>\n",
    "\n",
    "|| col1 | col2 | col3 |\n",
    "| --- | --- | --- | --- |\n",
    "0| 1| 4| 7 <br>\n",
    "1| 2| 5| 5 <br>\n",
    "2| 3| 6| 8 <br>\n",
    "3| 4| 9| 12 <br>\n",
    "4| 7| 5| 1 <br>\n",
    "5| 11| 0| 11 <br>\n"
   ]
  },
  {
   "cell_type": "code",
   "execution_count": null,
   "id": "3cfc3833-c544-46d5-8d77-1f85a05b3ee6",
   "metadata": {},
   "outputs": [],
   "source": []
  },
  {
   "cell_type": "markdown",
   "id": "457f723f-51f1-4456-9e8f-14e61f939faf",
   "metadata": {},
   "source": [
    "10. Write a Pandas program to split the following dataframe into groups, group by month and year based on order date and find the total purchase amount year wise, month wise.\n",
    "\n",
    "<center> Test Data:</center>\n",
    "\n",
    "|| ord_no | purch_amt | ord_date | customer_id | salesman_id |\n",
    "| --- | --- | --- | --- | --- | --- |\n",
    "0|    70001|     150.50  |05-10-2012|         3001|         5002<br>\n",
    "1 |   70009 |    270.65 | 09-10-2012 |        3001 |        5005<br>\n",
    "2  |  70002  |    65.26|  05-10-2012  |       3005  |       5001<br>\n",
    "3   | 70004   |  110.50  |08-17-2012   |      3001   |      5003<br>\n",
    "4    |70007    | 948.50 | 10-09-2012    |     3005    |     5002<br>\n",
    "5|    70005|    2400.60|  07-27-2012     |    3001     |    5001<br>\n",
    "6 |   70008 |   5760.00  |10-09-2012      |   3005      |   5001<br>\n",
    "7  |  70010  |  1983.43 | 10-10-2012       |  3001       |  5006<br>\n",
    "8   | 70003   | 2480.40|  10-10-2012        | 3005        | 5003<br>\n",
    "9    |70012    | 250.45  |06-17-2012         |3001         |5002<br>\n",
    "10|   70011     | 75.29 | 07-08-2012        | 3005        | 5007<br>\n",
    "11 |  70013|    3045.60|  04-25-2012       |  3005       |  5001<br>"
   ]
  },
  {
   "cell_type": "code",
   "execution_count": null,
   "id": "c72786c5-95ee-4bbc-97bf-9c895e7067f8",
   "metadata": {},
   "outputs": [],
   "source": []
  },
  {
   "cell_type": "markdown",
   "id": "9af8ce09-7c3f-4d74-8a91-3f54c7c28f8c",
   "metadata": {},
   "source": [
    "11. Write a Pandas program to split a given dataframe into groups and list all the keys from the GroupBy object.\n",
    "\n",
    "<center> Test Data: </center>\n",
    "\n",
    "|| school_code | class | name | date_of_birth | age | height | weight | address |\n",
    "| --- | --- | --- | --- | --- | --- | --- | --- | --- |\n",
    "S1|        s001     |V|  Alberto Franco     |15/05/2002|   12     |173|      35| street1  <br>\n",
    "S2 |       s002    | V |   Gino Mcneill    | 17/05/2002 |  12    | 192 |     32| street2  <br>\n",
    "S3  |      s003   | VI  |   Ryan Parkes   |  16/02/1999  | 13   |  186  |    33| street3  <br>\n",
    "S4   |     s001  |  VI   | Eesha Hinton  |   25/09/1998   |13  |   167   |   30| street1  <br>\n",
    "S5    |    s002 |    V    |Gino Mcneill |    11/05/2002  | 14 |    151    |  31| street2  <br>\n",
    "S6     |   s004|    VI   | David Parkes|     15/09/1997 |  12|     159     | 32| street3  <br>"
   ]
  },
  {
   "cell_type": "code",
   "execution_count": null,
   "id": "f8cce875-7123-4a25-9584-7610dd7f0d52",
   "metadata": {},
   "outputs": [],
   "source": []
  },
  {
   "cell_type": "markdown",
   "id": "fbefafe3-b63f-45e3-a004-b585a1666b46",
   "metadata": {},
   "source": [
    "12. Write a Pandas program to split a given dataset using group by on multiple columns and drop last n rows of from each group.\n",
    "\n",
    "<center>Test Data:</center>\n",
    "\n",
    "|| ord_no | purch_amt | ord_date | customer_id |\n",
    "| --- | --- | --- | --- | --- | \n",
    "0|    70001|     150.50|  2012-10-05|         3002|         5002<br>\n",
    "1 |   70009 |    270.65 | 2012-09-10 |        3001 |        5003<br>\n",
    "2  |  70002  |    65.26  |2012-10-05  |       3001  |       5001<br>\n",
    "3   | 70004   |  110.50|  2012-08-17   |      3003   |      5003<br>\n",
    "4    |70007    | 948.50 | 2012-09-10    |     3002    |     5002<br>\n",
    "5    |70005    |2400.60  |2012-07-27     |    3002     |    5001<br>\n",
    "6|    70008   | 5760.00|  2012-09-10      |   3001      |   5001<br>\n",
    "7 |   70010   | 1983.43 | 2012-10-10       |  3004       |  5003<br>\n",
    "8  |  70003   | 2480.40  |2012-10-10        | 3003        | 5003<br>\n",
    "9   | 70012    | 250.45|  2012-06-27         |3002         |5002<br>\n",
    "10   |70011     | 75.29 | 2012-08-17        | 3003        | 5003<br>\n",
    "11  | 70013   | 3045.60  |2012-04-25       |  3001       |  5001<br>"
   ]
  },
  {
   "cell_type": "code",
   "execution_count": null,
   "id": "d601eaab-82d4-4a62-9a09-f07e70e8108a",
   "metadata": {},
   "outputs": [],
   "source": []
  },
  {
   "cell_type": "markdown",
   "id": "7a756624-19cd-431e-87c2-f51f3a39606b",
   "metadata": {},
   "source": [
    "13. Write a Pandas program to find out the 'WHO region, 'Country', 'Beverage Types' in the year '1986' or '1989' where WHO region is 'Americas' or 'Europe' from the world alcohol consumption dataset. \n",
    "\n",
    "<center>World alcohol consumption data example:</center>\n",
    "\n",
    "|| Year | WHO region |  Country | Beverage Types | Display Value |\n",
    "| --- | --- | --- | --- | --- | --- |\n",
    "0|  1986|  Western Pacific    |           Viet Nam|           Wine    |       0.00<br>\n",
    "1 | 1986 |        Americas   |             Uruguay |         Other   |        0.50<br>\n",
    "2  |1985  |         Africa  |         Cte d'Ivoire  |         Wine  |         1.62<br>\n",
    "3  |1986   |      Americas |              Colombia   |        Beer |          4.27<br>\n",
    "4  |1987    |     Americas|  Saint Kitts and Nevis    |       Beer|           1.98<br>"
   ]
  },
  {
   "cell_type": "code",
   "execution_count": null,
   "id": "69a939f9-3107-478d-a2a7-8860a787087a",
   "metadata": {},
   "outputs": [],
   "source": []
  },
  {
   "cell_type": "markdown",
   "id": "a541abeb-2bb7-447e-958d-0f17e94f30b3",
   "metadata": {},
   "source": [
    "14. Write a Pandas program to filter all records starting from the 2nd row, access every 5th row from world alcohol consumption dataset. Data: world_alcohol.csv"
   ]
  },
  {
   "cell_type": "code",
   "execution_count": null,
   "id": "53c053d9-b351-43ba-a162-435949b8a3f6",
   "metadata": {},
   "outputs": [],
   "source": []
  },
  {
   "cell_type": "markdown",
   "id": "04a341ef-6e9b-4de7-a6c9-6a3e02926f39",
   "metadata": {},
   "source": [
    "15. Write a Pandas program to filter rows based on row numbers ended with 0, like 0, 10, 20, 30 from world alcohol consumption dataset. Data: world_alcohol.csv"
   ]
  },
  {
   "cell_type": "code",
   "execution_count": null,
   "id": "436bad10-0c51-436c-bf16-cd5dbf413e75",
   "metadata": {},
   "outputs": [],
   "source": []
  }
 ],
 "metadata": {
  "kernelspec": {
   "display_name": "Python 3 (ipykernel)",
   "language": "python",
   "name": "python3"
  },
  "language_info": {
   "codemirror_mode": {
    "name": "ipython",
    "version": 3
   },
   "file_extension": ".py",
   "mimetype": "text/x-python",
   "name": "python",
   "nbconvert_exporter": "python",
   "pygments_lexer": "ipython3",
   "version": "3.9.9"
  }
 },
 "nbformat": 4,
 "nbformat_minor": 5
}
