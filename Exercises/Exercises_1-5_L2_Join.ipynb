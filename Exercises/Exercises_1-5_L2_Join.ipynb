{
 "cells": [
  {
   "cell_type": "markdown",
   "id": "dc77aaaa-7753-4316-b392-f15c6c37ae68",
   "metadata": {},
   "source": [
    "1. Write a Pandas program to join the two given dataframes along rows and assign all data. <br>\n",
    "Data: student_data1, student_data2 respectively given\n",
    "\n",
    "|| student_id | name | marks |\n",
    "| --- | --- | --- | --- |\n",
    "0 | S1 | Danniella Fenton | 200 |\n",
    "1 | S2 | Ryder Storey | 210 |\n",
    "2 | S3 | Bryce Jensen | 190 |\n",
    "3 | S4 | Ed Bernal | 222 |\n",
    "4 | S5 | Kwame Morin | 199 |\n",
    "\n",
    "|| student_id | name | marks |\n",
    "| --- | --- | --- | --- |\n",
    "0 | S1 | Scarlette Fisher  | 201 |\n",
    "1 | S2 | Carla Williamson | 200 |\n",
    "2 | S3 | Dante Morse | 198 |\n",
    "3 | S4 | Kaiser William | 219 |\n",
    "4 | S5 | Madeeha Preston | 201 |"
   ]
  },
  {
   "cell_type": "code",
   "execution_count": null,
   "id": "b12c563c-0be0-40c6-a70d-ac2a0bc5f79a",
   "metadata": {},
   "outputs": [],
   "source": []
  },
  {
   "cell_type": "markdown",
   "id": "53a0dc38-ca2b-4ba7-b696-f779783ef93a",
   "metadata": {},
   "source": [
    "2. Write a Pandas program to join the two given dataframes along rows and merge with another dataframe along the common column id. <br>\n",
    "Data: student_data1, student_data2 & exam_data respectively given.\n",
    "\n",
    "\n",
    "|| student_id | name | marks |\n",
    "| --- | --- | --- | --- |\n",
    "0 | S1 | Danniella Fenton | 200 |\n",
    "1 | S2 | Ryder Storey | 210 |\n",
    "2 | S3 | Bryce Jensen | 190 |\n",
    "3 | S4 | Ed Bernal | 222 |\n",
    "4 | S5 | Kwame Morin | 199 |\n",
    "\n",
    "\n",
    "|| student_id | name | marks |\n",
    "| --- | --- | --- | --- |\n",
    "0 | S1 | Scarlette Fisher  | 201 |\n",
    "1 | S2 | Carla Williamson | 200 |\n",
    "2 | S3 | Dante Morse | 198 |\n",
    "3 | S4 | Kaiser William | 219 |\n",
    "4 | S5 | Madeeha Preston | 201 |\n",
    "\n",
    "\n",
    "|| student_id | exam_id |\n",
    "| --- | --- | --- |\n",
    "0 | S1 | 201 |\n",
    "1 | S2 | 200 |\n",
    "2 | S3 | 198 |\n",
    "3 | S4 | 219 |\n",
    "4 | S5 | 201 |\n",
    "5 | S7 | 201 |\n",
    "6 | S8 | 200 |\n",
    "7 | S9 | 198 |\n",
    "8 | S10 | 219 |\n",
    "9 | S11 | 201 |\n",
    "10 | S12 | 201 |\n",
    "11 | S13 | 200 |\n"
   ]
  },
  {
   "cell_type": "code",
   "execution_count": null,
   "id": "0b45030d-8853-46f5-b6f6-4b5b055d38db",
   "metadata": {},
   "outputs": [],
   "source": []
  },
  {
   "cell_type": "markdown",
   "id": "c1d2dde0-1f1c-4481-8b0b-95e47506f708",
   "metadata": {},
   "source": [
    "3. Write a Pandas program to join the two dataframes with matching records from both sides where available. <br>\n",
    "Data: student_data1, student_data2 respectively given\n",
    "\n",
    "\n",
    "|| student_id | name | marks |\n",
    "| --- | --- | --- | --- |\n",
    "0 | S1 | Danniella Fenton | 200 |\n",
    "1 | S2 | Ryder Storey | 210 |\n",
    "2 | S3 | Bryce Jensen | 190 |\n",
    "3 | S4 | Ed Bernal | 222 |\n",
    "4 | S5 | Kwame Morin | 199 |\n",
    "\n",
    "|| student_id | name | marks |\n",
    "| --- | --- | --- | --- |\n",
    "0 | S1 | Scarlette Fisher  | 201 |\n",
    "1 | S2 | Carla Williamson | 200 |\n",
    "2 | S3 | Dante Morse | 198 |\n",
    "3 | S4 | Kaiser William | 219 |\n",
    "4 | S5 | Madeeha Preston | 201 |"
   ]
  },
  {
   "cell_type": "code",
   "execution_count": null,
   "id": "2b8525d1-3541-4899-919c-85e34e99419e",
   "metadata": {},
   "outputs": [],
   "source": []
  },
  {
   "cell_type": "markdown",
   "id": "89033e65-8c22-43cc-bc0a-bac34e70464f",
   "metadata": {},
   "source": [
    "4. Write a Pandas program to create a new DataFrame based on existing series, using specified argument and override the existing columns names."
   ]
  },
  {
   "cell_type": "code",
   "execution_count": null,
   "id": "64fa0be4-a1a7-4447-a7eb-cc82ef5c0448",
   "metadata": {},
   "outputs": [],
   "source": []
  },
  {
   "cell_type": "markdown",
   "id": "5863b9d4-a3d4-4c21-8861-3f95f494e95b",
   "metadata": {},
   "source": [
    "5. Write a Pandas program to merge two given dataframes with different columns. <br>\n",
    "Data: data1 & data2\n",
    "\n",
    "\n",
    "|| key1 | key2 | P | Q |\n",
    "| --- | --- | --- | --- | --- |\n",
    "0 | K0 | K0 | P0 | Q0 |\n",
    "0 | K0 | K1 | P1 | Q1 |\n",
    "0 | K1 | K0 | P2 | Q2 |\n",
    "0 | K2 | K1 | P3 | Q3 |\n",
    "\n",
    "\n",
    "|| key1 | key2 | R | S |\n",
    "| --- | --- | --- | --- | --- |\n",
    "0 | K0 | K0 | R0 | S0 |\n",
    "0 | K1 | K0 | R1 | S1 |\n",
    "0 | K1 | K0 | R2 | S2 |\n",
    "0 | K2 | K0 | R3 | S3 |"
   ]
  },
  {
   "cell_type": "code",
   "execution_count": null,
   "id": "e22daa16-cf5e-4c63-8b3d-75a6fc2c11bd",
   "metadata": {},
   "outputs": [],
   "source": []
  }
 ],
 "metadata": {
  "kernelspec": {
   "display_name": "Python 3 (ipykernel)",
   "language": "python",
   "name": "python3"
  },
  "language_info": {
   "codemirror_mode": {
    "name": "ipython",
    "version": 3
   },
   "file_extension": ".py",
   "mimetype": "text/x-python",
   "name": "python",
   "nbconvert_exporter": "python",
   "pygments_lexer": "ipython3",
   "version": "3.9.9"
  }
 },
 "nbformat": 4,
 "nbformat_minor": 5
}
