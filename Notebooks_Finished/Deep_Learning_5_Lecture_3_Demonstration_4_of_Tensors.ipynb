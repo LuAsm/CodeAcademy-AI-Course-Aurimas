{
  "cells": [
    {
      "cell_type": "markdown",
      "source": [
        "<a href=\"https://colab.research.google.com/github/aurimas13/CodeAcademy-AI-Course/blob/main/Notebooks_Finished/Deep_Learning_5_Lecture_3_Demonstration_4_of_Tensors.ipynb\" target=\"_parent\"><img src=\"https://colab.research.google.com/assets/colab-badge.svg\" alt=\"Open In Colab\"/></a>"
      ],
      "metadata": {
        "id": "Zxj59w-0JLdt"
      }
    },
    {
      "cell_type": "markdown",
      "metadata": {
        "id": "qFdPvlXBOdUN"
      },
      "source": [
        "# <b> Introduction to Tensors"
      ]
    },
    {
      "cell_type": "code",
      "execution_count": null,
      "metadata": {
        "id": "AL2hzxorJiWy",
        "tags": []
      },
      "outputs": [],
      "source": [
        "import tensorflow as tf\n",
        "import numpy as np\n",
        "import os\n",
        "import warnings\n",
        "warnings.filterwarnings('ignore')\n",
        "os.environ['TF_CPP_MIN_LOG>LEVEL'] = '2'"
      ]
    },
    {
      "cell_type": "markdown",
      "metadata": {
        "id": "VQ3s2J8Vgowq"
      },
      "source": [
        "+ Tensors are multi-dimensional arrays with a uniform type (called a `dtype`).  You can all supported `dtypes` at `tf.dtypes.DType`."
      ]
    },
    {
      "cell_type": "markdown",
      "metadata": {
        "id": "DRK5-9EpYbzG"
      },
      "source": [
        "## <b> Basics<b>\n"
      ]
    },
    {
      "cell_type": "markdown",
      "metadata": {
        "id": "uSHRFT6LJbxq"
      },
      "source": [
        "Here is a \"scalar\" or \"rank-0\" tensor . A scalar contains a single value, and no \"axes\"."
      ]
    },
    {
      "cell_type": "code",
      "execution_count": null,
      "metadata": {
        "id": "d5JcgLFR6gHv",
        "tags": [],
        "outputId": "78bbb2e7-080c-44a3-ff65-82f11deb75ee"
      },
      "outputs": [
        {
          "name": "stdout",
          "output_type": "stream",
          "text": [
            "tf.Tensor(4, shape=(), dtype=int32)\n"
          ]
        }
      ],
      "source": [
        "# This will be an int32 tensor by default\n",
        "rank_0_tensor = tf.constant(4)\n",
        "print(rank_0_tensor)"
      ]
    },
    {
      "cell_type": "markdown",
      "metadata": {
        "id": "tdmPAn9fWYs5"
      },
      "source": [
        "A \"vector\" or \"rank-1\" tensor is like a list of values. A vector has one axis:"
      ]
    },
    {
      "cell_type": "code",
      "execution_count": null,
      "metadata": {
        "id": "oZos8o_R6oE7",
        "tags": [],
        "outputId": "ed447950-b993-4b6a-dce7-0bfa1d8b2dd7"
      },
      "outputs": [
        {
          "name": "stdout",
          "output_type": "stream",
          "text": [
            "tf.Tensor([2. 3. 4.], shape=(3,), dtype=float32)\n"
          ]
        }
      ],
      "source": [
        "# Let's make a float tensor\n",
        "rank_1_tensor = tf.constant([2.0, 3.0, 4.0])\n",
        "print(rank_1_tensor)"
      ]
    },
    {
      "cell_type": "markdown",
      "metadata": {
        "id": "G3IJG-ug_H4u"
      },
      "source": [
        "A \"matrix\" or \"rank-2\" tensor has two axes:"
      ]
    },
    {
      "cell_type": "code",
      "execution_count": null,
      "metadata": {
        "id": "cnOIA_xb6u0M",
        "tags": [],
        "outputId": "dbf174ad-4b61-4995-e2cb-c6e16ba82ad3"
      },
      "outputs": [
        {
          "name": "stdout",
          "output_type": "stream",
          "text": [
            "tf.Tensor(\n",
            "[[1. 2.]\n",
            " [3. 4.]\n",
            " [5. 6.]], shape=(3, 2), dtype=float16)\n"
          ]
        }
      ],
      "source": [
        "# If you eant to be specific, you can set the dtype during the creation time\n",
        "rank_2_tensor = tf.constant([[1, 2],\n",
        "                             [3, 4],\n",
        "                             [5, 6]], dtype=tf.float16)\n",
        "print(rank_2_tensor)"
      ]
    },
    {
      "cell_type": "markdown",
      "metadata": {
        "id": "19m72qEPkfxi"
      },
      "source": [
        "![Screenshot 2023-01-04 at 20.30.04.png](attachment:8c9cb0df-bbe8-43bb-a34d-a65ded9d9c66.png)\n"
      ]
    },
    {
      "cell_type": "markdown",
      "metadata": {
        "id": "fjFvzcn4_ehD"
      },
      "source": [
        "Tensors may have more axes; here is a tensor with three axes:"
      ]
    },
    {
      "cell_type": "code",
      "execution_count": null,
      "metadata": {
        "id": "sesW7gw6JkXy",
        "tags": [],
        "outputId": "8f3d6ed5-2638-4f9d-a193-f8ed6604dc24"
      },
      "outputs": [
        {
          "name": "stdout",
          "output_type": "stream",
          "text": [
            "tf.Tensor(\n",
            "[[[ 0  1  2  3  4]\n",
            "  [ 5  6  7  8  9]]\n",
            "\n",
            " [[10 11 12 13 14]\n",
            "  [15 16 17 18 19]]\n",
            "\n",
            " [[20 21 22 23 24]\n",
            "  [25 26 27 28 29]]], shape=(3, 2, 5), dtype=int32)\n"
          ]
        }
      ],
      "source": [
        "# There can arbitraty number of axes aka dimensions\n",
        "rank_3_tensor = tf.constant([\n",
        "    [[0, 1, 2, 3, 4],\n",
        "     [5, 6, 7, 8, 9]],\n",
        "    [[10, 11, 12, 13, 14],\n",
        "     [15, 16, 17, 18, 19]],\n",
        "    [[20, 21, 22, 23, 24],\n",
        "     [25, 26, 27, 28, 29]],])\n",
        "    \n",
        "print(rank_3_tensor)"
      ]
    },
    {
      "cell_type": "markdown",
      "metadata": {
        "id": "rM2sTGIkoE3S"
      },
      "source": [
        "There are many ways you might visualize a tensor with more than two axes."
      ]
    },
    {
      "cell_type": "markdown",
      "metadata": {
        "id": "NFiYfNMMhDgL"
      },
      "source": [
        "![Screenshot 2023-01-04 at 20.31.15.png](attachment:3b512525-65c9-4b1a-83ce-95975ad38a9e.png)\n",
        "\n",
        "<!-- <table>\n",
        "<tr>\n",
        "  <th colspan=3>A 3-axis tensor, shape: <code>[3, 2, 5]</code></th>\n",
        "<tr>\n",
        "<tr>\n",
        "  <td>\n",
        "   <img src=\"images/tensor/3-axis_numpy.png\"/>\n",
        "  </td>\n",
        "  <td>\n",
        "   <img src=\"images/tensor/3-axis_front.png\"/>\n",
        "  </td>\n",
        "\n",
        "  <td>\n",
        "   <img src=\"images/tensor/3-axis_block.png\"/>\n",
        "  </td>\n",
        "</tr>\n",
        "\n",
        "</table> -->"
      ]
    },
    {
      "cell_type": "markdown",
      "metadata": {
        "id": "oWAc0U8OZwNb"
      },
      "source": [
        "Conversion: `np.array` or the `tensor.numpy`"
      ]
    },
    {
      "cell_type": "code",
      "execution_count": null,
      "metadata": {
        "id": "J5u6_6ZYaS7B",
        "tags": [],
        "outputId": "addce92b-cf75-454c-fe2b-e5886cb2d6b7"
      },
      "outputs": [
        {
          "data": {
            "text/plain": [
              "array([[1., 2.],\n",
              "       [3., 4.],\n",
              "       [5., 6.]], dtype=float16)"
            ]
          },
          "execution_count": 10,
          "metadata": {},
          "output_type": "execute_result"
        }
      ],
      "source": [
        "# First way\n",
        "np.array(rank_2_tensor)"
      ]
    },
    {
      "cell_type": "code",
      "execution_count": null,
      "metadata": {
        "id": "c6Taz2gIaZeo",
        "tags": [],
        "outputId": "b4e449c4-e55f-4d67-82c0-b5b1eb4ea10e"
      },
      "outputs": [
        {
          "data": {
            "text/plain": [
              "array([[1., 2.],\n",
              "       [3., 4.],\n",
              "       [5., 6.]], dtype=float16)"
            ]
          },
          "execution_count": 11,
          "metadata": {},
          "output_type": "execute_result"
        }
      ],
      "source": [
        "rank_2_tensor.numpy()"
      ]
    },
    {
      "cell_type": "markdown",
      "metadata": {
        "id": "hnz19F0ocEKD"
      },
      "source": [
        "Tensors can have many other types like:\n",
        "\n",
        "* complex numbers\n",
        "* strings\n",
        "\n",
        "The base Tensor class is `tf.Tensor` while there are specialized types of tensors that can handle different shapes as well\n",
        "\n",
        "* Ragged tensors (see [RaggedTensor](#ragged_tensors) below)\n",
        "* Sparse tensors (see [SparseTensor](#sparse_tensors) below)"
      ]
    },
    {
      "cell_type": "markdown",
      "metadata": {
        "id": "SDC7OGeAIJr8"
      },
      "source": [
        "You can do basic math on tensors, including addition, element-wise multiplication, and matrix multiplication."
      ]
    },
    {
      "cell_type": "code",
      "execution_count": null,
      "metadata": {
        "id": "-DTkjwDOIIDa",
        "tags": [],
        "outputId": "c5a32319-6ee9-4420-fc7e-d6a66c6a9269"
      },
      "outputs": [
        {
          "name": "stdout",
          "output_type": "stream",
          "text": [
            "tf.Tensor(\n",
            "[[2 3]\n",
            " [4 5]], shape=(2, 2), dtype=int32) \n",
            "\n",
            "tf.Tensor(\n",
            "[[1 2]\n",
            " [3 4]], shape=(2, 2), dtype=int32) \n",
            "\n",
            "tf.Tensor(\n",
            "[[3 3]\n",
            " [7 7]], shape=(2, 2), dtype=int32) \n",
            "\n"
          ]
        }
      ],
      "source": [
        "a = tf.constant([[1, 2],\n",
        "                 [3, 4]])\n",
        "b = tf.constant([[1, 1],\n",
        "                 [1, 1]]) # could have said tf.ones([2, 2])\n",
        "\n",
        "print(tf.add(a, b), '\\n')\n",
        "print(tf.multiply(a, b), '\\n')\n",
        "print(tf.matmul(a, b), '\\n')"
      ]
    },
    {
      "cell_type": "code",
      "execution_count": null,
      "metadata": {
        "id": "2smoWeUz-N2q",
        "tags": [],
        "outputId": "0f01bbfd-1260-48e2-e47e-8655996fdc7c"
      },
      "outputs": [
        {
          "name": "stdout",
          "output_type": "stream",
          "text": [
            "tf.Tensor(\n",
            "[[2 3]\n",
            " [4 5]], shape=(2, 2), dtype=int32) \n",
            "\n",
            "tf.Tensor(\n",
            "[[1 2]\n",
            " [3 4]], shape=(2, 2), dtype=int32) \n",
            "\n",
            "tf.Tensor(\n",
            "[[3 3]\n",
            " [7 7]], shape=(2, 2), dtype=int32) \n",
            "\n"
          ]
        }
      ],
      "source": [
        "print(a + b, '\\n') # element-wise addition\n",
        "print(a * b, '\\n') # element-wise multiplication\n",
        "print(a @ b, '\\n') # matrix multiplication"
      ]
    },
    {
      "cell_type": "markdown",
      "metadata": {
        "id": "S3_vIAl2JPVc"
      },
      "source": [
        "Tensors are used in all kinds of operations."
      ]
    },
    {
      "cell_type": "code",
      "execution_count": null,
      "metadata": {
        "id": "Gp4WUYzGIbnv",
        "tags": [],
        "outputId": "fea29cb0-63b2-4123-c7b5-aa34f0e9bafd"
      },
      "outputs": [
        {
          "name": "stdout",
          "output_type": "stream",
          "text": [
            "tf.Tensor(10.0, shape=(), dtype=float32)\n",
            "tf.Tensor([1 0], shape=(2,), dtype=int64)\n",
            "tf.Tensor(\n",
            "[[2.6894143e-01 7.3105860e-01]\n",
            " [9.9987662e-01 1.2339458e-04]], shape=(2, 2), dtype=float32)\n"
          ]
        }
      ],
      "source": [
        "c = tf.constant([[4.0, 5.0], [10.0, 1.0]])\n",
        "                 \n",
        "# Largest Value\n",
        "print(tf.reduce_max(c))\n",
        "# Find index of the largest value\n",
        "print(tf.math.argmax(c))\n",
        "# Compute the softmax\n",
        "print(tf.nn.softmax(c))"
      ]
    },
    {
      "cell_type": "markdown",
      "metadata": {
        "id": "0MNM-q7-MZLz"
      },
      "source": [
        "Note: Typically, anywhere a TensorFlow function expects a `Tensor` as input, the function will also accept anything that can be converted to a `Tensor` using `tf.convert_to_tensor`. See below for an example."
      ]
    },
    {
      "cell_type": "code",
      "execution_count": null,
      "metadata": {
        "id": "_wch0N8xNEt-",
        "tags": [],
        "outputId": "f12ae44d-cfc8-4385-c4d0-448ec9c75ce8"
      },
      "outputs": [
        {
          "data": {
            "text/plain": [
              "<tf.Tensor: shape=(3,), dtype=int32, numpy=array([1, 2, 3], dtype=int32)>"
            ]
          },
          "execution_count": 18,
          "metadata": {},
          "output_type": "execute_result"
        }
      ],
      "source": [
        "tf.convert_to_tensor([1, 2, 3])"
      ]
    },
    {
      "cell_type": "code",
      "execution_count": null,
      "metadata": {
        "id": "ngqIeWYeNJVI",
        "tags": [],
        "outputId": "8fa470fc-83e6-4e98-9145-678b036e76ec"
      },
      "outputs": [
        {
          "data": {
            "text/plain": [
              "<tf.Tensor: shape=(), dtype=int32, numpy=3>"
            ]
          },
          "execution_count": 19,
          "metadata": {},
          "output_type": "execute_result"
        }
      ],
      "source": [
        "tf.reduce_max([1, 2, 3])"
      ]
    },
    {
      "cell_type": "code",
      "execution_count": null,
      "metadata": {
        "id": "ThVMxqbVNOq3",
        "tags": [],
        "outputId": "4acdefb0-1632-4c14-d203-22d94dfbac9d"
      },
      "outputs": [
        {
          "data": {
            "text/plain": [
              "<tf.Tensor: shape=(), dtype=int64, numpy=3>"
            ]
          },
          "execution_count": 20,
          "metadata": {},
          "output_type": "execute_result"
        }
      ],
      "source": [
        "tf.reduce_max(np.array([1, 2, 3]))"
      ]
    },
    {
      "cell_type": "markdown",
      "metadata": {
        "id": "NvSAbowVVuRr"
      },
      "source": [
        "## <b> About shapes"
      ]
    },
    {
      "cell_type": "markdown",
      "metadata": {
        "id": "hkaBIqkTCcGY"
      },
      "source": [
        "Tensors have shapes:\n",
        "\n",
        "* **Shape**: The length (number of elements) of each of the axes of a tensor.\n",
        "* **Rank**: Number of tensor axes.  A scalar has rank 0, a vector has rank 1, a matrix is rank 2.\n",
        "* **Axis** or **Dimension**: A particular dimension of a tensor.\n",
        "* **Size**: The total number of items in the tensor, the product of the shape vector's elements.\n"
      ]
    },
    {
      "cell_type": "code",
      "execution_count": null,
      "metadata": {
        "id": "RyD3yewUKdnK",
        "tags": []
      },
      "outputs": [],
      "source": [
        "rank_4_tensor = tf.zeros([3, 2, 4, 5])"
      ]
    },
    {
      "cell_type": "markdown",
      "metadata": {
        "id": "oTZZW9ziq4og"
      },
      "source": [
        "![Screenshot 2023-01-04 at 20.32.20.png](attachment:11655099-66f4-487c-b708-86b96e8ad4f2.png)\n",
        "<!-- <table>\n",
        "<tr>\n",
        "  <th colspan=2>A rank-4 tensor, shape: <code>[3, 2, 4, 5]</code></th>\n",
        "</tr>\n",
        "<tr>\n",
        "  <td>\n",
        "<img src=\"images/tensor/shape.png\" alt=\"A tensor shape is like a vector.\">\n",
        "    <td>\n",
        "<img src=\"images/tensor/4-axis_block.png\" alt=\"A 4-axis tensor\">\n",
        "  </td>\n",
        "  </tr>\n",
        "</table> -->\n"
      ]
    },
    {
      "cell_type": "code",
      "execution_count": null,
      "metadata": {
        "id": "MHm9vSqogsBk",
        "tags": [],
        "outputId": "76fcbc46-cee6-4dde-f802-637f68b1627f"
      },
      "outputs": [
        {
          "name": "stdout",
          "output_type": "stream",
          "text": [
            "Type of every element: <dtype: 'float32'>\n",
            "Number of axes: 4\n",
            "Shape of tensor: (3, 2, 4, 5)\n",
            "Elements along axis 0 of tensor: 3\n",
            "Elements along the last axis of tensor: 5\n",
            "Total number of elements (3*2*4*5): 120\n"
          ]
        }
      ],
      "source": [
        "print('Type of every element:', rank_4_tensor.dtype)\n",
        "print('Number of axes:', rank_4_tensor.ndim)\n",
        "print('Shape of tensor:', rank_4_tensor.shape)\n",
        "print('Elements along axis 0 of tensor:', rank_4_tensor.shape[0])\n",
        "print('Elements along the last axis of tensor:', rank_4_tensor.shape[-1])\n",
        "print('Total number of elements (3*2*4*5):', tf.size(rank_4_tensor).numpy())"
      ]
    },
    {
      "cell_type": "markdown",
      "metadata": {
        "id": "2ZGZp_JOOPOv"
      },
      "source": [
        "But note that the `Tensor.ndim` and `Tensor.shape` attributes don't return `Tensor` objects. If you need a `Tensor` use the `tf.rank` or `tf.shape` function. This difference is subtle, but it can be important when building graphs (later)."
      ]
    },
    {
      "cell_type": "code",
      "execution_count": null,
      "metadata": {
        "id": "Ptq0-y6APCpD",
        "tags": [],
        "outputId": "4c135b45-aaf2-4eb0-b8a3-a351d17e6b67"
      },
      "outputs": [
        {
          "data": {
            "text/plain": [
              "<tf.Tensor: shape=(), dtype=int32, numpy=4>"
            ]
          },
          "execution_count": 26,
          "metadata": {},
          "output_type": "execute_result"
        }
      ],
      "source": [
        "tf.rank(rank_4_tensor)"
      ]
    },
    {
      "cell_type": "code",
      "execution_count": null,
      "metadata": {
        "id": "HslrDOEBPICN",
        "tags": [],
        "outputId": "3d6c2bf8-9554-4a17-fdd7-1c2a820cb3f3"
      },
      "outputs": [
        {
          "data": {
            "text/plain": [
              "<tf.Tensor: shape=(4,), dtype=int32, numpy=array([3, 2, 4, 5], dtype=int32)>"
            ]
          },
          "execution_count": 27,
          "metadata": {},
          "output_type": "execute_result"
        }
      ],
      "source": [
        "tf.shape(rank_4_tensor)"
      ]
    },
    {
      "cell_type": "markdown",
      "metadata": {
        "id": "bQmE_Vx5JilS"
      },
      "source": [
        "![Screenshot 2023-01-04 at 20.33.01.png](attachment:2462a470-8c88-47a0-8662-246bb843b844.png)\n",
        "\n",
        "<!-- <table>\n",
        "<tr>\n",
        "<th>Typical axis order</th>\n",
        "</tr>\n",
        "<tr>\n",
        "    <td>\n",
        "<img src=\"images/tensor/shape2.png\" alt=\"Keep track of what each axis is. A 4-axis tensor might be: Batch, Width, Height, Features\">\n",
        "  </td>\n",
        "</tr>\n",
        "</table> -->"
      ]
    },
    {
      "cell_type": "markdown",
      "metadata": {
        "id": "FlPoVvJS75Bb"
      },
      "source": [
        "# <b> Indexing"
      ]
    },
    {
      "cell_type": "markdown",
      "metadata": {
        "id": "apOkCKqCZIZu"
      },
      "source": [
        "### Single-axis indexing"
      ]
    },
    {
      "cell_type": "code",
      "execution_count": null,
      "metadata": {
        "id": "SQ-CrJxLXTIM",
        "tags": [],
        "outputId": "51129fe3-40c6-45bc-baf1-f256a38a638b"
      },
      "outputs": [
        {
          "name": "stdout",
          "output_type": "stream",
          "text": [
            "[ 0  1  1  2  3  5  8 13 21 34]\n"
          ]
        }
      ],
      "source": [
        "rank_1_tensor = tf.constant([0, 1, 1, 2, 3, 5, 8, 13, 21, 34])\n",
        "print(rank_1_tensor.numpy())"
      ]
    },
    {
      "cell_type": "markdown",
      "metadata": {
        "id": "mQYYL56PXSak"
      },
      "source": [
        "Indexing with a scalar removes the axis:"
      ]
    },
    {
      "cell_type": "code",
      "execution_count": null,
      "metadata": {
        "id": "n6tqHciOWMt5",
        "tags": [],
        "outputId": "fcac0ea4-69d9-4521-b8f3-16b4981ed7fb"
      },
      "outputs": [
        {
          "name": "stdout",
          "output_type": "stream",
          "text": [
            "First: 0\n",
            "Second: 1\n",
            "Last: 34\n"
          ]
        }
      ],
      "source": [
        "print('First:', rank_1_tensor[0].numpy())\n",
        "print('Second:', rank_1_tensor[1].numpy())\n",
        "print('Last:', rank_1_tensor[-1].numpy())\n"
      ]
    },
    {
      "cell_type": "markdown",
      "metadata": {
        "id": "qJLHU_a2XwpG"
      },
      "source": [
        "Indexing with a `:` slice keeps the axis:"
      ]
    },
    {
      "cell_type": "code",
      "execution_count": null,
      "metadata": {
        "id": "giVPPcfQX-cu",
        "tags": [],
        "outputId": "7dfda53e-8b89-4365-b872-7b86f5e11123"
      },
      "outputs": [
        {
          "name": "stdout",
          "output_type": "stream",
          "text": [
            "Everything: [ 0  1  1  2  3  5  8 13 21 34]\n",
            "Before 5: [0 1 1 2 3]\n",
            "From 4 to the end: [ 3  5  8 13 21 34]\n",
            "From 2 but before 7: [1 2 3 5 8]\n",
            "Every oher item: [ 0  1  3  8 21]\n",
            "Reversed: [34 21 13  8  5  3  2  1  1  0]\n"
          ]
        }
      ],
      "source": [
        "print('Everything:', rank_1_tensor[:].numpy())\n",
        "print('Before 5:', rank_1_tensor[:5].numpy())\n",
        "print('From 4 to the end:', rank_1_tensor[4:].numpy())\n",
        "print('From 2 but before 7:', rank_1_tensor[2:7].numpy())\n",
        "print('Every oher item:', rank_1_tensor[::2].numpy()) # [start:end:step]\n",
        "print('Reversed:', rank_1_tensor[::-1].numpy())"
      ]
    },
    {
      "cell_type": "markdown",
      "metadata": {
        "id": "elDSxXi7X-Bh"
      },
      "source": [
        "# <b> Multi-axis indexing"
      ]
    },
    {
      "cell_type": "code",
      "execution_count": null,
      "metadata": {
        "id": "Tc5X_WlsZXmd",
        "tags": [],
        "outputId": "aa815061-0b8c-4ca2-fa71-d74fab2b0eed"
      },
      "outputs": [
        {
          "name": "stdout",
          "output_type": "stream",
          "text": [
            "[[1. 2.]\n",
            " [3. 4.]\n",
            " [5. 6.]]\n"
          ]
        }
      ],
      "source": [
        "print(rank_2_tensor.numpy())"
      ]
    },
    {
      "cell_type": "markdown",
      "metadata": {
        "id": "w07U9vq5ipQk"
      },
      "source": [
        "Passing an integer for each index, the result is a scalar."
      ]
    },
    {
      "cell_type": "code",
      "execution_count": null,
      "metadata": {
        "id": "PvILXc1PjqTM",
        "tags": [],
        "outputId": "73e56792-62eb-490d-87e2-61a8b566f08d"
      },
      "outputs": [
        {
          "name": "stdout",
          "output_type": "stream",
          "text": [
            "1.0\n"
          ]
        }
      ],
      "source": [
        "# Pull out a single from 2-rank tensor\n",
        "print(rank_2_tensor[0, 0].numpy())"
      ]
    },
    {
      "cell_type": "markdown",
      "metadata": {
        "id": "3RLCzAOHjfEH"
      },
      "source": [
        "You can index using any combination of integers and slices:"
      ]
    },
    {
      "cell_type": "code",
      "execution_count": null,
      "metadata": {
        "id": "YTqNqsfJkJP_",
        "tags": [],
        "outputId": "a1424e00-9631-4ef8-eceb-4cc0304716e1"
      },
      "outputs": [
        {
          "name": "stdout",
          "output_type": "stream",
          "text": [
            "Second row: [3. 4.]\n",
            "Second column: [2. 4. 6.]\n",
            "Last row: [5. 6.]\n",
            "First item in last column: 2.0\n",
            "Skip the first row:\n",
            "[[3. 4.]\n",
            " [5. 6.]] \n",
            "\n"
          ]
        }
      ],
      "source": [
        "# Get row and column tensors\n",
        "print('Second row:', rank_2_tensor[1,:].numpy())\n",
        "print('Second column:', rank_2_tensor[:, 1].numpy())\n",
        "print('Last row:', rank_2_tensor[-1,:].numpy())\n",
        "print('First item in last column:', rank_2_tensor[0, -1].numpy())\n",
        "print('Skip the first row:')\n",
        "print(rank_2_tensor[1:, :].numpy(), '\\n')"
      ]
    },
    {
      "cell_type": "markdown",
      "metadata": {
        "id": "P45TwSUVSK6G"
      },
      "source": [
        "Here is an example with a 3-axis tensor:"
      ]
    },
    {
      "cell_type": "code",
      "execution_count": null,
      "metadata": {
        "id": "GuLoMoCVSLxK",
        "tags": [],
        "outputId": "93bee224-cf88-4b55-e4c1-2d079672f4a7"
      },
      "outputs": [
        {
          "name": "stdout",
          "output_type": "stream",
          "text": [
            "tf.Tensor(\n",
            "[[ 4  9]\n",
            " [14 19]\n",
            " [24 29]], shape=(3, 2), dtype=int32)\n"
          ]
        }
      ],
      "source": [
        "print(rank_3_tensor[:, :, 4])"
      ]
    },
    {
      "cell_type": "markdown",
      "metadata": {
        "id": "9NgmHq27TJOE"
      },
      "source": [
        "![Screenshot 2023-01-04 at 20.33.46.png](attachment:a6dbf238-2574-46db-85ba-b084141a6e9d.png)\n",
        "\n",
        "<!-- <table>\n",
        "<tr>\n",
        "<th colspan=2>Selecting the last feature across all locations in each example in the batch </th>\n",
        "</tr>\n",
        "<tr>\n",
        "    <td>\n",
        "<img src=\"images/tensor/index1.png\" alt=\"A 3x2x5 tensor with all the values at the index-4 of the last axis selected.\">\n",
        "  </td>\n",
        "      <td>\n",
        "<img src=\"images/tensor/index2.png\" alt=\"The selected values packed into a 2-axis tensor.\">\n",
        "  </td>\n",
        "</tr>\n",
        "</table> -->"
      ]
    },
    {
      "cell_type": "markdown",
      "metadata": {
        "id": "t9V83-thHn89"
      },
      "source": [
        "Read the [tensor slicing guide](https://tensorflow.org/guide/tensor_slicing) to learn how you can apply indexing to manipulate individual elements in your tensors."
      ]
    },
    {
      "cell_type": "markdown",
      "metadata": {
        "id": "fpr7R0t4SVb0"
      },
      "source": [
        "## Manipulating Shapes\n",
        "\n",
        "Reshaping a tensor is of great utility. \n"
      ]
    },
    {
      "cell_type": "code",
      "execution_count": null,
      "metadata": {
        "id": "EMeTtga5Wq8j",
        "tags": [],
        "outputId": "2c685cb9-554f-4b4c-ae53-8acc3449240a"
      },
      "outputs": [
        {
          "name": "stdout",
          "output_type": "stream",
          "text": [
            "(3, 1)\n"
          ]
        }
      ],
      "source": [
        "# Shape return a 'TensorShape' object that shows the size along each axis\n",
        "x = tf.constant([[1], [2], [3]])\n",
        "print(x.shape)"
      ]
    },
    {
      "cell_type": "code",
      "execution_count": null,
      "metadata": {
        "id": "38jc2RXziT3W",
        "tags": [],
        "outputId": "00ce7eae-5e61-4189-8e47-7f6e3f447e7f"
      },
      "outputs": [
        {
          "name": "stdout",
          "output_type": "stream",
          "text": [
            "[3, 1]\n"
          ]
        }
      ],
      "source": [
        "# We can convert this object to Python list, too\n",
        "print(x.shape.as_list())"
      ]
    },
    {
      "cell_type": "markdown",
      "metadata": {
        "id": "J_xRlHZMKYnF"
      },
      "source": [
        "You can reshape a tensor into a new shape."
      ]
    },
    {
      "cell_type": "code",
      "execution_count": null,
      "metadata": {
        "id": "pa9JCgMLWy87",
        "tags": []
      },
      "outputs": [],
      "source": [
        "# We can reshape a tensor to a new shape\n",
        "# Note that you'll pass it in a list\n",
        "reshaped = tf.reshape(x, [1, 3])"
      ]
    },
    {
      "cell_type": "code",
      "execution_count": null,
      "metadata": {
        "id": "Mcq7iXOkW3LK",
        "tags": [],
        "outputId": "77140214-650e-40d8-feaa-7a710754125f"
      },
      "outputs": [
        {
          "name": "stdout",
          "output_type": "stream",
          "text": [
            "(3, 1)\n",
            "(1, 3)\n"
          ]
        }
      ],
      "source": [
        "print(x.shape)\n",
        "print(reshaped.shape)"
      ]
    },
    {
      "cell_type": "markdown",
      "metadata": {
        "id": "gIB2tOkoVr6E"
      },
      "source": [
        "The data maintains its layout in memory and a new tensor is created, with the requested shape, pointing to the same data."
      ]
    },
    {
      "cell_type": "code",
      "execution_count": null,
      "metadata": {
        "id": "7kMfM0RpUgI8",
        "tags": [],
        "outputId": "50724626-dc11-4576-aff5-1d3524727ea3"
      },
      "outputs": [
        {
          "name": "stdout",
          "output_type": "stream",
          "text": [
            "tf.Tensor(\n",
            "[[[ 0  1  2  3  4]\n",
            "  [ 5  6  7  8  9]]\n",
            "\n",
            " [[10 11 12 13 14]\n",
            "  [15 16 17 18 19]]\n",
            "\n",
            " [[20 21 22 23 24]\n",
            "  [25 26 27 28 29]]], shape=(3, 2, 5), dtype=int32)\n"
          ]
        }
      ],
      "source": [
        "print(rank_3_tensor)"
      ]
    },
    {
      "cell_type": "markdown",
      "metadata": {
        "id": "TcDtfQkJWzIx"
      },
      "source": [
        "If you flatten a tensor you can see what order it is laid out in memory."
      ]
    },
    {
      "cell_type": "code",
      "execution_count": null,
      "metadata": {
        "id": "COnHEPuaWDQp",
        "tags": [],
        "outputId": "8477a64c-c80f-4f16-a221-9beba7ebff34"
      },
      "outputs": [
        {
          "name": "stdout",
          "output_type": "stream",
          "text": [
            "tf.Tensor(\n",
            "[ 0  1  2  3  4  5  6  7  8  9 10 11 12 13 14 15 16 17 18 19 20 21 22 23\n",
            " 24 25 26 27 28 29], shape=(30,), dtype=int32)\n"
          ]
        }
      ],
      "source": [
        "# If a '-1' is passed in shape argument it says 'Whatever fits'\n",
        "print(tf.reshape(rank_3_tensor, [-1]))"
      ]
    },
    {
      "cell_type": "markdown",
      "metadata": {
        "id": "ZOPw4J3KJJi-"
      },
      "source": [
        "Reasonable use of `tf.reshape` is to combine or split adjacent axes (or add/remove `1`s).\n"
      ]
    },
    {
      "cell_type": "code",
      "execution_count": null,
      "metadata": {
        "id": "zP2Iqc7zWu_J",
        "tags": [],
        "outputId": "96cc77a0-632b-4f67-f6e8-d706155f1b77"
      },
      "outputs": [
        {
          "name": "stdout",
          "output_type": "stream",
          "text": [
            "tf.Tensor(\n",
            "[[ 0  1  2  3  4]\n",
            " [ 5  6  7  8  9]\n",
            " [10 11 12 13 14]\n",
            " [15 16 17 18 19]\n",
            " [20 21 22 23 24]\n",
            " [25 26 27 28 29]], shape=(6, 5), dtype=int32) \n",
            "\n",
            "tf.Tensor(\n",
            "[[ 0  1  2  3  4  5  6  7  8  9]\n",
            " [10 11 12 13 14 15 16 17 18 19]\n",
            " [20 21 22 23 24 25 26 27 28 29]], shape=(3, 10), dtype=int32)\n"
          ]
        }
      ],
      "source": [
        "print(tf.reshape(rank_3_tensor, [3*2, 5]), '\\n')\n",
        "print(tf.reshape(rank_3_tensor, [3, -1])) # can be [3, 2*5]"
      ]
    },
    {
      "cell_type": "markdown",
      "metadata": {
        "id": "6ZsZRUhihlDB"
      },
      "source": [
        "![Screenshot 2023-01-04 at 20.34.21.png](attachment:7c3d1f97-02cf-4211-9db6-f5f0c6c31e18.png)\n",
        "\n",
        "<!-- <table>\n",
        "<th colspan=3>\n",
        "Some good reshapes.\n",
        "</th>\n",
        "<tr>\n",
        "  <td>\n",
        "<img src=\"images/tensor/reshape-before.png\" alt=\"A 3x2x5 tensor\">\n",
        "  </td>\n",
        "  <td>\n",
        "  <img src=\"images/tensor/reshape-good1.png\" alt=\"The same data reshaped to (3x2)x5\">\n",
        "  </td>\n",
        "  <td>\n",
        "<img src=\"images/tensor/reshape-good2.png\" alt=\"The same data reshaped to 3x(2x5)\">\n",
        "  </td>\n",
        "</tr>\n",
        "</table> -->\n"
      ]
    },
    {
      "cell_type": "markdown",
      "metadata": {
        "id": "nOcRxDC3jNIU"
      },
      "source": [
        "Reshaping will \"work\" for any new shape with the same total number of elements, but it will not do anything useful if you do not respect the order of the axes.\n",
        "\n",
        "Swapping axes in `tf.reshape` does not work; you need `tf.transpose` for that. \n"
      ]
    },
    {
      "cell_type": "code",
      "execution_count": null,
      "metadata": {
        "id": "I9qDL_8u7cBH",
        "tags": [],
        "outputId": "53764d65-a7f6-443f-df8e-4b5c5ac36fb1"
      },
      "outputs": [
        {
          "name": "stdout",
          "output_type": "stream",
          "text": [
            "tf.Tensor(\n",
            "[[[ 0  1  2  3  4]\n",
            "  [ 5  6  7  8  9]\n",
            "  [10 11 12 13 14]]\n",
            "\n",
            " [[15 16 17 18 19]\n",
            "  [20 21 22 23 24]\n",
            "  [25 26 27 28 29]]], shape=(2, 3, 5), dtype=int32) \n",
            "\n",
            "tf.Tensor(\n",
            "[[ 0  1  2  3  4]\n",
            " [ 5  6  7  8  9]\n",
            " [10 11 12 13 14]\n",
            " [15 16 17 18 19]\n",
            " [20 21 22 23 24]\n",
            " [25 26 27 28 29]], shape=(6, 5), dtype=int32) \n",
            "\n",
            "InvalidArgumentError: {{function_node __wrapped__Reshape_device_/job:localhost/replica:0/task:0/device:CPU:0}} Input to reshape is a tensor with 30 values, but the requested shape requires a multiple of 7 [Op:Reshape]\n"
          ]
        }
      ],
      "source": [
        "# Bad examples: don't do this\n",
        "\n",
        "# You can't reorder axes with reshape\n",
        "print(tf.reshape(rank_3_tensor, [2, 3, 5]), '\\n')\n",
        "\n",
        "# This a mess\n",
        "print(tf.reshape(rank_3_tensor, [6, 5]), '\\n')\n",
        "\n",
        "# This doesn't work as well\n",
        "try: \n",
        "    tf.reshape(rank_3_tensor, [7, -1])\n",
        "except Exception as e:\n",
        "    print(f'{type(e).__name__}: {e}')"
      ]
    },
    {
      "cell_type": "markdown",
      "metadata": {
        "id": "qTM9-5eh68oo"
      },
      "source": [
        "![Screenshot 2023-01-04 at 20.34.31.png](attachment:a281672f-2c52-403f-88cd-d85c6c46da3f.png)\n",
        "\n",
        "<!-- <table>\n",
        "<th colspan=3>\n",
        "Some bad reshapes.\n",
        "</th>\n",
        "<tr>\n",
        "  <td>\n",
        "<img src=\"images/tensor/reshape-bad.png\" alt=\"You can't reorder axes, use tf.transpose for that\">\n",
        "  </td>\n",
        "  <td>\n",
        "<img src=\"images/tensor/reshape-bad4.png\" alt=\"Anything that mixes the slices of data together is probably wrong.\">\n",
        "  </td>\n",
        "  <td>\n",
        "<img src=\"images/tensor/reshape-bad2.png\" alt=\"The new shape must fit exactly.\">\n",
        "  </td>\n",
        "</tr>\n",
        "</table> -->"
      ]
    },
    {
      "cell_type": "markdown",
      "metadata": {
        "id": "fDmFtFM7k0R2"
      },
      "source": [
        "## More on `DTypes`\n",
        "\n",
        "To inspect a `tf.Tensor`'s data type use the `Tensor.dtype` property.\n",
        "\n",
        "When creating a `tf.Tensor` from a Python object you may optionally specify the datatype.\n",
        "\n",
        "You can also cast from type to type."
      ]
    },
    {
      "cell_type": "code",
      "execution_count": null,
      "metadata": {
        "id": "5mSTDWbelUvu",
        "tags": [],
        "outputId": "5a7f67b0-a287-485b-bfdd-ea7b18946f0c"
      },
      "outputs": [
        {
          "name": "stdout",
          "output_type": "stream",
          "text": [
            "tf.Tensor([2 3 4], shape=(3,), dtype=uint8)\n"
          ]
        }
      ],
      "source": [
        "the_64_tensor = tf.constant([2.2, 3.3, 4.4], dtype=tf.float64)\n",
        "the_16_tensor = tf.cast(the_64_tensor, dtype=tf.float16)\n",
        "# Now let's cast to uint8 and lose decimals\n",
        "the_u8_tensor = tf.cast(the_16_tensor, dtype=tf.uint8)\n",
        "print(the_u8_tensor)"
      ]
    },
    {
      "cell_type": "markdown",
      "metadata": {
        "id": "s1yBlJsVlFSu"
      },
      "source": [
        "## Broadcasting\n",
        "\n",
        "Broadcasting is a concept borrowed from the NumPy.  In short,smaller tensors are \"stretched\" automatically to fit larger tensors when running combined operations on them.\n",
        "\n",
        "The simplest and most common case is when you attempt to multiply or add a tensor to a scalar.  In that case, the scalar is broadcast to be the same shape as the other argument. "
      ]
    },
    {
      "cell_type": "code",
      "execution_count": null,
      "metadata": {
        "id": "P8sypqmagHQN",
        "tags": [],
        "outputId": "4733896e-ae95-4957-de49-354399debb3b"
      },
      "outputs": [
        {
          "name": "stdout",
          "output_type": "stream",
          "text": [
            "tf.Tensor([2 4 6], shape=(3,), dtype=int32)\n",
            "tf.Tensor([2 4 6], shape=(3,), dtype=int32)\n",
            "tf.Tensor([2 4 6], shape=(3,), dtype=int32)\n"
          ]
        }
      ],
      "source": [
        "x = tf.constant([1, 2, 3])\n",
        "y = tf.constant(2)\n",
        "z = tf.constant([2, 2, 2])\n",
        "# All of these are the same computation\n",
        "print(tf.multiply(x, 2))\n",
        "print(x * y)\n",
        "print(x * z)"
      ]
    },
    {
      "cell_type": "markdown",
      "metadata": {
        "id": "o0SBoR6voWcb"
      },
      "source": [
        "In the case of a 3x1 matrix is element-wise multiplied by a 1x4 matrix to produce a 3x4 matrix. Note how the leading 1 is optional: The shape of y is `[4]`."
      ]
    },
    {
      "cell_type": "code",
      "execution_count": null,
      "metadata": {
        "id": "6sGmkPg3XANr",
        "tags": [],
        "outputId": "e9f8e263-23ec-4995-9be1-b673e04257df"
      },
      "outputs": [
        {
          "name": "stdout",
          "output_type": "stream",
          "text": [
            "tf.Tensor(\n",
            "[[1]\n",
            " [2]\n",
            " [3]], shape=(3, 1), dtype=int32)\n",
            "tf.Tensor([1 2 3 4], shape=(4,), dtype=int32)\n",
            "tf.Tensor(\n",
            "[[ 1  2  3  4]\n",
            " [ 2  4  6  8]\n",
            " [ 3  6  9 12]], shape=(3, 4), dtype=int32)\n"
          ]
        }
      ],
      "source": [
        "# These are the same computations\n",
        "x = tf.reshape(x, [3, 1])\n",
        "y = tf.range(1, 5)\n",
        "print(x)\n",
        "print(y)\n",
        "print(tf.multiply(x, y))"
      ]
    },
    {
      "cell_type": "markdown",
      "metadata": {
        "id": "t_7sh-EUYLrE"
      },
      "source": [
        "![Screenshot 2023-01-04 at 20.34.46.png](attachment:78a5073c-3dd1-4925-a225-edb009644408.png)\n",
        "\n",
        "<!-- <table>\n",
        "<tr>\n",
        "  <th>A broadcasted add: a <code>[3, 1]</code> times a <code>[1, 4]</code> gives a <code>[3,4]</code> </th>\n",
        "</tr>\n",
        "<tr>\n",
        "  <td>\n",
        "<img src=\"images/tensor/broadcasting.png\" alt=\"Adding a 3x1 matrix to a 4x1 matrix results in a 3x4 matrix\">\n",
        "  </td>\n",
        "</tr>\n",
        "</table>\n",
        " -->"
      ]
    },
    {
      "cell_type": "code",
      "execution_count": null,
      "metadata": {
        "id": "elrF6v63igY8",
        "tags": [],
        "outputId": "5220e331-d176-4d9d-a6bc-7ed0fb144ae6"
      },
      "outputs": [
        {
          "name": "stdout",
          "output_type": "stream",
          "text": [
            "tf.Tensor(\n",
            "[[ 1  2  3  4]\n",
            " [ 2  4  6  8]\n",
            " [ 3  6  9 12]], shape=(3, 4), dtype=int32)\n"
          ]
        }
      ],
      "source": [
        "# Here is the same operation without broadcasting\n",
        "\n",
        "x_stretch = tf.constant([[1, 1, 1, 1],\n",
        "                        [2, 2, 2, 2],\n",
        "                        [3, 3, 3, 3]])\n",
        "\n",
        "y_stretch = tf.constant([[1, 2, 3, 4],\n",
        "                         [1, 2, 3, 4],\n",
        "                         [1, 2, 3, 4]])\n",
        "\n",
        "print(x_stretch * y_stretch)"
      ]
    },
    {
      "cell_type": "markdown",
      "metadata": {
        "id": "14KobqYu85gi"
      },
      "source": [
        "Most of the time, broadcasting is both time and space efficient, as the broadcast operation never materializes the expanded tensors in memory.  \n",
        "\n",
        "You see what broadcasting looks like using `tf.broadcast_to`."
      ]
    },
    {
      "cell_type": "code",
      "execution_count": null,
      "metadata": {
        "id": "GW2Q59_r8hZ6",
        "tags": [],
        "outputId": "cebe1a70-6077-4431-ce5d-c2cd945289df"
      },
      "outputs": [
        {
          "name": "stdout",
          "output_type": "stream",
          "text": [
            "tf.Tensor(\n",
            "[[1 2 3]\n",
            " [1 2 3]\n",
            " [1 2 3]], shape=(3, 3), dtype=int32)\n"
          ]
        }
      ],
      "source": [
        "print(tf.broadcast_to(tf.constant([1, 2, 3]), [3, 3]))"
      ]
    },
    {
      "cell_type": "markdown",
      "metadata": {
        "id": "Z2bAMMQY-jpP"
      },
      "source": [
        "[This section](https://jakevdp.github.io/PythonDataScienceHandbook/02.05-computation-on-arrays-broadcasting.html) of Jake VanderPlas's book _Python Data Science Handbook_ shows more broadcasting tricks (again in NumPy)."
      ]
    },
    {
      "cell_type": "markdown",
      "metadata": {
        "id": "o4Rpz0xAsKSI"
      },
      "source": [
        "## tf.convert_to_tensor\n",
        "\n",
        "Most ops, like `tf.matmul` and `tf.reshape` take arguments of class `tf.Tensor`.  However, you'll notice in the above case, Python objects shaped like tensors are accepted.\n",
        "\n",
        "Most, but not all, ops call `convert_to_tensor` on non-tensor arguments.  There is a registry of conversions, and most object classes like NumPy's `ndarray`, `TensorShape`, Python lists, and `tf.Variable` will all convert automatically."
      ]
    },
    {
      "cell_type": "markdown",
      "metadata": {
        "id": "05bBVBVYV0y6"
      },
      "source": [
        "## Ragged Tensors\n",
        "\n",
        "A tensor with variable numbers of elements along some axis is called \"ragged\". Use `tf.ragged.RaggedTensor` for ragged data.\n",
        "\n",
        "For example, This cannot be represented as a regular tensor:"
      ]
    },
    {
      "cell_type": "markdown",
      "metadata": {
        "id": "VPc3jGoeJqB7"
      },
      "source": [
        "![Screenshot 2023-01-04 at 20.37.36.png](attachment:ff1f98e7-20d7-4eea-be11-c6afb77bc94b.png)\n",
        "<!-- <table>\n",
        "<tr>\n",
        "  <th>A `tf.RaggedTensor`, shape: <code>[4, None]</code></th>\n",
        "</tr>\n",
        "<tr>\n",
        "  <td>\n",
        "<img src=\"images/tensor/ragged.png\" alt=\"A 2-axis ragged tensor, each row can have a different length.\">\n",
        "  </td>\n",
        "</tr>\n",
        "</table> -->"
      ]
    },
    {
      "cell_type": "code",
      "execution_count": null,
      "metadata": {
        "id": "VsbTjoFfNVBF",
        "tags": []
      },
      "outputs": [],
      "source": [
        "ragged_list = [\n",
        "    [0, 1, 2, 3],\n",
        "    [4, 5],\n",
        "    [6, 7, 8],\n",
        "    [9]]"
      ]
    },
    {
      "cell_type": "code",
      "execution_count": null,
      "metadata": {
        "id": "p4xKTo57tutG",
        "tags": [],
        "outputId": "9573e21c-7c27-4d7a-eb54-b4fee7f6a03f"
      },
      "outputs": [
        {
          "name": "stdout",
          "output_type": "stream",
          "text": [
            "ValueError: Can't convert non-rectangular Python sequence to Tensor.\n"
          ]
        }
      ],
      "source": [
        "try:\n",
        "    tensor = tf.constant(ragged_list)\n",
        "except Exception as e:\n",
        "    print(f'{type(e).__name__}: {e}')"
      ]
    },
    {
      "cell_type": "markdown",
      "metadata": {
        "id": "0cm9KuEeMLGI"
      },
      "source": [
        "Instead create a `tf.RaggedTensor` using `tf.ragged.constant`:"
      ]
    },
    {
      "cell_type": "code",
      "execution_count": null,
      "metadata": {
        "id": "XhF3QV3jiqTj",
        "tags": [],
        "outputId": "64b658f1-b940-4b09-c24e-cf0301f5f3df"
      },
      "outputs": [
        {
          "name": "stdout",
          "output_type": "stream",
          "text": [
            "<tf.RaggedTensor [[0, 1, 2, 3], [4, 5], [6, 7, 8], [9]]>\n"
          ]
        }
      ],
      "source": [
        "ragged_tensor = tf.ragged.constant(ragged_list)\n",
        "print(ragged_tensor)"
      ]
    },
    {
      "cell_type": "markdown",
      "metadata": {
        "id": "sFgHduHVNoIE"
      },
      "source": [
        "The shape of a `tf.RaggedTensor` will contain some axes with unknown lengths:"
      ]
    },
    {
      "cell_type": "code",
      "execution_count": null,
      "metadata": {
        "id": "Eo_3wJUWNgqB",
        "tags": [],
        "outputId": "7fa0fbd2-e185-4f38-ddc3-1f2ca8f2b507"
      },
      "outputs": [
        {
          "name": "stdout",
          "output_type": "stream",
          "text": [
            "(4, None)\n"
          ]
        }
      ],
      "source": [
        "print(ragged_tensor.shape)"
      ]
    },
    {
      "cell_type": "markdown",
      "metadata": {
        "id": "V9njclVkkN7G"
      },
      "source": [
        "## String tensors\n",
        "\n",
        "`tf.string` is a `dtype`, which is to say you can represent data as strings (variable-length byte arrays) in tensors.\n",
        "\n",
        "The strings cannot be indexed the way Python strings are. The length of the string is not one of the axes of the tensor. See `tf.strings` for functions to manipulate them."
      ]
    },
    {
      "cell_type": "markdown",
      "metadata": {
        "id": "5P_8spEGQ0wp"
      },
      "source": [
        "Here is a scalar string tensor:"
      ]
    },
    {
      "cell_type": "code",
      "execution_count": null,
      "metadata": {
        "id": "sBosmM8MkIh4",
        "tags": [],
        "outputId": "d9819b7c-3ebd-4674-9a04-a940f33a1cfd"
      },
      "outputs": [
        {
          "name": "stdout",
          "output_type": "stream",
          "text": [
            "tf.Tensor(b'Gray wolf', shape=(), dtype=string)\n"
          ]
        }
      ],
      "source": [
        "# Tensors can be strings\n",
        "scalar_string_tensor = tf.constant('Gray wolf')\n",
        "print(scalar_string_tensor)"
      ]
    },
    {
      "cell_type": "markdown",
      "metadata": {
        "id": "CMFBSl1FQ3vE"
      },
      "source": [
        "And a vector of strings:"
      ]
    },
    {
      "cell_type": "markdown",
      "metadata": {
        "id": "IO-c3Tq3RC1L"
      },
      "source": [
        "![Screenshot 2023-01-04 at 20.37.45.png](attachment:3146f425-b4b3-4e88-9db1-8c03f7c22e29.png)\n",
        "\n",
        "<!-- <table>\n",
        "<tr>\n",
        "  <th>A vector of strings, shape: <code>[3,]</code></th>\n",
        "</tr>\n",
        "<tr>\n",
        "  <td>\n",
        "<img src=\"images/tensor/strings.png\" alt=\"The string length is not one of the tensor's axes.\">\n",
        "  </td>\n",
        "</tr>\n",
        "</table> -->"
      ]
    },
    {
      "cell_type": "code",
      "execution_count": null,
      "metadata": {
        "id": "41Dv2kL9QrtO",
        "tags": [],
        "outputId": "3c59f407-3373-4703-c68f-56b7da6c2795"
      },
      "outputs": [
        {
          "name": "stdout",
          "output_type": "stream",
          "text": [
            "tf.Tensor([b'Gray wolf' b'Quick brown fox' b'Lazy dog'], shape=(3,), dtype=string)\n"
          ]
        }
      ],
      "source": [
        "# If you have three string tensors of different lengths. It should be ok\n",
        "tensor_of_strings = tf.constant(['Gray wolf',\n",
        "                                'Quick brown fox',\n",
        "                                'Lazy dog'])\n",
        "#The shape is (3,) and string length is not included.\n",
        "print(tensor_of_strings)"
      ]
    },
    {
      "cell_type": "markdown",
      "metadata": {
        "id": "76gQ9qrgSMzS"
      },
      "source": [
        "In the above printout the `b` prefix indicates that `tf.string` dtype is not a unicode string, but a byte-string."
      ]
    },
    {
      "cell_type": "markdown",
      "metadata": {
        "id": "ClSBPK-lZBQp"
      },
      "source": [
        "If you pass unicode characters they are utf-8 encoded."
      ]
    },
    {
      "cell_type": "code",
      "execution_count": null,
      "metadata": {
        "id": "GTgL53jxSMd9",
        "tags": [],
        "outputId": "133d5287-5623-4d2a-d160-1a842a9140c2"
      },
      "outputs": [
        {
          "data": {
            "text/plain": [
              "<tf.Tensor: shape=(), dtype=string, numpy=b'\\xf0\\x9f\\xa5\\xb3\\xf0\\x9f\\x91\\x8d'>"
            ]
          },
          "execution_count": 73,
          "metadata": {},
          "output_type": "execute_result"
        }
      ],
      "source": [
        "tf.constant(\"🥳👍\")"
      ]
    },
    {
      "cell_type": "markdown",
      "metadata": {
        "id": "Ir9cY42MMAei"
      },
      "source": [
        "Some basic functions with strings can be found in `tf.strings`, including `tf.strings.split`."
      ]
    },
    {
      "cell_type": "code",
      "execution_count": null,
      "metadata": {
        "id": "8k2K0VTFyj8e",
        "tags": [],
        "outputId": "f0e395ef-6bfc-4e74-a0a3-338a9435bc38"
      },
      "outputs": [
        {
          "name": "stdout",
          "output_type": "stream",
          "text": [
            "tf.Tensor([b'Gray' b'wolf'], shape=(2,), dtype=string)\n"
          ]
        }
      ],
      "source": [
        "# You can split to split a string into set oftensors\n",
        "print(tf.strings.split(scalar_string_tensor, sep=' '))"
      ]
    },
    {
      "cell_type": "code",
      "execution_count": null,
      "metadata": {
        "id": "zgGAn1dfR-04",
        "tags": [],
        "outputId": "200c4cc9-d23c-46ee-83de-60c68e998b15"
      },
      "outputs": [
        {
          "name": "stdout",
          "output_type": "stream",
          "text": [
            "<tf.RaggedTensor [[b'Gray', b'wolf'], [b'Quick', b'brown', b'fox'], [b'Lazy', b'dog']]>\n"
          ]
        }
      ],
      "source": [
        "# but it turns into RaggedTensor if you split tensor of strings\n",
        "# as each string might be split into different number of parts\n",
        "print(tf.strings.split(tensor_of_strings))"
      ]
    },
    {
      "cell_type": "markdown",
      "metadata": {
        "id": "HsAn1kPeO84m"
      },
      "source": [
        "![Screenshot 2023-01-04 at 20.37.53.png](attachment:1536ec97-8ff1-4c0c-a233-0d91d2f108b2.png)\n",
        "\n",
        "<!-- <table>\n",
        "<tr>\n",
        "  <th>Three strings split, shape: <code>[3, None]</code></th>\n",
        "</tr>\n",
        "<tr>\n",
        "  <td>\n",
        "<img src=\"images/tensor/string-split.png\" alt=\"Splitting multiple strings returns a tf.RaggedTensor\">\n",
        "  </td>\n",
        "</tr>\n",
        "</table> -->"
      ]
    },
    {
      "cell_type": "markdown",
      "metadata": {
        "id": "st9OxrUxWSKY"
      },
      "source": [
        "And `tf.string.to_number`:"
      ]
    },
    {
      "cell_type": "code",
      "execution_count": null,
      "metadata": {
        "id": "3nRtx3X9WRfN",
        "tags": [],
        "outputId": "63d0dfd4-36d3-43b5-fd4f-8d87c159071e"
      },
      "outputs": [
        {
          "name": "stdout",
          "output_type": "stream",
          "text": [
            "tf.Tensor([  1.  10. 100.], shape=(3,), dtype=float32)\n"
          ]
        }
      ],
      "source": [
        "text = tf.constant('1 10 100')\n",
        "print(tf.strings.to_number(tf.strings.split(text, '')))"
      ]
    },
    {
      "cell_type": "markdown",
      "metadata": {
        "id": "r2EZtBbJBns4"
      },
      "source": [
        "Although you can't use `tf.cast` to turn a string tensor into numbers, you can convert it into bytes, and then into numbers."
      ]
    },
    {
      "cell_type": "code",
      "execution_count": null,
      "metadata": {
        "id": "fo8BjmH7gyTj",
        "tags": [],
        "outputId": "c1575bc1-7c95-4b32-8bc6-e196e8c1f7ce"
      },
      "outputs": [
        {
          "name": "stdout",
          "output_type": "stream",
          "text": [
            "Byte strings: tf.Tensor([b'D' b'u' b'c' b'k'], shape=(4,), dtype=string)\n",
            "Bytes: tf.Tensor([ 68 117  99 107], shape=(4,), dtype=uint8)\n"
          ]
        }
      ],
      "source": [
        "byte_strings = tf.strings.bytes_split(tf.constant('Duck'))\n",
        "byte_ints = tf.io.decode_raw(tf.constant('Duck'), tf.uint8)\n",
        "print('Byte strings:', byte_strings)\n",
        "print('Bytes:', byte_ints)"
      ]
    },
    {
      "cell_type": "code",
      "execution_count": null,
      "metadata": {
        "id": "uSQnZ7d1jCSQ",
        "tags": [],
        "outputId": "5c1f582d-4bde-473c-b2b1-36b7af700822"
      },
      "outputs": [
        {
          "name": "stdout",
          "output_type": "stream",
          "text": [
            "\n",
            "Unicode bytes: tf.Tensor(b'\\xe3\\x82\\xa2\\xe3\\x83\\x92\\xe3\\x83\\xab \\xf0\\x9f\\xa6\\x86', shape=(), dtype=string)\n",
            "\n",
            "Unicode character bytes: tf.Tensor([b'\\xe3\\x82\\xa2' b'\\xe3\\x83\\x92' b'\\xe3\\x83\\xab' b' ' b'\\xf0\\x9f\\xa6\\x86'], shape=(5,), dtype=string)\n",
            "\n",
            "Unicode values: tf.Tensor([ 12450  12498  12523     32 129414], shape=(5,), dtype=int32)\n"
          ]
        }
      ],
      "source": [
        "# Or split it up unicode and then decode it \n",
        "unicode_bytes = tf.constant(\"アヒル 🦆\")\n",
        "unicode_char_bytes = tf.strings.unicode_split(unicode_bytes, 'UTF-8')\n",
        "unicode_values = tf.strings.unicode_decode(unicode_bytes, 'UTF-8')\n",
        "\n",
        "print('\\nUnicode bytes:', unicode_bytes)\n",
        "print('\\nUnicode character bytes:', unicode_char_bytes)\n",
        "print('\\nUnicode values:', unicode_values)"
      ]
    },
    {
      "cell_type": "markdown",
      "metadata": {
        "id": "fE7nKJ2YW3aY"
      },
      "source": [
        "The `tf.string` dtype is used for all raw bytes data in TensorFlow. The `tf.io` module contains functions for converting data to and from bytes, including decoding images and parsing csv."
      ]
    },
    {
      "cell_type": "markdown",
      "metadata": {
        "id": "CXsBvoBMJJjG"
      },
      "source": [
        "## Sparse tensors"
      ]
    },
    {
      "cell_type": "markdown",
      "metadata": {
        "id": "ua8BnAzxkRKV"
      },
      "source": [
        "Sometimes, your data is sparse, like a very wide embedding space.  TensorFlow supports `tf.sparse.SparseTensor` and related operations to store sparse data efficiently."
      ]
    },
    {
      "cell_type": "markdown",
      "metadata": {
        "id": "mS5zgqgUTPRb"
      },
      "source": [
        "![Screenshot 2023-01-04 at 20.38.01.png](attachment:411b5cab-b1af-428c-af18-4158da6bc556.png)\n",
        "\n",
        "<!-- <table>\n",
        "<tr>\n",
        "  <th>A `tf.SparseTensor`, shape: <code>[3, 4]</code></th>\n",
        "</tr>\n",
        "<tr>\n",
        "  <td>\n",
        "<img src=\"images/tensor/sparse.png\" alt=\"An 3x4 grid, with values in only two of the cells.\">\n",
        "  </td>\n",
        "</tr>\n",
        "</table> -->"
      ]
    },
    {
      "cell_type": "code",
      "execution_count": null,
      "metadata": {
        "id": "B9nbO1E2kSUN",
        "tags": [],
        "outputId": "2dc12bdf-12d4-49d7-8e08-e3f7558decb8"
      },
      "outputs": [
        {
          "name": "stdout",
          "output_type": "stream",
          "text": [
            "SparseTensor(indices=tf.Tensor(\n",
            "[[0 0]\n",
            " [1 2]], shape=(2, 2), dtype=int64), values=tf.Tensor([1 2], shape=(2,), dtype=int32), dense_shape=tf.Tensor([3 4], shape=(2,), dtype=int64)) \n",
            "\n",
            "tf.Tensor(\n",
            "[[1 0 0 0]\n",
            " [0 0 2 0]\n",
            " [0 0 0 0]], shape=(3, 4), dtype=int32)\n"
          ]
        }
      ],
      "source": [
        "# Sparse tensors store values by index in memory-efficient manner\n",
        "sparse_tensor = tf.sparse.SparseTensor(indices=[[0, 0], [1, 2]],\n",
        "                                       values=[1, 2],\n",
        "                                       dense_shape=[3, 4])\n",
        "print(sparse_tensor, '\\n')\n",
        "\n",
        "# You can convert sparse tensor to dense\n",
        "print(tf.sparse.to_dense(sparse_tensor))"
      ]
    },
    {
      "cell_type": "markdown",
      "metadata": {
        "id": "dDpy5XPWJJjG"
      },
      "source": [
        "# <b> END OF DEMONSTRATION 4 ABOUT TENSORS"
      ]
    }
  ],
  "metadata": {
    "colab": {
      "provenance": [],
      "toc_visible": true
    },
    "kernelspec": {
      "display_name": "Python 3 (ipykernel)",
      "language": "python",
      "name": "python3"
    },
    "language_info": {
      "codemirror_mode": {
        "name": "ipython",
        "version": 3
      },
      "file_extension": ".py",
      "mimetype": "text/x-python",
      "name": "python",
      "nbconvert_exporter": "python",
      "pygments_lexer": "ipython3",
      "version": "3.9.15"
    }
  },
  "nbformat": 4,
  "nbformat_minor": 0
}