{
 "cells": [
  {
   "cell_type": "markdown",
   "id": "965fa673-a385-499f-82f1-0e1764c594ea",
   "metadata": {},
   "source": [
    "### Importing libraries"
   ]
  },
  {
   "cell_type": "code",
   "execution_count": 2,
   "id": "daceb95d-4bb2-46af-b605-696f295a0db6",
   "metadata": {},
   "outputs": [],
   "source": [
    "import numpy as np\n",
    "import torch\n",
    "import warnings\n",
    "warnings.filterwarnings('ignore')"
   ]
  },
  {
   "cell_type": "markdown",
   "id": "f8596db8-70f5-4bcc-bab1-6242b78444f2",
   "metadata": {},
   "source": [
    "# <b> Hands-on with tensors </b>\n",
    "\n",
    "First of all, we can create tensors naturally from Python lists:"
   ]
  },
  {
   "cell_type": "code",
   "execution_count": 3,
   "id": "d137dcf8-3b42-47a7-a239-dea6fef5961d",
   "metadata": {},
   "outputs": [],
   "source": [
    "A = [[6, 9, 2],\n",
    "     [3, 3, 7],\n",
    "     [1, 0, 3]]\n",
    "     \n",
    "A_tensor = torch.tensor(A)"
   ]
  },
  {
   "cell_type": "markdown",
   "id": "c8a42a3f-c301-4ea7-9688-616ae848ce93",
   "metadata": {},
   "source": [
    "This also works just as naturally with **Numpy ndArrays**:\n"
   ]
  },
  {
   "cell_type": "code",
   "execution_count": 4,
   "id": "28341509-0c26-4eb6-897c-741cc415859a",
   "metadata": {},
   "outputs": [],
   "source": [
    "B = np.array([0,1,2,3])\n",
    "B_tensor = torch.from_numpy(B)"
   ]
  },
  {
   "cell_type": "markdown",
   "id": "871e07f5-1e14-47a2-93c5-37226402275a",
   "metadata": {},
   "source": [
    "Just like in NumPy (and Tensorflow, for that matter), we can initialize tensors with random values, all ones, or all zeroes. Just provide the shape (and dtype if you want to specify the data type):"
   ]
  },
  {
   "cell_type": "code",
   "execution_count": 5,
   "id": "21cbaeba-8389-405b-b541-24a94ec261e5",
   "metadata": {},
   "outputs": [
    {
     "data": {
      "text/plain": [
       "tensor([[0., 0., 0., 0.],\n",
       "        [0., 0., 0., 0.],\n",
       "        [0., 0., 0., 0.],\n",
       "        [0., 0., 0., 0.]])"
      ]
     },
     "execution_count": 5,
     "metadata": {},
     "output_type": "execute_result"
    }
   ],
   "source": [
    "# with no dtype argument, torch will infer the type\n",
    "C = torch.zeros(4,4) \n",
    "\n",
    "C"
   ]
  },
  {
   "cell_type": "markdown",
   "id": "1a02cabc-27ac-4564-9c12-c00b9a2a422d",
   "metadata": {},
   "source": [
    "Let’s not forget tensors don’t have to be 2-dimensional!"
   ]
  },
  {
   "cell_type": "code",
   "execution_count": 6,
   "id": "38f5be09-f730-4025-b2ab-078fd0c17204",
   "metadata": {},
   "outputs": [
    {
     "data": {
      "text/plain": [
       "tensor([[[1, 1],\n",
       "         [1, 1],\n",
       "         [1, 1]],\n",
       "\n",
       "        [[1, 1],\n",
       "         [1, 1],\n",
       "         [1, 1]],\n",
       "\n",
       "        [[1, 1],\n",
       "         [1, 1],\n",
       "         [1, 1]]], dtype=torch.int32)"
      ]
     },
     "execution_count": 6,
     "metadata": {},
     "output_type": "execute_result"
    }
   ],
   "source": [
    "D = torch.ones(3,3,2, dtype=torch.int)\n",
    "\n",
    "D"
   ]
  },
  {
   "cell_type": "markdown",
   "id": "db69a423-5a99-4c84-8705-d4f0b81537cc",
   "metadata": {},
   "source": [
    "A new tensor can be created from an existing one. So, if we wanted, we could create a new Tensor of zeros with the same properties (shape and data type) as the `A_tensor` we created:"
   ]
  },
  {
   "cell_type": "code",
   "execution_count": 7,
   "id": "854f84a2-af9a-4011-a2d7-3abe8a9e8850",
   "metadata": {},
   "outputs": [
    {
     "data": {
      "text/plain": [
       "tensor([[0, 0, 0],\n",
       "        [0, 0, 0],\n",
       "        [0, 0, 0]])"
      ]
     },
     "execution_count": 7,
     "metadata": {},
     "output_type": "execute_result"
    }
   ],
   "source": [
    "A_tensor_zeros = torch.zeros_like(A_tensor)\n",
    "\n",
    "A_tensor_zeros "
   ]
  },
  {
   "cell_type": "markdown",
   "id": "17ca8b64-9544-4977-90fc-b5e0374b5217",
   "metadata": {},
   "source": [
    "Or maybe we want random floating point values?"
   ]
  },
  {
   "cell_type": "code",
   "execution_count": 8,
   "id": "e343d607-369c-43cf-833e-b20028c0221d",
   "metadata": {},
   "outputs": [
    {
     "data": {
      "text/plain": [
       "tensor([[0.5793, 0.0875, 0.4751],\n",
       "        [0.0472, 0.2506, 0.8876],\n",
       "        [0.5382, 0.4223, 0.0391]])"
      ]
     },
     "execution_count": 8,
     "metadata": {},
     "output_type": "execute_result"
    }
   ],
   "source": [
    "# the dtype argument allows you to explicitly specify the datatype of the tensor\n",
    "A_tensor_rand = torch.rand_like(A_tensor, dtype=torch.float) \n",
    "\n",
    "A_tensor_rand"
   ]
  },
  {
   "cell_type": "markdown",
   "id": "76347cab-e422-4837-af65-8108e63bd402",
   "metadata": {},
   "source": [
    "Want the attributes of a tensor?## Arba norite gauti tenzoriu atributus?"
   ]
  },
  {
   "cell_type": "code",
   "execution_count": 9,
   "id": "6ce1c6f4-e25e-4863-a82d-80d7593324ec",
   "metadata": {},
   "outputs": [
    {
     "data": {
      "text/plain": [
       "device(type='cpu')"
      ]
     },
     "execution_count": 9,
     "metadata": {},
     "output_type": "execute_result"
    }
   ],
   "source": [
    "A_tensor_rand.dtype\n",
    "# torch.float32\n",
    "\n",
    "A_tensor_rand.shape\n",
    "# torch.Size([3, 3])\n",
    "\n",
    "A_tensor_rand.device"
   ]
  },
  {
   "cell_type": "markdown",
   "id": "99d83eec-b463-4f3b-b307-d1161ed89f30",
   "metadata": {},
   "source": [
    "# <b> Conclusion </b>\n",
    "    \n",
    "Creating tensors is fine, but the real fun starts when we can start manipulating them and applying mathematical operations. There are a ton of neat tensor operations already built-in, so we certainly won’t have time to go through them all. Instead, here is a link to check [them out in further detail](https://pytorch.org/docs/stable/torch.html), and just name a few:\n",
    "\n",
    "- matrix multiplication\n",
    "- compute eigenvectors and eigenvalues\n",
    "- sorting\n",
    "- index,slice,join\n",
    "- hamming window "
   ]
  },
  {
   "cell_type": "markdown",
   "id": "2fd394aa-69c5-4de0-8dbc-6f17aeeaee90",
   "metadata": {},
   "source": [
    "# <b> END OF DEMONSTRATION ABOUT PYTORCH TENSORS"
   ]
  },
  {
   "cell_type": "code",
   "execution_count": null,
   "id": "a8d7796a-51a7-4fb5-b5c1-e02662196c94",
   "metadata": {},
   "outputs": [],
   "source": []
  }
 ],
 "metadata": {
  "kernelspec": {
   "display_name": "Python 3 (ipykernel)",
   "language": "python",
   "name": "python3"
  },
  "language_info": {
   "codemirror_mode": {
    "name": "ipython",
    "version": 3
   },
   "file_extension": ".py",
   "mimetype": "text/x-python",
   "name": "python",
   "nbconvert_exporter": "python",
   "pygments_lexer": "ipython3",
   "version": "3.9.15"
  }
 },
 "nbformat": 4,
 "nbformat_minor": 5
}
