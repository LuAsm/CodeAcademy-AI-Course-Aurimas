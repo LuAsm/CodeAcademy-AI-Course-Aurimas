{
 "cells": [
  {
   "cell_type": "code",
   "execution_count": 2,
   "id": "daceb95d-4bb2-46af-b605-696f295a0db6",
   "metadata": {},
   "outputs": [],
   "source": [
    "import numpy as np\n",
    "import matplotlib.pyplot as plt\n",
    "import torch\n",
    "import warnings\n",
    "warnings.filterwarnings('ignore')"
   ]
  },
  {
   "cell_type": "code",
   "execution_count": 4,
   "id": "d137dcf8-3b42-47a7-a239-dea6fef5961d",
   "metadata": {},
   "outputs": [
    {
     "data": {
      "text/plain": [
       "tensor([[6, 9, 2],\n",
       "        [3, 3, 7],\n",
       "        [1, 0, 3]])"
      ]
     },
     "execution_count": 4,
     "metadata": {},
     "output_type": "execute_result"
    }
   ],
   "source": [
    "A = [[6, 9, 2],\n",
    "     [3, 3, 7],\n",
    "     [1, 0, 3]]\n",
    "\n",
    "A_tensor = torch.tensor(A)\n",
    "A_tensor"
   ]
  },
  {
   "cell_type": "code",
   "execution_count": 5,
   "id": "28341509-0c26-4eb6-897c-741cc415859a",
   "metadata": {},
   "outputs": [
    {
     "data": {
      "text/plain": [
       "tensor([0, 1, 2, 3])"
      ]
     },
     "execution_count": 5,
     "metadata": {},
     "output_type": "execute_result"
    }
   ],
   "source": [
    "B = np.array([0, 1, 2, 3])\n",
    "B_tensor = torch.tensor(B)\n",
    "B_tensor"
   ]
  },
  {
   "cell_type": "code",
   "execution_count": 6,
   "id": "21cbaeba-8389-405b-b541-24a94ec261e5",
   "metadata": {},
   "outputs": [
    {
     "data": {
      "text/plain": [
       "tensor([[0., 0., 0., 0.],\n",
       "        [0., 0., 0., 0.],\n",
       "        [0., 0., 0., 0.],\n",
       "        [0., 0., 0., 0.]])"
      ]
     },
     "execution_count": 6,
     "metadata": {},
     "output_type": "execute_result"
    }
   ],
   "source": [
    "# with no dtype argument, torch will infer the type\n",
    "C = torch.zeros(4, 4)\n",
    "C"
   ]
  },
  {
   "cell_type": "code",
   "execution_count": 7,
   "id": "38f5be09-f730-4025-b2ab-078fd0c17204",
   "metadata": {},
   "outputs": [
    {
     "data": {
      "text/plain": [
       "tensor([[[1, 1],\n",
       "         [1, 1],\n",
       "         [1, 1]],\n",
       "\n",
       "        [[1, 1],\n",
       "         [1, 1],\n",
       "         [1, 1]],\n",
       "\n",
       "        [[1, 1],\n",
       "         [1, 1],\n",
       "         [1, 1]]], dtype=torch.int32)"
      ]
     },
     "execution_count": 7,
     "metadata": {},
     "output_type": "execute_result"
    }
   ],
   "source": [
    "D = torch.ones(3, 3, 2, dtype=torch.int)\n",
    "D"
   ]
  },
  {
   "cell_type": "code",
   "execution_count": 8,
   "id": "854f84a2-af9a-4011-a2d7-3abe8a9e8850",
   "metadata": {},
   "outputs": [
    {
     "data": {
      "text/plain": [
       "tensor([[0, 0, 0],\n",
       "        [0, 0, 0],\n",
       "        [0, 0, 0]])"
      ]
     },
     "execution_count": 8,
     "metadata": {},
     "output_type": "execute_result"
    }
   ],
   "source": [
    "A_tensor_zeros = torch.zeros_like(A_tensor)\n",
    "\n",
    "A_tensor_zeros"
   ]
  },
  {
   "cell_type": "code",
   "execution_count": 9,
   "id": "e343d607-369c-43cf-833e-b20028c0221d",
   "metadata": {},
   "outputs": [
    {
     "data": {
      "text/plain": [
       "tensor([[0.3719, 0.1128, 0.0813],\n",
       "        [0.8178, 0.7547, 0.7966],\n",
       "        [0.6341, 0.5430, 0.6523]])"
      ]
     },
     "execution_count": 9,
     "metadata": {},
     "output_type": "execute_result"
    }
   ],
   "source": [
    "# the dtype argument allows you to explicitlt specify the datatype of the tensor\n",
    "A_tensor_rand = torch.rand_like(A_tensor, dtype=torch.float)\n",
    "\n",
    "A_tensor_rand"
   ]
  },
  {
   "cell_type": "code",
   "execution_count": 12,
   "id": "6ce1c6f4-e25e-4863-a82d-80d7593324ec",
   "metadata": {},
   "outputs": [
    {
     "data": {
      "text/plain": [
       "device(type='cpu')"
      ]
     },
     "execution_count": 12,
     "metadata": {},
     "output_type": "execute_result"
    }
   ],
   "source": [
    "A_tensor_rand.dtype\n",
    "# torch.float32\n",
    "\n",
    "A_tensor_rand.shape\n",
    "# torch.Size([3, 3])\n",
    "\n",
    "A_tensor_rand.device\n",
    "# device(type='cpu')"
   ]
  },
  {
   "cell_type": "markdown",
   "id": "99d83eec-b463-4f3b-b307-d1161ed89f30",
   "metadata": {},
   "source": [
    "## Conclusion:\n",
    "    \n",
    "Creating tensors is fine, but the real fun starts when we can start manipulating them and applying mathematical operations. There are a ton of neat tensor operations already built-in, so we certainly won’t have time to go through them all. Instead, here is a link to check [them out in further detail](https://pytorch.org/docs/stable/torch.html), and just name a few:\n",
    "\n",
    "- matrix multiplication\n",
    "- compute eigenvectors and eigenvalues\n",
    "- sorting\n",
    "- index,slice,join\n",
    "- hamming window "
   ]
  }
 ],
 "metadata": {
  "kernelspec": {
   "display_name": "Python 3 (ipykernel)",
   "language": "python",
   "name": "python3"
  },
  "language_info": {
   "codemirror_mode": {
    "name": "ipython",
    "version": 3
   },
   "file_extension": ".py",
   "mimetype": "text/x-python",
   "name": "python",
   "nbconvert_exporter": "python",
   "pygments_lexer": "ipython3",
   "version": "3.9.15"
  }
 },
 "nbformat": 4,
 "nbformat_minor": 5
}
